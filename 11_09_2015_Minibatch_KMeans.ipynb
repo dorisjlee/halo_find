{
 "cells": [
  {
   "cell_type": "markdown",
   "metadata": {},
   "source": [
    "https://algorithmicthoughts.wordpress.com/2013/07/26/machine-learning-mini-batch-k-means/"
   ]
  },
  {
   "cell_type": "markdown",
   "metadata": {},
   "source": [
    "Even the smaller batch jobs that I submitted for testing takes more than 5 hours ! "
   ]
  },
  {
   "cell_type": "markdown",
   "metadata": {},
   "source": [
    "Accidentally cped the wrong py script so it was still doing the full dataset oops"
   ]
  },
  {
   "cell_type": "raw",
   "metadata": {},
   "source": [
    "orislee@edison11:/project/projectdirs/astro250/doris/halo/halo_find/3test1> python parallel_gs_dens_test.py\n",
    "Loading Particle Data\n",
    "Creating train test split samples\n",
    "50 clusters test\n",
    "Time:  170.252751112\n",
    "150 clusters test\n",
    "Time:  446.780827045"
   ]
  },
  {
   "cell_type": "code",
   "execution_count": 4,
   "metadata": {
    "collapsed": false
   },
   "outputs": [
    {
     "name": "stdout",
     "output_type": "stream",
     "text": [
      "2.83333333333 min\n"
     ]
    }
   ],
   "source": [
    "print 170./60 ,\"min\""
   ]
  },
  {
   "cell_type": "code",
   "execution_count": 7,
   "metadata": {
    "collapsed": false
   },
   "outputs": [
    {
     "name": "stdout",
     "output_type": "stream",
     "text": [
      "1.00139093399\n"
     ]
    }
   ],
   "source": [
    "import time\n",
    "start = time.time()\n",
    "time.sleep(1)\n",
    "end = time.time()\n",
    "print end-start"
   ]
  },
  {
   "cell_type": "markdown",
   "metadata": {},
   "source": [
    "Ok so this is in seconds..."
   ]
  },
  {
   "cell_type": "code",
   "execution_count": 9,
   "metadata": {
    "collapsed": false
   },
   "outputs": [
    {
     "name": "stdout",
     "output_type": "stream",
     "text": [
      "Populating the interactive namespace from numpy and matplotlib\n"
     ]
    }
   ],
   "source": [
    "%pylab inline"
   ]
  },
  {
   "cell_type": "code",
   "execution_count": 10,
   "metadata": {
    "collapsed": false
   },
   "outputs": [
    {
     "data": {
      "text/plain": [
       "array([ 50, 150, 250, 350, 450, 550, 650, 750, 850, 950])"
      ]
     },
     "execution_count": 10,
     "metadata": {},
     "output_type": "execute_result"
    }
   ],
   "source": [
    "np.arange(50,1000,100)"
   ]
  },
  {
   "cell_type": "markdown",
   "metadata": {},
   "source": [
    "Okay scale test 4 is ones with the right hours "
   ]
  },
  {
   "cell_type": "markdown",
   "metadata": {},
   "source": [
    "Going to write a bash script to delete jobs since theres so many.."
   ]
  },
  {
   "cell_type": "code",
   "execution_count": null,
   "metadata": {
    "collapsed": true
   },
   "outputs": [],
   "source": []
  }
 ],
 "metadata": {
  "kernelspec": {
   "display_name": "Python 2",
   "language": "python",
   "name": "python2"
  },
  "language_info": {
   "codemirror_mode": {
    "name": "ipython",
    "version": 2
   },
   "file_extension": ".py",
   "mimetype": "text/x-python",
   "name": "python",
   "nbconvert_exporter": "python",
   "pygments_lexer": "ipython2",
   "version": "2.7.10"
  }
 },
 "nbformat": 4,
 "nbformat_minor": 0
}
