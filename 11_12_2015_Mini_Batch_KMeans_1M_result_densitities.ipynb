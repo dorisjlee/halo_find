{
 "cells": [
  {
   "cell_type": "code",
   "execution_count": 1,
   "metadata": {
    "collapsed": false
   },
   "outputs": [
    {
     "name": "stdout",
     "output_type": "stream",
     "text": [
      "Populating the interactive namespace from numpy and matplotlib\n"
     ]
    }
   ],
   "source": [
    "%pylab inline"
   ]
  },
  {
   "cell_type": "code",
   "execution_count": 2,
   "metadata": {
    "collapsed": true
   },
   "outputs": [],
   "source": [
    "# from matplotlib.legend_handler import HandlerLine2D\n",
    "# plt.legend(loc='upper left',prop={'size':12},numpoints=1)"
   ]
  },
  {
   "cell_type": "code",
   "execution_count": 3,
   "metadata": {
    "collapsed": false
   },
   "outputs": [],
   "source": [
    "# kmeans_time = []\n",
    "# with open(\"4test1/sctest.3991960.edique02.out\", 'r+') as f:\n",
    "#     lines = f.readlines()\n",
    "#     for i in range(0, len(lines)):\n",
    "#         if lines[i][:4]==\"Time\":\n",
    "#             kmeans_time.append(float(lines[i][5:]))\n",
    "# with open(\"4test1/sctest.3996883.edique02.out\", 'r+') as f:\n",
    "#     lines = f.readlines()\n",
    "#     for i in range(0, len(lines)):\n",
    "#         if lines[i][:4]==\"Time\":\n",
    "#             kmeans_time.append(float(lines[i][5:]))\n",
    "# # For N= 10000\n",
    "# k_range=np.arange(50,1250,100)\n",
    "# plt.plot(k_range,kmeans_time)\n",
    "# plt.plot(k_range,kmeans_time,'o',color=\"red\")\n",
    "# plt.xlabel(\"number of clusters\",fontsize=13)\n",
    "# plt.ylabel(\"Time [s]\",fontsize=13)\n",
    "# plt.title(\"Scaling for KMeans\",fontsize=15)\n",
    "# from matplotlib.legend_handler import HandlerLine2D\n",
    "# plt.legend(loc='upper left',prop={'size':12},numpoints=1)"
   ]
  },
  {
   "cell_type": "code",
   "execution_count": 5,
   "metadata": {
    "collapsed": false
   },
   "outputs": [
    {
     "name": "stderr",
     "output_type": "stream",
     "text": [
      "//anaconda/lib/python2.7/site-packages/matplotlib/axes/_axes.py:475: UserWarning: No labelled objects found. Use label='...' kwarg on individual plots.\n",
      "  warnings.warn(\"No labelled objects found. \"\n"
     ]
    },
    {
     "data": {
      "image/png": "[encoded data removed]",
      "text/plain": [
       "<matplotlib.figure.Figure at 0x7f14a7209190>"
      ]
     },
     "metadata": {},
     "output_type": "display_data"
    }
   ],
   "source": [
    "import os\n",
    "import glob\n",
    "avrg_densities=[]\n",
    "k_range=np.arange(100,14100,1000)\n",
    "for n in k_range:\n",
    "    avrg_densities.append(mean(np.loadtxt(\"minibatch_kmeans2/density{}.txt\".format(n))))\n",
    "plt.plot(k_range,avrg_densities)\n",
    "plt.plot(k_range,avrg_densities,'o',color = 'red')\n",
    "plt.xlabel(\"number of clusters\",fontsize=13)\n",
    "plt.ylabel(\"Average Density\",fontsize=13)\n",
    "plt.legend(loc='upper left',prop={'size':12},numpoints=1)"
   ]
  },
  {
   "cell_type": "code",
   "execution_count": 8,
   "metadata": {
    "collapsed": false
   },
   "outputs": [
    {
     "data": {
      "text/plain": [
       "array([14100, 15100, 16100, 17100, 18100, 19100, 20100, 21100, 22100,\n",
       "       23100, 24100, 25100, 26100, 27100, 28100, 29100, 30100, 31100,\n",
       "       32100, 33100, 34100, 35100, 36100, 37100, 38100, 39100, 40100,\n",
       "       41100, 42100, 43100, 44100, 45100, 46100, 47100, 48100, 49100,\n",
       "       50100, 51100, 52100, 53100, 54100, 55100, 56100, 57100, 58100, 59100])"
      ]
     },
     "execution_count": 8,
     "metadata": {},
     "output_type": "execute_result"
    }
   ],
   "source": [
    "k_range=np.arange(14100,60000,1000)\n",
    "k_range"
   ]
  },
  {
   "cell_type": "code",
   "execution_count": 15,
   "metadata": {
    "collapsed": false
   },
   "outputs": [
    {
     "data": {
      "text/plain": [
       "16.920473773265652"
      ]
     },
     "execution_count": 15,
     "metadata": {},
     "output_type": "execute_result"
    }
   ],
   "source": [
    "1000000./59100"
   ]
  },
  {
   "cell_type": "code",
   "execution_count": 16,
   "metadata": {
    "collapsed": false
   },
   "outputs": [
    {
     "data": {
      "text/plain": [
       "20.0"
      ]
     },
     "execution_count": 16,
     "metadata": {},
     "output_type": "execute_result"
    }
   ],
   "source": [
    "1000000./50000"
   ]
  },
  {
   "cell_type": "code",
   "execution_count": 19,
   "metadata": {
    "collapsed": false
   },
   "outputs": [
    {
     "data": {
      "text/plain": [
       "10.0"
      ]
     },
     "execution_count": 19,
     "metadata": {},
     "output_type": "execute_result"
    }
   ],
   "source": [
    "1000000./100000"
   ]
  },
  {
   "cell_type": "code",
   "execution_count": 21,
   "metadata": {
    "collapsed": false
   },
   "outputs": [
    {
     "data": {
      "text/plain": [
       "array([ 15000,  16000,  17000,  18000,  19000,  20000,  21000,  22000,\n",
       "        23000,  24000,  25000,  26000,  27000,  28000,  29000,  30000,\n",
       "        31000,  32000,  33000,  34000,  35000,  36000,  37000,  38000,\n",
       "        39000,  40000,  41000,  42000,  43000,  44000,  45000,  46000,\n",
       "        47000,  48000,  49000,  50000,  51000,  52000,  53000,  54000,\n",
       "        55000,  56000,  57000,  58000,  59000,  60000,  61000,  62000,\n",
       "        63000,  64000,  65000,  66000,  67000,  68000,  69000,  70000,\n",
       "        71000,  72000,  73000,  74000,  75000,  76000,  77000,  78000,\n",
       "        79000,  80000,  81000,  82000,  83000,  84000,  85000,  86000,\n",
       "        87000,  88000,  89000,  90000,  91000,  92000,  93000,  94000,\n",
       "        95000,  96000,  97000,  98000,  99000, 100000, 101000, 102000,\n",
       "       103000, 104000, 105000, 106000, 107000, 108000, 109000])"
      ]
     },
     "execution_count": 21,
     "metadata": {},
     "output_type": "execute_result"
    }
   ],
   "source": [
    "np.arange(15000,110000,1000)"
   ]
  },
  {
   "cell_type": "code",
   "execution_count": null,
   "metadata": {
    "collapsed": true
   },
   "outputs": [],
   "source": []
  }
 ],
 "metadata": {
  "kernelspec": {
   "display_name": "Python 2",
   "language": "python",
   "name": "python2"
  },
  "language_info": {
   "codemirror_mode": {
    "name": "ipython",
    "version": 2
   },
   "file_extension": ".py",
   "mimetype": "text/x-python",
   "name": "python",
   "nbconvert_exporter": "python",
   "pygments_lexer": "ipython2",
   "version": "2.7.10"
  }
 },
 "nbformat": 4,
 "nbformat_minor": 0
}
