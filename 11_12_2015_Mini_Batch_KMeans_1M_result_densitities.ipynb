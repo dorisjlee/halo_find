{
 "cells": [
  {
   "cell_type": "code",
   "execution_count": 3,
   "metadata": {
    "collapsed": false
   },
   "outputs": [
    {
     "name": "stdout",
     "output_type": "stream",
     "text": [
      "Populating the interactive namespace from numpy and matplotlib\n"
     ]
    }
   ],
   "source": [
    "%pylab inline"
   ]
  },
  {
   "cell_type": "code",
   "execution_count": 4,
   "metadata": {
    "collapsed": true
   },
   "outputs": [],
   "source": [
    "# from matplotlib.legend_handler import HandlerLine2D\n",
    "# plt.legend(loc='upper left',prop={'size':12},numpoints=1)"
   ]
  },
  {
   "cell_type": "code",
   "execution_count": 26,
   "metadata": {
    "collapsed": false
   },
   "outputs": [
    {
     "name": "stdout",
     "output_type": "stream",
     "text": [
      "[  100  1100  2100  3100  4100  5100  6100  7100  8100  9100 10100 11100\n",
      " 12100 13100 15000 16000 17000 18000 19000 20000 21000 22000]\n"
     ]
    }
   ],
   "source": [
    "k_range = []\n",
    "for i in glob.glob(\"minibatch_kmeans2/data_output/density*.txt\"): \n",
    "    k_range.append(int(i.split(\".\")[0][37:])) \n",
    "k_range=sort(k_range)\n",
    "print k_range"
   ]
  },
  {
   "cell_type": "code",
   "execution_count": 28,
   "metadata": {
    "collapsed": false
   },
   "outputs": [
    {
     "data": {
      "image/png": "[encoded data removed]",
      "text/plain": [
       "<matplotlib.figure.Figure at 0x7f6f4af95f90>"
      ]
     },
     "metadata": {},
     "output_type": "display_data"
    }
   ],
   "source": [
    "import os\n",
    "import glob\n",
    "avrg_densities=[]\n",
    "# k_range1=np.arange(100,14100,1000)\n",
    "# k_range2=np.arange(15000,19000,1000)\n",
    "# k_range = np.concatenate([k_range1,k_range2],axis=0)\n",
    "for n in k_range:\n",
    "    avrg_densities.append(mean(np.loadtxt(\"minibatch_kmeans2/data_output/density{}.txt\".format(n))))\n",
    "plt.plot(k_range,avrg_densities)\n",
    "plt.plot(k_range,avrg_densities,'o',color = 'red')\n",
    "plt.xlabel(\"number of clusters\",fontsize=13)\n",
    "plt.ylabel(\"Average Density\",fontsize=13)\n",
    "plt.legend(loc='upper left',prop={'size':12},numpoints=1)"
   ]
  },
  {
   "cell_type": "code",
   "execution_count": 47,
   "metadata": {
    "collapsed": false
   },
   "outputs": [
    {
     "data": {
      "text/plain": [
       "array([21000, 22000, 23000, 24000, 25000, 26000, 27000, 28000, 29000,\n",
       "       30000, 31000, 32000, 33000, 34000, 35000, 36000, 37000, 38000, 39000])"
      ]
     },
     "execution_count": 47,
     "metadata": {},
     "output_type": "execute_result"
    }
   ],
   "source": [
    "np.arange(21000,40000,1000)"
   ]
  },
  {
   "cell_type": "code",
   "execution_count": 8,
   "metadata": {
    "collapsed": false
   },
   "outputs": [
    {
     "data": {
      "text/plain": [
       "array([14100, 15100, 16100, 17100, 18100, 19100, 20100, 21100, 22100,\n",
       "       23100, 24100, 25100, 26100, 27100, 28100, 29100, 30100, 31100,\n",
       "       32100, 33100, 34100, 35100, 36100, 37100, 38100, 39100, 40100,\n",
       "       41100, 42100, 43100, 44100, 45100, 46100, 47100, 48100, 49100,\n",
       "       50100, 51100, 52100, 53100, 54100, 55100, 56100, 57100, 58100, 59100])"
      ]
     },
     "execution_count": 8,
     "metadata": {},
     "output_type": "execute_result"
    }
   ],
   "source": [
    "k_range=np.arange(14100,60000,1000)\n",
    "k_range"
   ]
  },
  {
   "cell_type": "code",
   "execution_count": 15,
   "metadata": {
    "collapsed": false
   },
   "outputs": [
    {
     "data": {
      "text/plain": [
       "16.920473773265652"
      ]
     },
     "execution_count": 15,
     "metadata": {},
     "output_type": "execute_result"
    }
   ],
   "source": [
    "1000000./59100"
   ]
  },
  {
   "cell_type": "code",
   "execution_count": 16,
   "metadata": {
    "collapsed": false
   },
   "outputs": [
    {
     "data": {
      "text/plain": [
       "20.0"
      ]
     },
     "execution_count": 16,
     "metadata": {},
     "output_type": "execute_result"
    }
   ],
   "source": [
    "1000000./50000"
   ]
  },
  {
   "cell_type": "code",
   "execution_count": 19,
   "metadata": {
    "collapsed": false
   },
   "outputs": [
    {
     "data": {
      "text/plain": [
       "10.0"
      ]
     },
     "execution_count": 19,
     "metadata": {},
     "output_type": "execute_result"
    }
   ],
   "source": [
    "1000000./100000"
   ]
  },
  {
   "cell_type": "code",
   "execution_count": 35,
   "metadata": {
    "collapsed": false
   },
   "outputs": [
    {
     "data": {
      "text/plain": [
       "array([ 15000,  16000,  17000,  18000,  19000,  20000,  21000,  22000,\n",
       "        23000,  24000,  25000,  26000,  27000,  28000,  29000,  30000,\n",
       "        31000,  32000,  33000,  34000,  35000,  36000,  37000,  38000,\n",
       "        39000,  40000,  41000,  42000,  43000,  44000,  45000,  46000,\n",
       "        47000,  48000,  49000,  50000,  51000,  52000,  53000,  54000,\n",
       "        55000,  56000,  57000,  58000,  59000,  60000,  61000,  62000,\n",
       "        63000,  64000,  65000,  66000,  67000,  68000,  69000,  70000,\n",
       "        71000,  72000,  73000,  74000,  75000,  76000,  77000,  78000,\n",
       "        79000,  80000,  81000,  82000,  83000,  84000,  85000,  86000,\n",
       "        87000,  88000,  89000,  90000,  91000,  92000,  93000,  94000,\n",
       "        95000,  96000,  97000,  98000,  99000, 100000, 101000, 102000,\n",
       "       103000, 104000, 105000, 106000, 107000, 108000, 109000])"
      ]
     },
     "execution_count": 35,
     "metadata": {},
     "output_type": "execute_result"
    }
   ],
   "source": [
    "np.arange(15000,110000,1000)"
   ]
  },
  {
   "cell_type": "markdown",
   "metadata": {},
   "source": [
    "Embarassingly Parallel Jobs "
   ]
  },
  {
   "cell_type": "code",
   "execution_count": 41,
   "metadata": {
    "collapsed": false
   },
   "outputs": [
    {
     "data": {
      "text/plain": [
       "array([40000, 41000, 42000, 43000, 44000, 45000, 46000, 47000, 48000,\n",
       "       49000, 50000, 51000, 52000, 53000, 54000, 55000, 56000, 57000,\n",
       "       58000, 59000])"
      ]
     },
     "execution_count": 41,
     "metadata": {},
     "output_type": "execute_result"
    }
   ],
   "source": [
    "np.arange(40000,60000,1000)"
   ]
  },
  {
   "cell_type": "code",
   "execution_count": 37,
   "metadata": {
    "collapsed": false
   },
   "outputs": [
    {
     "data": {
      "text/plain": [
       "array([60000, 61000, 62000, 63000, 64000, 65000, 66000, 67000, 68000,\n",
       "       69000, 70000, 71000, 72000, 73000, 74000, 75000, 76000, 77000,\n",
       "       78000, 79000])"
      ]
     },
     "execution_count": 37,
     "metadata": {},
     "output_type": "execute_result"
    }
   ],
   "source": [
    "np.arange(60000,80000,1000)"
   ]
  },
  {
   "cell_type": "code",
   "execution_count": 40,
   "metadata": {
    "collapsed": false
   },
   "outputs": [
    {
     "data": {
      "text/plain": [
       "array([ 80000,  81000,  82000,  83000,  84000,  85000,  86000,  87000,\n",
       "        88000,  89000,  90000,  91000,  92000,  93000,  94000,  95000,\n",
       "        96000,  97000,  98000,  99000, 100000, 101000, 102000, 103000,\n",
       "       104000, 105000, 106000, 107000, 108000, 109000])"
      ]
     },
     "execution_count": 40,
     "metadata": {},
     "output_type": "execute_result"
    }
   ],
   "source": [
    "np.arange(80000,110000,1000)"
   ]
  },
  {
   "cell_type": "code",
   "execution_count": 44,
   "metadata": {
    "collapsed": false
   },
   "outputs": [
    {
     "data": {
      "text/plain": [
       "9.174311926605505"
      ]
     },
     "execution_count": 44,
     "metadata": {},
     "output_type": "execute_result"
    }
   ],
   "source": [
    "1000000./109000"
   ]
  },
  {
   "cell_type": "raw",
   "metadata": {},
   "source": [
    "Job ID                  Username    Queue    Jobname          SessID  NDS   TSK   Memory   Time    S   Time\n",
    "----------------------- ----------- -------- ---------------- ------ ----- ------ ------ --------- - ---------\n",
    "4013567.edique02        dorislee    reg_smal 1_test            26399     1     24    --   10:00:00 R  03:26:52\n",
    "4015148.edique02        dorislee    reg_smal 4to6                --      1     24    --   10:00:00 Q       --\n",
    "4015155.edique02        dorislee    reg_smal 6to8                --      1     24    --   10:00:00 Q       --\n",
    "4015159.edique02        dorislee    reg_smal 8to11               --      1     24    --   10:00:00 Q       --"
   ]
  },
  {
   "cell_type": "code",
   "execution_count": 111,
   "metadata": {
    "collapsed": false
   },
   "outputs": [
    {
     "name": "stdout",
     "output_type": "stream",
     "text": [
      "[]\n",
      "[4750.0, 1100.0, 2100.0, 3100.0, 4100.0, 5100.0, 6100.0, 7100.0, 8100.0, 9100.0]\n"
     ]
    }
   ],
   "source": [
    "k_range_with_time=[]\n",
    "kmeans_time = []\n",
    "for i in glob.glob(\"minibatch_kmeans2/*.out\"):\n",
    "    with open(i, 'r+') as f:\n",
    "        lines = f.readlines()\n",
    "        for i in range(0, len(lines)):\n",
    "#             if lines[i][14:]==\"test\": #cluster number \n",
    "            if str(lines[i][14:18])==\"test\":\n",
    "                k_range_with_time.append(float(lines[i][:5]))\n",
    "                if lines[i][:4]==\"Time\":\n",
    "                    kmeans_time.append(float(lines[i][5:]))\n",
    "print kmeans_time\n",
    "print k_range_with_time"
   ]
  },
  {
   "cell_type": "code",
   "execution_count": 7,
   "metadata": {
    "collapsed": false
   },
   "outputs": [],
   "source": [
    "# plt.plot(k_range_with_time,kmeans_time)"
   ]
  },
  {
   "cell_type": "code",
   "execution_count": 11,
   "metadata": {
    "collapsed": false
   },
   "outputs": [
    {
     "name": "stdout",
     "output_type": "stream",
     "text": [
      "22000 cluster: 5.35083333333 hrs \n"
     ]
    }
   ],
   "source": [
    "print \"22000 cluster: \"+ str(19263/60./60.) + \" hrs \""
   ]
  },
  {
   "cell_type": "raw",
   "metadata": {},
   "source": [
    "13585155.hopque01       dorislee    reg_smal 8to11             31109     1     24    --   20:00:00 R  11:29:17\n",
    "13587807.hopque01       dorislee    reg_smal 25000cluster        --      1     24    --   10:00:00 Q       --\n",
    "13587808.hopque01       dorislee    reg_smal 30000cluster        --      1     24    --   10:00:00 Q       --\n",
    "13587809.hopque01       dorislee    reg_smal 35000cluster        --      1     24    --   10:00:00 Q       --\n",
    "13587810.hopque01       dorislee    reg_smal 40000cluster        --      1     24    --   10:00:00 Q       --\n",
    "13587811.hopque01       dorislee    reg_smal 50000cluster        --      1     24    --   10:00:00 C       --\n",
    "13587812.hopque01       dorislee    reg_smal 50000cluster        --      1     24    --   20:00:00 Q       --\n",
    "13587813.hopque01       dorislee    reg_smal 60000cluster        --      1     24    --   20:00:00 Q       --\n",
    "13587814.hopque01       dorislee    reg_smal 70000cluster        --      1     24    --   20:00:00 Q       --\n",
    "13587815.hopque01       dorislee    reg_smal 80000cluster        --      1     24    --   20:00:00 Q       --\n",
    "13587816.hopque01       dorislee    reg_smal 100000cluster       --      1     24    --   20:00:00 Q       --"
   ]
  },
  {
   "cell_type": "code",
   "execution_count": null,
   "metadata": {
    "collapsed": true
   },
   "outputs": [],
   "source": []
  }
 ],
 "metadata": {
  "kernelspec": {
   "display_name": "Python 2",
   "language": "python",
   "name": "python2"
  },
  "language_info": {
   "codemirror_mode": {
    "name": "ipython",
    "version": 2
   },
   "file_extension": ".py",
   "mimetype": "text/x-python",
   "name": "python",
   "nbconvert_exporter": "python",
   "pygments_lexer": "ipython2",
   "version": "2.7.10"
  }
 },
 "nbformat": 4,
 "nbformat_minor": 0
}
