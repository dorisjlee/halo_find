{
 "cells": [
  {
   "cell_type": "code",
   "execution_count": 1,
   "metadata": {
    "collapsed": false
   },
   "outputs": [
    {
     "name": "stdout",
     "output_type": "stream",
     "text": [
      "Populating the interactive namespace from numpy and matplotlib\n"
     ]
    }
   ],
   "source": [
    "%pylab inline"
   ]
  },
  {
   "cell_type": "code",
   "execution_count": 3,
   "metadata": {
    "collapsed": false
   },
   "outputs": [],
   "source": [
    "# ad[(\"all\",\"mass\")] == ad[(\"all\",\"particle_mass\")]"
   ]
  },
  {
   "cell_type": "markdown",
   "metadata": {},
   "source": [
    "What is \"deposit\"?"
   ]
  },
  {
   "cell_type": "code",
   "execution_count": 4,
   "metadata": {
    "collapsed": false
   },
   "outputs": [
    {
     "name": "stdout",
     "output_type": "stream",
     "text": [
      "Loading Particle Data\n",
      "\n",
      "Creating train test split samples\n",
      "\n"
     ]
    }
   ],
   "source": [
    "import numpy as np\n",
    "import yt\n",
    "import sklearn\n",
    "yt.funcs.mylog.setLevel(50)\n",
    "import matplotlib.pyplot as plt\n",
    "from sklearn.datasets import load_iris\n",
    "from sklearn.cross_validation import cross_val_score\n",
    "from sklearn.cluster import KMeans\n",
    "from sklearn.grid_search import GridSearchCV\n",
    "DEBUG= True\n",
    "def debug(s,n=\"\"):\n",
    "    if DEBUG:\n",
    "\tprint s\n",
    "\tprint n\n",
    "debug(\"Loading Particle Data\")\n",
    "ds = yt.load(\"../ds14_scivis_0128_e4_dt04_1.0000\")\n",
    "ad = ds.all_data()\n",
    "x = ad[(\"all\",\"particle_position_x\")]\n",
    "y = ad[(\"all\",\"particle_position_y\")]\n",
    "z = ad[(\"all\",\"particle_position_z\")]\n",
    "debug(\"Creating train test split samples\")\n",
    "m = ad[(\"all\",\"mass\")]\n",
    "idx = ad[(\"all\",\"particle_index\")]"
   ]
  },
  {
   "cell_type": "code",
   "execution_count": 5,
   "metadata": {
    "collapsed": false
   },
   "outputs": [
    {
     "name": "stdout",
     "output_type": "stream",
     "text": [
      "training set size : \n",
      "(15, 5)\n",
      "testing  set size : \n",
      "(4, 5)\n"
     ]
    }
   ],
   "source": [
    "train = []\n",
    "test = []\n",
    "N = 20#50\n",
    "N_split = 4#10\n",
    "for n in np.arange(N):\n",
    "    if n >N_split:\n",
    "        train.append([idx[n],m[n].in_cgs(),x[n].in_cgs(),y[n].in_cgs(),z[n].in_cgs()])\n",
    "    elif n<N_split:\n",
    "        test.append([idx[n],m[n].in_cgs(),x[n].in_cgs(),y[n].in_cgs(),z[n].in_cgs()])\n",
    "train = np.array(train)\n",
    "test = np.array(test)\n",
    "debug(\"training set size : \", np.shape(train))\n",
    "debug(\"testing  set size : \", np.shape(test))\n",
    "\n",
    "# debug(\"Conducting KMeans on the training set\")\n",
    "# num_clusters=3\n",
    "# clf = KMeans(n_clusters=num_clusters)\n",
    "# clf.fit(train[2:])\n",
    "# centers=clf.cluster_centers_\n",
    "# labels=clf.predict(train[2:])\n",
    "\n",
    "# debug(\"Hyperparameter tuning\")\n",
    "# k_range = range(1, len(train)/2)\n",
    "# param_grid = dict(n_clusters=k_range)\n",
    "# grid = GridSearchCV(clf, param_grid, cv=10, scoring='accuracy')\n",
    "# debug(grid)\n",
    "# debug(\"Conducting hyperparameter grid search\")\n",
    "# grid.fit(train, labels)\n",
    "# debug(\"Writing out grid scores and plotting\")\n",
    "# info =[]\n",
    "# scores=[]\n",
    "# for i in grid.grid_scores_:\n",
    "#     info.append([i[0][\"n_clusters\"], i[1], i[2].std()])\n",
    "#     #so i[2] is the list of results from cross validating 10 times (K folds, K=10)\n",
    "#     scores.append(i[2])\n",
    "# np.savetxt(\"info.txt\",info,header=\"n_clusters         mean_score      std_score\")\n",
    "# np.savetxt(\"scores.txt\",scores)"
   ]
  },
  {
   "cell_type": "code",
   "execution_count": 19,
   "metadata": {
    "collapsed": false
   },
   "outputs": [
    {
     "data": {
      "text/plain": [
       "'accuracy'"
      ]
     },
     "execution_count": 19,
     "metadata": {},
     "output_type": "execute_result"
    }
   ],
   "source": [
    "grid.scoring"
   ]
  },
  {
   "cell_type": "raw",
   "metadata": {},
   "source": [
    "scoring : string, callable or None, optional, default: None\n",
    "A string (see model evaluation documentation) or a scorer callable object / function with signature scorer(estimator, X, y)."
   ]
  },
  {
   "cell_type": "code",
   "execution_count": null,
   "metadata": {
    "collapsed": true
   },
   "outputs": [],
   "source": [
    "def density(): "
   ]
  },
  {
   "cell_type": "code",
   "execution_count": 17,
   "metadata": {
    "collapsed": false
   },
   "outputs": [
    {
     "data": {
      "text/plain": [
       "{'cv': 10,\n",
       " 'error_score': 'raise',\n",
       " 'estimator': KMeans(copy_x=True, init='k-means++', max_iter=300, n_clusters=3, n_init=10,\n",
       "     n_jobs=1, precompute_distances='auto', random_state=None, tol=0.0001,\n",
       "     verbose=0),\n",
       " 'estimator__copy_x': True,\n",
       " 'estimator__init': 'k-means++',\n",
       " 'estimator__max_iter': 300,\n",
       " 'estimator__n_clusters': 3,\n",
       " 'estimator__n_init': 10,\n",
       " 'estimator__n_jobs': 1,\n",
       " 'estimator__precompute_distances': 'auto',\n",
       " 'estimator__random_state': None,\n",
       " 'estimator__tol': 0.0001,\n",
       " 'estimator__verbose': 0,\n",
       " 'fit_params': {},\n",
       " 'iid': True,\n",
       " 'loss_func': None,\n",
       " 'n_jobs': 1,\n",
       " 'param_grid': {'n_clusters': [1, 2, 3, 4, 5, 6]},\n",
       " 'pre_dispatch': '2*n_jobs',\n",
       " 'refit': True,\n",
       " 'score_func': None,\n",
       " 'scoring': 'accuracy',\n",
       " 'verbose': 0}"
      ]
     },
     "execution_count": 17,
     "metadata": {},
     "output_type": "execute_result"
    }
   ],
   "source": [
    "grid.get_params"
   ]
  },
  {
   "cell_type": "code",
   "execution_count": 7,
   "metadata": {
    "collapsed": false
   },
   "outputs": [
    {
     "name": "stdout",
     "output_type": "stream",
     "text": [
      "[[  6.46000923e+05   2.75491975e+43  -1.30594310e+26  -1.36274958e+26\n",
      "   -1.35179897e+26]]\n",
      "[0 0]\n",
      "[[  1.19883400e+06   2.75491975e+43  -1.37467750e+26  -1.33439350e+26\n",
      "   -1.32724153e+26]\n",
      " [  5.45485818e+05   2.75491975e+43  -1.29344593e+26  -1.36790523e+26\n",
      "   -1.35626395e+26]]\n",
      "[0 0]\n",
      "[[  7.99614000e+05   2.75491975e+43  -1.30758010e+26  -1.36974299e+26\n",
      "   -1.33850277e+26]\n",
      " [  2.40532000e+05   2.75491975e+43  -1.27648493e+26  -1.36569992e+26\n",
      "   -1.37757737e+26]\n",
      " [  1.19883400e+06   2.75491975e+43  -1.37467750e+26  -1.33439350e+26\n",
      "   -1.32724153e+26]]\n",
      "[0 0]\n",
      "[[  5.99849500e+05   2.75491975e+43  -1.30228099e+26  -1.36051743e+26\n",
      "   -1.39375199e+26]\n",
      " [  7.99614000e+05   2.75491975e+43  -1.30758010e+26  -1.36974299e+26\n",
      "   -1.33850277e+26]\n",
      " [  1.19883400e+06   2.75491975e+43  -1.37467750e+26  -1.33439350e+26\n",
      "   -1.32724153e+26]\n",
      " [  9.87000000e+02   2.75491975e+43  -1.25928756e+26  -1.36915492e+26\n",
      "   -1.36679430e+26]]\n",
      "[0 0]\n",
      "[[  7.99652000e+05   2.75491975e+43  -1.30056631e+26  -1.37363668e+26\n",
      "   -1.33851310e+26]\n",
      " [  1.19883200e+06   2.75491975e+43  -1.39630334e+26  -1.35218225e+26\n",
      "   -1.31409811e+26]\n",
      " [  5.99849500e+05   2.75491975e+43  -1.30228099e+26  -1.36051743e+26\n",
      "   -1.39375199e+26]\n",
      " [  9.97000000e+02   2.75491975e+43  -1.24979133e+26  -1.37323790e+26\n",
      "   -1.37403089e+26]\n",
      " [  5.99787500e+05   2.75491975e+43  -1.33670721e+26  -1.32711576e+26\n",
      "   -1.34632205e+26]]\n",
      "[0 0]\n",
      "[[  9.87000000e+02   2.75491975e+43  -1.25928756e+26  -1.36915492e+26\n",
      "   -1.36679430e+26]\n",
      " [  5.99787500e+05   2.75491975e+43  -1.33670721e+26  -1.32711576e+26\n",
      "   -1.34632205e+26]\n",
      " [  9.59389000e+05   2.75491975e+43  -1.30502357e+26  -1.37616623e+26\n",
      "   -1.33575149e+26]\n",
      " [  1.19898900e+06   2.75491975e+43  -1.30063624e+26  -1.38909334e+26\n",
      "   -1.39384902e+26]\n",
      " [  1.19883200e+06   2.75491975e+43  -1.39630334e+26  -1.35218225e+26\n",
      "   -1.31409811e+26]\n",
      " [  7.10000000e+02   2.75491975e+43  -1.30392574e+26  -1.33194153e+26\n",
      "   -1.39365496e+26]]\n",
      "[0 0]\n",
      "[[  9.67000000e+02   2.75491975e+43  -1.27828003e+26  -1.36098896e+26\n",
      "   -1.35232110e+26]\n",
      " [  5.99787500e+05   2.75491975e+43  -1.33670721e+26  -1.32711576e+26\n",
      "   -1.34632205e+26]\n",
      " [  9.59389000e+05   2.75491975e+43  -1.30502357e+26  -1.37616623e+26\n",
      "   -1.33575149e+26]\n",
      " [  1.19883200e+06   2.75491975e+43  -1.39630334e+26  -1.35218225e+26\n",
      "   -1.31409811e+26]\n",
      " [  7.10000000e+02   2.75491975e+43  -1.30392574e+26  -1.33194153e+26\n",
      "   -1.39365496e+26]\n",
      " [  9.97000000e+02   2.75491975e+43  -1.24979133e+26  -1.37323790e+26\n",
      "   -1.37403089e+26]\n",
      " [  1.19898900e+06   2.75491975e+43  -1.30063624e+26  -1.38909334e+26\n",
      "   -1.39384902e+26]]\n",
      "[0 0]\n",
      "[[  9.59389000e+05   2.75491975e+43  -1.30502357e+26  -1.37616623e+26\n",
      "   -1.33575149e+26]\n",
      " [  1.19883200e+06   2.75491975e+43  -1.39630334e+26  -1.35218225e+26\n",
      "   -1.31409811e+26]\n",
      " [  9.97000000e+02   2.75491975e+43  -1.24979133e+26  -1.37323790e+26\n",
      "   -1.37403089e+26]\n",
      " [  7.39000000e+02   2.75491975e+43  -1.32036276e+26  -1.33762677e+26\n",
      "   -1.35225915e+26]\n",
      " [  1.19898900e+06   2.75491975e+43  -1.30063624e+26  -1.38909334e+26\n",
      "   -1.39384902e+26]\n",
      " [  9.67000000e+02   2.75491975e+43  -1.27828003e+26  -1.36098896e+26\n",
      "   -1.35232110e+26]\n",
      " [  7.10000000e+02   2.75491975e+43  -1.30392574e+26  -1.33194153e+26\n",
      "   -1.39365496e+26]\n",
      " [  1.19883600e+06   2.75491975e+43  -1.35305166e+26  -1.31660474e+26\n",
      "   -1.34038495e+26]]\n",
      "[0 0]\n",
      "[[  1.19905500e+06   2.75491975e+43  -1.30251947e+26  -1.37010240e+26\n",
      "   -1.33154268e+26]\n",
      " [  7.39000000e+02   2.75491975e+43  -1.32036276e+26  -1.33762677e+26\n",
      "   -1.35225915e+26]\n",
      " [  9.97000000e+02   2.75491975e+43  -1.24979133e+26  -1.37323790e+26\n",
      "   -1.37403089e+26]\n",
      " [  1.19883200e+06   2.75491975e+43  -1.39630334e+26  -1.35218225e+26\n",
      "   -1.31409811e+26]\n",
      " [  1.19898900e+06   2.75491975e+43  -1.30063624e+26  -1.38909334e+26\n",
      "   -1.39384902e+26]\n",
      " [  7.10000000e+02   2.75491975e+43  -1.30392574e+26  -1.33194153e+26\n",
      "   -1.39365496e+26]\n",
      " [  1.19883600e+06   2.75491975e+43  -1.35305166e+26  -1.31660474e+26\n",
      "   -1.34038495e+26]\n",
      " [  9.67000000e+02   2.75491975e+43  -1.27828003e+26  -1.36098896e+26\n",
      "   -1.35232110e+26]\n",
      " [  5.99890000e+05   2.75491975e+43  -1.30877972e+26  -1.38526198e+26\n",
      "   -1.34206472e+26]]\n",
      "[0 0]\n"
     ]
    }
   ],
   "source": [
    "\n",
    "# Explicit version of Grid Search \n",
    "k_range = range(1, 10)\n",
    "# k_scores = []\n",
    "densities =[]\n",
    "for k in k_range:\n",
    "    clf = KMeans(n_clusters=k)\n",
    "    clf.fit(train[:,2:])\n",
    "    centers=clf.cluster_centers_\n",
    "    labels=clf.predict(test[:,2:]) #ignoring idx and mass \n",
    "    print centers\n",
    "    print labels\n",
    "#     scores = cross_val_score(knn, train, labels, cv=10, scoring='accuracy')\n",
    "    \n",
    "#     k_scores.append(scores.mean())\n",
    "# print k_scores"
   ]
  },
  {
   "cell_type": "code",
   "execution_count": 22,
   "metadata": {
    "collapsed": false
   },
   "outputs": [
    {
     "data": {
      "text/plain": [
       "(399, 5)"
      ]
     },
     "execution_count": 22,
     "metadata": {},
     "output_type": "execute_result"
    }
   ],
   "source": [
    "shape(train)"
   ]
  },
  {
   "cell_type": "code",
   "execution_count": 20,
   "metadata": {
    "collapsed": false
   },
   "outputs": [
    {
     "data": {
      "text/plain": [
       "(399, 3)"
      ]
     },
     "execution_count": 20,
     "metadata": {},
     "output_type": "execute_result"
    }
   ],
   "source": [
    "shape(train[:,2:])"
   ]
  },
  {
   "cell_type": "code",
   "execution_count": 26,
   "metadata": {
    "collapsed": false,
    "scrolled": false
   },
   "outputs": [
    {
     "name": "stdout",
     "output_type": "stream",
     "text": [
      "Loading Particle Data\n",
      "\n",
      "Creating train test split samples\n",
      "\n",
      "training set size : \n",
      "(399, 5)\n",
      "testing  set size : \n",
      "(100, 5)\n",
      "1 clusters\n",
      "[[ -1.18149848e+26  -1.24972843e+26  -1.35022562e+26]]\n",
      "[0 0 0 0 0 0 0 0 0 0 0 0 0 0 0 0 0 0 0 0 0 0 0 0 0 0 0 0 0 0 0 0 0 0 0 0 0\n",
      " 0 0 0 0 0 0 0 0 0 0 0 0 0 0 0 0 0 0 0 0 0 0 0 0 0 0 0 0 0 0 0 0 0 0 0 0 0\n",
      " 0 0 0 0 0 0 0 0 0 0 0 0 0 0 0 0 0 0 0 0 0 0 0 0 0 0 0 0 0 0 0 0 0 0 0 0 0\n",
      " 0 0 0 0 0 0 0 0 0 0 0 0 0 0 0 0 0 0 0 0 0 0 0 0 0 0 0 0 0 0 0 0 0 0 0 0 0\n",
      " 0 0 0 0 0 0 0 0 0 0 0 0 0 0 0 0 0 0 0 0 0 0 0 0 0 0 0 0 0 0 0 0 0 0 0 0 0\n",
      " 0 0 0 0 0 0 0 0 0 0 0 0 0 0 0 0 0 0 0 0 0 0 0 0 0 0 0 0 0 0 0 0 0 0 0 0 0\n",
      " 0 0 0 0 0 0 0 0 0 0 0 0 0 0 0 0 0 0 0 0 0 0 0 0 0 0 0 0 0 0 0 0 0 0 0 0 0\n",
      " 0 0 0 0 0 0 0 0 0 0 0 0 0 0 0 0 0 0 0 0 0 0 0 0 0 0 0 0 0 0 0 0 0 0 0 0 0\n",
      " 0 0 0 0 0 0 0 0 0 0 0 0 0 0 0 0 0 0 0 0 0 0 0 0 0 0 0 0 0 0 0 0 0 0 0 0 0\n",
      " 0 0 0 0 0 0 0 0 0 0 0 0 0 0 0 0 0 0 0 0 0 0 0 0 0 0 0 0 0 0 0 0 0 0 0 0 0\n",
      " 0 0 0 0 0 0 0 0 0 0 0 0 0 0 0 0 0 0 0 0 0 0 0 0 0 0 0 0 0]\n",
      "2 clusters\n",
      "[[ -1.29986298e+26  -1.10538461e+26  -1.37329221e+26]\n",
      " [ -1.12029098e+26  -1.32437011e+26  -1.33829766e+26]]\n",
      "[1 1 1 1 1 1 1 1 1 1 1 1 1 1 1 1 1 1 1 1 1 1 1 1 1 1 1 1 1 1 1 1 1 1 1 1 1\n",
      " 1 1 1 1 1 1 1 1 1 1 1 1 1 1 1 1 1 1 1 1 1 1 1 1 1 1 1 1 1 1 1 1 1 1 1 1 1\n",
      " 1 1 1 1 1 1 1 1 1 1 1 1 1 1 1 1 1 1 1 1 1 1 1 1 1 1 1 1 1 1 1 1 1 1 1 1 1\n",
      " 1 1 1 1 1 1 1 1 1 1 1 1 1 1 1 1 1 1 1 1 1 1 1 1 1 1 1 1 1 1 1 1 1 1 1 1 1\n",
      " 1 1 1 1 1 1 1 1 1 1 1 1 1 1 1 1 1 1 1 1 1 1 1 1 1 1 1 1 1 1 1 1 1 1 1 1 1\n",
      " 1 1 1 1 1 1 1 1 1 1 1 1 1 1 1 1 1 1 1 1 1 1 1 1 1 1 1 1 1 1 1 1 1 1 1 1 1\n",
      " 1 1 1 1 1 1 1 1 1 1 1 1 1 1 1 1 1 1 1 1 1 1 1 1 1 1 1 1 1 1 1 1 1 1 1 1 1\n",
      " 1 1 1 1 0 0 0 0 0 0 0 0 0 0 0 0 0 0 0 0 0 0 0 0 0 0 0 0 0 0 0 0 0 0 0 0 0\n",
      " 0 0 0 0 0 0 0 0 0 0 0 0 0 0 0 0 0 0 0 0 0 0 0 0 0 0 0 0 0 0 0 0 0 0 0 0 0\n",
      " 0 0 0 0 0 0 0 0 0 0 0 0 0 0 0 0 0 0 0 0 0 0 0 0 0 0 0 0 0 0 0 0 0 0 0 0 0\n",
      " 0 0 0 0 0 0 0 0 0 0 0 0 0 0 0 0 0 0 0 0 0 0 0 0 0 0 0 0 0]\n",
      "3 clusters\n",
      "[[ -1.29986298e+26  -1.10538461e+26  -1.37329221e+26]\n",
      " [ -1.12860932e+26  -1.31382229e+26  -1.36774898e+26]\n",
      " [ -1.10736930e+26  -1.34075507e+26  -1.29254803e+26]]\n",
      "[1 1 1 1 1 1 1 1 1 1 1 1 1 1 1 1 1 1 1 2 1 1 2 1 1 1 1 1 1 1 1 1 1 1 1 1 1\n",
      " 1 1 1 1 1 1 1 1 1 1 1 1 1 1 1 1 1 2 2 1 2 2 2 2 2 2 1 1 2 2 1 1 1 1 1 1 2\n",
      " 1 1 1 1 1 1 1 1 1 1 1 1 1 1 1 1 1 1 1 1 1 1 1 1 1 1 2 2 2 2 2 2 2 2 2 2 2\n",
      " 1 2 2 2 2 2 1 1 1 1 1 1 1 1 1 1 1 1 1 1 1 1 1 1 1 1 1 1 1 1 1 1 1 1 1 1 1\n",
      " 1 1 1 1 1 1 1 1 1 1 1 1 1 1 1 1 1 1 1 1 1 1 1 1 1 1 1 2 1 1 1 1 1 1 1 1 1\n",
      " 1 1 1 2 2 2 2 2 2 2 2 2 2 2 2 2 2 2 2 2 2 2 2 2 2 2 2 2 2 2 2 2 2 2 2 2 2\n",
      " 2 2 2 2 2 2 2 2 2 2 2 2 2 2 2 1 1 2 2 2 2 2 2 2 2 2 2 2 2 2 2 2 2 2 2 2 2\n",
      " 2 2 2 2 0 0 0 0 0 0 0 0 0 0 0 0 0 0 0 0 0 0 0 0 0 0 0 0 0 0 0 0 0 0 0 0 0\n",
      " 0 0 0 0 0 0 0 0 0 0 0 0 0 0 0 0 0 0 0 0 0 0 0 0 0 0 0 0 0 0 0 0 0 0 0 0 0\n",
      " 0 0 0 0 0 0 0 0 0 0 0 0 0 0 0 0 0 0 0 0 0 0 0 0 0 0 0 0 0 0 0 0 0 0 0 0 0\n",
      " 0 0 0 0 0 0 0 0 0 0 0 0 0 0 0 0 0 0 0 0 0 0 0 0 0 0 0 0 0]\n",
      "4 clusters\n",
      "[[ -1.32806382e+26  -1.17836719e+26  -1.36050557e+26]\n",
      " [ -1.12860932e+26  -1.31382229e+26  -1.36774898e+26]\n",
      " [ -1.28811263e+26  -1.07497520e+26  -1.37861998e+26]\n",
      " [ -1.10736930e+26  -1.34075507e+26  -1.29254803e+26]]\n",
      "[1 1 1 1 1 1 1 1 1 1 1 1 1 1 1 1 1 1 1 3 1 1 3 1 1 1 1 1 1 1 1 1 1 1 1 1 1\n",
      " 1 1 1 1 1 1 1 1 1 1 1 1 1 1 1 1 1 3 3 1 3 3 3 3 3 3 1 1 3 3 1 1 1 1 1 1 3\n",
      " 1 1 1 1 1 1 1 1 1 1 1 1 1 1 1 1 1 1 1 1 1 1 1 1 1 1 3 3 3 3 3 3 3 3 3 3 3\n",
      " 1 3 3 3 3 3 1 1 1 1 1 1 1 1 1 1 1 1 1 1 1 1 1 1 1 1 1 1 1 1 1 1 1 1 1 1 1\n",
      " 1 1 1 1 1 1 1 1 1 1 1 1 1 1 1 1 1 1 1 1 1 1 1 1 1 1 1 3 1 1 1 1 1 1 1 1 1\n",
      " 1 1 1 3 3 3 3 3 3 3 3 3 3 3 3 3 3 3 3 3 3 3 3 3 3 3 3 3 3 3 3 3 3 3 3 3 3\n",
      " 3 3 3 3 3 3 3 3 3 3 3 3 3 3 3 1 1 3 3 3 3 3 3 3 3 3 3 3 3 3 3 3 3 3 3 3 3\n",
      " 3 3 3 3 0 0 0 0 0 0 0 0 0 0 0 0 0 0 0 0 0 0 0 0 0 0 0 0 0 0 0 0 0 0 0 0 0\n",
      " 2 0 2 2 2 2 2 2 2 2 2 2 2 2 0 0 2 0 0 0 2 0 2 2 2 2 2 2 2 2 2 2 2 2 2 2 2\n",
      " 2 2 2 2 2 2 2 2 2 2 2 2 2 2 2 2 2 2 2 2 2 2 2 2 2 2 2 2 2 2 2 2 2 2 2 2 2\n",
      " 2 2 2 2 2 2 2 2 2 2 2 2 2 2 2 2 2 2 2 2 2 2 2 2 2 2 2 2 2]\n",
      "5 clusters\n",
      "[[ -1.28811263e+26  -1.07497520e+26  -1.37861998e+26]\n",
      " [ -1.13470151e+26  -1.32469729e+26  -1.37003031e+26]\n",
      " [ -1.10719075e+26  -1.36231621e+26  -1.29785891e+26]\n",
      " [ -1.32806382e+26  -1.17836719e+26  -1.36050557e+26]\n",
      " [ -1.10170930e+26  -1.26229028e+26  -1.31606812e+26]]\n",
      "[1 1 1 1 1 1 1 1 1 1 1 1 1 1 1 1 1 1 1 2 1 1 2 1 1 1 1 1 1 1 1 1 1 1 1 1 1\n",
      " 1 1 1 1 1 1 1 1 1 1 1 1 1 1 1 1 1 2 2 1 2 2 2 2 2 2 1 1 2 2 1 1 1 1 1 1 2\n",
      " 1 1 1 1 1 1 1 1 1 1 1 1 1 1 1 1 1 1 1 1 1 1 1 1 1 1 2 2 2 2 2 2 2 2 2 2 2\n",
      " 1 2 2 2 2 2 1 1 1 1 1 1 1 1 1 1 1 1 1 1 1 1 1 1 1 1 1 1 1 1 4 1 1 1 1 1 1\n",
      " 1 1 1 1 1 1 1 1 1 1 1 1 4 4 4 4 4 4 4 4 4 4 4 1 1 1 4 4 4 4 4 4 4 4 4 4 4\n",
      " 4 4 4 2 2 2 2 2 2 2 2 2 2 2 2 2 2 2 2 2 2 2 2 2 2 2 2 2 2 2 2 2 2 2 2 2 2\n",
      " 2 2 2 2 2 2 2 2 2 2 2 2 2 2 2 1 1 4 4 4 4 4 4 4 4 4 4 4 4 4 4 2 4 4 4 4 4\n",
      " 4 4 4 4 3 3 3 3 3 3 3 3 3 3 3 3 3 3 3 3 3 3 3 3 3 3 3 3 3 3 3 3 3 3 3 3 3\n",
      " 0 3 0 0 0 0 0 0 0 0 0 0 0 0 3 3 0 3 3 3 0 3 0 0 0 0 0 0 0 0 0 0 0 0 0 0 0\n",
      " 0 0 0 0 0 0 0 0 0 0 0 0 0 0 0 0 0 0 0 0 0 0 0 0 0 0 0 0 0 0 0 0 0 0 0 0 0\n",
      " 0 0 0 0 0 0 0 0 0 0 0 0 0 0 0 0 0 0 0 0 0 0 0 0 0 0 0 0 0]\n",
      "6 clusters\n",
      "[[ -1.27266595e+26  -1.07403885e+26  -1.38032059e+26]\n",
      " [ -1.13470151e+26  -1.32469729e+26  -1.37003031e+26]\n",
      " [ -1.10719075e+26  -1.36231621e+26  -1.29785891e+26]\n",
      " [ -1.31442855e+26  -1.19844916e+26  -1.36344365e+26]\n",
      " [ -1.36151169e+26  -1.09743613e+26  -1.36366243e+26]\n",
      " [ -1.10170930e+26  -1.26229028e+26  -1.31606812e+26]]\n",
      "[1 1 1 1 1 1 1 1 1 1 1 1 1 1 1 1 1 1 1 2 1 1 2 1 1 1 1 1 1 1 1 1 1 1 1 1 1\n",
      " 1 1 1 1 1 1 1 1 1 1 1 1 1 1 1 1 1 2 2 1 2 2 2 2 2 2 1 1 2 2 1 1 1 1 1 1 2\n",
      " 1 1 1 1 1 1 1 1 1 1 1 1 1 1 1 1 1 1 1 1 1 1 1 1 1 1 2 2 2 2 2 2 2 2 2 2 2\n",
      " 1 2 2 2 2 2 1 1 1 1 1 1 1 1 1 1 1 1 1 1 1 1 1 1 1 1 1 1 1 1 5 1 1 1 1 1 1\n",
      " 1 1 1 1 1 1 1 1 1 1 1 1 5 5 5 5 5 5 5 5 5 5 5 1 1 1 5 5 5 5 5 5 5 5 5 5 5\n",
      " 5 5 5 2 2 2 2 2 2 2 2 2 2 2 2 2 2 2 2 2 2 2 2 2 2 2 2 2 2 2 2 2 2 2 2 2 2\n",
      " 2 2 2 2 2 2 2 2 2 2 2 2 2 2 2 1 1 5 5 5 5 5 5 5 5 5 5 5 5 5 5 2 5 5 5 5 5\n",
      " 5 5 5 5 3 3 3 3 3 3 3 3 3 3 3 3 4 3 3 3 4 3 3 3 3 3 3 3 3 3 3 3 3 3 3 4 4\n",
      " 4 4 4 4 4 4 4 4 4 4 4 4 0 4 4 4 4 4 4 4 4 4 4 4 4 0 0 0 0 0 0 0 0 0 0 0 0\n",
      " 0 0 0 0 0 0 0 0 0 0 0 0 0 0 0 0 0 0 0 0 0 0 0 0 0 0 0 0 0 0 0 0 0 0 0 0 0\n",
      " 0 0 0 0 0 0 0 0 0 0 0 0 0 0 0 0 0 0 0 0 0 0 0 0 0 0 0 0 0]\n",
      "7 clusters\n",
      "[[ -1.36151169e+26  -1.09743613e+26  -1.36366243e+26]\n",
      " [ -1.09895618e+26  -1.26876410e+26  -1.29761441e+26]\n",
      " [ -1.10285725e+26  -1.36480259e+26  -1.28827360e+26]\n",
      " [ -1.13174299e+26  -1.34012206e+26  -1.35521527e+26]\n",
      " [ -1.13174209e+26  -1.28652516e+26  -1.38943418e+26]\n",
      " [ -1.27266595e+26  -1.07403885e+26  -1.38032059e+26]\n",
      " [ -1.31442855e+26  -1.19844916e+26  -1.36344365e+26]]\n",
      "[3 3 3 3 3 3 3 3 3 3 3 3 3 3 4 3 3 3 3 3 3 3 3 3 3 3 3 3 4 3 3 3 3 3 3 3 3\n",
      " 3 3 3 3 3 3 3 3 3 3 3 3 3 3 3 3 3 3 3 3 3 2 2 2 2 2 3 3 3 3 3 3 3 3 3 3 3\n",
      " 3 3 3 3 3 3 3 3 3 3 3 3 3 3 3 3 3 3 3 3 3 3 3 3 3 3 3 3 3 3 3 3 3 2 3 2 2\n",
      " 3 3 2 2 2 3 4 4 4 4 4 4 4 4 4 4 4 4 4 4 4 4 4 4 4 4 4 3 3 3 4 4 4 4 4 4 4\n",
      " 4 4 4 4 4 4 4 4 4 4 4 4 4 4 4 4 4 4 4 4 4 4 1 3 3 4 1 1 1 1 1 1 1 1 1 1 1\n",
      " 1 1 1 2 2 2 2 2 2 2 2 2 2 2 2 2 2 2 2 2 2 2 2 2 2 2 2 2 2 2 2 2 2 2 2 2 2\n",
      " 2 2 2 2 2 2 2 2 2 2 2 2 2 2 2 3 3 1 1 1 1 1 1 1 1 1 1 1 1 1 1 1 1 1 1 1 1\n",
      " 1 1 1 1 6 6 6 6 6 6 6 6 6 6 6 6 0 6 6 6 0 6 6 6 6 6 6 6 6 6 6 6 6 6 6 0 0\n",
      " 0 0 0 0 0 0 0 0 0 0 0 0 5 0 0 0 0 0 0 0 0 0 0 0 0 5 5 5 5 5 5 5 5 5 5 5 5\n",
      " 5 5 5 5 5 5 5 5 5 5 5 5 5 5 5 5 5 5 5 5 5 5 5 5 5 5 5 5 5 5 5 5 5 5 5 5 5\n",
      " 5 5 5 5 5 5 5 5 5 5 5 5 5 5 5 5 5 5 5 5 5 5 5 5 5 5 5 5 5]\n",
      "8 clusters\n",
      "[[ -1.10285725e+26  -1.36480259e+26  -1.28827360e+26]\n",
      " [ -1.27266595e+26  -1.07403885e+26  -1.38032059e+26]\n",
      " [ -1.13032491e+26  -1.34102473e+26  -1.35616383e+26]\n",
      " [ -1.31442855e+26  -1.19844916e+26  -1.36344365e+26]\n",
      " [ -1.08347622e+26  -1.27246087e+26  -1.31054980e+26]\n",
      " [ -1.36151169e+26  -1.09743613e+26  -1.36366243e+26]\n",
      " [ -1.13270140e+26  -1.28724885e+26  -1.38986671e+26]\n",
      " [ -1.19012678e+26  -1.25610964e+26  -1.25278094e+26]]\n",
      "[2 2 2 2 2 2 2 2 2 2 2 2 2 2 6 2 2 2 2 2 2 2 2 2 2 2 2 2 6 2 2 2 2 2 2 2 2\n",
      " 2 2 2 2 2 2 2 2 2 2 2 2 2 2 2 2 2 2 2 2 2 0 0 0 0 0 2 2 2 2 2 2 2 2 2 2 2\n",
      " 2 2 2 2 2 2 2 2 2 2 2 2 2 2 2 2 2 2 2 2 2 2 2 2 2 2 2 2 2 2 2 2 2 0 2 0 0\n",
      " 2 2 0 0 0 2 6 6 6 6 6 6 6 6 6 6 6 6 6 6 6 6 6 6 6 6 6 2 2 2 6 6 6 6 6 6 6\n",
      " 6 6 6 6 6 6 6 6 6 6 6 6 6 6 6 6 6 6 6 6 4 6 4 2 2 6 4 4 4 4 4 4 4 4 4 4 4\n",
      " 4 4 4 0 0 0 0 0 0 0 0 0 0 0 0 0 0 0 0 0 0 0 0 0 0 0 0 0 0 0 0 0 0 0 0 0 0\n",
      " 0 0 0 0 0 0 0 0 0 0 0 0 0 0 0 7 7 7 7 7 7 7 4 4 4 4 4 4 4 4 4 4 4 4 4 4 4\n",
      " 7 4 4 4 3 3 3 3 3 3 3 3 3 3 3 3 5 3 3 3 5 3 3 3 3 3 3 3 3 3 3 3 3 3 3 5 5\n",
      " 5 5 5 5 5 5 5 5 5 5 5 5 1 5 5 5 5 5 5 5 5 5 5 5 5 1 1 1 1 1 1 1 1 1 1 1 1\n",
      " 1 1 1 1 1 1 1 1 1 1 1 1 1 1 1 1 1 1 1 1 1 1 1 1 1 1 1 1 1 1 1 1 1 1 1 1 1\n",
      " 1 1 1 1 1 1 1 1 1 1 1 1 1 1 1 1 1 1 1 1 1 1 1 1 1 1 1 1 1]\n",
      "9 clusters\n",
      "[[ -1.10068447e+26  -1.36750629e+26  -1.28447840e+26]\n",
      " [ -1.27266595e+26  -1.07403885e+26  -1.38032059e+26]\n",
      " [ -1.13647052e+26  -1.28811327e+26  -1.38867427e+26]\n",
      " [ -1.36318695e+26  -1.09602181e+26  -1.36282459e+26]\n",
      " [ -1.11792851e+26  -1.32955403e+26  -1.35158956e+26]\n",
      " [ -1.08347622e+26  -1.27246087e+26  -1.31054980e+26]\n",
      " [ -1.19012678e+26  -1.25610964e+26  -1.25278094e+26]\n",
      " [ -1.31449025e+26  -1.19635495e+26  -1.36420499e+26]\n",
      " [ -1.15825301e+26  -1.37913239e+26  -1.35924459e+26]]\n",
      "[8 8 8 8 8 8 8 8 8 8 8 8 8 2 2 8 8 4 8 8 8 8 8 8 8 8 4 4 2 4 4 4 4 4 4 4 4\n",
      " 4 4 4 4 4 4 4 4 4 4 4 4 4 4 4 4 4 8 8 8 4 8 0 0 0 0 4 4 4 4 4 4 4 4 4 4 4\n",
      " 4 4 4 4 4 4 4 4 4 4 4 4 4 4 4 4 4 4 4 4 4 4 4 4 4 4 4 4 4 4 4 4 4 0 4 4 4\n",
      " 4 4 4 4 4 4 2 2 2 2 2 2 2 2 2 2 2 2 2 2 2 2 2 2 2 2 2 2 2 4 2 2 2 2 2 2 2\n",
      " 2 2 2 2 2 2 2 2 2 2 2 4 2 2 2 2 2 2 2 2 5 2 5 4 4 4 5 5 5 5 5 5 5 5 5 5 5\n",
      " 5 5 5 8 0 0 0 0 0 0 0 0 0 0 0 0 0 0 0 0 0 0 0 0 0 0 4 0 0 0 0 0 0 0 0 0 0\n",
      " 0 0 0 0 0 0 0 0 0 0 0 0 0 0 0 6 6 6 6 6 6 6 5 5 5 5 5 5 5 5 5 5 5 5 5 5 5\n",
      " 6 5 5 5 7 7 7 7 7 7 7 7 7 7 7 7 3 7 7 7 3 7 7 7 7 7 7 7 7 7 7 7 7 7 7 3 3\n",
      " 3 7 3 3 3 3 3 3 3 3 3 3 1 3 3 3 3 3 3 3 3 3 3 3 3 1 1 1 1 1 1 1 1 1 1 1 1\n",
      " 1 1 1 1 1 1 1 1 1 1 1 1 1 1 1 1 1 1 1 1 1 1 1 1 1 1 1 1 1 1 1 1 1 1 1 1 1\n",
      " 1 1 1 1 1 1 1 1 1 1 1 1 1 1 1 1 1 1 1 1 1 1 1 1 1 1 1 1 1]\n"
     ]
    }
   ],
   "source": [
    "import numpy as np\n",
    "import yt\n",
    "import sklearn\n",
    "yt.funcs.mylog.setLevel(50)\n",
    "import matplotlib.pyplot as plt\n",
    "from sklearn.datasets import load_iris\n",
    "from sklearn.cross_validation import cross_val_score\n",
    "from sklearn.cluster import KMeans\n",
    "from sklearn.grid_search import GridSearchCV\n",
    "DEBUG= True\n",
    "def debug(s,n=\"\"):\n",
    "    if DEBUG:\n",
    "\tprint s\n",
    "\tprint n\n",
    "debug(\"Loading Particle Data\")\n",
    "ds = yt.load(\"../ds14_scivis_0128_e4_dt04_1.0000\")\n",
    "ad = ds.all_data()\n",
    "x = ad[(\"all\",\"particle_position_x\")]\n",
    "y = ad[(\"all\",\"particle_position_y\")]\n",
    "z = ad[(\"all\",\"particle_position_z\")]\n",
    "debug(\"Creating train test split samples\")\n",
    "m = ad[(\"all\",\"mass\")]\n",
    "idx = ad[(\"all\",\"particle_index\")]\n",
    "train = []\n",
    "test = []\n",
    "N = 500\n",
    "N_split = 100\n",
    "for n in np.arange(N):\n",
    "    if n >N_split:\n",
    "        train.append([idx[n],m[n].in_cgs(),x[n].in_cgs(),y[n].in_cgs(),z[n].in_cgs()])\n",
    "#         train.append([x[n].in_cgs(),y[n].in_cgs(),z[n].in_cgs()])\n",
    "    elif n<N_split:\n",
    "        test.append([idx[n],m[n].in_cgs(),x[n].in_cgs(),y[n].in_cgs(),z[n].in_cgs()])\n",
    "#         test.append([x[n].in_cgs(),y[n].in_cgs(),z[n].in_cgs()])\n",
    "train = np.array(train)\n",
    "test = np.array(test)\n",
    "debug(\"training set size : \", np.shape(train))\n",
    "debug(\"testing  set size : \", np.shape(test))\n",
    "# Explicit version of Grid Search \n",
    "k_range = range(1, 10)\n",
    "# k_scores = []\n",
    "densities =[]\n",
    "for k in k_range:\n",
    "    clf = KMeans(n_clusters=k)\n",
    "#     clf.fit(train[2:])\n",
    "#     clf.predict(test[2:]) #ignoring idx and mass \n",
    "    clf.fit(train[:,2:])\n",
    "    centers=clf.cluster_centers_\n",
    "    labels = clf.labels_\n",
    "    print k,\"clusters\"\n",
    "    print centers\n",
    "    print labels"
   ]
  },
  {
   "cell_type": "code",
   "execution_count": 27,
   "metadata": {
    "collapsed": false
   },
   "outputs": [
    {
     "data": {
      "text/plain": [
       "array([[ -1.10068447e+26,  -1.36750629e+26,  -1.28447840e+26],\n",
       "       [ -1.27266595e+26,  -1.07403885e+26,  -1.38032059e+26],\n",
       "       [ -1.13647052e+26,  -1.28811327e+26,  -1.38867427e+26],\n",
       "       [ -1.36318695e+26,  -1.09602181e+26,  -1.36282459e+26],\n",
       "       [ -1.11792851e+26,  -1.32955403e+26,  -1.35158956e+26],\n",
       "       [ -1.08347622e+26,  -1.27246087e+26,  -1.31054980e+26],\n",
       "       [ -1.19012678e+26,  -1.25610964e+26,  -1.25278094e+26],\n",
       "       [ -1.31449025e+26,  -1.19635495e+26,  -1.36420499e+26],\n",
       "       [ -1.15825301e+26,  -1.37913239e+26,  -1.35924459e+26]])"
      ]
     },
     "execution_count": 27,
     "metadata": {},
     "output_type": "execute_result"
    }
   ],
   "source": [
    "centers"
   ]
  },
  {
   "cell_type": "code",
   "execution_count": 37,
   "metadata": {
    "collapsed": false
   },
   "outputs": [
    {
     "data": {
      "text/plain": [
       "2.7549197512673419e+43"
      ]
     },
     "execution_count": 37,
     "metadata": {},
     "output_type": "execute_result"
    }
   ],
   "source": [
    "n=6\n",
    "train[n,1] #mass"
   ]
  },
  {
   "cell_type": "code",
   "execution_count": 91,
   "metadata": {
    "collapsed": false
   },
   "outputs": [
    {
     "data": {
      "text/plain": [
       "array([ -1.18325286e+26,  -1.23996210e+26,  -1.34954495e+26])"
      ]
     },
     "execution_count": 91,
     "metadata": {},
     "output_type": "execute_result"
    }
   ],
   "source": [
    "def compute_rcm(n_clusters,centroids):\n",
    "    #since all the particles have the same mass, the center of mass is  just the arithmetic average weighted by the number of particles in each cluster \n",
    "#     print [mean(centroids[:,0]),mean(centroids[:,0]),mean(centroids[:,0])]\n",
    "    numerator = 0\n",
    "    n_tot = 0\n",
    "    for i in np.arange(n_clusters):\n",
    "        N = len(np.where(labels==i)[0]) #number of particles in each cluster\n",
    "#         print \"n_clusters:\", i \n",
    "#         print \"nuumber of particles in each cluster \", N\n",
    "#         print \"cluster center\" , centroids[i]    \n",
    "        numerator += centroids[i]*N \n",
    "#         print \"numerator: \" , numerator\n",
    "        n_tot+=N\n",
    "    rcm = numerator/n_tot\n",
    "    return rcm\n",
    "#         print train[np.where(labels==i)[0],1]\n",
    "compute_rcm(8,centers)"
   ]
  },
  {
   "cell_type": "markdown",
   "metadata": {},
   "source": [
    "testing if this makes sense. Just testing this looking at the x y  projection in 2D "
   ]
  },
  {
   "cell_type": "code",
   "execution_count": 77,
   "metadata": {
    "collapsed": false
   },
   "outputs": [
    {
     "data": {
      "text/plain": [
       "array([[ -1.10068447e+26,  -1.36750629e+26,  -1.28447840e+26],\n",
       "       [ -1.27266595e+26,  -1.07403885e+26,  -1.38032059e+26],\n",
       "       [ -1.13647052e+26,  -1.28811327e+26,  -1.38867427e+26],\n",
       "       [ -1.36318695e+26,  -1.09602181e+26,  -1.36282459e+26],\n",
       "       [ -1.11792851e+26,  -1.32955403e+26,  -1.35158956e+26],\n",
       "       [ -1.08347622e+26,  -1.27246087e+26,  -1.31054980e+26],\n",
       "       [ -1.19012678e+26,  -1.25610964e+26,  -1.25278094e+26],\n",
       "       [ -1.31449025e+26,  -1.19635495e+26,  -1.36420499e+26],\n",
       "       [ -1.15825301e+26,  -1.37913239e+26,  -1.35924459e+26]])"
      ]
     },
     "execution_count": 77,
     "metadata": {},
     "output_type": "execute_result"
    }
   ],
   "source": [
    "centers"
   ]
  },
  {
   "cell_type": "code",
   "execution_count": 86,
   "metadata": {
    "collapsed": false
   },
   "outputs": [
    {
     "data": {
      "text/plain": [
       "[<matplotlib.lines.Line2D at 0x7f563ddbdb10>]"
      ]
     },
     "execution_count": 86,
     "metadata": {},
     "output_type": "execute_result"
    },
    {
     "data": {
      "image/png": "[encoded data removed]",
      "text/plain": [
       "<matplotlib.figure.Figure at 0x7f563e164690>"
      ]
     },
     "metadata": {},
     "output_type": "display_data"
    },
    {
     "data": {
      "image/png": "[encoded data removed]",
      "text/plain": [
       "<matplotlib.figure.Figure at 0x7f563de20c10>"
      ]
     },
     "metadata": {},
     "output_type": "display_data"
    }
   ],
   "source": [
    "plt.figure()\n",
    "plt.title(\"xy projection\")\n",
    "plt.plot(centers[:,0], centers[:,1],'o')\n",
    "rcm = compute_rcm(8,centers)\n",
    "plt.plot(rcm[0],rcm[1],\"x\", color = \"red\", markersize=13)\n",
    "plt.figure()\n",
    "plt.title(\"yz projection\")\n",
    "plt.plot(centers[:,1], centers[:,2],'o')\n",
    "plt.plot(rcm[1],rcm[2],\"x\", color = \"red\", markersize=13)"
   ]
  },
  {
   "cell_type": "markdown",
   "metadata": {
    "collapsed": true
   },
   "source": [
    "So it turns out all the particles have the same mass (2.75491975e+43) , that simplifies matters by quite a bit "
   ]
  },
  {
   "cell_type": "code",
   "execution_count": 98,
   "metadata": {
    "collapsed": false
   },
   "outputs": [
    {
     "data": {
      "text/plain": [
       "<matplotlib.patches.Circle at 0x7f563de93790>"
      ]
     },
     "execution_count": 98,
     "metadata": {},
     "output_type": "execute_result"
    }
   ],
   "source": []
  },
  {
   "cell_type": "code",
   "execution_count": 94,
   "metadata": {
    "collapsed": true
   },
   "outputs": [],
   "source": [
    "def compute_avrg_rad(n_cluster,centroids):\n",
    "    numerator = 0\n",
    "    n_tot = 0\n",
    "    for i in np.arange(n_cluster):\n",
    "        numerator += np.linalg.norm(centroids[i]-compute_rcm(n_cluster,centroids))\n",
    "    return numerator/n_cluster"
   ]
  },
  {
   "cell_type": "code",
   "execution_count": 95,
   "metadata": {
    "collapsed": false
   },
   "outputs": [
    {
     "data": {
      "text/plain": [
       "1.4062843968876841e+25"
      ]
     },
     "execution_count": 95,
     "metadata": {},
     "output_type": "execute_result"
    }
   ],
   "source": []
  },
  {
   "cell_type": "markdown",
   "metadata": {},
   "source": [
    "So it looks like average radius doesn't encircle all the datapoint but that's okay because we are jsut computing a average density "
   ]
  },
  {
   "cell_type": "code",
   "execution_count": 106,
   "metadata": {
    "collapsed": false
   },
   "outputs": [
    {
     "data": {
      "image/png": "[encoded data removed]",
      "text/plain": [
       "<matplotlib.figure.Figure at 0x7f563dbc7310>"
      ]
     },
     "metadata": {},
     "output_type": "display_data"
    }
   ],
   "source": [
    "fig  = plt.figure()\n",
    "plt.title(\"xy projection\")\n",
    "plt.plot(centers[:,0], centers[:,1],'o')\n",
    "rcm = compute_rcm(8,centers)\n",
    "plt.plot(rcm[0],rcm[1],\"x\", color = \"red\", markersize=13)\n",
    "rad = compute_avrg_rad(8,centers)\n",
    "circle1 = plt.Circle((rcm[0],rcm[1]),rad,color='g',fill=False)\n",
    "fig.gca().add_artist(circle1)\n",
    "axes().set_aspect('equal', 'datalim')"
   ]
  },
  {
   "cell_type": "code",
   "execution_count": 109,
   "metadata": {
    "collapsed": false
   },
   "outputs": [
    {
     "data": {
      "text/plain": [
       "399"
      ]
     },
     "execution_count": 109,
     "metadata": {},
     "output_type": "execute_result"
    }
   ],
   "source": []
  },
  {
   "cell_type": "code",
   "execution_count": 112,
   "metadata": {
    "collapsed": false
   },
   "outputs": [],
   "source": [
    "rad = compute_avrg_rad(8,centers)\n",
    "volume = (4./3.*pi*rad**3)\n",
    "mass = 2.75491975e43 * len(labels)\n",
    "density = mass / volume"
   ]
  },
  {
   "cell_type": "code",
   "execution_count": 113,
   "metadata": {
    "collapsed": false
   },
   "outputs": [
    {
     "data": {
      "text/plain": [
       "9.4356921775238172e-31"
      ]
     },
     "execution_count": 113,
     "metadata": {},
     "output_type": "execute_result"
    }
   ],
   "source": [
    "density"
   ]
  },
  {
   "cell_type": "code",
   "execution_count": 90,
   "metadata": {
    "collapsed": false
   },
   "outputs": [
    {
     "data": {
      "text/plain": [
       "True"
      ]
     },
     "execution_count": 90,
     "metadata": {},
     "output_type": "execute_result"
    }
   ],
   "source": [
    "np.linalg.norm(np.array([1,2,3])) ==sqrt(14)"
   ]
  },
  {
   "cell_type": "code",
   "execution_count": null,
   "metadata": {
    "collapsed": true
   },
   "outputs": [],
   "source": []
  }
 ],
 "metadata": {
  "kernelspec": {
   "display_name": "Python 2",
   "language": "python",
   "name": "python2"
  },
  "language_info": {
   "codemirror_mode": {
    "name": "ipython",
    "version": 2
   },
   "file_extension": ".py",
   "mimetype": "text/x-python",
   "name": "python",
   "nbconvert_exporter": "python",
   "pygments_lexer": "ipython2",
   "version": "2.7.10"
  }
 },
 "nbformat": 4,
 "nbformat_minor": 0
}
