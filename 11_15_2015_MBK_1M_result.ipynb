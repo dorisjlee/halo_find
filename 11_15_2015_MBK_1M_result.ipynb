{
 "cells": [
  {
   "cell_type": "code",
   "execution_count": 1,
   "metadata": {
    "collapsed": false
   },
   "outputs": [
    {
     "name": "stdout",
     "output_type": "stream",
     "text": [
      "Populating the interactive namespace from numpy and matplotlib\n"
     ]
    }
   ],
   "source": [
    "%pylab inline"
   ]
  },
  {
   "cell_type": "markdown",
   "metadata": {},
   "source": [
    "all the jobs crashed because of [this issue](https://github.com/scikit-learn/scikit-learn/issues/3048) "
   ]
  },
  {
   "cell_type": "markdown",
   "metadata": {},
   "source": [
    "Modified MiniBatchKMeans so that it doesn't compute label upfront but does it in the fit and predict procedure, this avoids the dot product matrix multiplication of the two large arrays (which is what caused the memory used to spike and crash). The initialization procedures has all been set to the default values . "
   ]
  },
  {
   "cell_type": "code",
   "execution_count": 2,
   "metadata": {
    "collapsed": true
   },
   "outputs": [],
   "source": [
    "import glob"
   ]
  },
  {
   "cell_type": "code",
   "execution_count": 3,
   "metadata": {
    "collapsed": false
   },
   "outputs": [
    {
     "name": "stdout",
     "output_type": "stream",
     "text": [
      "[  100  1100  2100  3100  4100  5100  6100  7100  8100  9100 10100 11100\n",
      " 12100 13100 15000 16000 17000 18000 19000 20000 21000 22000 23000 24000\n",
      " 25000 26000 30000]\n"
     ]
    }
   ],
   "source": [
    "k_range = []\n",
    "for i in glob.glob(\"minibatch_kmeans2/data_output/density*.txt\"): \n",
    "    k_range.append(int(i.split(\".\")[0][37:])) \n",
    "k_range=sort(k_range)\n",
    "print k_range"
   ]
  },
  {
   "cell_type": "code",
   "execution_count": 4,
   "metadata": {
    "collapsed": false
   },
   "outputs": [
    {
     "name": "stderr",
     "output_type": "stream",
     "text": [
      "//anaconda/lib/python2.7/site-packages/matplotlib/axes/_axes.py:475: UserWarning: No labelled objects found. Use label='...' kwarg on individual plots.\n",
      "  warnings.warn(\"No labelled objects found. \"\n"
     ]
    },
    {
     "data": {
      "image/png": "[encoded data removed]",
      "text/plain": [
       "<matplotlib.figure.Figure at 0x7f6492b97390>"
      ]
     },
     "metadata": {},
     "output_type": "display_data"
    }
   ],
   "source": [
    "import os\n",
    "import glob\n",
    "avrg_densities=[]\n",
    "# k_range1=np.arange(100,14100,1000)\n",
    "# k_range2=np.arange(15000,19000,1000)\n",
    "# k_range = np.concatenate([k_range1,k_range2],axis=0)\n",
    "for n in k_range:\n",
    "    avrg_densities.append(mean(np.loadtxt(\"minibatch_kmeans2/data_output/density{}.txt\".format(n))))\n",
    "plt.plot(k_range,avrg_densities)\n",
    "plt.plot(k_range,avrg_densities,'o',color = 'red')\n",
    "plt.xlabel(\"number of clusters\",fontsize=13)\n",
    "plt.ylabel(\"Average Density\",fontsize=13)\n",
    "plt\n",
    "plt.legend(loc='upper left',prop={'size':12},numpoints=1)"
   ]
  },
  {
   "cell_type": "code",
   "execution_count": 10,
   "metadata": {
    "collapsed": false
   },
   "outputs": [
    {
     "name": "stdout",
     "output_type": "stream",
     "text": [
      "[19263.6186988, 37.4935061932, 367.104830027, 434.081164837, 258.846617937, 362.911755085, 499.696087837, 661.776847124, 859.067950964, 1090.79213095, 1409.54032397, 1667.88138986, 1993.10591507, 2334.87623596, 2708.63842583, 3505.32119513, 3954.84374094, 4413.36469889, 4934.33758497, 5502.97708607, 6071.39250088, 6698.21938515, 5654.80801511, 5849.47794914, 6109.92756104, 6272.26248097, 7186.92269087]\n",
      "[]\n"
     ]
    }
   ],
   "source": [
    "k_range_with_time=[]\n",
    "kmeans_time = []\n",
    "for i in glob.glob(\"minibatch_kmeans2/pbs_output/*.out\"):\n",
    "    with open(i, 'r+') as f:\n",
    "        lines = f.readlines()\n",
    "        for i in range(0, len(lines)):\n",
    "#             if lines[i][14:]==\"test\": #cluster number \n",
    "#             if str(lines[i][14:18])==\"test\":\n",
    "#                 k_range_with_time.append(float(lines[i][:5]))\n",
    "            if lines[i][:4]==\"Time\":\n",
    "                kmeans_time.append(float(lines[i][5:]))\n",
    "print kmeans_time\n",
    "print k_range_with_time"
   ]
  },
  {
   "cell_type": "markdown",
   "metadata": {},
   "source": [
    "It was dumb to try to scale to 10M the whole data set is only 2097152 (2M)"
   ]
  },
  {
   "cell_type": "code",
   "execution_count": 84,
   "metadata": {
    "collapsed": false
   },
   "outputs": [],
   "source": [
    "centers = loadtxt(\"minibatch_kmeans2/data_output/centers22000.txt\")\n",
    "density = loadtxt(\"minibatch_kmeans2/data_output/density22000.txt\")"
   ]
  },
  {
   "cell_type": "code",
   "execution_count": 85,
   "metadata": {
    "collapsed": false
   },
   "outputs": [
    {
     "data": {
      "text/plain": [
       "(21940,)"
      ]
     },
     "execution_count": 85,
     "metadata": {},
     "output_type": "execute_result"
    }
   ],
   "source": [
    "shape(density)"
   ]
  },
  {
   "cell_type": "code",
   "execution_count": 86,
   "metadata": {
    "collapsed": false
   },
   "outputs": [
    {
     "data": {
      "text/plain": [
       "7.7375187616159958e+32"
      ]
     },
     "execution_count": 86,
     "metadata": {},
     "output_type": "execute_result"
    }
   ],
   "source": [
    "min(density)"
   ]
  },
  {
   "cell_type": "code",
   "execution_count": 87,
   "metadata": {
    "collapsed": false
   },
   "outputs": [
    {
     "data": {
      "image/png": "[encoded data removed]",
      "text/plain": [
       "<matplotlib.figure.Figure at 0x7f6490a233d0>"
      ]
     },
     "metadata": {},
     "output_type": "display_data"
    }
   ],
   "source": [
    "plt.hist(density,bins=10000)\n",
    "plt.xlabel(\"Density\")\n",
    "plt.ylabel(\"Count\")\n",
    "plt.xlim(0,0.2e38)\n",
    "plt.show()"
   ]
  },
  {
   "cell_type": "code",
   "execution_count": 124,
   "metadata": {
    "collapsed": false
   },
   "outputs": [
    {
     "data": {
      "text/plain": [
       "<matplotlib.text.Text at 0x7f6490d7ff90>"
      ]
     },
     "execution_count": 124,
     "metadata": {},
     "output_type": "execute_result"
    },
    {
     "data": {
      "image/png": "[encoded data removed]",
      "text/plain": [
       "<matplotlib.figure.Figure at 0x7f6490f03b90>"
      ]
     },
     "metadata": {},
     "output_type": "display_data"
    }
   ],
   "source": [
    "fig, ax = plt.subplots(1)\n",
    "x = log10(density)\n",
    "mu = mean(density)\n",
    "sigma = np.std(density)\n",
    "textstr = '$\\mu=%.2e$\\n$\\sigma=%.2e$'%(mu,sigma)\n",
    "ax.hist(x, 50)\n",
    "props = dict(boxstyle='round', facecolor='white', alpha=0.5)\n",
    "ax.text(0.7, 0.95, textstr, transform=ax.transAxes, fontsize=14,\n",
    "        verticalalignment='top', bbox=props)\n",
    "plt.xlabel(\"log_10 (Density)\",fontsize=13)\n",
    "plt.ylabel(\"Number of haloes\",fontsize=13)\n",
    "plt.title(\"22000 Clusters (N=1M)\")"
   ]
  },
  {
   "cell_type": "code",
   "execution_count": 89,
   "metadata": {
    "collapsed": false
   },
   "outputs": [
    {
     "data": {
      "text/plain": [
       "<matplotlib.text.Text at 0x7f6482e2c810>"
      ]
     },
     "execution_count": 89,
     "metadata": {},
     "output_type": "execute_result"
    },
    {
     "data": {
      "image/png": "[encoded data removed]",
      "text/plain": [
       "<matplotlib.figure.Figure at 0x7f6482f79c50>"
      ]
     },
     "metadata": {},
     "output_type": "display_data"
    }
   ],
   "source": [
    "# centers = loadtxt(\"minibatch_kmeans2/data_output/centers10100.txt\")\n",
    "density = loadtxt(\"minibatch_kmeans2/data_output/density10100.txt\")\n",
    "# labels = loadtxt(\"minibatch_kmeans2/data_output/labels10100.txt\")\n",
    "fig, ax = plt.subplots(1)\n",
    "x = log10(density)\n",
    "mu = mean(density)\n",
    "sigma = np.std(density)\n",
    "textstr = '$\\mu=%.2e$\\n$\\sigma=%.2e$'%(mu,sigma)\n",
    "ax.hist(x, 50)\n",
    "props = dict(boxstyle='round', facecolor='white', alpha=0.5)\n",
    "ax.text(0.7, 0.95, textstr, transform=ax.transAxes, fontsize=14,\n",
    "        verticalalignment='top', bbox=props)\n",
    "plt.xlabel(\"log_10 (Density)\",fontsize=13)\n",
    "plt.ylabel(\"Count\",fontsize=13)\n",
    "plt.title(\"10100 Clusters\")"
   ]
  },
  {
   "cell_type": "markdown",
   "metadata": {},
   "source": [
    "if ~40 is the ideal cluster if I want to try this on 1M then I only need to test the range near that so the peak for 10M should be at 250000, and so an appropriate range to test for is: "
   ]
  },
  {
   "cell_type": "code",
   "execution_count": 15,
   "metadata": {
    "collapsed": false
   },
   "outputs": [
    {
     "data": {
      "text/plain": [
       "array([200000, 210000, 220000, 230000, 240000, 250000, 260000, 270000,\n",
       "       280000, 290000, 300000])"
      ]
     },
     "execution_count": 15,
     "metadata": {},
     "output_type": "execute_result"
    }
   ],
   "source": [
    "np.arange(200000,310000,10000)"
   ]
  },
  {
   "cell_type": "markdown",
   "metadata": {},
   "source": [
    "Normalized by the mass (mass is constant) to get number of particles per halo (which is more intuitive )"
   ]
  },
  {
   "cell_type": "code",
   "execution_count": 95,
   "metadata": {
    "collapsed": false
   },
   "outputs": [],
   "source": [
    "# density = loadtxt(\"minibatch_kmeans2/data_output/density22000.txt\")\n",
    "# fig, ax = plt.subplots(1)\n",
    "# # x = log10(density)\n",
    "# particle_mass = 2.75491975e43\n",
    "# N = density/particle_mass\n",
    "# mu = mean(N)\n",
    "# sigma = np.std(N)\n",
    "# textstr = '$\\mu=%.2e$\\n$\\sigma=%.2e$'%(mu,sigma)\n",
    "# ax.hist(N, 50)\n",
    "# props = dict(boxstyle='round', facecolor='white', alpha=0.5)\n",
    "# ax.text(0.7, 0.95, textstr, transform=ax.transAxes, fontsize=14,\n",
    "#         verticalalignment='top', bbox=props)\n",
    "# plt.xlabel(\"Number of particles\",fontsize=13)\n",
    "# plt.ylabel(\"Number of haloes\",fontsize=13)\n",
    "# plt.title(\"22000 Clusters\")"
   ]
  },
  {
   "cell_type": "markdown",
   "metadata": {},
   "source": [
    "No you can't just divide you are forgetting volume '"
   ]
  },
  {
   "cell_type": "code",
   "execution_count": 98,
   "metadata": {
    "collapsed": true
   },
   "outputs": [],
   "source": [
    "labels = loadtxt(\"minibatch_kmeans2/data_output/labels22000.txt\")"
   ]
  },
  {
   "cell_type": "code",
   "execution_count": 104,
   "metadata": {
    "collapsed": false
   },
   "outputs": [],
   "source": [
    "n_clusters = len(np.unique(labels)) # total number of unique clusters "
   ]
  },
  {
   "cell_type": "code",
   "execution_count": 105,
   "metadata": {
    "collapsed": true
   },
   "outputs": [],
   "source": [
    "N_list = []\n",
    "for i in np.arange(n_clusters):\n",
    "    N_list.append(len(np.where(labels==i)[0]))"
   ]
  },
  {
   "cell_type": "code",
   "execution_count": 122,
   "metadata": {
    "collapsed": false
   },
   "outputs": [
    {
     "data": {
      "text/plain": [
       "(0, 400)"
      ]
     },
     "execution_count": 122,
     "metadata": {},
     "output_type": "execute_result"
    },
    {
     "data": {
      "image/png": "[encoded data removed]",
      "text/plain": [
       "<matplotlib.figure.Figure at 0x7f6491607790>"
      ]
     },
     "metadata": {},
     "output_type": "display_data"
    }
   ],
   "source": [
    "fig, ax = plt.subplots(1)\n",
    "mu = mean(N_list)\n",
    "sigma = np.std(N_list)\n",
    "textstr = '$\\mu=%.2f$\\n$\\sigma=%.2f$'%(mu,sigma)\n",
    "hist = ax.hist(N_list, 70)\n",
    "props = dict(boxstyle='round', facecolor='white', alpha=0.5)\n",
    "ax.text(0.8, 0.95, textstr, transform=ax.transAxes, fontsize=14,\n",
    "        verticalalignment='top', bbox=props)\n",
    "plt.xlabel(\"Number of particle per halo\",fontsize=13)\n",
    "plt.ylabel(\"Number of Haloes\",fontsize=13)\n",
    "plt.title(\"22000 Clusters (N=1M)\")\n",
    "plt.xlim(0,400)"
   ]
  },
  {
   "cell_type": "code",
   "execution_count": null,
   "metadata": {
    "collapsed": true
   },
   "outputs": [],
   "source": [
    "N_list = []\n",
    "for i in np.arange\n",
    "N=len(np.where(labels==i)[0])"
   ]
  },
  {
   "cell_type": "code",
   "execution_count": 100,
   "metadata": {
    "collapsed": false
   },
   "outputs": [
    {
     "data": {
      "text/plain": [
       "(1097152,)"
      ]
     },
     "execution_count": 100,
     "metadata": {},
     "output_type": "execute_result"
    }
   ],
   "source": [
    "shape(labels)"
   ]
  },
  {
   "cell_type": "code",
   "execution_count": 121,
   "metadata": {
    "collapsed": false
   },
   "outputs": [],
   "source": [
    "# cat 10MMBK/mbk.py"
   ]
  },
  {
   "cell_type": "markdown",
   "metadata": {
    "collapsed": true
   },
   "source": [
    "Can not submit this on cori because the 10hr job I just ran exceeded walltime which means that the 2M sample takes a long time to run "
   ]
  },
  {
   "cell_type": "markdown",
   "metadata": {},
   "source": [
    "http://www.nersc.gov/users/computational-systems/cori/running-jobs/queues-and-policies/"
   ]
  },
  {
   "cell_type": "markdown",
   "metadata": {},
   "source": [
    "Cori regular queues only allow max walltime of 12 hrs "
   ]
  },
  {
   "cell_type": "code",
   "execution_count": null,
   "metadata": {
    "collapsed": true
   },
   "outputs": [],
   "source": []
  }
 ],
 "metadata": {
  "kernelspec": {
   "display_name": "Python 2",
   "language": "python",
   "name": "python2"
  },
  "language_info": {
   "codemirror_mode": {
    "name": "ipython",
    "version": 2
   },
   "file_extension": ".py",
   "mimetype": "text/x-python",
   "name": "python",
   "nbconvert_exporter": "python",
   "pygments_lexer": "ipython2",
   "version": "2.7.10"
  }
 },
 "nbformat": 4,
 "nbformat_minor": 0
}
