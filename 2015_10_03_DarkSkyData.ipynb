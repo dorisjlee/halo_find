{
 "cells": [
  {
   "cell_type": "code",
   "execution_count": 4,
   "metadata": {
    "collapsed": false
   },
   "outputs": [
    {
     "name": "stdout",
     "output_type": "stream",
     "text": [
      "Populating the interactive namespace from numpy and matplotlib\n"
     ]
    }
   ],
   "source": [
    "%pylab inline\n",
    "import yt"
   ]
  },
  {
   "cell_type": "code",
   "execution_count": 5,
   "metadata": {
    "collapsed": false
   },
   "outputs": [
    {
     "name": "stdout",
     "output_type": "stream",
     "text": [
      "/global/project/projectdirs/astro250/doris/halo/yt-dark\n"
     ]
    }
   ],
   "source": [
    "cd /project/projectdirs/astro250/doris/halo/yt-dark/"
   ]
  },
  {
   "cell_type": "code",
   "execution_count": 9,
   "metadata": {
    "collapsed": false
   },
   "outputs": [
    {
     "name": "stdout",
     "output_type": "stream",
     "text": [
      "/global/project/projectdirs/astro250/doris/halo/yt-dark/darksky_catalog\n"
     ]
    }
   ],
   "source": [
    "cd darksky_catalog/"
   ]
  },
  {
   "cell_type": "code",
   "execution_count": 11,
   "metadata": {
    "collapsed": false
   },
   "outputs": [
    {
     "name": "stderr",
     "output_type": "stream",
     "text": [
      "yt : [INFO     ] 2015-10-03 19:26:21,920 Building memmap with offset: 2528 and size 65536\n",
      "yt : [INFO     ] 2015-10-03 19:26:21,965 Building memmap with offset: 1575392 and size 1073741824000\n",
      "yt : [INFO     ] 2015-10-03 19:26:22,003 Calculating time to be 4.342e+17 seconds\n",
      "yt : [INFO     ] 2015-10-03 19:26:22,024 Parameters: current_time              = 4.34205871754e+17\n",
      "yt : [INFO     ] 2015-10-03 19:26:22,025 Parameters: domain_dimensions         = [2 2 2]\n",
      "yt : [INFO     ] 2015-10-03 19:26:22,026 Parameters: domain_left_edge          = [-2530805.25 -3542306.75 -1664170.75]\n",
      "yt : [INFO     ] 2015-10-03 19:26:22,026 Parameters: domain_right_edge         = [-2480805.25 -3492306.75 -1614170.75]\n",
      "yt : [INFO     ] 2015-10-03 19:26:22,027 Parameters: cosmological_simulation   = 1\n",
      "yt : [INFO     ] 2015-10-03 19:26:22,028 Parameters: current_redshift          = 0.0\n",
      "yt : [INFO     ] 2015-10-03 19:26:22,028 Parameters: omega_lambda              = 0.704873782167\n",
      "yt : [INFO     ] 2015-10-03 19:26:22,029 Parameters: omega_matter              = 0.295126217833\n",
      "yt : [INFO     ] 2015-10-03 19:26:22,029 Parameters: hubble_constant           = 0.688062\n",
      "yt : [INFO     ] 2015-10-03 19:26:22,300 Building memmap with offset: 896 and size 1024\n",
      "yt : [INFO     ] 2015-10-03 19:26:22,345 Building memmap with offset: 25472 and size 1073741824\n",
      "yt : [INFO     ] 2015-10-03 19:26:25,922 Allocating for 4.193e+05 particles\n",
      "yt : [INFO     ] 2015-10-03 19:26:26,217 Identified 3.023e+04 octs\n",
      "yt : [INFO     ] 2015-10-03 19:26:26,346 Loading field plugins.\n",
      "yt : [INFO     ] 2015-10-03 19:26:26,347 Loaded angular_momentum (8 new fields)\n",
      "yt : [INFO     ] 2015-10-03 19:26:26,348 Loaded astro (15 new fields)\n",
      "yt : [INFO     ] 2015-10-03 19:26:26,348 Loaded cosmology (22 new fields)\n",
      "yt : [INFO     ] 2015-10-03 19:26:26,349 Loaded fluid (64 new fields)\n",
      "yt : [INFO     ] 2015-10-03 19:26:26,350 Loaded fluid_vector (96 new fields)\n",
      "yt : [INFO     ] 2015-10-03 19:26:26,351 Loaded geometric (112 new fields)\n",
      "yt : [INFO     ] 2015-10-03 19:26:26,351 Loaded local (112 new fields)\n",
      "yt : [INFO     ] 2015-10-03 19:26:26,352 Loaded magnetic_field (120 new fields)\n",
      "yt : [INFO     ] 2015-10-03 19:26:26,352 Loaded my_plugins (120 new fields)\n",
      "yt : [INFO     ] 2015-10-03 19:26:26,353 Loaded species (122 new fields)\n"
     ]
    },
    {
     "ename": "ValueError",
     "evalue": "Buffer dtype mismatch, expected 'float64_t' but got 'float'",
     "output_type": "error",
     "traceback": [
      "\u001b[1;31m---------------------------------------------------------------------------\u001b[0m",
      "\u001b[1;31mValueError\u001b[0m                                Traceback (most recent call last)",
      "\u001b[1;32m<ipython-input-11-a272c4df15c4>\u001b[0m in \u001b[0;36m<module>\u001b[1;34m()\u001b[0m\n\u001b[0;32m     19\u001b[0m \u001b[1;33m\u001b[0m\u001b[0m\n\u001b[0;32m     20\u001b[0m \u001b[0mcbx\u001b[0m \u001b[1;33m=\u001b[0m \u001b[0myt\u001b[0m\u001b[1;33m.\u001b[0m\u001b[0mvisualization\u001b[0m\u001b[1;33m.\u001b[0m\u001b[0mcolor_maps\u001b[0m\u001b[1;33m.\u001b[0m\u001b[0mmcm\u001b[0m\u001b[1;33m.\u001b[0m\u001b[0mRdBu\u001b[0m\u001b[1;33m\u001b[0m\u001b[0m\n\u001b[1;32m---> 21\u001b[1;33m \u001b[0mcol_field\u001b[0m \u001b[1;33m=\u001b[0m \u001b[0mad\u001b[0m\u001b[1;33m[\u001b[0m\u001b[1;34m'particle_velocity_z'\u001b[0m\u001b[1;33m]\u001b[0m\u001b[1;33m.\u001b[0m\u001b[0mastype\u001b[0m\u001b[1;33m(\u001b[0m\u001b[1;34m'float64'\u001b[0m\u001b[1;33m)\u001b[0m\u001b[1;33m\u001b[0m\u001b[0m\n\u001b[0m\u001b[0;32m     22\u001b[0m \u001b[1;33m\u001b[0m\u001b[0m\n\u001b[0;32m     23\u001b[0m \u001b[1;31m# Calculate image coordinates ix and iy based on what your view width is\u001b[0m\u001b[1;33m\u001b[0m\u001b[1;33m\u001b[0m\u001b[0m\n",
      "\u001b[1;32m/global/homes/d/dorislee/mypackages/yt/data_objects/data_containers.pyc\u001b[0m in \u001b[0;36m__getitem__\u001b[1;34m(self, key)\u001b[0m\n\u001b[0;32m    251\u001b[0m                 \u001b[1;32mreturn\u001b[0m \u001b[0mself\u001b[0m\u001b[1;33m.\u001b[0m\u001b[0mfield_data\u001b[0m\u001b[1;33m[\u001b[0m\u001b[0mf\u001b[0m\u001b[1;33m]\u001b[0m\u001b[1;33m\u001b[0m\u001b[0m\n\u001b[0;32m    252\u001b[0m             \u001b[1;32melse\u001b[0m\u001b[1;33m:\u001b[0m\u001b[1;33m\u001b[0m\u001b[0m\n\u001b[1;32m--> 253\u001b[1;33m                 \u001b[0mself\u001b[0m\u001b[1;33m.\u001b[0m\u001b[0mget_data\u001b[0m\u001b[1;33m(\u001b[0m\u001b[0mf\u001b[0m\u001b[1;33m)\u001b[0m\u001b[1;33m\u001b[0m\u001b[0m\n\u001b[0m\u001b[0;32m    254\u001b[0m         \u001b[1;31m# fi.units is the unit expression string. We depend on the registry\u001b[0m\u001b[1;33m\u001b[0m\u001b[1;33m\u001b[0m\u001b[0m\n\u001b[0;32m    255\u001b[0m         \u001b[1;31m# hanging off the dataset to define this unit object.\u001b[0m\u001b[1;33m\u001b[0m\u001b[1;33m\u001b[0m\u001b[0m\n",
      "\u001b[1;32m/global/homes/d/dorislee/mypackages/yt/data_objects/data_containers.pyc\u001b[0m in \u001b[0;36mget_data\u001b[1;34m(self, fields)\u001b[0m\n\u001b[0;32m    641\u001b[0m     \u001b[1;32mdef\u001b[0m \u001b[0mget_data\u001b[0m\u001b[1;33m(\u001b[0m\u001b[0mself\u001b[0m\u001b[1;33m,\u001b[0m \u001b[0mfields\u001b[0m\u001b[1;33m=\u001b[0m\u001b[0mNone\u001b[0m\u001b[1;33m)\u001b[0m\u001b[1;33m:\u001b[0m\u001b[1;33m\u001b[0m\u001b[0m\n\u001b[0;32m    642\u001b[0m         \u001b[1;32mif\u001b[0m \u001b[0mself\u001b[0m\u001b[1;33m.\u001b[0m\u001b[0m_current_chunk\u001b[0m \u001b[1;32mis\u001b[0m \u001b[0mNone\u001b[0m\u001b[1;33m:\u001b[0m\u001b[1;33m\u001b[0m\u001b[0m\n\u001b[1;32m--> 643\u001b[1;33m             \u001b[0mself\u001b[0m\u001b[1;33m.\u001b[0m\u001b[0mindex\u001b[0m\u001b[1;33m.\u001b[0m\u001b[0m_identify_base_chunk\u001b[0m\u001b[1;33m(\u001b[0m\u001b[0mself\u001b[0m\u001b[1;33m)\u001b[0m\u001b[1;33m\u001b[0m\u001b[0m\n\u001b[0m\u001b[0;32m    644\u001b[0m         \u001b[1;32mif\u001b[0m \u001b[0mfields\u001b[0m \u001b[1;32mis\u001b[0m \u001b[0mNone\u001b[0m\u001b[1;33m:\u001b[0m \u001b[1;32mreturn\u001b[0m\u001b[1;33m\u001b[0m\u001b[0m\n\u001b[0;32m    645\u001b[0m         \u001b[0mnfields\u001b[0m \u001b[1;33m=\u001b[0m \u001b[1;33m[\u001b[0m\u001b[1;33m]\u001b[0m\u001b[1;33m\u001b[0m\u001b[0m\n",
      "\u001b[1;32m/global/homes/d/dorislee/mypackages/yt/geometry/particle_geometry_handler.pyc\u001b[0m in \u001b[0;36m_identify_base_chunk\u001b[1;34m(self, dobj)\u001b[0m\n\u001b[0;32m    141\u001b[0m             \u001b[1;32mif\u001b[0m \u001b[0mdata_files\u001b[0m \u001b[1;32mis\u001b[0m \u001b[0mNone\u001b[0m\u001b[1;33m:\u001b[0m\u001b[1;33m\u001b[0m\u001b[0m\n\u001b[0;32m    142\u001b[0m                 data_files = [self.data_files[i] for i in\n\u001b[1;32m--> 143\u001b[1;33m                               self.regions.identify_data_files(dobj.selector)]\n\u001b[0m\u001b[0;32m    144\u001b[0m             \u001b[0mbase_region\u001b[0m \u001b[1;33m=\u001b[0m \u001b[0mgetattr\u001b[0m\u001b[1;33m(\u001b[0m\u001b[0mdobj\u001b[0m\u001b[1;33m,\u001b[0m \u001b[1;34m\"base_region\"\u001b[0m\u001b[1;33m,\u001b[0m \u001b[0mdobj\u001b[0m\u001b[1;33m)\u001b[0m\u001b[1;33m\u001b[0m\u001b[0m\n\u001b[0;32m    145\u001b[0m             \u001b[0moref\u001b[0m \u001b[1;33m=\u001b[0m \u001b[0mself\u001b[0m\u001b[1;33m.\u001b[0m\u001b[0mdataset\u001b[0m\u001b[1;33m.\u001b[0m\u001b[0mover_refine_factor\u001b[0m\u001b[1;33m\u001b[0m\u001b[0m\n",
      "\u001b[1;32m/global/homes/d/dorislee/mypackages/yt/data_objects/data_containers.pyc\u001b[0m in \u001b[0;36mselector\u001b[1;34m(self)\u001b[0m\n\u001b[0;32m    602\u001b[0m             \u001b[0mself\u001b[0m\u001b[1;33m.\u001b[0m\u001b[0m_selector\u001b[0m \u001b[1;33m=\u001b[0m \u001b[0mcompose_selector\u001b[0m\u001b[1;33m(\u001b[0m\u001b[0mself\u001b[0m\u001b[1;33m,\u001b[0m \u001b[0mself\u001b[0m\u001b[1;33m.\u001b[0m\u001b[0m_data_source\u001b[0m\u001b[1;33m.\u001b[0m\u001b[0mselector\u001b[0m\u001b[1;33m,\u001b[0m \u001b[0msclass\u001b[0m\u001b[1;33m(\u001b[0m\u001b[0mself\u001b[0m\u001b[1;33m)\u001b[0m\u001b[1;33m)\u001b[0m\u001b[1;33m\u001b[0m\u001b[0m\n\u001b[0;32m    603\u001b[0m         \u001b[1;32melse\u001b[0m\u001b[1;33m:\u001b[0m\u001b[1;33m\u001b[0m\u001b[0m\n\u001b[1;32m--> 604\u001b[1;33m             \u001b[0mself\u001b[0m\u001b[1;33m.\u001b[0m\u001b[0m_selector\u001b[0m \u001b[1;33m=\u001b[0m \u001b[0msclass\u001b[0m\u001b[1;33m(\u001b[0m\u001b[0mself\u001b[0m\u001b[1;33m)\u001b[0m\u001b[1;33m\u001b[0m\u001b[0m\n\u001b[0m\u001b[0;32m    605\u001b[0m         \u001b[1;32mreturn\u001b[0m \u001b[0mself\u001b[0m\u001b[1;33m.\u001b[0m\u001b[0m_selector\u001b[0m\u001b[1;33m\u001b[0m\u001b[0m\n\u001b[0;32m    606\u001b[0m \u001b[1;33m\u001b[0m\u001b[0m\n",
      "\u001b[1;32myt/geometry/selection_routines.pyx\u001b[0m in \u001b[0;36myt.geometry.selection_routines.SelectorObject.__cinit__ (build/src.linux-x86_64-2.7/yt/geometry/selection_routines.c:5060)\u001b[1;34m()\u001b[0m\n",
      "\u001b[1;31mValueError\u001b[0m: Buffer dtype mismatch, expected 'float64_t' but got 'float'"
     ]
    }
   ],
   "source": [
    "import yt\n",
    "import numpy as np\n",
    "# from enhance import enhance\n",
    "#I added an empty __init__.py so that the modules can detect what's inside the darksky/ directory\n",
    "from darksky_tour.enhance import enhance\n",
    "from yt.utilities.lib.image_utilities import add_rgba_points_to_image\n",
    "from darksky_catalog import darksky\n",
    "\n",
    "# Define a bounding box of 100 Mpc on a side.\n",
    "center = np.array([-2505805.31114929,  -3517306.7572399, -1639170.70554688])\n",
    "width = 50.0e3 # 5 Mpc\n",
    "bbox = np.array([center-width/2, center+width/2])\n",
    "\n",
    "ds = darksky['ds14_a'].load(midx=10, bounding_box=bbox)\n",
    "\n",
    "ad = ds.all_data()\n",
    "Npix = 1024\n",
    "image = np.zeros([Npix, Npix, 4], dtype='float64')\n",
    "\n",
    "cbx = yt.visualization.color_maps.mcm.RdBu\n",
    "col_field = ad['particle_velocity_z'].astype('float64')\n",
    "\n",
    "# Calculate image coordinates ix and iy based on what your view width is\n",
    "ix = (ad['particle_position_x'] - ds.domain_left_edge[0])/ds.domain_width[0]\n",
    "iy = (ad['particle_position_y'] - ds.domain_left_edge[1])/ds.domain_width[1]\n",
    "\n",
    "# Normalize the color field so that it doesn't get maxed out\n",
    "col_field = (col_field - col_field.min()) / (col_field.mean() + 4*col_field.std() - col_field.min())\n",
    "add_rgba_points_to_image(image, ix.astype('float64'), iy.astype('float64'), cbx(col_field))\n",
    "  \n",
    "# # Write out a color-enhanced image\n",
    "# yt.write_bitmap(enhance(image), 'enhanced.png')\n",
    "# print 'Splatted %i particles' % ad['particle_position_x'].size"
   ]
  },
  {
   "cell_type": "code",
   "execution_count": 7,
   "metadata": {
    "collapsed": false
   },
   "outputs": [
    {
     "ename": "ImportError",
     "evalue": "No module named thingking",
     "output_type": "error",
     "traceback": [
      "\u001b[1;31m---------------------------------------------------------------------------\u001b[0m",
      "\u001b[1;31mImportError\u001b[0m                               Traceback (most recent call last)",
      "\u001b[1;32m<ipython-input-7-51c659d98418>\u001b[0m in \u001b[0;36m<module>\u001b[1;34m()\u001b[0m\n\u001b[1;32m----> 1\u001b[1;33m \u001b[1;32mimport\u001b[0m \u001b[0mthingking\u001b[0m\u001b[1;33m\u001b[0m\u001b[0m\n\u001b[0m",
      "\u001b[1;31mImportError\u001b[0m: No module named thingking"
     ]
    }
   ],
   "source": [
    "import thingking"
   ]
  },
  {
   "cell_type": "code",
   "execution_count": 5,
   "metadata": {
    "collapsed": true
   },
   "outputs": [],
   "source": [
    "import theano"
   ]
  },
  {
   "cell_type": "code",
   "execution_count": 6,
   "metadata": {
    "collapsed": false
   },
   "outputs": [
    {
     "ename": "ImportError",
     "evalue": "No module named darksky",
     "output_type": "error",
     "traceback": [
      "\u001b[1;31m---------------------------------------------------------------------------\u001b[0m",
      "\u001b[1;31mImportError\u001b[0m                               Traceback (most recent call last)",
      "\u001b[1;32m<ipython-input-6-2339747c39d0>\u001b[0m in \u001b[0;36m<module>\u001b[1;34m()\u001b[0m\n\u001b[1;32m----> 1\u001b[1;33m \u001b[1;32mimport\u001b[0m \u001b[0mdarksky\u001b[0m\u001b[1;33m\u001b[0m\u001b[0m\n\u001b[0m",
      "\u001b[1;31mImportError\u001b[0m: No module named darksky"
     ]
    }
   ],
   "source": [
    "import darksky"
   ]
  },
  {
   "cell_type": "code",
   "execution_count": null,
   "metadata": {
    "collapsed": true
   },
   "outputs": [],
   "source": []
  }
 ],
 "metadata": {
  "kernelspec": {
   "display_name": "Python 2",
   "language": "python",
   "name": "python2"
  },
  "language_info": {
   "codemirror_mode": {
    "name": "ipython",
    "version": 2
   },
   "file_extension": ".py",
   "mimetype": "text/x-python",
   "name": "python",
   "nbconvert_exporter": "python",
   "pygments_lexer": "ipython2",
   "version": "2.7.10"
  }
 },
 "nbformat": 4,
 "nbformat_minor": 0
}
