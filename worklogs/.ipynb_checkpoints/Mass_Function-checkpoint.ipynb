{
 "cells": [
  {
   "cell_type": "markdown",
   "metadata": {},
   "source": [
    "Plotting the Dark Sky Mass Function\n",
    "-----------------------------------\n",
    "\n",
    "The mass function relates the number of objects in the Universe as a function of their mass.  Here we can use the data from the Dark Sky Simulations to directly calculate this function. This is a very similar script to what was used in our Early Data Release paper.\n",
    "\n",
    "First we use thingking to directly access the histograms of the halo masses. Each histogram corresponds to a separate simulation from the Dark Sky Simulations."
   ]
  },
  {
   "cell_type": "code",
   "execution_count": null,
   "metadata": {
    "cellView": null,
    "collapsed": true,
    "executionInfo": {
     "content": {
      "execution_count": 1,
      "payload": [],
      "status": "ok",
      "user_expressions": {},
      "user_variables": {}
     },
     "timestamp": 1407928516700,
     "user": {
      "color": "#1FA15D",
      "displayName": "Sam Skillman",
      "isAnonymous": false,
      "isMe": true,
      "photoUrl": "//lh5.googleusercontent.com/-Qk7SsiZQ7k0/AAAAAAAAAAI/AAAAAAAAKiU/MMJ-Zr0HJbU/s50-c-k-no/photo.jpg",
      "sessionId": "1de8c230f694de4c",
      "userId": "118412861353504642747"
     },
     "user_tz": 420
    }
   },
   "outputs": [],
   "source": [
    "%matplotlib inline\n",
    "import yt\n",
    "import thingking\n",
    "import numpy as np\n",
    "import matplotlib.pyplot as plt\n",
    "import matplotlib.colors as col\n",
    "import matplotlib.cm as cm\n",
    "import sys, string, math\n",
    "\n",
    "def discrete_cmap(N=8):\n",
    "    \"\"\"create a colormap with N (N<15) discrete colors and register it\"\"\"\n",
    "    # define individual colors as hex values\n",
    "    cpool = [ '#000000', '#ff0000', '#00e000', '#0000ff', '#00e0e0',\n",
    "              '#ff00ff', '#e0e000', '#ffa500', '#ee82ee', '#808080',\n",
    "              '#800000', '#008000', '#000080', '#808000', '#800080' ]\n",
    "    cmap3 = col.ListedColormap(cpool[0:N], 'indexed')\n",
    "    cm.register_cmap(cmap=cmap3)\n",
    "\n",
    "discrete_cmap(5)\n",
    "color=cm.get_cmap('indexed')\n",
    "\n",
    "mf_prefix = \"http://darksky.slac.stanford.edu/data_release/mass_function/\"\n",
    "mfs = [\n",
    "    #\"ds14_a_halos_1.0000.hist50_m200b.sdf\",\n",
    "    \"ds14_a_halos_1.0000.hist8_m200b\",\n",
    "    \"ds14_g_1600_4096_m200b_1.0000.hist8_m200b\",\n",
    "    \"ds14_g_800_4096_m200b_1.0000.hist8_m200b\",\n",
    "    \"ds14_g_200_2048_m200b_1.0000.hist8_m200b\",\n",
    "    \"ds14_g_100_2048_m200b_1.0000.hist8_m200b\",\n",
    "]\n",
    "mfs = [mf_prefix + mf for mf in mfs]"
   ]
  },
  {
   "cell_type": "markdown",
   "metadata": {},
   "source": [
    "Plotting\n",
    "--------\n",
    "\n",
    "Here we create figure where we plot the number of halos greater than a given mass, as a function of that mass.  This is normalized by the volume of the simulation. "
   ]
  },
  {
   "cell_type": "code",
   "execution_count": 1,
   "metadata": {
    "cellView": null,
    "collapsed": false,
    "executionInfo": {
     "content": {
      "execution_count": 2,
      "payload": [],
      "status": "ok",
      "user_expressions": {},
      "user_variables": {}
     },
     "timestamp": 1407928556942,
     "user": {
      "color": "#1FA15D",
      "displayName": "Sam Skillman",
      "isAnonymous": false,
      "isMe": true,
      "photoUrl": "//lh5.googleusercontent.com/-Qk7SsiZQ7k0/AAAAAAAAAAI/AAAAAAAAKiU/MMJ-Zr0HJbU/s50-c-k-no/photo.jpg",
      "sessionId": "1de8c230f694de4c",
      "userId": "118412861353504642747"
     },
     "user_tz": 420
    }
   },
   "outputs": [
    {
     "ename": "NameError",
     "evalue": "name 'plt' is not defined",
     "output_type": "error",
     "traceback": [
      "\u001b[0;31m---------------------------------------------------------------------------\u001b[0m",
      "\u001b[0;31mNameError\u001b[0m                                 Traceback (most recent call last)",
      "\u001b[0;32m<ipython-input-1-cbfe68c9f181>\u001b[0m in \u001b[0;36m<module>\u001b[0;34m()\u001b[0m\n\u001b[1;32m      5\u001b[0m \u001b[0;34m\u001b[0m\u001b[0m\n\u001b[1;32m      6\u001b[0m \u001b[0mi\u001b[0m\u001b[0;34m=\u001b[0m\u001b[0;36m0\u001b[0m\u001b[0;34m\u001b[0m\u001b[0m\n\u001b[0;32m----> 7\u001b[0;31m \u001b[0mfig\u001b[0m \u001b[0;34m=\u001b[0m \u001b[0mplt\u001b[0m\u001b[0;34m.\u001b[0m\u001b[0mfigure\u001b[0m\u001b[0;34m(\u001b[0m\u001b[0mfigsize\u001b[0m\u001b[0;34m=\u001b[0m\u001b[0;34m(\u001b[0m\u001b[0;36m12\u001b[0m\u001b[0;34m,\u001b[0m\u001b[0;36m9\u001b[0m\u001b[0;34m)\u001b[0m\u001b[0;34m)\u001b[0m\u001b[0;34m\u001b[0m\u001b[0m\n\u001b[0m\u001b[1;32m      8\u001b[0m \u001b[0mxx\u001b[0m \u001b[0;34m=\u001b[0m \u001b[0mfig\u001b[0m\u001b[0;34m.\u001b[0m\u001b[0madd_subplot\u001b[0m\u001b[0;34m(\u001b[0m\u001b[0;36m111\u001b[0m\u001b[0;34m)\u001b[0m\u001b[0;34m\u001b[0m\u001b[0m\n\u001b[1;32m      9\u001b[0m \u001b[0mvols\u001b[0m \u001b[0;34m=\u001b[0m \u001b[0mnp\u001b[0m\u001b[0;34m.\u001b[0m\u001b[0marray\u001b[0m\u001b[0;34m(\u001b[0m\u001b[0;34m[\u001b[0m\u001b[0;36m8000.0\u001b[0m\u001b[0;34m,\u001b[0m \u001b[0;36m1600\u001b[0m\u001b[0;34m,\u001b[0m \u001b[0;36m800\u001b[0m\u001b[0;34m,\u001b[0m \u001b[0;36m200\u001b[0m\u001b[0;34m,\u001b[0m \u001b[0;36m100\u001b[0m\u001b[0;34m]\u001b[0m\u001b[0;34m)\u001b[0m\u001b[0;34m\u001b[0m\u001b[0m\n",
      "\u001b[0;31mNameError\u001b[0m: name 'plt' is not defined"
     ]
    }
   ],
   "source": [
    "# Only plot bins with poisson uncertainty of 5%\n",
    "# The DS EDR paper uses sample_cut = 1000\n",
    "sample_cut = (1.0/0.05)**2\n",
    "\n",
    "\n",
    "i=0\n",
    "fig = plt.figure(figsize=(12,9))\n",
    "xx = fig.add_subplot(111)\n",
    "vols = np.array([8000.0, 1600, 800, 200, 100])\n",
    "for aname, vol in zip(mfs, vols):\n",
    "    bin_center_mass, dn_dlnM, sigma, dlogsdlogm, lower_pmass, n, expected, dm, ds, dlnm, dlns = thingking.loadtxt(aname, unpack=True)\n",
    "    tag = aname.split(\"/\")[-1]\n",
    "\n",
    "    mask = (lower_pmass[:] >= 0) * (n[:] >= 0)\n",
    "    if n[mask].sum() > 0:\n",
    "        ngtm = np.cumsum(n[mask][::-1])[::-1]\n",
    "        xx.loglog(bin_center_mass[mask], ngtm/vol**3,\n",
    "                    ms=4, mec='None', color=color(i), label=tag)\n",
    "    i += 1\n",
    "\n",
    "xx.set_title('DS14 Mass Function')\n",
    "xx.set_xscale('log')\n",
    "xx.set_yscale('log')\n",
    "xx.set_xlabel('$M_{200}\\  [M_\\odot/h]$', fontdict={'fontsize':14})\n",
    "xx.set_ylabel('$N(>M) [(Mpc/h)^{-3}]$', fontdict={'fontsize':14})\n",
    "leg = xx.legend(loc=\"lower left\",labelspacing=.5)\n",
    "for t in leg.get_texts():\n",
    "    t.set_fontsize('small')    # the legend text fontsize\n",
    "xx.xaxis.grid(True, which='major')\n",
    "xx.yaxis.grid(True, which='major')\n",
    "plt.show()"
   ]
  },
  {
   "cell_type": "markdown",
   "metadata": {},
   "source": [
    "Plot Relative To Tinker et al. 2008\n",
    "-----------------------------------\n",
    "\n",
    "We can also compare our results to those from Tinker et al 2008. This gives us information as to how adding information from a very large volume simulation like ds14_a changes our view of abundance of the most massive halos."
   ]
  },
  {
   "cell_type": "code",
   "execution_count": null,
   "metadata": {
    "cellView": null,
    "collapsed": false,
    "executionInfo": {
     "content": {
      "execution_count": 3,
      "payload": [],
      "status": "ok",
      "user_expressions": {},
      "user_variables": {}
     },
     "timestamp": 1407538061599,
     "user": {
      "color": "#1FA15D",
      "displayName": "Sam Skillman",
      "isAnonymous": false,
      "isMe": true,
      "photoUrl": "//lh5.googleusercontent.com/-Qk7SsiZQ7k0/AAAAAAAAAAI/AAAAAAAAKiU/MMJ-Zr0HJbU/s50-c-k-no/photo.jpg",
      "sessionId": "4a2c53415b32381c",
      "userId": "118412861353504642747"
     },
     "user_tz": 420
    }
   },
   "outputs": [
    {
     "data": {
      "image/png": "[encoded data removed]",
      "text/plain": [
       "<matplotlib.figure.Figure at 0xea419830>"
      ]
     },
     "metadata": {},
     "output_type": "display_data"
    }
   ],
   "source": [
    "# Only plot bins with poisson uncertainty of 5%\n",
    "# The DS EDR paper uses sample_cut = 1000\n",
    "sample_cut = (1.0/0.05)**2\n",
    "\n",
    "\n",
    "fig = plt.figure(figsize=(12,9))\n",
    "xx = fig.add_subplot(111)\n",
    "\n",
    "i = 0\n",
    "for aname in mfs:\n",
    "    bin_center_mass, dn_dlnM, sigma, dlogsdlogm, lower_pmass, n, expected, dm, ds, dlnm, dlns =         thingking.loadtxt(aname, unpack=True)\n",
    "    tag = aname.split(\"/\")[-1]\n",
    "\n",
    "    mask = (lower_pmass[:] >= 1000) * (n[:] >= sample_cut)\n",
    "    if n[mask].sum() > 0:\n",
    "        err = 1.0/np.sqrt(n[mask])\n",
    "        xx.errorbar(bin_center_mass[mask], n[mask]/expected[mask],\n",
    "                    yerr=err, fmt='s', ms=4, mec='None', color=color(i), label=tag)\n",
    "    mask = (lower_pmass[:] >= 100) * (lower_pmass[:] < 800)\n",
    "    if n[mask].sum() > 0:\n",
    "        err = 1.0/np.sqrt(n[mask])\n",
    "        xx.plot(bin_center_mass[mask], n[mask]/expected[mask],\n",
    "                    linestyle='None', marker='s', ms=4, mec='None', alpha=0.4, color=color(i))\n",
    "\n",
    "    i += 1\n",
    "\n",
    "xx.set_title('DS14 Mass Function Relative To Tinker (2008)')\n",
    "xx.set_xscale('log')\n",
    "#xx.set_yscale('log')\n",
    "xx.set_xlim((1e9,1e16))\n",
    "xx.set_ylim((0.95, 1.15))\n",
    "\n",
    "xx.set_xlabel('$M_{200}\\  [M_\\odot/h]$', fontdict={'fontsize':14})\n",
    "xx.set_ylabel('N(M)/Tinker08', fontdict={'fontsize':14})\n",
    "leg = xx.legend(loc=\"upper left\",labelspacing=.5)\n",
    "for t in leg.get_texts():\n",
    "    t.set_fontsize('small')    # the legend text fontsize\n",
    "xx.xaxis.grid(True, which='major')\n",
    "xx.yaxis.grid(True, which='major')\n",
    "\n",
    "plt.savefig(\"ds14mf.pdf\")\n",
    "plt.savefig(\"ds14mf.png\")\n",
    "plt.show()"
   ]
  }
 ],
 "metadata": {
  "colabVersion": "0.1",
  "kernelspec": {
   "display_name": "Python 2",
   "language": "python",
   "name": "python2"
  },
  "language_info": {
   "codemirror_mode": {
    "name": "ipython",
    "version": 2
   },
   "file_extension": ".py",
   "mimetype": "text/x-python",
   "name": "python",
   "nbconvert_exporter": "python",
   "pygments_lexer": "ipython2",
   "version": "2.7.10"
  }
 },
 "nbformat": 4,
 "nbformat_minor": 0
}
