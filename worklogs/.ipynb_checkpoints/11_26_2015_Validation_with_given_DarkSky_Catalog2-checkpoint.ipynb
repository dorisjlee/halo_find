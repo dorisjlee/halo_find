{
 "cells": [
  {
   "cell_type": "code",
   "execution_count": 1,
   "metadata": {
    "collapsed": false
   },
   "outputs": [
    {
     "name": "stdout",
     "output_type": "stream",
     "text": [
      "Populating the interactive namespace from numpy and matplotlib\n"
     ]
    }
   ],
   "source": [
    "%pylab inline"
   ]
  },
  {
   "cell_type": "code",
   "execution_count": 2,
   "metadata": {
    "collapsed": false
   },
   "outputs": [
    {
     "name": "stdout",
     "output_type": "stream",
     "text": [
      "/global/project/projectdirs/astro250/doris/halo/darksky_catalog\n"
     ]
    }
   ],
   "source": [
    "cd /project/projectdirs/astro250/doris/halo/darksky_catalog/"
   ]
  },
  {
   "cell_type": "code",
   "execution_count": 8,
   "metadata": {
    "collapsed": false
   },
   "outputs": [],
   "source": [
    "import yt\n",
    "yt.funcs.mylog.setLevel(50)\n",
    "from numpy import float64\n",
    "from yt.utilities.lib.image_utilities import add_rgba_points_to_image\n",
    "from darksky_catalog import darksky"
   ]
  },
  {
   "cell_type": "code",
   "execution_count": 9,
   "metadata": {
    "collapsed": false
   },
   "outputs": [
    {
     "name": "stdout",
     "output_type": "stream",
     "text": [
      "[DarkSkySDFHaloCatalog: halos_a_1.0000, DarkSkySDFFullOutput: full_data_a_1.0000, DarkSkyFilteredHaloCatalog: filtered_1e15_a_1.0000]\n"
     ]
    }
   ],
   "source": [
    "# Define a bounding box of 100 Mpc on a side.\n",
    "center = np.array([-2505805.31114929,  -3517306.7572399, -1639170.70554688])\n",
    "width = 50.0e3 # 5 Mpc\n",
    "bbox = np.array([center-width/2, center+width/2])\n",
    "ds = darksky['ds14_a']#['halos_a'].load(bounding_box = \"None\", midx = 7)\n",
    "print ds.datasets\n",
    "halo = darksky['ds14_a']['halos_a_1.0000'].load(bounding_box = \"None\", midx = 7)\n",
    "filtered_catalog =darksky['ds14_a']['filtered_1e15_a_1.0000']"
   ]
  },
  {
   "cell_type": "code",
   "execution_count": 43,
   "metadata": {
    "collapsed": false
   },
   "outputs": [],
   "source": [
    "halo1 =filtered_catalog.get_halo(1)"
   ]
  },
  {
   "cell_type": "code",
   "execution_count": 47,
   "metadata": {
    "collapsed": false
   },
   "outputs": [
    {
     "data": {
      "text/plain": [
       "(5723.8779296875, 3428.587890625, 1464.76171875, -54.433021545410156, 303.76275634765625, 284.65618896484375, 6958901433991168.0, 7998296941395968.0, 5332588445040640.0, 3679918583971840.0, 1242792005206016.0, 2925.483154296875, 1852.9112548828125, 4.8849382400512695, 0.011376106180250645, 0.6857925653457642, 11706423734, -1)"
      ]
     },
     "execution_count": 47,
     "metadata": {},
     "output_type": "execute_result"
    }
   ],
   "source": [
    "halo1"
   ]
  },
  {
   "cell_type": "code",
   "execution_count": 46,
   "metadata": {
    "collapsed": false
   },
   "outputs": [
    {
     "data": {
      "text/plain": [
       "[5723.8779,\n",
       " 3428.5879,\n",
       " 1464.7617,\n",
       " -54.433022,\n",
       " 303.76276,\n",
       " 284.65619,\n",
       " 6.9589014e+15,\n",
       " 7.9982969e+15,\n",
       " 5.3325884e+15,\n",
       " 3.6799186e+15,\n",
       " 1.242792e+15,\n",
       " 2925.4832,\n",
       " 1852.9113,\n",
       " 4.8849382,\n",
       " 0.011376106,\n",
       " 0.68579257,\n",
       " 11706423734,\n",
       " -1]"
      ]
     },
     "execution_count": 46,
     "metadata": {},
     "output_type": "execute_result"
    }
   ],
   "source": [
    "[i for i in halo1]"
   ]
  },
  {
   "cell_type": "code",
   "execution_count": 48,
   "metadata": {
    "collapsed": false
   },
   "outputs": [],
   "source": [
    "N=5 \n",
    "halo_info=[]\n",
    "for i in np.arange(N):\n",
    "    halo_info.append([i for i in filtered_catalog.get_halo(i)])"
   ]
  },
  {
   "cell_type": "code",
   "execution_count": 49,
   "metadata": {
    "collapsed": false
   },
   "outputs": [],
   "source": [
    "halo_info=np.array(halo_info)"
   ]
  },
  {
   "cell_type": "code",
   "execution_count": 50,
   "metadata": {
    "collapsed": false
   },
   "outputs": [
    {
     "data": {
      "text/plain": [
       "(5, 18)"
      ]
     },
     "execution_count": 50,
     "metadata": {},
     "output_type": "execute_result"
    }
   ],
   "source": [
    "np.shape(halo_info)"
   ]
  },
  {
   "cell_type": "raw",
   "metadata": {},
   "source": [
    "dtype=[('x', '<f4'), ('y', '<f4'), ('z', '<f4'), ('vx', '<f4'), ('vy', '<f4'), ('vz', '<f4'), ('mvir', '<f4'), ('m200b', '<f4'), ('m200c', '<f4'), ('m500c', '<f4'), ('m2500c', '<f4'), ('vmax', '<f4'), ('rvmax', '<f4'), ('r200b', '<f4'), ('spin', '<f4'), ('kin_to_pot', '<f4'), ('id', '<i8'), ('pid', '<i8')])"
   ]
  },
  {
   "cell_type": "markdown",
   "metadata": {},
   "source": [
    "Implementing just a very simple centroid position comparison, but first we need to extract the halo information "
   ]
  },
  {
   "cell_type": "code",
   "execution_count": 51,
   "metadata": {
    "collapsed": false
   },
   "outputs": [
    {
     "data": {
      "text/plain": [
       "array([[  6.19035840e+03,   3.03935400e+03,   8.97114502e+02,\n",
       "         -1.96573730e+02,   4.88324890e+02,   1.12213463e+02,\n",
       "          7.62937965e+15,   9.42843676e+15,   5.95546822e+15,\n",
       "          3.88085514e+15,   1.68882745e+15,   3.00293970e+03,\n",
       "          1.38178503e+03,   5.16027832e+00,   6.53334148e-03,\n",
       "          6.80747628e-01,   1.21551388e+10,  -1.00000000e+00],\n",
       "       [  5.72387793e+03,   3.42858789e+03,   1.46476172e+03,\n",
       "         -5.44330215e+01,   3.03762756e+02,   2.84656189e+02,\n",
       "          6.95890143e+15,   7.99829694e+15,   5.33258845e+15,\n",
       "          3.67991858e+15,   1.24279201e+15,   2.92548315e+03,\n",
       "          1.85291125e+03,   4.88493824e+00,   1.13761062e-02,\n",
       "          6.85792565e-01,   1.17064237e+10,  -1.00000000e+00],\n",
       "       [  3.42301611e+03,   3.46608789e+03,   7.57815674e+02,\n",
       "         -2.37683167e+02,  -5.26754028e+02,   3.21555420e+02,\n",
       "          6.68545429e+15,   7.17643294e+15,   5.24402944e+15,\n",
       "          2.05520654e+15,   4.06480604e+14,   2.41854761e+03,\n",
       "          2.31260010e+03,   4.71153879e+00,   2.07673442e-02,\n",
       "          1.20694840e+00,   3.70569489e+09,  -1.00000000e+00],\n",
       "       [  2.57374609e+03,   4.40042969e+03,   2.43858105e+03,\n",
       "          1.70699310e+02,  -1.78683060e+02,  -2.69679474e+02,\n",
       "          5.96741629e+15,   7.11801816e+15,   4.28702322e+15,\n",
       "          2.82974538e+15,   8.59232098e+14,   2.68209595e+03,\n",
       "          1.80438330e+03,   4.69872046e+00,   2.45558117e-02,\n",
       "          6.88151360e-01,   2.25780311e+10,  -1.00000000e+00],\n",
       "       [  3.42193140e+03,   3.46647192e+03,   7.56182434e+02,\n",
       "          1.57484717e+03,   1.46765396e+02,   1.14284106e+03,\n",
       "          6.34207380e+15,   6.79548920e+15,   5.51294701e+15,\n",
       "          3.43114925e+15,   3.06871387e+14,   2.94011157e+03,\n",
       "          2.28346338e+03,   4.62665176e+00,   4.15232033e-02,\n",
       "          8.02814841e-01,   3.70569489e+09,   3.70569489e+09]])"
      ]
     },
     "execution_count": 51,
     "metadata": {},
     "output_type": "execute_result"
    }
   ],
   "source": [
    "halo_info"
   ]
  },
  {
   "cell_type": "code",
   "execution_count": 90,
   "metadata": {
    "collapsed": false
   },
   "outputs": [
    {
     "data": {
      "text/plain": [
       "(2726.94287109375, 3072.8818359375, 641.2564697265625, -68.32164764404297, 105.40631103515625, 122.46353912353516, 927564558237696.0, 1000036024451072.0, 826901060911104.0, 647010919120896.0, 135844958568448.0, 1645.4683837890625, 971.8765869140625, 2.442671775817871, 0.045493233948946, 0.7754606604576111, 3573634164, -1)"
      ]
     },
     "execution_count": 90,
     "metadata": {},
     "output_type": "execute_result"
    }
   ],
   "source": [
    "filtered_catalog.get_halo(136591) #this is  the last halo there is out there "
   ]
  },
  {
   "cell_type": "code",
   "execution_count": 13,
   "metadata": {
    "collapsed": true
   },
   "outputs": [],
   "source": [
    "# N=136591 \n",
    "# halo_info=[]\n",
    "# for i in np.arange(N):\n",
    "#     halo_info.append([i for i in filtered_catalog.get_halo(i)])\n",
    "# np.savetxt(halo_info)"
   ]
  },
  {
   "cell_type": "markdown",
   "metadata": {},
   "source": [
    "is there a way to get the info about which particles are clustered together in which halo? "
   ]
  },
  {
   "cell_type": "code",
   "execution_count": 7,
   "metadata": {
    "collapsed": false
   },
   "outputs": [
    {
     "data": {
      "text/plain": [
       "array([  6.19035840e+03,   3.03935400e+03,   8.97114502e+02,\n",
       "        -1.96573730e+02,   4.88324890e+02,   1.12213463e+02,\n",
       "         7.62937965e+15,   9.42843676e+15,   5.95546822e+15,\n",
       "         3.88085514e+15,   1.68882745e+15,   3.00293970e+03,\n",
       "         1.38178503e+03,   5.16027832e+00,   6.53334148e-03,\n",
       "         6.80747628e-01,   1.21551388e+10,  -1.00000000e+00])"
      ]
     },
     "execution_count": 7,
     "metadata": {},
     "output_type": "execute_result"
    }
   ],
   "source": [
    "data  = np.loadtxt(\"haloinfo.txt\")\n",
    "data[0]"
   ]
  },
  {
   "cell_type": "code",
   "execution_count": 11,
   "metadata": {
    "collapsed": false
   },
   "outputs": [
    {
     "data": {
      "text/plain": [
       "array([[  6.19035840e+03,   3.03935400e+03,   8.97114502e+02,\n",
       "         -1.96573730e+02,   4.88324890e+02,   1.12213463e+02,\n",
       "          7.62937965e+15,   9.42843676e+15,   5.95546822e+15,\n",
       "          3.88085514e+15,   1.68882745e+15,   3.00293970e+03,\n",
       "          1.38178503e+03,   5.16027832e+00,   6.53334148e-03,\n",
       "          6.80747628e-01,   1.21551388e+10,  -1.00000000e+00],\n",
       "       [  5.72387793e+03,   3.42858789e+03,   1.46476172e+03,\n",
       "         -5.44330215e+01,   3.03762756e+02,   2.84656189e+02,\n",
       "          6.95890143e+15,   7.99829694e+15,   5.33258845e+15,\n",
       "          3.67991858e+15,   1.24279201e+15,   2.92548315e+03,\n",
       "          1.85291125e+03,   4.88493824e+00,   1.13761062e-02,\n",
       "          6.85792565e-01,   1.17064237e+10,  -1.00000000e+00],\n",
       "       [  3.42301611e+03,   3.46608789e+03,   7.57815674e+02,\n",
       "         -2.37683167e+02,  -5.26754028e+02,   3.21555420e+02,\n",
       "          6.68545429e+15,   7.17643294e+15,   5.24402944e+15,\n",
       "          2.05520654e+15,   4.06480604e+14,   2.41854761e+03,\n",
       "          2.31260010e+03,   4.71153879e+00,   2.07673442e-02,\n",
       "          1.20694840e+00,   3.70569489e+09,  -1.00000000e+00],\n",
       "       [  2.57374609e+03,   4.40042969e+03,   2.43858105e+03,\n",
       "          1.70699310e+02,  -1.78683060e+02,  -2.69679474e+02,\n",
       "          5.96741629e+15,   7.11801816e+15,   4.28702322e+15,\n",
       "          2.82974538e+15,   8.59232098e+14,   2.68209595e+03,\n",
       "          1.80438330e+03,   4.69872046e+00,   2.45558117e-02,\n",
       "          6.88151360e-01,   2.25780311e+10,  -1.00000000e+00],\n",
       "       [  3.42193140e+03,   3.46647192e+03,   7.56182434e+02,\n",
       "          1.57484717e+03,   1.46765396e+02,   1.14284106e+03,\n",
       "          6.34207380e+15,   6.79548920e+15,   5.51294701e+15,\n",
       "          3.43114925e+15,   3.06871387e+14,   2.94011157e+03,\n",
       "          2.28346338e+03,   4.62665176e+00,   4.15232033e-02,\n",
       "          8.02814841e-01,   3.70569489e+09,   3.70569489e+09],\n",
       "       [  1.95004480e+03,   6.21104883e+03,   1.33278748e+03,\n",
       "         -2.22318153e+01,  -2.82841614e+02,  -8.79796524e+01,\n",
       "          5.95457004e+15,   6.30747784e+15,   5.14149193e+15,\n",
       "          3.32283259e+15,   1.13400666e+15,   2.87846606e+03,\n",
       "          2.18977124e+03,   4.51313686e+00,   1.31282946e-02,\n",
       "          7.67502248e-01,   2.00257873e+10,  -1.00000000e+00],\n",
       "       [  6.19945557e+03,   6.67695898e+03,   4.35103790e+02,\n",
       "          3.28991058e+02,  -2.76727203e+02,   3.21752319e+02,\n",
       "          5.73329010e+15,   6.13293735e+15,   4.46601544e+15,\n",
       "          2.48121066e+15,   5.08159324e+14,   2.68372705e+03,\n",
       "          2.85012280e+03,   4.47111750e+00,   4.76469984e-03,\n",
       "          6.68259799e-01,   2.90330913e+10,  -1.00000000e+00],\n",
       "       [  4.40108789e+03,   3.01445483e+03,   1.29523828e+03,\n",
       "         -1.22038788e+02,  -2.49041901e+02,  -5.45188782e+02,\n",
       "          5.54387238e+15,   5.94699479e+15,   4.43536333e+15,\n",
       "          2.56238984e+15,   7.40411694e+14,   2.67433911e+03,\n",
       "          2.52495215e+03,   4.42546701e+00,   1.84752531e-02,\n",
       "          7.08131254e-01,   1.15532836e+10,  -1.00000000e+00],\n",
       "       [  5.69347266e+03,   1.34188171e+03,   7.27414844e+03,\n",
       "         -6.36407288e+02,  -5.86108521e+02,   4.00898712e+02,\n",
       "          5.55109598e+15,   5.89420320e+15,   4.88717779e+15,\n",
       "          3.36512057e+15,   1.02873567e+15,   2.84381006e+03,\n",
       "          1.67328687e+03,   4.41233301e+00,   2.96443477e-02,\n",
       "          7.33056545e-01,   4.82135934e+10,  -1.00000000e+00],\n",
       "       [  4.38047949e+03,   7.25500439e+03,   2.72970581e+03,\n",
       "         -3.14472717e+02,  -4.85563019e+02,   2.55263885e+02,\n",
       "          5.37218214e+15,   5.89107915e+15,   4.19760549e+15,\n",
       "          2.48093739e+15,   7.85550122e+14,   2.62907520e+03,\n",
       "          2.20876147e+03,   4.41155338e+00,   2.71901153e-02,\n",
       "          6.69889331e-01,   3.25541445e+10,  -1.00000000e+00]])"
      ]
     },
     "execution_count": 11,
     "metadata": {},
     "output_type": "execute_result"
    }
   ],
   "source": [
    "data"
   ]
  },
  {
   "cell_type": "code",
   "execution_count": 12,
   "metadata": {
    "collapsed": false
   },
   "outputs": [
    {
     "data": {
      "text/plain": [
       "(6190.3583984375, 3039.35400390625, 897.114501953125, -196.57373046875, 488.32489013671875, 112.21346282958984, 7629379651764224.0, 9428436762230784.0, 5955468224626688.0, 3880855139254272.0, 1688827445903360.0, 3002.939697265625, 1381.7850341796875, 5.1602783203125, 0.006533341482281685, 0.6807476282119751, 12155138776, -1)"
      ]
     },
     "execution_count": 12,
     "metadata": {},
     "output_type": "execute_result"
    }
   ],
   "source": [
    "filtered_catalog.get_halo(0)"
   ]
  },
  {
   "cell_type": "markdown",
   "metadata": {},
   "source": [
    "ok data agree run script then "
   ]
  },
  {
   "cell_type": "code",
   "execution_count": null,
   "metadata": {
    "collapsed": true
   },
   "outputs": [],
   "source": []
  }
 ],
 "metadata": {
  "kernelspec": {
   "display_name": "Python 2",
   "language": "python",
   "name": "python2"
  },
  "language_info": {
   "codemirror_mode": {
    "name": "ipython",
    "version": 2
   },
   "file_extension": ".py",
   "mimetype": "text/x-python",
   "name": "python",
   "nbconvert_exporter": "python",
   "pygments_lexer": "ipython2",
   "version": "2.7.10"
  }
 },
 "nbformat": 4,
 "nbformat_minor": 0
}
