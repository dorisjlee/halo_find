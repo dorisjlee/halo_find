{
 "cells": [
  {
   "cell_type": "markdown",
   "metadata": {},
   "source": [
    "# M200b mass function on our clustered data "
   ]
  },
  {
   "cell_type": "markdown",
   "metadata": {},
   "source": [
    "each of the particle has a constant mass of 2.75491975e+43 g "
   ]
  },
  {
   "cell_type": "code",
   "execution_count": 1,
   "metadata": {
    "collapsed": false
   },
   "outputs": [
    {
     "name": "stdout",
     "output_type": "stream",
     "text": [
      "Populating the interactive namespace from numpy and matplotlib\n"
     ]
    }
   ],
   "source": [
    "%pylab inline\n",
    "import yt"
   ]
  },
  {
   "cell_type": "code",
   "execution_count": 2,
   "metadata": {
    "collapsed": false
   },
   "outputs": [],
   "source": [
    "centers  = np.loadtxt(\"../scivis2MMBK/centers40000.txt\")\n",
    "labels  = np.loadtxt(\"../scivis2MMBK/labels40000.txt\")\n",
    "density  = np.loadtxt(\"../scivis2MMBK/density40000.txt\")"
   ]
  },
  {
   "cell_type": "code",
   "execution_count": 3,
   "metadata": {
    "collapsed": false
   },
   "outputs": [],
   "source": [
    "# print shape(centers)\n",
    "# print shape(labels)\n",
    "# print shape(density)"
   ]
  },
  {
   "cell_type": "code",
   "execution_count": 4,
   "metadata": {
    "collapsed": true
   },
   "outputs": [],
   "source": [
    "yt.funcs.mylog.setLevel(50)"
   ]
  },
  {
   "cell_type": "code",
   "execution_count": 5,
   "metadata": {
    "collapsed": false
   },
   "outputs": [],
   "source": [
    "ds = yt.load(\"../../ds14_scivis_0128_e4_dt04_1.0000\")\n",
    "ad = ds.all_data()\n",
    "grid= ds.covering_grid(1,[0,0.0,0.0],dims=[32,32,32])\n",
    "pcl_dens =  grid[('deposit','all_cic')]"
   ]
  },
  {
   "cell_type": "code",
   "execution_count": 6,
   "metadata": {
    "collapsed": false
   },
   "outputs": [],
   "source": [
    "mass = ad[('all', 'mass')]\n",
    "particle_mass = ad[('all', 'particle_mass')]"
   ]
  },
  {
   "cell_type": "code",
   "execution_count": 7,
   "metadata": {
    "collapsed": false
   },
   "outputs": [
    {
     "name": "stdout",
     "output_type": "stream",
     "text": [
      "[ True  True  True ...,  True  True  True]\n",
      "[  2.75491975e+43   2.75491975e+43   2.75491975e+43 ...,   2.75491975e+43\n",
      "   2.75491975e+43   2.75491975e+43] g\n"
     ]
    }
   ],
   "source": [
    "print mass == particle_mass\n",
    "print particle_mass"
   ]
  },
  {
   "cell_type": "code",
   "execution_count": 8,
   "metadata": {
    "collapsed": false
   },
   "outputs": [
    {
     "data": {
      "text/plain": [
       "YTArray([  2.75491975e+43]) g"
      ]
     },
     "execution_count": 8,
     "metadata": {},
     "output_type": "execute_result"
    }
   ],
   "source": [
    "np.unique(particle_mass)"
   ]
  },
  {
   "cell_type": "code",
   "execution_count": 9,
   "metadata": {
    "collapsed": false,
    "scrolled": false
   },
   "outputs": [],
   "source": [
    "# ds.field_info"
   ]
  },
  {
   "cell_type": "code",
   "execution_count": 10,
   "metadata": {
    "collapsed": false
   },
   "outputs": [
    {
     "name": "stdout",
     "output_type": "stream",
     "text": [
      "mass per particle :  9530241214.49 Msun/h\n"
     ]
    }
   ],
   "source": [
    "M_sol = 1.9891e33 #grams\n",
    "h = 0.6881 #reduced hubble constant\n",
    "m = 2.75491975e+43 /M_sol*h \n",
    "print \"mass per particle : \", m,\"Msun/h\""
   ]
  },
  {
   "cell_type": "code",
   "execution_count": 11,
   "metadata": {
    "collapsed": false
   },
   "outputs": [
    {
     "data": {
      "text/plain": [
       "9530241214.493992"
      ]
     },
     "execution_count": 11,
     "metadata": {},
     "output_type": "execute_result"
    }
   ],
   "source": [
    "m"
   ]
  },
  {
   "cell_type": "code",
   "execution_count": 12,
   "metadata": {
    "collapsed": true
   },
   "outputs": [],
   "source": [
    "halo_catalog = np.loadtxt(\"../../darksky_catalog/ds14_a_halos_1.0000_filter_1e15.txt\",skiprows=3)\n",
    "N= halo_catalog[:,4]/m #number of particle per halo = m200b/mass per particle"
   ]
  },
  {
   "cell_type": "markdown",
   "metadata": {},
   "source": [
    "$$M_{halo} = N*m $$"
   ]
  },
  {
   "cell_type": "code",
   "execution_count": 13,
   "metadata": {
    "collapsed": false
   },
   "outputs": [],
   "source": [
    "idx_list = []\n",
    "N_list = []\n",
    "for i in np.arange(40000): \n",
    "    idx = np.where(labels==i)[0]\n",
    "    idx_list.append(idx)\n",
    "    N_list.append(len(idx))"
   ]
  },
  {
   "cell_type": "code",
   "execution_count": 14,
   "metadata": {
    "collapsed": true
   },
   "outputs": [],
   "source": [
    "idx = np.array(idx_list)\n",
    "N = np.array(N_list)"
   ]
  },
  {
   "cell_type": "code",
   "execution_count": 15,
   "metadata": {
    "collapsed": false
   },
   "outputs": [],
   "source": [
    "# plt.hist(M_halo)\n",
    "# n, bins, patches  = plt.hist(np.log10(M_halo),log=True,histtype='step')#, normed=True)\n",
    "# plt.xlabel(\"log10(m200b)\",fontsize = 15)\n",
    "# plt.ylabel(\"Count\",fontsize = 15)"
   ]
  },
  {
   "cell_type": "markdown",
   "metadata": {},
   "source": [
    "Actually since this is a smaller subset of the whole simulation, the volume is probably different . According to [scivis website](http://darksky.slac.stanford.edu/scivis2015/data/), this is an 128^3 particle dataset"
   ]
  },
  {
   "cell_type": "code",
   "execution_count": 16,
   "metadata": {
    "collapsed": true
   },
   "outputs": [],
   "source": [
    "# V = 128.**3\n",
    "V = 10240.**3\n",
    "n = N/V\n",
    "m200_b = N*m"
   ]
  },
  {
   "cell_type": "code",
   "execution_count": 17,
   "metadata": {
    "collapsed": false
   },
   "outputs": [
    {
     "data": {
      "text/plain": [
       "(40000,)"
      ]
     },
     "execution_count": 17,
     "metadata": {},
     "output_type": "execute_result"
    }
   ],
   "source": [
    "shape(n)"
   ]
  },
  {
   "cell_type": "markdown",
   "metadata": {},
   "source": [
    "M200b is the mass of the cluster when cluster radius defined as anything above 200*$\\rho_{critical}$, here  we ignored this definiiton "
   ]
  },
  {
   "cell_type": "code",
   "execution_count": 35,
   "metadata": {
    "collapsed": false
   },
   "outputs": [
    {
     "data": {
      "text/plain": [
       "<matplotlib.text.Text at 0x7f7c33f50090>"
      ]
     },
     "execution_count": 35,
     "metadata": {},
     "output_type": "execute_result"
    },
    {
     "data": {
      "image/png": "[encoded data removed]",
      "text/plain": [
       "<matplotlib.figure.Figure at 0x7f7c366e0090>"
      ]
     },
     "metadata": {},
     "output_type": "display_data"
    }
   ],
   "source": [
    "halo_catalog = np.loadtxt(\"../../darksky_catalog/ds14_a_halos_1.0000_filter_1e15.txt\",skiprows=3)\n",
    "m200b= halo_catalog[:,4]\n",
    "n_1, bins, patches  = plt.hist(m200b,log=True,histtype='step',color=\"red\");\n",
    "plt.xlabel(\"m200b\",fontsize = 15)\n",
    "plt.ylabel(\"Count\",fontsize = 15)"
   ]
  },
  {
   "cell_type": "code",
   "execution_count": 51,
   "metadata": {
    "collapsed": false
   },
   "outputs": [
    {
     "data": {
      "text/plain": [
       "[<matplotlib.lines.Line2D at 0x7f7c35046190>]"
      ]
     },
     "execution_count": 51,
     "metadata": {},
     "output_type": "execute_result"
    },
    {
     "data": {
      "image/png": "[encoded data removed]",
      "text/plain": [
       "<matplotlib.figure.Figure at 0x7f7c35674f50>"
      ]
     },
     "metadata": {},
     "output_type": "display_data"
    }
   ],
   "source": [
    "plt.xlabel(\"log10(m200b)\",fontsize = 15)\n",
    "plt.ylabel(\"dN/dlnM \",fontsize = 15)\n",
    "n_2, bins_2, patches  = plt.hist(m200_b,log=True,histtype='step')#, normed=True)\n",
    "ngtm_2 = np.cumsum(n_2[::-1])[::-1]\n",
    "plt.semilogy(bins_2[:-1], ngtm_2/V,label=\"Halo_catalog\",ms=4, mec='None',color=\"blue\")"
   ]
  },
  {
   "cell_type": "code",
   "execution_count": 39,
   "metadata": {
    "collapsed": false
   },
   "outputs": [],
   "source": [
    "import thingking\n",
    "import matplotlib.colors as col\n",
    "import matplotlib.cm as cm\n",
    "import sys, string, math\n",
    "\n",
    "def discrete_cmap(N=8):\n",
    "    \"\"\"create a colormap with N (N<15) discrete colors and register it\"\"\"\n",
    "    # define individual colors as hex values\n",
    "    cpool = [ '#000000', '#ff0000', '#00e000', '#0000ff', '#00e0e0',\n",
    "              '#ff00ff', '#e0e000', '#ffa500', '#ee82ee', '#808080',\n",
    "              '#800000', '#008000', '#000080', '#808000', '#800080' ]\n",
    "    cmap3 = col.ListedColormap(cpool[0:N], 'indexed')\n",
    "    cm.register_cmap(cmap=cmap3)\n",
    "\n",
    "discrete_cmap(5)\n",
    "color=cm.get_cmap('indexed')\n",
    "\n",
    "mf_prefix = \"http://darksky.slac.stanford.edu/data_release/mass_function/\"\n",
    "mfs = [\n",
    "    #\"ds14_a_halos_1.0000.hist50_m200b.sdf\",\n",
    "    \"ds14_a_halos_1.0000.hist8_m200b\",\n",
    "    \"ds14_g_1600_4096_m200b_1.0000.hist8_m200b\",\n",
    "    \"ds14_g_800_4096_m200b_1.0000.hist8_m200b\",\n",
    "    \"ds14_g_200_2048_m200b_1.0000.hist8_m200b\",\n",
    "    \"ds14_g_100_2048_m200b_1.0000.hist8_m200b\",\n",
    "]\n",
    "mfs = [mf_prefix + mf for mf in mfs]"
   ]
  },
  {
   "cell_type": "code",
   "execution_count": 49,
   "metadata": {
    "collapsed": false
   },
   "outputs": [
    {
     "data": {
      "image/png": "[encoded data removed]",
      "text/plain": [
       "<matplotlib.figure.Figure at 0x7f7c34ef6750>"
      ]
     },
     "metadata": {},
     "output_type": "display_data"
    }
   ],
   "source": [
    "V = 10240.**3\n",
    "# V = 8000**3\n",
    "i=0\n",
    "fig = plt.figure(figsize=(12,10))\n",
    "xx = fig.add_subplot(111)\n",
    "vols = np.array([8000.0, 1600, 800, 200, 100])\n",
    "for aname, vol in zip(mfs, vols):\n",
    "    bin_center_mass, dn_dlnM, sigma, dlogsdlogm, lower_pmass, n, expected, dm, ds, dlnm, dlns = thingking.loadtxt(aname, unpack=True)\n",
    "    tag = aname.split(\"/\")[-1]\n",
    "    mask = (lower_pmass[:] >= 0) * (n[:] >= 0)\n",
    "    if n.sum() > 0:\n",
    "        ngtm = np.cumsum(n[mask][::-1])[::-1]\n",
    "        xx.loglog(bin_center_mass[mask], ngtm/vol**3,ms=4, mec='None', color=\"gray\")#,label=\"ds14_histo8* data\")#, label=tag)\n",
    "    i += 1\n",
    "\n",
    "ngtm = np.cumsum(n_1[::-1])[::-1]\n",
    "xx.loglog(bins[:-1], ngtm/V,label=\"Halo_catalog\",ms=4, mec='None',color=\"blue\")\n",
    "ngtm2 = np.cumsum(n_2[::-1])[::-1]\n",
    "xx.loglog(bins[:-1], ngtm2/V,label=\"Clustered results\",ms=4, mec='None',color=\"red\")\n",
    "\n",
    "xx.set_title('DS14 Mass Function',fontsize=15)\n",
    "xx.set_xscale('log')\n",
    "xx.set_yscale('log')\n",
    "xx.set_xlabel('$M_{200}\\  [M_\\odot/h]$', fontdict={'fontsize':14},fontsize=15)\n",
    "xx.set_ylabel('$N(>M) [(Mpc/h)^{-3}]$', fontdict={'fontsize':14},fontsize=15)\n",
    "leg = xx.legend(loc=\"lower left\",labelspacing=.5,fontsize=15)\n",
    "xx.xaxis.grid(True, which='major')\n",
    "xx.yaxis.grid(True, which='major')\n",
    "plt.xlim(1e11,1e16)\n",
    "plt.show()"
   ]
  },
  {
   "cell_type": "code",
   "execution_count": null,
   "metadata": {
    "collapsed": true
   },
   "outputs": [],
   "source": []
  }
 ],
 "metadata": {
  "kernelspec": {
   "display_name": "Python 2",
   "language": "python",
   "name": "python2"
  },
  "language_info": {
   "codemirror_mode": {
    "name": "ipython",
    "version": 2
   },
   "file_extension": ".py",
   "mimetype": "text/x-python",
   "name": "python",
   "nbconvert_exporter": "python",
   "pygments_lexer": "ipython2",
   "version": "2.7.10"
  }
 },
 "nbformat": 4,
 "nbformat_minor": 0
}
