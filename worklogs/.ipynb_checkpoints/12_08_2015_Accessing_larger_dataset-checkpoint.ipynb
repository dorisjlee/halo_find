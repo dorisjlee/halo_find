{
 "cells": [
  {
   "cell_type": "code",
   "execution_count": 2,
   "metadata": {
    "collapsed": false
   },
   "outputs": [
    {
     "name": "stdout",
     "output_type": "stream",
     "text": [
      "Populating the interactive namespace from numpy and matplotlib\n"
     ]
    }
   ],
   "source": [
    "%pylab inline\n",
    "import yt"
   ]
  },
  {
   "cell_type": "code",
   "execution_count": 3,
   "metadata": {
    "collapsed": false
   },
   "outputs": [
    {
     "data": {
      "text/plain": [
       "1073741824000"
      ]
     },
     "execution_count": 3,
     "metadata": {},
     "output_type": "execute_result"
    }
   ],
   "source": [
    "10240**3"
   ]
  },
  {
   "cell_type": "code",
   "execution_count": 4,
   "metadata": {
    "collapsed": false
   },
   "outputs": [
    {
     "name": "stderr",
     "output_type": "stream",
     "text": [
      "yt : [INFO     ] 2015-12-09 03:46:20,910 Building memmap with offset: 2528 and size 65536\n",
      "yt : [INFO     ] 2015-12-09 03:46:21,006 Building memmap with offset: 1575392 and size 1073741824000\n"
     ]
    }
   ],
   "source": [
    "from yt.utilities.sdf import load_sdf\n",
    "path = 'http://darksky.slac.stanford.edu/simulations/ds14_a/ds14_a_1.0000'\n",
    "sdf = load_sdf(path)"
   ]
  },
  {
   "cell_type": "markdown",
   "metadata": {},
   "source": [
    "lets try doing 1 billion particles"
   ]
  },
  {
   "cell_type": "code",
   "execution_count": 5,
   "metadata": {
    "collapsed": false
   },
   "outputs": [
    {
     "data": {
      "text/plain": [
       "<SDFRead Object> file: http://darksky.slac.stanford.edu/simulations/ds14_a/ds14_a_1.0000\n",
       "parameters: \n",
       "\tepsilon_mscale: 30.0\n",
       "\tvelocity_unit: kpc/Gyr\n",
       "\tmass_unit_cgs: 1.98892e+43\n",
       "\tredshift: 0.0\n",
       "\tmorton_order: 1\n",
       "\tsubsample_fraction: 0.0\n",
       "\tRx: 5813429.5\n",
       "\tRy: 5813429.5\n",
       "\tRz: 5813429.5\n",
       "\tcompiled_version_nln: 2HOT_nln-1.1.0-17-gbb2d669\n",
       "\tGnewt: 44986.5710532\n",
       "\tNy: 0\n",
       "\tNz: 0\n",
       "\tfrac_tolerance: 1.00000001e-07\n",
       "\tw0_fld: -1.0\n",
       "\tOmega0_fld: 0.0\n",
       "\tOmega0_g: 5.22354488431e-05\n",
       "\tcompiled_date_nln: Apr 19 2014\n",
       "\tOmega0_ur: 3.60636801276e-05\n",
       "\tOmega0_ncdm_tot: 0.0\n",
       "\tcompiled_time_2HOT: 08:34:13\n",
       "\tnpart: 1073741824000\n",
       "\tmass_unit: 1e10 Msun\n",
       "\ttime_unit_cgs: 3.1558149984e+16\n",
       "\tcheckpoint: 0\n",
       "\tversion: 2\n",
       "\tversion_2HOT: 2\n",
       "\tOmega0_lambda: 0.704873782167\n",
       "\tpe: 0.0\n",
       "\tunits_2HOT: 2\n",
       "\theader_offset: 2528\n",
       "\tfrac_tolerance0: 0.1\n",
       "\ttolerance: 7.76672778e-07\n",
       "\tlength_unit: kpc\n",
       "\tOmega0_b: 0.0467643199503\n",
       "\th_100: 0.688062\n",
       "\tR0: 5813429.5\n",
       "\tdo_periodic: 1\n",
       "\tcompiled_version_2HOT: 2HOT-1.1.0-49-g800b2b8-dirty\n",
       "\tH: 0.0703689378198\n",
       "\tcompiled_time_nln: 06:34:59\n",
       "\tforce_smoothing_type: 4\n",
       "\tOmega0_m: 0.295037918704\n",
       "\tOmega0_r: 8.82991289707e-05\n",
       "\tepsilon0: 53.450211\n",
       "\tsha1_chunks: 65536\n",
       "\tgrowthfac: 1.0\n",
       "\ttime_unit: Gyr\n",
       "\tL0: 11626859.0\n",
       "\tOmega0_cdm: 0.248273598754\n",
       "\tparticle_mass: 5.6749434\n",
       "\tOmega0: 1.0\n",
       "\tbyteorder: 0x78563412\n",
       "\ta: 1.0\n",
       "\tNx: 0\n",
       "\thubble: 0.0703689378198\n",
       "\tmorton_xyz: 1\n",
       "\tnpart_orig: 1073741824000\n",
       "\tke: 1.4368449254e+18\n",
       "\tH0: 0.0703689378198\n",
       "\tsubsample_random_seed: 0\n",
       "\tepsilon_scaled: 53.450211\n",
       "\theader_len: 2528\n",
       "\titer: 543\n",
       "\tcompiled_date_2HOT: Jun 11 2014\n",
       "\tic_Nmesh: 10240\n",
       "\twa_fld: 0.0\n",
       "\ttpos: 13.758914004\n",
       "\tvelfac: 0.511713103597\n",
       "\ttvel: 13.758914004\n",
       "\tlength_unit_cgs: 3.08567802e+21\n",
       "\tgrowthfac_tvel: 1.0\n",
       "\tic_growthfac: 0.0139497535101\n",
       "\ta_tvel: 1.0\n",
       "arrays: \n",
       "\tident[1073741824000]\n",
       "\ty[1073741824000]\n",
       "\tx[1073741824000]\n",
       "\tvx[1073741824000]\n",
       "\tvy[1073741824000]\n",
       "\tvz[1073741824000]\n",
       "\tz[1073741824000]\n",
       "\tsha1[20][65536]\n",
       "\tsha1_len[65536]\n"
      ]
     },
     "execution_count": 5,
     "metadata": {},
     "output_type": "execute_result"
    }
   ],
   "source": [
    "sdf"
   ]
  },
  {
   "cell_type": "code",
   "execution_count": 6,
   "metadata": {
    "collapsed": false
   },
   "outputs": [
    {
     "data": {
      "text/plain": [
       "[('ident', <yt.utilities.sdf.RedirectArray at 0x7fb15aae5590>),\n",
       " ('y', <yt.utilities.sdf.RedirectArray at 0x7fb15aae5a90>),\n",
       " ('x', <yt.utilities.sdf.RedirectArray at 0x7fb15a471f50>),\n",
       " ('vx', <yt.utilities.sdf.RedirectArray at 0x7fb15aae5b50>),\n",
       " ('vy', <yt.utilities.sdf.RedirectArray at 0x7fb15aae5cd0>),\n",
       " ('vz', <yt.utilities.sdf.RedirectArray at 0x7fb15aae5e90>),\n",
       " ('z', <yt.utilities.sdf.RedirectArray at 0x7fb15aae5a50>),\n",
       " ('sha1[20]', <yt.utilities.sdf.RedirectArray at 0x7fb15a471e90>),\n",
       " ('sha1_len', <yt.utilities.sdf.RedirectArray at 0x7fb15a471f90>)]"
      ]
     },
     "execution_count": 6,
     "metadata": {},
     "output_type": "execute_result"
    }
   ],
   "source": [
    "sdf.items()"
   ]
  },
  {
   "cell_type": "code",
   "execution_count": 8,
   "metadata": {
    "collapsed": false
   },
   "outputs": [],
   "source": [
    "num =0 # particle identifier\n",
    "x = sdf['x'][num]"
   ]
  },
  {
   "cell_type": "code",
   "execution_count": 9,
   "metadata": {
    "collapsed": false
   },
   "outputs": [
    {
     "name": "stdout",
     "output_type": "stream",
     "text": [
      "54044481104192957\n"
     ]
    }
   ],
   "source": [
    "print sdf['ident'][num]"
   ]
  },
  {
   "cell_type": "markdown",
   "metadata": {},
   "source": [
    "okay so this is definitely not in order...so storing the index is also important "
   ]
  },
  {
   "cell_type": "code",
   "execution_count": 7,
   "metadata": {
    "collapsed": false,
    "scrolled": false
   },
   "outputs": [],
   "source": [
    "# sdf['x'][:1000000000]"
   ]
  },
  {
   "cell_type": "code",
   "execution_count": null,
   "metadata": {
    "collapsed": true
   },
   "outputs": [],
   "source": [
    "thingking.loadtxt"
   ]
  },
  {
   "cell_type": "markdown",
   "metadata": {
    "collapsed": true
   },
   "source": [
    "testing this on 1000 particle works "
   ]
  },
  {
   "cell_type": "markdown",
   "metadata": {},
   "source": [
    "2M for max peak k took about 10hrs "
   ]
  },
  {
   "cell_type": "markdown",
   "metadata": {},
   "source": [
    "\n",
    "Now I'm trying to access the first 1 billion particles to get the larger dataset to cluster. I'm using \n",
    "I run into an issue  maximum entries exceeded with darksky.slac.stanford.edu\n",
    "\n",
    "I ran into the same issue when I was trying to access halo information from the catalog using thinking, but in that case I was able to just download the filtered halo catalog and read it locally, but I can not do that  now with the 31TB  ds14_a_1.0000 file...."
   ]
  },
  {
   "cell_type": "raw",
   "metadata": {},
   "source": [
    "ascfile = HTTPArray(self.header)\n",
    "  File \"/global/homes/d/dorislee/anaconda/lib/python2.7/site-packages/thingking/httpmmap.py\", line 30, in __init__\n",
    "    self.pcu = PageCacheURL(base_url, page_size=page_size)\n",
    "  File \"/global/homes/d/dorislee/anaconda/lib/python2.7/site-packages/thingking/arbitrary_page.py\", line 33, in __init__\n",
    "    r = requests.options(base_url)\n",
    "  File \"/global/homes/d/dorislee/anaconda/lib/python2.7/site-packages/requests/api.py\", line 82, in options\n",
    "    return request('options', url, **kwargs)\n",
    "  File \"/global/homes/d/dorislee/anaconda/lib/python2.7/site-packages/requests/api.py\", line 50, in request\n",
    "    response = session.request(method=method, url=url, **kwargs)\n",
    "  File \"/global/homes/d/dorislee/anaconda/lib/python2.7/site-packages/requests/sessions.py\", line 468, in request\n",
    "    resp = self.send(prep, **send_kwargs)\n",
    "  File \"/global/homes/d/dorislee/anaconda/lib/python2.7/site-packages/requests/sessions.py\", line 576, in send\n",
    "    r = adapter.send(request, **kwargs)\n",
    "  File \"/global/homes/d/dorislee/anaconda/lib/python2.7/site-packages/requests/adapters.py\", line 423, in send\n",
    "    raise ConnectionError(e, request=request)\n",
    "requests.exceptions.ConnectionError: HTTPConnectionPool(host='darksky.slac.stanford.edu', port=80): Max retries exceeded with url: /simulations/ds14_a/ds14_a_1.0000 (Caused by NewConnectionError('<requests.packages.urllib3.connection.HTTPConnection object at 0x2aaafcef76d0>: Failed to establish a new connection: [Errno 110] Connection timed out',))"
   ]
  },
  {
   "cell_type": "markdown",
   "metadata": {
    "collapsed": true
   },
   "source": [
    "I noticed that the job crashed even only after a few seconds, but this is okay on the login node, except the overflow error , array too large. I suspect this has something to do with url socket of login node on Hopper, I had the same issue when dealing with RC3 queries "
   ]
  },
  {
   "cell_type": "markdown",
   "metadata": {},
   "source": [
    "This is for N = 100000000"
   ]
  },
  {
   "cell_type": "raw",
   "metadata": {},
   "source": [
    "dorislee@cori01:/project/projectdirs/astro250/doris/halo/halo_find/larger_ds> python mbk.py 100\n",
    "100 clusters test\n",
    "Loading Particle Data\n",
    "Traceback (most recent call last):\n",
    "  File \"mbk.py\", line 17, in <module>\n",
    "    x = data['x'][:num]\n",
    "  File \"/global/homes/d/dorislee/anaconda/lib/python2.7/site-packages/yt/utilities/sdf.py\", line 213, in __getitem__\n",
    "    return self.http_array[sl][self.key]\n",
    "  File \"/global/homes/d/dorislee/anaconda/lib/python2.7/site-packages/thingking/httpmmap.py\", line 69, in __getitem__\n",
    "    raw_data = self.pcu[byte_start, byte_end]\n",
    "  File \"/global/homes/d/dorislee/anaconda/lib/python2.7/site-packages/thingking/arbitrary_page.py\", line 71, in __getitem__\n",
    "    return output.read()\n",
    "OverflowError: length too large"
   ]
  },
  {
   "cell_type": "markdown",
   "metadata": {},
   "source": [
    "printing memory of array "
   ]
  },
  {
   "cell_type": "raw",
   "metadata": {},
   "source": [
    "100 clusters test\n",
    "Loading 10000000 Particles\n",
    "40000000"
   ]
  },
  {
   "cell_type": "markdown",
   "metadata": {},
   "source": [
    "40000000 byte = 40000 KB that's not bad at all! "
   ]
  },
  {
   "cell_type": "code",
   "execution_count": 2,
   "metadata": {
    "collapsed": false
   },
   "outputs": [
    {
     "data": {
      "text/plain": [
       "0.004"
      ]
     },
     "execution_count": 2,
     "metadata": {},
     "output_type": "execute_result"
    }
   ],
   "source": [
    "40000/10000000."
   ]
  },
  {
   "cell_type": "markdown",
   "metadata": {},
   "source": [
    "0.004KB per particle per x value "
   ]
  },
  {
   "cell_type": "raw",
   "metadata": {},
   "source": [
    "Loading 10000 Particles\n",
    "40000"
   ]
  },
  {
   "cell_type": "code",
   "execution_count": null,
   "metadata": {
    "collapsed": true
   },
   "outputs": [],
   "source": [
    "40KB"
   ]
  },
  {
   "cell_type": "markdown",
   "metadata": {},
   "source": [
    "Okay now trying on cori debug 100000000"
   ]
  },
  {
   "cell_type": "markdown",
   "metadata": {},
   "source": [
    "Also trying 1Billion on cori debug "
   ]
  },
  {
   "cell_type": "code",
   "execution_count": null,
   "metadata": {
    "collapsed": true
   },
   "outputs": [],
   "source": []
  }
 ],
 "metadata": {
  "kernelspec": {
   "display_name": "Python 2",
   "language": "python",
   "name": "python2"
  },
  "language_info": {
   "codemirror_mode": {
    "name": "ipython",
    "version": 2
   },
   "file_extension": ".py",
   "mimetype": "text/x-python",
   "name": "python",
   "nbconvert_exporter": "python",
   "pygments_lexer": "ipython2",
   "version": "2.7.10"
  }
 },
 "nbformat": 4,
 "nbformat_minor": 0
}
