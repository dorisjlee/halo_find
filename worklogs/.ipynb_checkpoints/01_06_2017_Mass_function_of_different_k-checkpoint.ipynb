{
 "cells": [
  {
   "cell_type": "code",
   "execution_count": 1,
   "metadata": {
    "collapsed": false
   },
   "outputs": [
    {
     "name": "stdout",
     "output_type": "stream",
     "text": [
      "Populating the interactive namespace from numpy and matplotlib\n"
     ]
    }
   ],
   "source": [
    "%pylab inline\n",
    "import yt\n",
    "import glob\n",
    "import os"
   ]
  },
  {
   "cell_type": "code",
   "execution_count": 4,
   "metadata": {
    "collapsed": false
   },
   "outputs": [
    {
     "name": "stdout",
     "output_type": "stream",
     "text": [
      "[10000 20000 30000 31000 32000 33000 34000 35000 36000 37000 38000 39000\n",
      " 40000 41000 42000 43000 44000 45000 46000 47000 48000 49000 50000 55000\n",
      " 60000]\n"
     ]
    }
   ],
   "source": [
    "k_list = []\n",
    "os.chdir(\"../scivis2MMBK/\")\n",
    "for k in glob.glob(\"*.out\"):\n",
    "    try:\n",
    "        k_list.append(int(k.split('.')[0][:-7]))\n",
    "    except ValueError:\n",
    "        continue\n",
    "k_list = sort(list(set(k_list)))\n",
    "print k_list "
   ]
  },
  {
   "cell_type": "code",
   "execution_count": 2,
   "metadata": {
    "collapsed": false
   },
   "outputs": [],
   "source": [
    "import thingking\n",
    "import matplotlib.colors as col\n",
    "import matplotlib.cm as cm\n",
    "import sys, string, math\n",
    "\n",
    "def discrete_cmap(N=8):\n",
    "    \"\"\"create a colormap with N (N<15) discrete colors and register it\"\"\"\n",
    "    # define individual colors as hex values\n",
    "    cpool = [ '#000000', '#ff0000', '#00e000', '#0000ff', '#00e0e0',\n",
    "              '#ff00ff', '#e0e000', '#ffa500', '#ee82ee', '#808080',\n",
    "              '#800000', '#008000', '#000080', '#808000', '#800080' ]\n",
    "    cmap3 = col.ListedColormap(cpool[0:N], 'indexed')\n",
    "    cm.register_cmap(cmap=cmap3)\n",
    "\n",
    "discrete_cmap(5)\n",
    "color=cm.get_cmap('indexed')"
   ]
  },
  {
   "cell_type": "code",
   "execution_count": 3,
   "metadata": {
    "collapsed": false
   },
   "outputs": [
    {
     "data": {
      "image/png": "[encoded data removed]",
      "text/plain": [
       "<matplotlib.figure.Figure at 0x7f0db88b97d0>"
      ]
     },
     "metadata": {},
     "output_type": "display_data"
    }
   ],
   "source": [
    "mf_prefix = \"http://darksky.slac.stanford.edu/data_release/mass_function/\"\n",
    "mfs = [\n",
    "    \"ds14_a_halos_1.0000.hist8_m200b\"#,\n",
    "]\n",
    "mfs = [mf_prefix + mf for mf in mfs]\n",
    "halo_catalog = np.loadtxt(\"../../darksky_catalog/ds14_a_halos_1.0000_filter_1e15.txt\",skiprows=3)\n",
    "m=3.9e10\n",
    "N= halo_catalog[:,4]/m #number of particle per halo = m200b/mass per particle\n",
    "m200b= halo_catalog[:,4]\n",
    "n_1, bins, patches  = plt.hist(m200b)#,log=True)#,histtype='step',color=\"red\");"
   ]
  },
  {
   "cell_type": "markdown",
   "metadata": {
    "collapsed": true
   },
   "source": [
    "### Adding in real data"
   ]
  },
  {
   "cell_type": "code",
   "execution_count": 8,
   "metadata": {
    "collapsed": true
   },
   "outputs": [],
   "source": [
    "# # for k in k_list\n",
    "# centers  = np.loadtxt(\"../scivis2MMBK/centers40000.txt\")\n",
    "# labels  = np.loadtxt(\"../scivis2MMBK/labels40000.txt\")\n",
    "# density  = np.loadtxt(\"../scivis2MMBK/density40000.txt\")"
   ]
  },
  {
   "cell_type": "code",
   "execution_count": 9,
   "metadata": {
    "collapsed": false
   },
   "outputs": [
    {
     "data": {
      "text/plain": [
       "u'/global/project/projectdirs/astro250/doris/halo/halo_find/scivis2MMBK'"
      ]
     },
     "execution_count": 9,
     "metadata": {},
     "output_type": "execute_result"
    }
   ],
   "source": [
    "pwd"
   ]
  },
  {
   "cell_type": "code",
   "execution_count": 17,
   "metadata": {
    "collapsed": false
   },
   "outputs": [],
   "source": [
    "k=4000\n",
    "centers  = np.loadtxt(\"../../../clustered_data/centers{}.txt\".format(k))\n",
    "labels  = np.loadtxt(\"../../../clustered_data/labels{}.txt\".format(k))\n",
    "density  = np.loadtxt(\"../../../clustered_data/density{}.txt\".format(k))\n",
    "idx_list = []\n",
    "N_list = []\n",
    "for i in np.arange(k): \n",
    "    idx = np.where(labels==i)[0]\n",
    "    idx_list.append(idx)\n",
    "    N_list.append(len(idx))\n",
    "idx = np.array(idx_list)\n",
    "N = np.array(N_list)"
   ]
  },
  {
   "cell_type": "code",
   "execution_count": 35,
   "metadata": {
    "collapsed": false
   },
   "outputs": [
    {
     "data": {
      "text/plain": [
       "(array([  3.73800000e+03,   1.80000000e+02,   4.60000000e+01,\n",
       "          2.20000000e+01,   7.00000000e+00,   2.00000000e+00,\n",
       "          1.00000000e+00,   3.00000000e+00,   0.00000000e+00,\n",
       "          1.00000000e+00]),\n",
       " array([  0.00000000e+00,   5.29737000e+13,   1.05947400e+14,\n",
       "          1.58921100e+14,   2.11894800e+14,   2.64868500e+14,\n",
       "          3.17842200e+14,   3.70815900e+14,   4.23789600e+14,\n",
       "          4.76763300e+14,   5.29737000e+14]),\n",
       " <a list of 10 Patch objects>)"
      ]
     },
     "execution_count": 35,
     "metadata": {},
     "output_type": "execute_result"
    },
    {
     "data": {
      "image/png": "[encoded data removed]",
      "text/plain": [
       "<matplotlib.figure.Figure at 0x7fb2d8c39a90>"
      ]
     },
     "metadata": {},
     "output_type": "display_data"
    }
   ],
   "source": [
    "# xmin = min(m200b_2)\n",
    "# xmax = max(m200b_2)\n",
    "# step = 1000\n",
    "# n_2, bins_2 = np.histogram(m200b_2)\n",
    "#, bins=bins_2.size)"
   ]
  },
  {
   "cell_type": "code",
   "execution_count": 38,
   "metadata": {
    "collapsed": false
   },
   "outputs": [
    {
     "name": "stdout",
     "output_type": "stream",
     "text": [
      "[ True  True  True  True  True  True  True  True  True  True]\n",
      "[ True  True  True  True  True  True  True  True  True  True  True]\n"
     ]
    },
    {
     "data": {
      "image/png": "[encoded data removed]",
      "text/plain": [
       "<matplotlib.figure.Figure at 0x7fb2d8b02f50>"
      ]
     },
     "metadata": {},
     "output_type": "display_data"
    }
   ],
   "source": [
    "m200b_2 =N*m\n",
    "n22,bin22,patch = plt.hist(m200b_2)\n",
    "n_2, bins_2  = np.histogram(m200b_2)\n",
    "print n_2 == n22\n",
    "print bins_2==bin22"
   ]
  },
  {
   "cell_type": "code",
   "execution_count": 30,
   "metadata": {
    "collapsed": false
   },
   "outputs": [],
   "source": [
    "# m200b_2 =N*m\n",
    "# n_2, bins_2, patches  = plt.hist(m200b_2,bins=)\n",
    "# print n_2"
   ]
  },
  {
   "cell_type": "code",
   "execution_count": 47,
   "metadata": {
    "collapsed": false
   },
   "outputs": [
    {
     "name": "stdout",
     "output_type": "stream",
     "text": [
      "[ True  True  True  True  True  True  True  True  True  True]\n",
      "[ True  True  True  True  True  True  True  True  True  True  True]\n"
     ]
    },
    {
     "data": {
      "image/png": "[encoded data removed]",
      "text/plain": [
       "<matplotlib.figure.Figure at 0x7fb213a2de10>"
      ]
     },
     "metadata": {},
     "output_type": "display_data"
    }
   ],
   "source": [
    "n22, bins22, patches  = plt.hist(m200b_2)\n",
    "n_2, bins_2 = np.histogram(m200b_2)\n",
    "print n22==n_2\n",
    "print bins22==bins_2"
   ]
  },
  {
   "cell_type": "code",
   "execution_count": 23,
   "metadata": {
    "collapsed": false
   },
   "outputs": [
    {
     "data": {
      "text/plain": [
       "u'/global/project/projectdirs/astro250/doris/halo/halo_find/worklogs'"
      ]
     },
     "execution_count": 23,
     "metadata": {},
     "output_type": "execute_result"
    }
   ],
   "source": [
    "pwd"
   ]
  },
  {
   "cell_type": "code",
   "execution_count": null,
   "metadata": {
    "collapsed": false
   },
   "outputs": [],
   "source": [
    "V = 8000.**3\n",
    "i=0\n",
    "fig = plt.figure(figsize=(12,10))\n",
    "xx = fig.add_subplot(111)\n",
    "vols = np.array([8000.0, 1600, 800, 200, 100])\n",
    "for aname, vol in zip(mfs, vols):\n",
    "    bin_center_mass, dn_dlnM, sigma, dlogsdlogm, lower_pmass, n, expected, dm, ds, dlnm, dlns = thingking.loadtxt(aname, unpack=True)\n",
    "    tag = aname.split(\"/\")[-1]\n",
    "    mask = (lower_pmass[:] >= 0) * (n[:] >= 0)\n",
    "    if n.sum() > 0:\n",
    "        ngtm = np.cumsum(n[mask][::-1])[::-1]\n",
    "        xx.loglog(bin_center_mass[mask], ngtm/vol**3,ms=4, mec='None', color=\"gray\",label=tag)#, label=tag)\n",
    "    i += 1\n",
    "\n",
    "ngtm = np.cumsum(n_1[::-1])[::-1]\n",
    "a=1.1\n",
    "xx.loglog(bins[:-1]*a, ngtm/V,label=\"Halo_catalog\",ms=4, mec='None',color=\"blue\")\n",
    "\n",
    "\n",
    "# k=4000\n",
    "for k in [100,1000,4000,40000]:\n",
    "    centers  = np.loadtxt(\"../scivis2MMBK/centers{}.txt\".format(k))\n",
    "    labels  = np.loadtxt(\"../scivis2MMBK/labels{}.txt\".format(k))\n",
    "    density  = np.loadtxt(\"../scivis2MMBK/density{}.txt\".format(k))\n",
    "    idx_list = []\n",
    "    N_list = []\n",
    "    for i in np.arange(k): \n",
    "        idx = np.where(labels==i)[0]\n",
    "        idx_list.append(idx)\n",
    "        N_list.append(len(idx))\n",
    "    idx = np.array(idx_list)\n",
    "    N = np.array(N_list)\n",
    "    m200b_2 =N*m\n",
    "    n_2, bins_2 = np.histogram(m200b_2)\n",
    "    ngtm2 = np.cumsum(n_2[::-1])[::-1]\n",
    "    xx.loglog(bins_2[:-1], ngtm2/V,label=\"Clustered results (k={})\".format(k),ms=4, mec='None',color=\"red\")\n",
    "    # n22, bins22, patches  = plt.hist(m200b_2)\n",
    "    # ngtm22 = np.cumsum(n22[::-1])[::-1]\n",
    "    # xx.loglog(bins22[:-1], ngtm22/V,label=\"Clustered results2 (k={})\".format(k),ms=4, mec='None',color=\"cyan\")\n",
    "    xx.set_title('DS14 Mass Function',fontsize=15)\n",
    "    xx.set_xscale('log')\n",
    "    xx.set_yscale('log')\n",
    "    xx.set_xlabel('$M_{200}\\  [M_\\odot/h]$', fontdict={'fontsize':14},fontsize=15)\n",
    "    xx.set_ylabel('$N(>M) [(Mpc/h)^{-3}]$', fontdict={'fontsize':14},fontsize=15)\n",
    "    leg = xx.legend(loc=\"upper left\",labelspacing=.5,fontsize=15)\n",
    "    xx.xaxis.grid(True, which='major')\n",
    "    xx.yaxis.grid(True, which='major')\n",
    "    plt.xlim(1e11,1e16)\n",
    "    plt.show()"
   ]
  },
  {
   "cell_type": "code",
   "execution_count": 21,
   "metadata": {
    "collapsed": false
   },
   "outputs": [
    {
     "name": "stdout",
     "output_type": "stream",
     "text": [
      "[ True  True  True  True  True  True  True  True  True  True]\n",
      "[ True  True  True  True  True  True  True  True  True  True  True]\n"
     ]
    }
   ],
   "source": [
    "print n22==n_2\n",
    "print bins22==bins_2"
   ]
  },
  {
   "cell_type": "code",
   "execution_count": 12,
   "metadata": {
    "collapsed": false
   },
   "outputs": [
    {
     "data": {
      "text/plain": [
       "True"
      ]
     },
     "execution_count": 12,
     "metadata": {},
     "output_type": "execute_result"
    }
   ],
   "source": [
    "len(n22)==len(n_2)"
   ]
  },
  {
   "cell_type": "code",
   "execution_count": 13,
   "metadata": {
    "collapsed": false
   },
   "outputs": [
    {
     "data": {
      "text/plain": [
       "True"
      ]
     },
     "execution_count": 13,
     "metadata": {},
     "output_type": "execute_result"
    }
   ],
   "source": [
    "len(bins22)==len(bins_2)"
   ]
  },
  {
   "cell_type": "code",
   "execution_count": 16,
   "metadata": {
    "collapsed": false
   },
   "outputs": [
    {
     "data": {
      "text/plain": [
       "array([False, False, False, False, False, False, False, False, False, False], dtype=bool)"
      ]
     },
     "execution_count": 16,
     "metadata": {},
     "output_type": "execute_result"
    }
   ],
   "source": [
    "ngtm2/V==ngtm22/V"
   ]
  },
  {
   "cell_type": "code",
   "execution_count": 17,
   "metadata": {
    "collapsed": false
   },
   "outputs": [
    {
     "data": {
      "text/plain": [
       "array([ True,  True,  True,  True,  True,  True,  True,  True,  True,  True], dtype=bool)"
      ]
     },
     "execution_count": 17,
     "metadata": {},
     "output_type": "execute_result"
    }
   ],
   "source": [
    "V = 8000.**3\n",
    "ngtm2/V==ngtm22/V"
   ]
  },
  {
   "cell_type": "code",
   "execution_count": null,
   "metadata": {
    "collapsed": true
   },
   "outputs": [],
   "source": [
    "bins_2[:-1], ngtm2/V"
   ]
  },
  {
   "cell_type": "code",
   "execution_count": null,
   "metadata": {
    "collapsed": false
   },
   "outputs": [],
   "source": [
    "_ = plt.hist(N,100)"
   ]
  },
  {
   "cell_type": "code",
   "execution_count": null,
   "metadata": {
    "collapsed": false
   },
   "outputs": [],
   "source": [
    "mean(N)"
   ]
  },
  {
   "cell_type": "raw",
   "metadata": {
    "collapsed": true
   },
   "source": []
  }
 ],
 "metadata": {
  "kernelspec": {
   "display_name": "Python 2",
   "language": "python",
   "name": "python2"
  },
  "language_info": {
   "codemirror_mode": {
    "name": "ipython",
    "version": 2
   },
   "file_extension": ".py",
   "mimetype": "text/x-python",
   "name": "python",
   "nbconvert_exporter": "python",
   "pygments_lexer": "ipython2",
   "version": "2.7.10"
  }
 },
 "nbformat": 4,
 "nbformat_minor": 0
}
