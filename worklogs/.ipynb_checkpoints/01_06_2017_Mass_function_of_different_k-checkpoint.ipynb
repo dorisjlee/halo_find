{
 "cells": [
  {
   "cell_type": "code",
   "execution_count": 1,
   "metadata": {
    "collapsed": false
   },
   "outputs": [
    {
     "name": "stdout",
     "output_type": "stream",
     "text": [
      "Populating the interactive namespace from numpy and matplotlib\n"
     ]
    }
   ],
   "source": [
    "%pylab inline\n",
    "import yt\n",
    "import glob\n",
    "import os"
   ]
  },
  {
   "cell_type": "code",
   "execution_count": 4,
   "metadata": {
    "collapsed": false
   },
   "outputs": [
    {
     "name": "stdout",
     "output_type": "stream",
     "text": [
      "[10000 20000 30000 31000 32000 33000 34000 35000 36000 37000 38000 39000\n",
      " 40000 41000 42000 43000 44000 45000 46000 47000 48000 49000 50000 55000\n",
      " 60000]\n"
     ]
    }
   ],
   "source": [
    "k_list = []\n",
    "os.chdir(\"../scivis2MMBK/\")\n",
    "for k in glob.glob(\"*.out\"):\n",
    "    try:\n",
    "        k_list.append(int(k.split('.')[0][:-7]))\n",
    "    except ValueError:\n",
    "        continue\n",
    "k_list = sort(list(set(k_list)))\n",
    "print k_list "
   ]
  },
  {
   "cell_type": "code",
   "execution_count": 2,
   "metadata": {
    "collapsed": false
   },
   "outputs": [],
   "source": [
    "import thingking\n",
    "import matplotlib.colors as col\n",
    "import matplotlib.cm as cm\n",
    "import sys, string, math"
   ]
  },
  {
   "cell_type": "code",
   "execution_count": 35,
   "metadata": {
    "collapsed": false
   },
   "outputs": [],
   "source": [
    "mf_prefix = \"http://darksky.slac.stanford.edu/data_release/mass_function/\"\n",
    "aname = \"ds14_a_halos_1.0000.hist8_m200b\"\n",
    "halo_catalog = np.loadtxt(\"../../darksky_catalog/ds14_a_halos_1.0000_filter_1e15.txt\",skiprows=3)\n",
    "m=3.9e10\n",
    "N= halo_catalog[:,4]/m #number of particle per halo = m200b/mass per particle\n",
    "m200b= halo_catalog[:,4]\n",
    "n_1, bins = np.histogram(m200b)"
   ]
  },
  {
   "cell_type": "code",
   "execution_count": null,
   "metadata": {
    "collapsed": false
   },
   "outputs": [],
   "source": [
    "V = 8000.**3\n",
    "fig = plt.figure(figsize=(12,10))\n",
    "xx = fig.add_subplot(111)\n",
    "color = cm.rainbow(np.linspace(0, 1, len(ys)))\n",
    "#Plotting data from pre-built histogram data: ds14_a_halos_1.0000.hist8_m200b\n",
    "bin_center_mass, dn_dlnM, sigma, dlogsdlogm, lower_pmass, n, expected, dm, ds, dlnm, dlns = thingking.loadtxt(mf_prefix+aname, unpack=True)\n",
    "mask = (lower_pmass[:] >= 0) * (n[:] >= 0)\n",
    "if n.sum() > 0:\n",
    "    ngtm = np.cumsum(n[mask][::-1])[::-1]\n",
    "    xx.loglog(bin_center_mass[mask], ngtm/V,ms=4, mec='None', color=\"gray\",label=\"ds14_a_halos_1.0000.hist8_m200b\")\n",
    "#Plotting data from DS Halo Catalog\n",
    "ngtm = np.cumsum(n_1[::-1])[::-1]\n",
    "a=1.1 #factor for matching with histo data \n",
    "xx.loglog(bins[:-1]*a, ngtm/V,label=\"Halo_catalog\",ms=4, mec='None',color=\"blue\")\n",
    "#Plotting clustered result from Kmeans\n",
    "for k,col in zip([100,1000,4000,40000],color):\n",
    "    centers  = np.loadtxt(\"../scivis2MMBK/centers{}.txt\".format(k))\n",
    "    labels  = np.loadtxt(\"../scivis2MMBK/labels{}.txt\".format(k))\n",
    "    density  = np.loadtxt(\"../scivis2MMBK/density{}.txt\".format(k))\n",
    "    idx_list = []\n",
    "    N_list = []\n",
    "    for i in np.arange(k): \n",
    "        idx = np.where(labels==i)[0]\n",
    "        idx_list.append(idx)\n",
    "        N_list.append(len(idx))\n",
    "    idx = np.array(idx_list)\n",
    "    N = np.array(N_list)\n",
    "    m200b_2 =N*m\n",
    "    n_2, bins_2 = np.histogram(m200b_2)\n",
    "    ngtm2 = np.cumsum(n_2[::-1])[::-1]\n",
    "    xx.loglog(bins_2[:-1], ngtm2/V,label=\"Clustered results (k={})\".format(k),ms=4, mec='None',color=col)\n",
    "xx.set_title('DS14 Mass Function',fontsize=15)\n",
    "xx.set_xscale('log')\n",
    "xx.set_yscale('log')\n",
    "xx.set_xlabel('$M_{200}\\  [M_\\odot/h]$', fontdict={'fontsize':14},fontsize=15)\n",
    "xx.set_ylabel('$N(>M) [(Mpc/h)^{-3}]$', fontdict={'fontsize':14},fontsize=15)\n",
    "leg = xx.legend(loc=\"upper left\",labelspacing=.5,fontsize=15)\n",
    "xx.xaxis.grid(True, which='major')\n",
    "xx.yaxis.grid(True, which='major')\n",
    "plt.xlim(1e11,1e16)\n",
    "plt.show()"
   ]
  },
  {
   "cell_type": "raw",
   "metadata": {
    "collapsed": true
   },
   "source": []
  }
 ],
 "metadata": {
  "kernelspec": {
   "display_name": "Python 2",
   "language": "python",
   "name": "python2"
  },
  "language_info": {
   "codemirror_mode": {
    "name": "ipython",
    "version": 2
   },
   "file_extension": ".py",
   "mimetype": "text/x-python",
   "name": "python",
   "nbconvert_exporter": "python",
   "pygments_lexer": "ipython2",
   "version": "2.7.10"
  }
 },
 "nbformat": 4,
 "nbformat_minor": 0
}
