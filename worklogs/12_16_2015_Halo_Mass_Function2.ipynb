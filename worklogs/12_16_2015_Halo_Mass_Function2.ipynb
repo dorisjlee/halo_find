{
 "cells": [
  {
   "cell_type": "markdown",
   "metadata": {},
   "source": [
    "Tried lots of stuff but actually the work I did yesterday was better, found out in their paper that their particle mass is off compared to the one I had by a factor of 10 which may expalin the discrepancy off by 1 OOM "
   ]
  },
  {
   "cell_type": "markdown",
   "metadata": {},
   "source": [
    "each of the particle has a constant mass of 2.75491975e+43 g "
   ]
  },
  {
   "cell_type": "code",
   "execution_count": 1,
   "metadata": {
    "collapsed": false
   },
   "outputs": [
    {
     "name": "stdout",
     "output_type": "stream",
     "text": [
      "Populating the interactive namespace from numpy and matplotlib\n"
     ]
    }
   ],
   "source": [
    "%pylab inline\n",
    "import yt"
   ]
  },
  {
   "cell_type": "code",
   "execution_count": 2,
   "metadata": {
    "collapsed": false
   },
   "outputs": [],
   "source": [
    "centers  = np.loadtxt(\"../scivis2MMBK/centers40000.txt\")\n",
    "labels  = np.loadtxt(\"../scivis2MMBK/labels40000.txt\")\n",
    "density  = np.loadtxt(\"../scivis2MMBK/density40000.txt\")"
   ]
  },
  {
   "cell_type": "code",
   "execution_count": 3,
   "metadata": {
    "collapsed": true
   },
   "outputs": [],
   "source": [
    "yt.funcs.mylog.setLevel(50)"
   ]
  },
  {
   "cell_type": "code",
   "execution_count": 4,
   "metadata": {
    "collapsed": false
   },
   "outputs": [],
   "source": [
    "ds = yt.load(\"../../ds14_scivis_0128_e4_dt04_1.0000\")\n",
    "ad = ds.all_data()\n",
    "grid= ds.covering_grid(1,[0,0.0,0.0],dims=[32,32,32])\n",
    "pcl_dens =  grid[('deposit','all_cic')]"
   ]
  },
  {
   "cell_type": "code",
   "execution_count": 5,
   "metadata": {
    "collapsed": false
   },
   "outputs": [],
   "source": [
    "mass = ad[('all', 'mass')]\n",
    "particle_mass = ad[('all', 'particle_mass')]"
   ]
  },
  {
   "cell_type": "code",
   "execution_count": 6,
   "metadata": {
    "collapsed": false
   },
   "outputs": [
    {
     "name": "stdout",
     "output_type": "stream",
     "text": [
      "[ True  True  True ...,  True  True  True]\n",
      "[  2.75491975e+43   2.75491975e+43   2.75491975e+43 ...,   2.75491975e+43\n",
      "   2.75491975e+43   2.75491975e+43] g\n"
     ]
    }
   ],
   "source": [
    "print mass == particle_mass\n",
    "print particle_mass"
   ]
  },
  {
   "cell_type": "code",
   "execution_count": 7,
   "metadata": {
    "collapsed": false
   },
   "outputs": [
    {
     "data": {
      "text/plain": [
       "YTArray([  2.75491975e+43]) g"
      ]
     },
     "execution_count": 7,
     "metadata": {},
     "output_type": "execute_result"
    }
   ],
   "source": [
    "np.unique(particle_mass)"
   ]
  },
  {
   "cell_type": "code",
   "execution_count": 178,
   "metadata": {
    "collapsed": false
   },
   "outputs": [],
   "source": [
    "M_sol = 1.9891e33 #grams\n",
    "h = 0.6881 #reduced hubble constant\n",
    "# h = 68.81\n",
    "# m = 2.75491975e+43 /M_sol*h \n",
    "# print \"mass per particle : \", m,\"Msun/h\"\n",
    "m=3.9e10"
   ]
  },
  {
   "cell_type": "code",
   "execution_count": 179,
   "metadata": {
    "collapsed": false
   },
   "outputs": [
    {
     "data": {
      "text/plain": [
       "39000000000.0"
      ]
     },
     "execution_count": 179,
     "metadata": {},
     "output_type": "execute_result"
    }
   ],
   "source": [
    "m"
   ]
  },
  {
   "cell_type": "code",
   "execution_count": 180,
   "metadata": {
    "collapsed": true
   },
   "outputs": [],
   "source": [
    "halo_catalog = np.loadtxt(\"../../darksky_catalog/ds14_a_halos_1.0000_filter_1e15.txt\",skiprows=3)\n",
    "N= halo_catalog[:,4]/m #number of particle per halo = m200b/mass per particle"
   ]
  },
  {
   "cell_type": "markdown",
   "metadata": {},
   "source": [
    "$$M_{halo} = N*m $$"
   ]
  },
  {
   "cell_type": "code",
   "execution_count": 181,
   "metadata": {
    "collapsed": false
   },
   "outputs": [],
   "source": [
    "idx_list = []\n",
    "N_list = []\n",
    "for i in np.arange(40000): \n",
    "    idx = np.where(labels==i)[0]\n",
    "    idx_list.append(idx)\n",
    "    N_list.append(len(idx))idx = np.array(idx_list)"
   ]
  },
  {
   "cell_type": "code",
   "execution_count": 182,
   "metadata": {
    "collapsed": true
   },
   "outputs": [],
   "source": [
    "idx = np.array(idx_list)\n",
    "N = np.array(N_list)"
   ]
  },
  {
   "cell_type": "code",
   "execution_count": 183,
   "metadata": {
    "collapsed": false
   },
   "outputs": [],
   "source": [
    "# plt.hist(M_halo)\n",
    "# n, bins, patches  = plt.hist(np.log10(M_halo),log=True,histtype='step')#, normed=True)\n",
    "# plt.xlabel(\"log10(m200b)\",fontsize = 15)\n",
    "# plt.ylabel(\"Count\",fontsize = 15)"
   ]
  },
  {
   "cell_type": "markdown",
   "metadata": {},
   "source": [
    "Actually since this is a smaller subset of the whole simulation, the volume is probably different . According to [scivis website](http://darksky.slac.stanford.edu/scivis2015/data/), this is an 128^3 particle dataset"
   ]
  },
  {
   "cell_type": "code",
   "execution_count": 184,
   "metadata": {
    "collapsed": true
   },
   "outputs": [],
   "source": [
    "# V = 8000.**3\n",
    "# n = N/V\n",
    "# m200_b = N*m"
   ]
  },
  {
   "cell_type": "code",
   "execution_count": 185,
   "metadata": {
    "collapsed": false
   },
   "outputs": [],
   "source": [
    "import thingking\n",
    "import matplotlib.colors as col\n",
    "import matplotlib.cm as cm\n",
    "import sys, string, math\n",
    "\n",
    "def discrete_cmap(N=8):\n",
    "    \"\"\"create a colormap with N (N<15) discrete colors and register it\"\"\"\n",
    "    # define individual colors as hex values\n",
    "#    cpool = [ '#000000', '#ff0000', '#00e000', '#0000ff', '#00e0e0',\n",
    "#             '#ff00ff', '#e0e000', '#ffa500', '#ee82ee', '#808080',\n",
    "#              '#800000', '#008000', '#000080', '#808000', '#800080' ]\n",
    "    cpool=[ '#050505','#030303','#1a1a1a','#333333','#7d7d7d','#838b8b','#c1cdcd','#bebebe']\n",
    "    cmap3 = col.ListedColormap(cpool[0:N], 'indexed')\n",
    "    cm.register_cmap(cmap=cmap3)\n",
    "\n",
    "discrete_cmap(5)\n",
    "color=cm.get_cmap('indexed')\n",
    "\n",
    "mf_prefix = \"http://darksky.slac.stanford.edu/data_release/mass_function/\"\n",
    "mfs = [\n",
    "    #\"ds14_a_halos_1.0000.hist50_m200b.sdf\",\n",
    "    \"ds14_a_halos_1.0000.hist8_m200b\",\n",
    "#     \"ds14_g_1600_4096_m200b_1.0000.hist8_m200b\",\n",
    "#     \"ds14_g_800_4096_m200b_1.0000.hist8_m200b\",\n",
    "#     \"ds14_g_200_2048_m200b_1.0000.hist8_m200b\",\n",
    "#     \"ds14_g_100_2048_m200b_1.0000.hist8_m200b\",\n",
    "]\n",
    "mfs = [mf_prefix + mf for mf in mfs]"
   ]
  },
  {
   "cell_type": "code",
   "execution_count": 186,
   "metadata": {
    "collapsed": false
   },
   "outputs": [],
   "source": [
    "plt.hist?"
   ]
  },
  {
   "cell_type": "code",
   "execution_count": 187,
   "metadata": {
    "collapsed": true
   },
   "outputs": [],
   "source": [
    "np.histogram?"
   ]
  },
  {
   "cell_type": "code",
   "execution_count": 188,
   "metadata": {
    "collapsed": false
   },
   "outputs": [],
   "source": [
    "halo_catalog = np.loadtxt(\"../../darksky_catalog/ds14_a_halos_1.0000_filter_1e15.txt\",skiprows=3)\n",
    "\n",
    "# n_1, bins = np.histogram(N1)#,histtype='step',color=\"red\");\n",
    "# plt.xlabel(\"m200b\",fontsize = 15)\n",
    "# plt.ylabel(\"Count\",fontsize = 15)\n",
    "# plt.loglog(bins[:-1], n_1/V,ms=4, mec='None',color=\"blue\")"
   ]
  },
  {
   "cell_type": "code",
   "execution_count": 189,
   "metadata": {
    "collapsed": false
   },
   "outputs": [
    {
     "data": {
      "text/plain": [
       "array([  9.42843676e+15,   7.99829694e+15,   7.17643294e+15, ...,\n",
       "         1.00003602e+15,   1.00003602e+15,   1.00003602e+15])"
      ]
     },
     "execution_count": 189,
     "metadata": {},
     "output_type": "execute_result"
    }
   ],
   "source": [
    "m200b"
   ]
  },
  {
   "cell_type": "code",
   "execution_count": 190,
   "metadata": {
    "collapsed": false
   },
   "outputs": [],
   "source": [
    "# # plt.xlabel(\"log10(m200b)\",fontsize = 15)\n",
    "# # plt.ylabel(\"dN/dlnM \",fontsize = 15)\n",
    "# n_2, bins_2, patches  = plt.hist(m200_b,log=True,histtype='step')#, normed=True)\n",
    "# ngtm_2 = np.cumsum(n_2[::-1])[::-1]\n",
    "# # plt.semilogy(bins_2[:-1], ngtm_2/V,label=\"Halo_catalog\",ms=4, mec='None',color=\"blue\")"
   ]
  },
  {
   "cell_type": "markdown",
   "metadata": {},
   "source": [
    "In the [reduced histogram files](http://darksky.slac.stanford.edu/data_release/mass_function/ds14_a_halos_1.0000.hist8_m200b) for the datafile that spans $10^15-10^16 M_\\odot/h$, it looks like they used a normalization of  volume 5.12e+11 [Mpc^3/h^3]"
   ]
  },
  {
   "cell_type": "code",
   "execution_count": 191,
   "metadata": {
    "collapsed": false
   },
   "outputs": [
    {
     "data": {
      "text/plain": [
       "7999.999999999996"
      ]
     },
     "execution_count": 191,
     "metadata": {},
     "output_type": "execute_result"
    }
   ],
   "source": [
    "5.12e+11**(1/3.)"
   ]
  },
  {
   "cell_type": "code",
   "execution_count": 192,
   "metadata": {
    "collapsed": false
   },
   "outputs": [],
   "source": [
    "N_1, bins = np.histogram(N1)"
   ]
  },
  {
   "cell_type": "code",
   "execution_count": 193,
   "metadata": {
    "collapsed": false
   },
   "outputs": [
    {
     "data": {
      "text/plain": [
       "array([122021,  12033,   1967,    446,     88,     30,      3,      2,\n",
       "            1,      1])"
      ]
     },
     "execution_count": 193,
     "metadata": {},
     "output_type": "execute_result"
    }
   ],
   "source": [
    "N_1"
   ]
  },
  {
   "cell_type": "code",
   "execution_count": 194,
   "metadata": {
    "collapsed": false
   },
   "outputs": [
    {
     "data": {
      "text/plain": [
       "array([  9.89317746e+03,   1.82857215e+04,   2.58158908e+04, ...,\n",
       "         1.96427577e+08,   1.96428626e+08,   1.96429676e+08])"
      ]
     },
     "execution_count": 194,
     "metadata": {},
     "output_type": "execute_result"
    }
   ],
   "source": [
    "ngtm"
   ]
  },
  {
   "cell_type": "code",
   "execution_count": 195,
   "metadata": {
    "collapsed": false
   },
   "outputs": [
    {
     "data": {
      "text/plain": [
       "(136592,)"
      ]
     },
     "execution_count": 195,
     "metadata": {},
     "output_type": "execute_result"
    }
   ],
   "source": [
    "shape(ngtm)"
   ]
  },
  {
   "cell_type": "code",
   "execution_count": 196,
   "metadata": {
    "collapsed": true
   },
   "outputs": [],
   "source": [
    "np.histogram?"
   ]
  },
  {
   "cell_type": "code",
   "execution_count": 197,
   "metadata": {
    "collapsed": false
   },
   "outputs": [
    {
     "data": {
      "text/plain": [
       "array([ 1049.32918013,  1933.71400841,  2818.0988367 ,  3702.48366498,\n",
       "        4586.86849327,  5471.25332155,  6355.63814984,  7240.02297812,\n",
       "        8124.40780641,  9008.79263469,  9893.17746298])"
      ]
     },
     "execution_count": 197,
     "metadata": {},
     "output_type": "execute_result"
    }
   ],
   "source": [
    "bins"
   ]
  },
  {
   "cell_type": "code",
   "execution_count": 198,
   "metadata": {
    "collapsed": false
   },
   "outputs": [
    {
     "data": {
      "text/plain": [
       "(136590,)"
      ]
     },
     "execution_count": 198,
     "metadata": {},
     "output_type": "execute_result"
    }
   ],
   "source": [
    "shape(dN)"
   ]
  },
  {
   "cell_type": "code",
   "execution_count": 199,
   "metadata": {
    "collapsed": false
   },
   "outputs": [
    {
     "data": {
      "text/plain": [
       "(136592,)"
      ]
     },
     "execution_count": 199,
     "metadata": {},
     "output_type": "execute_result"
    }
   ],
   "source": [
    "shape(dlnM)\n",
    "shape(m200b)"
   ]
  },
  {
   "cell_type": "markdown",
   "metadata": {},
   "source": [
    "Attempting to do differential by Stirling approximation but it looks like this is a terrible idea .."
   ]
  },
  {
   "cell_type": "code",
   "execution_count": 200,
   "metadata": {
    "collapsed": false
   },
   "outputs": [
    {
     "name": "stderr",
     "output_type": "stream",
     "text": [
      "/anaconda/lib/python2.7/site-packages/IPython/kernel/__main__.py:7: RuntimeWarning: invalid value encountered in divide\n"
     ]
    },
    {
     "data": {
      "text/plain": [
       "[<matplotlib.lines.Line2D at 0x7f81828ce050>]"
      ]
     },
     "execution_count": 200,
     "metadata": {},
     "output_type": "execute_result"
    },
    {
     "data": {
      "image/png": "[encoded data removed]",
      "text/plain": [
       "<matplotlib.figure.Figure at 0x7f81832f2910>"
      ]
     },
     "metadata": {},
     "output_type": "display_data"
    }
   ],
   "source": [
    "m200b= halo_catalog[:,4]\n",
    "N1 = m200b/m\n",
    "N_1, bins = np.histogram(m200b)\n",
    "dN = (np.roll(N1,1)-N1)[1:-1]\n",
    "dlnM = (np.log(np.roll(m200b,1))-np.log(m200b))[1:-1]\n",
    "ngtm = np.cumsum(N1)#[::-1])[::-1]\n",
    "plt.loglog(m200b[1:-1],dN/dlnM)"
   ]
  },
  {
   "cell_type": "code",
   "execution_count": 203,
   "metadata": {
    "collapsed": false
   },
   "outputs": [
    {
     "data": {
      "image/png": "[encoded data removed]",
      "text/plain": [
       "<matplotlib.figure.Figure at 0x7f8177c5e590>"
      ]
     },
     "metadata": {},
     "output_type": "display_data"
    }
   ],
   "source": [
    "# V =10240.**3\n",
    "V = 8000**3\n",
    "i=0\n",
    "fig = plt.figure(figsize=(12,10))\n",
    "xx = fig.add_subplot(111)\n",
    "vols = np.array([8000.0, 1600, 800, 200, 100])\n",
    "for aname, vol in zip(mfs, vols):\n",
    "    bin_center_mass, dn_dlnM, sigma, dlogsdlogm, lower_pmass, n, expected, dm, ds, dlnm, dlns = thingking.loadtxt(aname, unpack=True)\n",
    "#     print bin_center_mass[1]\n",
    "    tag = aname.split(\"/\")[-1]\n",
    "#     mask = (lower_pmass[:] >= 0) * (n[:] >= 0)\n",
    "#     if n.sum() > 0:\n",
    "    ngtm = np.cumsum(n[mask][::-1])[::-1]\n",
    "    xx.loglog(bin_center_mass, ngtm/vol**3,ms=4, mec='None',color=color(i), label=tag) #color=\"gray\")#,label=\"ds14_histo8* data\")#, label=tag)\n",
    "    i += 1\n",
    "\n",
    "m200b= halo_catalog[:,4]\n",
    "N1 = m200b/m\n",
    "N_1, bins = np.histogram(m200b)\n",
    "# print bins\n",
    "ngtm = np.cumsum(N1)#[::-1])[::-1]\n",
    "# n_1, bins = plt.hist(ngtm/V)\n",
    "xx.loglog(m200b, ngtm/V,label=\"Halo_catalog\",ms=4, mec='None',color=\"blue\")\n",
    "\n",
    "# ngtm2 = np.cumsum(n_2[::-1])[::-1]\n",
    "# xx.loglog(bins[:-1], ngtm2,label=\"Clustered results\",ms=4, mec='None',color=\"red\")\n",
    "\n",
    "xx.set_title('DS14 Mass Function',fontsize=15)\n",
    "xx.set_xscale('log')\n",
    "xx.set_yscale('log')\n",
    "xx.set_xlabel('$M_{200}\\  [M_\\odot/h]$', fontdict={'fontsize':14},fontsize=15)\n",
    "xx.set_ylabel('$N(>M) [(Mpc/h)^{-3}]$', fontdict={'fontsize':14},fontsize=15)\n",
    "leg = xx.legend(loc=\"lower left\",labelspacing=.5,fontsize=15)\n",
    "xx.xaxis.grid(True, which='major')\n",
    "xx.yaxis.grid(True, which='major')\n",
    "# plt.xlim(1e12,1e16)\n",
    "plt.show()"
   ]
  },
  {
   "cell_type": "code",
   "execution_count": null,
   "metadata": {
    "collapsed": true
   },
   "outputs": [],
   "source": []
  },
  {
   "cell_type": "code",
   "execution_count": null,
   "metadata": {
    "collapsed": true
   },
   "outputs": [],
   "source": []
  },
  {
   "cell_type": "code",
   "execution_count": null,
   "metadata": {
    "collapsed": true
   },
   "outputs": [],
   "source": []
  }
 ],
 "metadata": {
  "kernelspec": {
   "display_name": "Python 2",
   "language": "python",
   "name": "python2"
  },
  "language_info": {
   "codemirror_mode": {
    "name": "ipython",
    "version": 2
   },
   "file_extension": ".py",
   "mimetype": "text/x-python",
   "name": "python",
   "nbconvert_exporter": "python",
   "pygments_lexer": "ipython2",
   "version": "2.7.10"
  }
 },
 "nbformat": 4,
 "nbformat_minor": 0
}
