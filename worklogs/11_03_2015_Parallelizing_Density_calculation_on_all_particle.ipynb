{
 "cells": [
  {
   "cell_type": "code",
   "execution_count": 4,
   "metadata": {
    "collapsed": false
   },
   "outputs": [
    {
     "name": "stdout",
     "output_type": "stream",
     "text": [
      "Populating the interactive namespace from numpy and matplotlib\n"
     ]
    }
   ],
   "source": [
    "%pylab inline"
   ]
  },
  {
   "cell_type": "markdown",
   "metadata": {
    "collapsed": true
   },
   "source": [
    "Looking at how much data there are avalaible, considering using py4mpi or something so that I could do this in paralel . \n",
    "http://darksky.slac.stanford.edu/scivis2015/data/ds14_scivis_0128/"
   ]
  },
  {
   "cell_type": "code",
   "execution_count": 8,
   "metadata": {
    "collapsed": false
   },
   "outputs": [
    {
     "name": "stdout",
     "output_type": "stream",
     "text": [
      "[Errno 2] No such file or directory: '11_03_good_data/'\n",
      "/global/project/projectdirs/astro250/doris/halo/halo_find/11_03_good_data\n"
     ]
    }
   ],
   "source": [
    "cd 11_03_good_data/"
   ]
  },
  {
   "cell_type": "code",
   "execution_count": 9,
   "metadata": {
    "collapsed": false
   },
   "outputs": [
    {
     "name": "stderr",
     "output_type": "stream",
     "text": [
      "//anaconda/lib/python2.7/site-packages/numpy/lib/npyio.py:823: UserWarning: loadtxt: Empty input file: \"density1.txt\"\n",
      "  warnings.warn('loadtxt: Empty input file: \"%s\"' % fname)\n",
      "//anaconda/lib/python2.7/site-packages/numpy/core/_methods.py:59: RuntimeWarning: Mean of empty slice.\n",
      "  warnings.warn(\"Mean of empty slice.\", RuntimeWarning)\n",
      "//anaconda/lib/python2.7/site-packages/numpy/core/_methods.py:71: RuntimeWarning: invalid value encountered in double_scalars\n",
      "  ret = ret.dtype.type(ret / rcount)\n"
     ]
    }
   ],
   "source": [
    "import glob\n",
    "densities=[]\n",
    "for i in glob.glob(\"density*.txt\"):\n",
    "    dens = np.loadtxt(i)\n",
    "    densities.append(mean(dens))"
   ]
  },
  {
   "cell_type": "code",
   "execution_count": 10,
   "metadata": {
    "collapsed": false
   },
   "outputs": [
    {
     "data": {
      "text/plain": [
       "[nan, 1.9289851108992719e-29, 3.1282995586749059e-29, 4.4194882083255241e-29]"
      ]
     },
     "execution_count": 10,
     "metadata": {},
     "output_type": "execute_result"
    }
   ],
   "source": [
    "densities"
   ]
  },
  {
   "cell_type": "code",
   "execution_count": 12,
   "metadata": {
    "collapsed": false
   },
   "outputs": [
    {
     "data": {
      "text/plain": [
       "[<matplotlib.lines.Line2D at 0x7fd9fcf6e1d0>]"
      ]
     },
     "execution_count": 12,
     "metadata": {},
     "output_type": "execute_result"
    },
    {
     "data": {
      "image/png": "[encoded data removed]",
      "text/plain": [
       "<matplotlib.figure.Figure at 0x7fd9fd0ce850>"
      ]
     },
     "metadata": {},
     "output_type": "display_data"
    }
   ],
   "source": [
    "plt.plot(densities,'o')"
   ]
  },
  {
   "cell_type": "code",
   "execution_count": 14,
   "metadata": {
    "collapsed": false
   },
   "outputs": [
    {
     "name": "stdout",
     "output_type": "stream",
     "text": [
      "/global/project/projectdirs/astro250/doris/halo/halo_find\n"
     ]
    }
   ],
   "source": [
    "cd .."
   ]
  },
  {
   "cell_type": "code",
   "execution_count": 16,
   "metadata": {
    "collapsed": false
   },
   "outputs": [
    {
     "name": "stdout",
     "output_type": "stream",
     "text": [
      "Loading Particle Data \n",
      "Creating train test split samples \n"
     ]
    }
   ],
   "source": [
    "import numpy as np\n",
    "import yt\n",
    "import sklearn\n",
    "yt.funcs.mylog.setLevel(50)\n",
    "import matplotlib.pyplot as plt\n",
    "from sklearn.datasets import load_iris\n",
    "from sklearn.cross_validation import cross_val_score\n",
    "from sklearn.cluster import KMeans\n",
    "from sklearn.grid_search import GridSearchCV\n",
    "DEBUG= True\n",
    "def debug(s,n=\"\"):\n",
    "    if DEBUG:\n",
    "        print s , n\n",
    "debug(\"Loading Particle Data\")\n",
    "ds = yt.load(\"../ds14_scivis_0128_e4_dt04_1.0000\")\n",
    "ad = ds.all_data()\n",
    "x = ad[(\"all\",\"particle_position_x\")]\n",
    "y = ad[(\"all\",\"particle_position_y\")]\n",
    "z = ad[(\"all\",\"particle_position_z\")]\n",
    "debug(\"Creating train test split samples\")\n",
    "m = ad[(\"all\",\"mass\")]\n",
    "idx = ad[(\"all\",\"particle_index\")]"
   ]
  },
  {
   "cell_type": "code",
   "execution_count": 31,
   "metadata": {
    "collapsed": false
   },
   "outputs": [
    {
     "name": "stdout",
     "output_type": "stream",
     "text": [
      "(2097152, 5)\n",
      "[[  1.19876300e+06   2.75491975e+43  -4.48418516e+04  -4.47363750e+04\n",
      "   -4.46098398e+04]\n",
      " [  1.19874800e+06   2.75491975e+43  -4.53840234e+04  -4.39328984e+04\n",
      "   -4.49943320e+04]\n",
      " [  1.19878100e+06   2.75491975e+43  -4.35777617e+04  -4.35558203e+04\n",
      "   -4.53993438e+04]\n",
      " ..., \n",
      " [  1.19873200e+06   2.75491975e+43   4.38594219e+04   4.27085273e+04\n",
      "    4.50836797e+04]\n",
      " [  1.19635900e+06   2.75491975e+43   4.41707383e+04   4.28891562e+04\n",
      "    4.40927578e+04]\n",
      " [  1.19873400e+06   2.75491975e+43   4.44668516e+04   4.47076719e+04\n",
      "    4.54055234e+04]]\n"
     ]
    }
   ],
   "source": [
    "#note that x, y z is now in whatever weird code units the simulation was done in \n",
    "train = np.array([idx,m,x,y,z]).T\n",
    "print shape(train)\n",
    "print train"
   ]
  },
  {
   "cell_type": "code",
   "execution_count": 32,
   "metadata": {
    "collapsed": false,
    "scrolled": false
   },
   "outputs": [
    {
     "name": "stdout",
     "output_type": "stream",
     "text": [
      "(50, 5)\n",
      "[[  1.19876300e+06   2.75491975e+43  -1.38367496e+26  -1.38042029e+26\n",
      "   -1.37651583e+26]\n",
      " [  1.19874800e+06   2.75491975e+43  -1.40040464e+26  -1.35562760e+26\n",
      "   -1.38838002e+26]\n",
      " [  1.19878100e+06   2.75491975e+43  -1.34466922e+26  -1.34399218e+26\n",
      "   -1.40087737e+26]\n",
      " [  1.19876700e+06   2.75491975e+43  -1.34392842e+26  -1.34568991e+26\n",
      "   -1.40143496e+26]\n",
      " [  1.19877700e+06   2.75491975e+43  -1.34658885e+26  -1.34312723e+26\n",
      "   -1.40032629e+26]\n",
      " [  1.19882200e+06   2.75491975e+43  -1.37343389e+26  -1.38481305e+26\n",
      "   -1.32505082e+26]\n",
      " [  1.19904200e+06   2.75491975e+43  -1.32636573e+26  -1.37790342e+26\n",
      "   -1.34148676e+26]\n",
      " [  1.19883200e+06   2.75491975e+43  -1.39630334e+26  -1.35218225e+26\n",
      "   -1.31409811e+26]\n",
      " [  7.39000000e+02   2.75491975e+43  -1.32036276e+26  -1.33762677e+26\n",
      "   -1.35225915e+26]\n",
      " [  1.19883600e+06   2.75491975e+43  -1.35305166e+26  -1.31660474e+26\n",
      "   -1.34038495e+26]\n",
      " [  1.19898900e+06   2.75491975e+43  -1.30063624e+26  -1.38909334e+26\n",
      "   -1.39384902e+26]\n",
      " [  9.99000000e+02   2.75491975e+43  -1.24902636e+26  -1.37297272e+26\n",
      "   -1.38060616e+26]\n",
      " [  9.95000000e+02   2.75491975e+43  -1.25055630e+26  -1.37350307e+26\n",
      "   -1.36745563e+26]\n",
      " [  7.10000000e+02   2.75491975e+43  -1.30392574e+26  -1.33194153e+26\n",
      "   -1.39365496e+26]\n",
      " [  1.19907600e+06   2.75491975e+43  -1.30934412e+26  -1.38555349e+26\n",
      "   -1.34227517e+26]\n",
      " [  7.04000000e+02   2.75491975e+43  -1.30821532e+26  -1.38497046e+26\n",
      "   -1.34185427e+26]\n",
      " [  9.67000000e+02   2.75491975e+43  -1.27828003e+26  -1.36098896e+26\n",
      "   -1.35232110e+26]\n",
      " [  1.19904400e+06   2.75491975e+43  -1.29703275e+26  -1.37485655e+26\n",
      "   -1.33436354e+26]\n",
      " [  1.19904600e+06   2.75491975e+43  -1.29882509e+26  -1.37405403e+26\n",
      "   -1.33423566e+26]\n",
      " [  1.19907500e+06   2.75491975e+43  -1.31170057e+26  -1.36139661e+26\n",
      "   -1.32602884e+26]\n",
      " [  7.07000000e+02   2.75491975e+43  -1.31048148e+26  -1.36207160e+26\n",
      "   -1.32587697e+26]\n",
      " [  1.19907900e+06   2.75491975e+43  -1.31078089e+26  -1.36150304e+26\n",
      "   -1.32582248e+26]\n",
      " [  1.19907200e+06   2.75491975e+43  -1.29829595e+26  -1.36745768e+26\n",
      "   -1.33079561e+26]\n",
      " [  1.19904500e+06   2.75491975e+43  -1.30245969e+26  -1.37035628e+26\n",
      "   -1.32285818e+26]\n",
      " [  7.11000000e+02   2.75491975e+43  -1.30799040e+26  -1.36489813e+26\n",
      "   -1.32228878e+26]\n",
      " [  9.63000000e+02   2.75491975e+43  -1.31317157e+26  -1.33818496e+26\n",
      "   -1.35369387e+26]\n",
      " [  7.43000000e+02   2.75491975e+43  -1.31355053e+26  -1.33759543e+26\n",
      "   -1.35403245e+26]\n",
      " [  7.06000000e+02   2.75491975e+43  -1.30698177e+26  -1.33616541e+26\n",
      "   -1.34831117e+26]\n",
      " [  1.19907800e+06   2.75491975e+43  -1.30223091e+26  -1.35229362e+26\n",
      "   -1.33757976e+26]\n",
      " [  1.19907400e+06   2.75491975e+43  -1.30135390e+26  -1.35201133e+26\n",
      "   -1.33753010e+26]\n",
      " [  7.20000000e+02   2.75491975e+43  -1.29747234e+26  -1.33171143e+26\n",
      "   -1.35528347e+26]\n",
      " [  1.19908800e+06   2.75491975e+43  -1.29543121e+26  -1.32895866e+26\n",
      "   -1.35616265e+26]\n",
      " [  1.19906000e+06   2.75491975e+43  -1.29493606e+26  -1.32892130e+26\n",
      "   -1.35603995e+26]\n",
      " [  1.19909200e+06   2.75491975e+43  -1.29430988e+26  -1.32911958e+26\n",
      "   -1.35686814e+26]\n",
      " [  1.19875000e+06   2.75491975e+43  -1.37994527e+26  -1.29518026e+26\n",
      "   -1.37905922e+26]\n",
      " [  1.19875100e+06   2.75491975e+43  -1.38411708e+26  -1.29603376e+26\n",
      "   -1.37541523e+26]\n",
      " [  1.19962900e+06   2.75491975e+43  -1.36769802e+26  -1.22998785e+26\n",
      "   -1.36510786e+26]\n",
      " [  1.19962800e+06   2.75491975e+43  -1.34954255e+26  -1.22791888e+26\n",
      "   -1.39012668e+26]\n",
      " [  1.19877800e+06   2.75491975e+43  -1.32635440e+26  -1.24332569e+26\n",
      "   -1.38934140e+26]\n",
      " [  1.19877900e+06   2.75491975e+43  -1.32707122e+26  -1.24274363e+26\n",
      "   -1.38891555e+26]\n",
      " [  1.19905600e+06   2.75491975e+43  -1.32997236e+26  -1.31187860e+26\n",
      "   -1.35257965e+26]\n",
      " [  1.19883400e+06   2.75491975e+43  -1.35313603e+26  -1.25661013e+26\n",
      "   -1.33893914e+26]\n",
      " [  7.24000000e+02   2.75491975e+43  -1.29535130e+26  -1.30075569e+26\n",
      "   -1.39179692e+26]\n",
      " [  9.81000000e+02   2.75491975e+43  -1.28717100e+26  -1.27466629e+26\n",
      "   -1.36414202e+26]\n",
      " [  1.01300000e+03   2.75491975e+43  -1.23606157e+26  -1.29782237e+26\n",
      "   -1.38370497e+26]\n",
      " [  1.00900000e+03   2.75491975e+43  -1.26246400e+26  -1.29742786e+26\n",
      "   -1.36494405e+26]\n",
      " [  1.19906200e+06   2.75491975e+43  -1.29330764e+26  -1.22823359e+26\n",
      "   -1.36590845e+26]\n",
      " [  7.53000000e+02   2.75491975e+43  -1.30813842e+26  -1.27418150e+26\n",
      "   -1.35630066e+26]\n",
      " [  7.57000000e+02   2.75491975e+43  -1.30810816e+26  -1.27375131e+26\n",
      "   -1.35671964e+26]\n",
      " [  9.77000000e+02   2.75491975e+43  -1.30661052e+26  -1.27382858e+26\n",
      "   -1.35742284e+26]]\n"
     ]
    }
   ],
   "source": [
    "train=[]\n",
    "N =50\n",
    "for n in np.arange(N):\n",
    "    train.append([idx[n],m[n].in_cgs(),x[n].in_cgs(),y[n].in_cgs(),z[n].in_cgs()])\n",
    "train = np.array(train)\n",
    "print shape(train)\n",
    "print train"
   ]
  },
  {
   "cell_type": "markdown",
   "metadata": {},
   "source": [
    "woah I cant believe I did this , this is so dumb. slowed down the data loadup by at least half a day..."
   ]
  },
  {
   "cell_type": "markdown",
   "metadata": {},
   "source": [
    "### n_job parallel job "
   ]
  },
  {
   "cell_type": "code",
   "execution_count": 34,
   "metadata": {
    "collapsed": false
   },
   "outputs": [
    {
     "name": "stdout",
     "output_type": "stream",
     "text": [
      "[      1     101     201 ..., 1048301 1048401 1048501]\n"
     ]
    }
   ],
   "source": [
    "k_range = np.arange(1,1048576,100)\n",
    "print k_range"
   ]
  },
  {
   "cell_type": "markdown",
   "metadata": {},
   "source": [
    "Testing this on debug queus "
   ]
  },
  {
   "cell_type": "code",
   "execution_count": null,
   "metadata": {
    "collapsed": true
   },
   "outputs": [],
   "source": [
    "cd /project/projectdirs/astro250/doris/halo/halo_find\n",
    "aprun -n 24 /global/homes/d/dorislee/anaconda/bin/python parallel_gs_dens.py"
   ]
  },
  {
   "cell_type": "raw",
   "metadata": {},
   "source": []
  },
  {
   "cell_type": "code",
   "execution_count": 35,
   "metadata": {
    "collapsed": false
   },
   "outputs": [
    {
     "data": {
      "text/plain": [
       "524288"
      ]
     },
     "execution_count": 35,
     "metadata": {},
     "output_type": "execute_result"
    }
   ],
   "source": [
    "1048576/2"
   ]
  },
  {
   "cell_type": "markdown",
   "metadata": {},
   "source": [
    "Just doing a quarter of the dataset for now"
   ]
  },
  {
   "cell_type": "code",
   "execution_count": 40,
   "metadata": {
    "collapsed": false
   },
   "outputs": [
    {
     "data": {
      "text/plain": [
       "50"
      ]
     },
     "execution_count": 40,
     "metadata": {},
     "output_type": "execute_result"
    }
   ],
   "source": [
    "len(np.arange(1000,500000,10000))"
   ]
  },
  {
   "cell_type": "code",
   "execution_count": 44,
   "metadata": {
    "collapsed": false
   },
   "outputs": [
    {
     "data": {
      "text/plain": [
       "array([ 1000,  2000,  3000,  4000,  5000,  6000,  7000,  8000,  9000,\n",
       "       10000, 11000, 12000, 13000, 14000, 15000, 16000, 17000, 18000, 19000])"
      ]
     },
     "execution_count": 44,
     "metadata": {},
     "output_type": "execute_result"
    }
   ],
   "source": [
    "np.arange(1000,20000,1000)"
   ]
  },
  {
   "cell_type": "markdown",
   "metadata": {},
   "source": [
    "Adding timing information"
   ]
  },
  {
   "cell_type": "code",
   "execution_count": null,
   "metadata": {
    "collapsed": true
   },
   "outputs": [],
   "source": [
    "N =200# 50000\n",
    "train = np.array([idx[N:],m[N:],x[N:],y[N:],z[N:]]).T\n",
    "np.savetxt(\"train.txt\",train)\n",
    "# Explicit Grid Search\n",
    "k_range =np.arange(1,5)"
   ]
  },
  {
   "cell_type": "code",
   "execution_count": null,
   "metadata": {
    "collapsed": true
   },
   "outputs": [],
   "source": [
    "Loading Particle Data\n",
    "Creating train test split samples\n",
    "1 clusters test\n",
    "Time:  22.1057710648\n",
    "2 clusters test\n",
    "Time:  63.2564339638\n",
    "3 clusters test\n",
    "Time:  64.1353271008\n",
    "4 clusters test\n",
    "Time:  64.5388610363"
   ]
  },
  {
   "cell_type": "code",
   "execution_count": null,
   "metadata": {
    "collapsed": true
   },
   "outputs": [],
   "source": [
    "1               22.1057710648\n",
    "2               63.2564339638\n",
    "3               64.1353271008\n",
    "4               64.5388610363"
   ]
  },
  {
   "cell_type": "markdown",
   "metadata": {},
   "source": [
    "The program that I am running can actually be made to be embarassingly parallel since each k from the krange is independet of each other and doesn't really require result from other placees, so many can write a script that submits many smaller jobs . The only associated cost of doing this is the k times overhead per script to load particle data but it should not be that bad compared to the simultaneity that the embarassingly parallel approach yields. '"
   ]
  },
  {
   "cell_type": "code",
   "execution_count": 45,
   "metadata": {
    "collapsed": false
   },
   "outputs": [
    {
     "data": {
      "text/plain": [
       "array([ 100,  200,  300,  400,  500,  600,  700,  800,  900, 1000, 1100,\n",
       "       1200, 1300, 1400, 1500, 1600, 1700, 1800, 1900])"
      ]
     },
     "execution_count": 45,
     "metadata": {},
     "output_type": "execute_result"
    }
   ],
   "source": [
    "np.arange(100,2000,100)"
   ]
  },
  {
   "cell_type": "raw",
   "metadata": {},
   "source": [
    "=>> PBS: job killed: vmem 134835044352 exceeded limit 21474836480"
   ]
  },
  {
   "cell_type": "markdown",
   "metadata": {},
   "source": [
    "But in the serial queus the vmem maximum is 20GB so I could only submit jobs that are smaller "
   ]
  },
  {
   "cell_type": "code",
   "execution_count": 48,
   "metadata": {
    "collapsed": false
   },
   "outputs": [
    {
     "data": {
      "text/plain": [
       "array([ 50, 100, 150, 200, 250, 300, 350, 400, 450, 500])"
      ]
     },
     "execution_count": 48,
     "metadata": {},
     "output_type": "execute_result"
    }
   ],
   "source": [
    "np.arange(50,501,50)"
   ]
  },
  {
   "cell_type": "code",
   "execution_count": 1,
   "metadata": {
    "collapsed": false
   },
   "outputs": [
    {
     "data": {
      "text/plain": [
       "u'/global/project/projectdirs/astro250/doris/halo/halo_find'"
      ]
     },
     "execution_count": 1,
     "metadata": {},
     "output_type": "execute_result"
    }
   ],
   "source": [
    "pwd"
   ]
  },
  {
   "cell_type": "code",
   "execution_count": 29,
   "metadata": {
    "collapsed": false
   },
   "outputs": [],
   "source": [
    "import glob\n",
    "densities=[]\n",
    "for i in glob.glob(\"density*.txt\"):\n",
    "    dens = np.loadtxt(i)\n",
    "    densities.append(mean(dens))"
   ]
  },
  {
   "cell_type": "code",
   "execution_count": 30,
   "metadata": {
    "collapsed": false
   },
   "outputs": [
    {
     "name": "stdout",
     "output_type": "stream",
     "text": [
      "[ 50 100 150 200 250 300 350 400 450 500]\n"
     ]
    }
   ],
   "source": [
    "k_range =np.arange(50,501,50)\n",
    "print k_range"
   ]
  },
  {
   "cell_type": "code",
   "execution_count": 14,
   "metadata": {
    "collapsed": false
   },
   "outputs": [
    {
     "data": {
      "text/plain": [
       "[4.0592675700423913e+35,\n",
       " 5.8403393051140855e+35,\n",
       " 7.2064966284176567e+35,\n",
       " 9.052533851530664e+35,\n",
       " 1.0624088591226459e+36,\n",
       " 1.4090765833589804e+36]"
      ]
     },
     "execution_count": 14,
     "metadata": {},
     "output_type": "execute_result"
    }
   ],
   "source": [
    "densities"
   ]
  },
  {
   "cell_type": "code",
   "execution_count": 32,
   "metadata": {
    "collapsed": false
   },
   "outputs": [
    {
     "data": {
      "text/plain": [
       "<matplotlib.text.Text at 0x7f3ef5f984d0>"
      ]
     },
     "execution_count": 32,
     "metadata": {},
     "output_type": "execute_result"
    },
    {
     "data": {
      "image/png": "[encoded data removed]",
      "text/plain": [
       "<matplotlib.figure.Figure at 0x7f3ef68ef0d0>"
      ]
     },
     "metadata": {},
     "output_type": "display_data"
    }
   ],
   "source": [
    "plt.plot(k_range[:7],densities)\n",
    "plt.plot(k_range[:7],densities,'o',color=\"red\")\n",
    "plt.suptitle(\"Hyperparameter tuning for KMeans on N=1000 pcls \",fontsize=13)\n",
    "plt.xlabel(\"n_cluster\",fontsize=13)\n",
    "plt.ylabel(\"average cluster density [code units]\",fontsize=13)"
   ]
  },
  {
   "cell_type": "markdown",
   "metadata": {
    "collapsed": true
   },
   "source": [
    "Still need to run 400 and 450"
   ]
  },
  {
   "cell_type": "code",
   "execution_count": null,
   "metadata": {
    "collapsed": true
   },
   "outputs": [],
   "source": []
  }
 ],
 "metadata": {
  "kernelspec": {
   "display_name": "Python 2",
   "language": "python",
   "name": "python2"
  },
  "language_info": {
   "codemirror_mode": {
    "name": "ipython",
    "version": 2
   },
   "file_extension": ".py",
   "mimetype": "text/x-python",
   "name": "python",
   "nbconvert_exporter": "python",
   "pygments_lexer": "ipython2",
   "version": "2.7.10"
  }
 },
 "nbformat": 4,
 "nbformat_minor": 0
}
