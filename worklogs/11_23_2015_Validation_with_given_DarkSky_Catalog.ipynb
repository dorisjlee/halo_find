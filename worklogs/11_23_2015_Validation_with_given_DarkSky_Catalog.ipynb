{
 "cells": [
  {
   "cell_type": "code",
   "execution_count": 2,
   "metadata": {
    "collapsed": true
   },
   "outputs": [],
   "source": [
    "# import sys\n",
    "# sys.path.remove('//anaconda/lib/python2.7/site-packages')\n",
    "# sys.path.append('/global/homes/d/dorislee/anaconda/lib/python2.7/site-packages')  "
   ]
  },
  {
   "cell_type": "code",
   "execution_count": 1,
   "metadata": {
    "collapsed": false
   },
   "outputs": [
    {
     "name": "stdout",
     "output_type": "stream",
     "text": [
      "/global/project/projectdirs/astro250/doris/halo/darksky_catalog\n"
     ]
    }
   ],
   "source": [
    "cd /project/projectdirs/astro250/doris/halo/darksky_catalog/"
   ]
  },
  {
   "cell_type": "markdown",
   "metadata": {},
   "source": [
    "Need to install thingking again"
   ]
  },
  {
   "cell_type": "raw",
   "metadata": {},
   "source": [
    "hg  clone https://dorislee0309@bitbucket.org/zeropy/thingking\n",
    "cd thingking/\n",
    "python setup.py install\n",
    "cp -r /global/homes/d/dorislee/anaconda/lib/python2.7/site-packages/thingking  ~/mypackages/\n",
    "p -r /global/homes/d/dorislee/anaconda/lib/python2.7/site-packages/thingking-1.0.2-py2.7.egg-info ~/mypackages/"
   ]
  },
  {
   "cell_type": "code",
   "execution_count": 2,
   "metadata": {
    "collapsed": false
   },
   "outputs": [],
   "source": [
    "import yt\n",
    "import numpy as np\n",
    "# from enhance import enhance\n",
    "from numpy import float64\n",
    "#I added an empty __init__.py so that the modules can detect what's inside the darksky/ directory\n",
    "# from darksky_tour.enhance import enhance\n",
    "from yt.utilities.lib.image_utilities import add_rgba_points_to_image\n",
    "from darksky_catalog import darksky"
   ]
  },
  {
   "cell_type": "code",
   "execution_count": 3,
   "metadata": {
    "collapsed": false
   },
   "outputs": [
    {
     "name": "stdout",
     "output_type": "stream",
     "text": [
      "[DarkSkySDFHaloCatalog: halos_a_1.0000, DarkSkySDFFullOutput: full_data_a_1.0000, DarkSkyFilteredHaloCatalog: filtered_1e15_a_1.0000]\n"
     ]
    }
   ],
   "source": [
    "# Define a bounding box of 100 Mpc on a side.\n",
    "center = np.array([-2505805.31114929,  -3517306.7572399, -1639170.70554688])\n",
    "width = 50.0e3 # 5 Mpc\n",
    "bbox = np.array([center-width/2, center+width/2])\n",
    "ds = darksky['ds14_a']#['halos_a'].load(bounding_box = \"None\", midx = 7)\n",
    "print ds.datasets"
   ]
  },
  {
   "cell_type": "markdown",
   "metadata": {},
   "source": [
    "tried to fix by [this](https://bitbucket.org/yt_analysis/yt/pull-requests/1862/bugfix-fix-python-35-tests/diff) but this didn't help '"
   ]
  },
  {
   "cell_type": "code",
   "execution_count": 5,
   "metadata": {
    "collapsed": false
   },
   "outputs": [
    {
     "name": "stderr",
     "output_type": "stream",
     "text": [
      "yt : [INFO     ] 2015-11-26 02:08:41,181 Building memmap with offset: 1216 and size 256\n",
      "yt : [INFO     ] 2015-11-26 02:08:41,215 Building memmap with offset: 7360 and size 4675339354\n"
     ]
    },
    {
     "name": "stdout",
     "output_type": "stream",
     "text": [
      "HTTPSDFREAD\n"
     ]
    },
    {
     "ename": "TypeError",
     "evalue": "Cannot cast ufunc multiply output from dtype('float64') to dtype('int64') with casting rule 'same_kind'",
     "output_type": "error",
     "traceback": [
      "\u001b[1;31m---------------------------------------------------------------------------\u001b[0m",
      "\u001b[1;31mTypeError\u001b[0m                                 Traceback (most recent call last)",
      "\u001b[1;32m<ipython-input-5-a485ba5f5c14>\u001b[0m in \u001b[0;36m<module>\u001b[1;34m()\u001b[0m\n\u001b[1;32m----> 1\u001b[1;33m \u001b[0mhalo\u001b[0m \u001b[1;33m=\u001b[0m \u001b[0mdarksky\u001b[0m\u001b[1;33m[\u001b[0m\u001b[1;34m'ds14_a'\u001b[0m\u001b[1;33m]\u001b[0m\u001b[1;33m[\u001b[0m\u001b[1;34m'halos_a_1.0000'\u001b[0m\u001b[1;33m]\u001b[0m\u001b[1;33m.\u001b[0m\u001b[0mload\u001b[0m\u001b[1;33m(\u001b[0m\u001b[0mbounding_box\u001b[0m \u001b[1;33m=\u001b[0m \u001b[1;34m\"None\"\u001b[0m\u001b[1;33m,\u001b[0m \u001b[0mmidx\u001b[0m \u001b[1;33m=\u001b[0m \u001b[1;36m7\u001b[0m\u001b[1;33m)\u001b[0m\u001b[1;33m\u001b[0m\u001b[0m\n\u001b[0m\u001b[0;32m      2\u001b[0m \u001b[0mtype\u001b[0m\u001b[1;33m(\u001b[0m\u001b[0mhalo\u001b[0m\u001b[1;33m)\u001b[0m\u001b[1;33m\u001b[0m\u001b[0m\n",
      "\u001b[1;32m/global/project/projectdirs/astro250/doris/halo/darksky_catalog/darksky_catalog/dataset.pyc\u001b[0m in \u001b[0;36mload\u001b[1;34m(self, bounding_box, midx)\u001b[0m\n\u001b[0;32m     77\u001b[0m             \u001b[0mmidx\u001b[0m \u001b[1;33m=\u001b[0m \u001b[0mself\u001b[0m\u001b[1;33m.\u001b[0m\u001b[0mindex_files\u001b[0m\u001b[1;33m[\u001b[0m\u001b[1;36m0\u001b[0m\u001b[1;33m]\u001b[0m\u001b[1;33m\u001b[0m\u001b[0m\n\u001b[0;32m     78\u001b[0m         \u001b[0mindex_file\u001b[0m \u001b[1;33m=\u001b[0m \u001b[0m_get_midx_filename\u001b[0m\u001b[1;33m(\u001b[0m\u001b[0mself\u001b[0m\u001b[1;33m.\u001b[0m\u001b[0mindex_files\u001b[0m\u001b[1;33m,\u001b[0m \u001b[0mmidx\u001b[0m\u001b[1;33m)\u001b[0m\u001b[1;33m\u001b[0m\u001b[0m\n\u001b[1;32m---> 79\u001b[1;33m         \u001b[0mds\u001b[0m \u001b[1;33m=\u001b[0m \u001b[0myt\u001b[0m\u001b[1;33m.\u001b[0m\u001b[0mload\u001b[0m\u001b[1;33m(\u001b[0m\u001b[0mself\u001b[0m\u001b[1;33m.\u001b[0m\u001b[0murl\u001b[0m\u001b[1;33m,\u001b[0m \u001b[0mmidx_filename\u001b[0m \u001b[1;33m=\u001b[0m \u001b[0mindex_file\u001b[0m\u001b[1;33m)\u001b[0m\u001b[1;33m\u001b[0m\u001b[0m\n\u001b[0m\u001b[0;32m     80\u001b[0m         \u001b[1;32mreturn\u001b[0m \u001b[0mds\u001b[0m\u001b[1;33m\u001b[0m\u001b[0m\n\u001b[0;32m     81\u001b[0m \u001b[1;33m\u001b[0m\u001b[0m\n",
      "\u001b[1;32m/global/homes/d/dorislee/anaconda/lib/python2.7/site-packages/yt/convenience.pyc\u001b[0m in \u001b[0;36mload\u001b[1;34m(*args, **kwargs)\u001b[0m\n\u001b[0;32m     82\u001b[0m     \u001b[0mcandidates\u001b[0m \u001b[1;33m=\u001b[0m \u001b[0mfind_lowest_subclasses\u001b[0m\u001b[1;33m(\u001b[0m\u001b[0mcandidates\u001b[0m\u001b[1;33m)\u001b[0m\u001b[1;33m\u001b[0m\u001b[0m\n\u001b[0;32m     83\u001b[0m     \u001b[1;32mif\u001b[0m \u001b[0mlen\u001b[0m\u001b[1;33m(\u001b[0m\u001b[0mcandidates\u001b[0m\u001b[1;33m)\u001b[0m \u001b[1;33m==\u001b[0m \u001b[1;36m1\u001b[0m\u001b[1;33m:\u001b[0m\u001b[1;33m\u001b[0m\u001b[0m\n\u001b[1;32m---> 84\u001b[1;33m         \u001b[1;32mreturn\u001b[0m \u001b[0mcandidates\u001b[0m\u001b[1;33m[\u001b[0m\u001b[1;36m0\u001b[0m\u001b[1;33m]\u001b[0m\u001b[1;33m(\u001b[0m\u001b[1;33m*\u001b[0m\u001b[0margs\u001b[0m\u001b[1;33m,\u001b[0m \u001b[1;33m**\u001b[0m\u001b[0mkwargs\u001b[0m\u001b[1;33m)\u001b[0m\u001b[1;33m\u001b[0m\u001b[0m\n\u001b[0m\u001b[0;32m     85\u001b[0m     \u001b[1;32mif\u001b[0m \u001b[0mlen\u001b[0m\u001b[1;33m(\u001b[0m\u001b[0mcandidates\u001b[0m\u001b[1;33m)\u001b[0m \u001b[1;33m==\u001b[0m \u001b[1;36m0\u001b[0m\u001b[1;33m:\u001b[0m\u001b[1;33m\u001b[0m\u001b[0m\n\u001b[0;32m     86\u001b[0m         \u001b[1;32mif\u001b[0m \u001b[0mytcfg\u001b[0m\u001b[1;33m.\u001b[0m\u001b[0mget\u001b[0m\u001b[1;33m(\u001b[0m\u001b[1;34m\"yt\"\u001b[0m\u001b[1;33m,\u001b[0m \u001b[1;34m\"enzo_db\"\u001b[0m\u001b[1;33m)\u001b[0m \u001b[1;33m!=\u001b[0m \u001b[1;34m''\u001b[0m\u001b[0;31m \u001b[0m\u001b[0;31m\\\u001b[0m\u001b[1;33m\u001b[0m\u001b[0m\n",
      "\u001b[1;32m/global/homes/d/dorislee/anaconda/lib/python2.7/site-packages/yt/frontends/sdf/data_structures.py\u001b[0m in \u001b[0;36m__init__\u001b[1;34m(self, filename, dataset_type, n_ref, over_refine_factor, bounding_box, sdf_header, midx_filename, midx_header, midx_level, field_map, units_override)\u001b[0m\n\u001b[0;32m    113\u001b[0m         \u001b[0mdataset_type\u001b[0m \u001b[1;33m=\u001b[0m \u001b[0mprefix\u001b[0m \u001b[1;33m+\u001b[0m \u001b[1;34m'sdf_particles'\u001b[0m\u001b[1;33m\u001b[0m\u001b[0m\n\u001b[0;32m    114\u001b[0m         super(SDFDataset, self).__init__(filename, dataset_type,\n\u001b[1;32m--> 115\u001b[1;33m                                          units_override=units_override)\n\u001b[0m\u001b[0;32m    116\u001b[0m \u001b[1;33m\u001b[0m\u001b[0m\n\u001b[0;32m    117\u001b[0m     \u001b[1;32mdef\u001b[0m \u001b[0m_parse_parameter_file\u001b[0m\u001b[1;33m(\u001b[0m\u001b[0mself\u001b[0m\u001b[1;33m)\u001b[0m\u001b[1;33m:\u001b[0m\u001b[1;33m\u001b[0m\u001b[0m\n",
      "\u001b[1;32m/global/homes/d/dorislee/anaconda/lib/python2.7/site-packages/yt/data_objects/static_output.pyc\u001b[0m in \u001b[0;36m__init__\u001b[1;34m(self, filename, dataset_type, file_style, units_override)\u001b[0m\n\u001b[0;32m    188\u001b[0m \u001b[1;33m\u001b[0m\u001b[0m\n\u001b[0;32m    189\u001b[0m         \u001b[0mself\u001b[0m\u001b[1;33m.\u001b[0m\u001b[0m_create_unit_registry\u001b[0m\u001b[1;33m(\u001b[0m\u001b[1;33m)\u001b[0m\u001b[1;33m\u001b[0m\u001b[0m\n\u001b[1;32m--> 190\u001b[1;33m         \u001b[0mself\u001b[0m\u001b[1;33m.\u001b[0m\u001b[0m_parse_parameter_file\u001b[0m\u001b[1;33m(\u001b[0m\u001b[1;33m)\u001b[0m\u001b[1;33m\u001b[0m\u001b[0m\n\u001b[0m\u001b[0;32m    191\u001b[0m         \u001b[0mself\u001b[0m\u001b[1;33m.\u001b[0m\u001b[0mset_units\u001b[0m\u001b[1;33m(\u001b[0m\u001b[1;33m)\u001b[0m\u001b[1;33m\u001b[0m\u001b[0m\n\u001b[0;32m    192\u001b[0m         \u001b[0mself\u001b[0m\u001b[1;33m.\u001b[0m\u001b[0m_setup_coordinate_handler\u001b[0m\u001b[1;33m(\u001b[0m\u001b[1;33m)\u001b[0m\u001b[1;33m\u001b[0m\u001b[0m\n",
      "\u001b[1;32m/global/homes/d/dorislee/anaconda/lib/python2.7/site-packages/yt/frontends/sdf/data_structures.py\u001b[0m in \u001b[0;36m_parse_parameter_file\u001b[1;34m(self)\u001b[0m\n\u001b[0;32m    147\u001b[0m                 self.domain_right_edge = np.array([\n\u001b[0;32m    148\u001b[0m                     +self.parameters.get(\"R%s\" % ax, R0) for ax in 'xyz'],dtype=np.int64)\n\u001b[1;32m--> 149\u001b[1;33m             \u001b[0mself\u001b[0m\u001b[1;33m.\u001b[0m\u001b[0mdomain_left_edge\u001b[0m \u001b[1;33m*=\u001b[0m \u001b[0mself\u001b[0m\u001b[1;33m.\u001b[0m\u001b[0mparameters\u001b[0m\u001b[1;33m.\u001b[0m\u001b[0mget\u001b[0m\u001b[1;33m(\u001b[0m\u001b[1;34m\"a\"\u001b[0m\u001b[1;33m,\u001b[0m \u001b[1;36m1.0\u001b[0m\u001b[1;33m)\u001b[0m\u001b[1;33m\u001b[0m\u001b[0m\n\u001b[0m\u001b[0;32m    150\u001b[0m             \u001b[0mself\u001b[0m\u001b[1;33m.\u001b[0m\u001b[0mdomain_right_edge\u001b[0m \u001b[1;33m*=\u001b[0m \u001b[0mself\u001b[0m\u001b[1;33m.\u001b[0m\u001b[0mparameters\u001b[0m\u001b[1;33m.\u001b[0m\u001b[0mget\u001b[0m\u001b[1;33m(\u001b[0m\u001b[1;34m\"a\"\u001b[0m\u001b[1;33m,\u001b[0m \u001b[1;36m1.0\u001b[0m\u001b[1;33m)\u001b[0m\u001b[1;33m\u001b[0m\u001b[0m\n\u001b[0;32m    151\u001b[0m \u001b[1;33m\u001b[0m\u001b[0m\n",
      "\u001b[1;31mTypeError\u001b[0m: Cannot cast ufunc multiply output from dtype('float64') to dtype('int64') with casting rule 'same_kind'"
     ]
    }
   ],
   "source": [
    "halo = darksky['ds14_a']['halos_a_1.0000'].load(bounding_box = \"None\", midx = 7)\n",
    "type(halo)"
   ]
  },
  {
   "cell_type": "raw",
   "metadata": {},
   "source": [
    "grep -rnw '/global/homes/d/dorislee/anaconda/lib/python2.7/site-packages/yt/frontends/sdf/' -e \"sdf_container\""
   ]
  },
  {
   "cell_type": "raw",
   "metadata": {},
   "source": [
    "self.sdf_container = sdf_class(self.parameter_filename,\n",
    "                                 header=self.sdf_header)"
   ]
  },
  {
   "cell_type": "code",
   "execution_count": 1,
   "metadata": {
    "collapsed": false
   },
   "outputs": [
    {
     "name": "stdout",
     "output_type": "stream",
     "text": [
      "/global/project/projectdirs/astro250/doris/halo/darksky_catalog\n"
     ]
    }
   ],
   "source": [
    "cd /project/projectdirs/astro250/doris/halo/darksky_catalog/"
   ]
  },
  {
   "cell_type": "code",
   "execution_count": 2,
   "metadata": {
    "collapsed": false
   },
   "outputs": [
    {
     "name": "stdout",
     "output_type": "stream",
     "text": [
      "[DarkSkySDFHaloCatalog: halos_a_1.0000, DarkSkySDFFullOutput: full_data_a_1.0000, DarkSkyFilteredHaloCatalog: filtered_1e15_a_1.0000]\n"
     ]
    }
   ],
   "source": [
    "import yt\n",
    "import numpy as np\n",
    "# from enhance import enhance\n",
    "from numpy import float64\n",
    "#I added an empty __init__.py so that the modules can detect what's inside the darksky/ directory\n",
    "# from darksky_tour.enhance import enhance\n",
    "from yt.utilities.lib.image_utilities import add_rgba_points_to_image\n",
    "from darksky_catalog import darksky\n",
    "# Define a bounding box of 100 Mpc on a side.\n",
    "center = np.array([-2505805.31114929,  -3517306.7572399, -1639170.70554688])\n",
    "width = 50.0e3 # 5 Mpc\n",
    "bbox = np.array([center-width/2, center+width/2])\n",
    "ds = darksky['ds14_a']#['halos_a'].load(bounding_box = \"None\", midx = 7)\n",
    "print ds.datasets"
   ]
  },
  {
   "cell_type": "code",
   "execution_count": 3,
   "metadata": {
    "collapsed": false
   },
   "outputs": [],
   "source": [
    "arr = np.array([0,0,0],dtype=np.float64)\n",
    "val = 1.0\n",
    "arr *=val"
   ]
  },
  {
   "cell_type": "code",
   "execution_count": 4,
   "metadata": {
    "collapsed": false
   },
   "outputs": [
    {
     "data": {
      "text/plain": [
       "array([ 0.,  0.,  0.])"
      ]
     },
     "execution_count": 4,
     "metadata": {},
     "output_type": "execute_result"
    }
   ],
   "source": [
    "arr"
   ]
  },
  {
   "cell_type": "code",
   "execution_count": 3,
   "metadata": {
    "collapsed": false
   },
   "outputs": [
    {
     "name": "stderr",
     "output_type": "stream",
     "text": [
      "yt : [INFO     ] 2015-11-26 05:51:27,078 Building memmap with offset: 1216 and size 256\n",
      "yt : [INFO     ] 2015-11-26 05:51:27,116 Building memmap with offset: 7360 and size 4675339354\n",
      "yt : [INFO     ] 2015-11-26 05:51:27,164 Calculating time to be 4.342e+17 seconds\n",
      "yt : [INFO     ] 2015-11-26 05:51:27,192 Parameters: current_time              = 4.34205871754e+17\n",
      "yt : [INFO     ] 2015-11-26 05:51:27,193 Parameters: domain_dimensions         = [2 2 2]\n",
      "yt : [INFO     ] 2015-11-26 05:51:27,194 Parameters: domain_left_edge          = [ 0.  0.  0.]\n",
      "yt : [INFO     ] 2015-11-26 05:51:27,195 Parameters: domain_right_edge         = [ 8000.  8000.  8000.]\n",
      "yt : [INFO     ] 2015-11-26 05:51:27,195 Parameters: cosmological_simulation   = 1\n",
      "yt : [INFO     ] 2015-11-26 05:51:27,196 Parameters: current_redshift          = 0.0\n",
      "yt : [INFO     ] 2015-11-26 05:51:27,196 Parameters: omega_lambda              = 0.704874\n",
      "yt : [INFO     ] 2015-11-26 05:51:27,197 Parameters: omega_matter              = 0.295126\n",
      "yt : [INFO     ] 2015-11-26 05:51:27,197 Parameters: hubble_constant           = 0.688062\n"
     ]
    },
    {
     "data": {
      "text/plain": [
       "yt.frontends.sdf.data_structures.SDFDataset"
      ]
     },
     "execution_count": 3,
     "metadata": {},
     "output_type": "execute_result"
    }
   ],
   "source": [
    "halo = darksky['ds14_a']['halos_a_1.0000'].load(bounding_box = \"None\", midx = 7)\n",
    "type(halo)"
   ]
  },
  {
   "cell_type": "raw",
   "metadata": {},
   "source": [
    "        if None in (self.domain_left_edge, self.domain_right_edge):\n",
    "            R0 = self.parameters['R0']\n",
    "            if 'offset_center' in self.parameters and self.parameters['offset_center']:\n",
    "                self.domain_left_edge = np.array([0, 0, 0])\n",
    "                self.domain_right_edge = np.array([\n",
    "                 2.0 * self.parameters.get(\"R%s\" % ax, R0) for ax in 'xyz'])\n",
    "            else:\n",
    "                self.domain_left_edge = np.array([\n",
    "                    -self.parameters.get(\"R%s\" % ax, R0) for ax in 'xyz'])\n",
    "                self.domain_right_edge = np.array([\n",
    "                    +self.parameters.get(\"R%s\" % ax, R0) for ax in 'xyz'])\n",
    "            print type(self.parameters.get(\"a\", 1.0))\n",
    "            print self.parameters.get(\"a\", 1.0)\n",
    "            print type(self.domain_left_edge)\n",
    "            print self.domain_left_edge\n",
    "            self.domain_left_edge *= int(self.parameters.get(\"a\", 1.0))\n",
    "            self.domain_right_edge *= int(self.parameters.get(\"a\", 1.0))"
   ]
  },
  {
   "cell_type": "markdown",
   "metadata": {},
   "source": [
    "Okay bug fixed...moving on."
   ]
  },
  {
   "cell_type": "code",
   "execution_count": 7,
   "metadata": {
    "collapsed": true
   },
   "outputs": [],
   "source": [
    "filtered_catalog =darksky['ds14_a']['filtered_1e15_a_1.0000']"
   ]
  },
  {
   "cell_type": "code",
   "execution_count": 6,
   "metadata": {
    "collapsed": false
   },
   "outputs": [
    {
     "data": {
      "text/plain": [
       "[DarkSkySDFHaloCatalog: halos_a_1.0000,\n",
       " DarkSkySDFFullOutput: full_data_a_1.0000,\n",
       " DarkSkyFilteredHaloCatalog: filtered_1e15_a_1.0000]"
      ]
     },
     "execution_count": 6,
     "metadata": {},
     "output_type": "execute_result"
    }
   ],
   "source": [
    "darksky['ds14_a'].datasets"
   ]
  },
  {
   "cell_type": "code",
   "execution_count": 14,
   "metadata": {
    "collapsed": true
   },
   "outputs": [],
   "source": [
    "yt.funcs.mylog.setLevel(50)"
   ]
  },
  {
   "cell_type": "code",
   "execution_count": 15,
   "metadata": {
    "collapsed": false
   },
   "outputs": [
    {
     "name": "stdout",
     "output_type": "stream",
     "text": [
      "HTTPSDFREAD\n",
      "<type 'numpy.float64'>\n",
      "1.0\n",
      "<type 'numpy.ndarray'>\n",
      "[0 0 0]\n"
     ]
    },
    {
     "data": {
      "text/plain": [
       "(2573.74609375, 4400.4296875, 2438.5810546875, 170.69931030273438, -178.6830596923828, -269.6794738769531, 5967416286773248.0, 7118018161147904.0, 4287023217115136.0, 2829745376985088.0, 859232098320384.0, 2682.095947265625, 1804.38330078125, 4.698720455169678, 0.024555811658501625, 0.6881513595581055, 22578031121, -1)"
      ]
     },
     "execution_count": 15,
     "metadata": {},
     "output_type": "execute_result"
    }
   ],
   "source": [
    "filtered_catalog.get_halo(3)"
   ]
  },
  {
   "cell_type": "code",
   "execution_count": 16,
   "metadata": {
    "collapsed": false
   },
   "outputs": [],
   "source": [
    "ds = filtered_catalog.load()"
   ]
  },
  {
   "cell_type": "code",
   "execution_count": 17,
   "metadata": {
    "collapsed": false
   },
   "outputs": [
    {
     "name": "stdout",
     "output_type": "stream",
     "text": [
      "HTTPSDFREAD\n",
      "<type 'numpy.float64'>\n",
      "1.0\n",
      "<type 'numpy.ndarray'>\n",
      "[0 0 0]\n"
     ]
    },
    {
     "data": {
      "text/plain": [
       "(2726.94287109375, 3072.8818359375, 641.2564697265625, -68.32164764404297, 105.40631103515625, 122.46353912353516, 927564558237696.0, 1000036024451072.0, 826901060911104.0, 647010919120896.0, 135844958568448.0, 1645.4683837890625, 971.8765869140625, 2.442671775817871, 0.045493233948946, 0.7754606604576111, 3573634164, -1)"
      ]
     },
     "execution_count": 17,
     "metadata": {},
     "output_type": "execute_result"
    }
   ],
   "source": [
    "filtered_catalog.get_halo(136591)"
   ]
  },
  {
   "cell_type": "code",
   "execution_count": 18,
   "metadata": {
    "collapsed": true
   },
   "outputs": [],
   "source": [
    "def get_halo(self, n):\n",
    "        ds = self.load()\n",
    "        offset = ds['id'][n]\n",
    "        catalog = self.parent[self.halo_catalog].load(midx = -1)\n",
    "#         return catalog\n",
    "        return  catalog.sdf_container.structs\n",
    "#         halo = catalog.sdf_container.structs[-1][offset][0]\n",
    "#         return halo"
   ]
  },
  {
   "cell_type": "code",
   "execution_count": 19,
   "metadata": {
    "collapsed": false
   },
   "outputs": [
    {
     "name": "stdout",
     "output_type": "stream",
     "text": [
      "HTTPSDFREAD\n",
      "<type 'numpy.float64'>\n",
      "1.0\n",
      "<type 'numpy.ndarray'>\n",
      "[0 0 0]\n"
     ]
    },
    {
     "data": {
      "text/plain": [
       "[<yt.utilities.sdf.HTTPDataStruct at 0x7fc1104180d0>,\n",
       " <yt.utilities.sdf.HTTPDataStruct at 0x7fc1103f1cd0>]"
      ]
     },
     "execution_count": 19,
     "metadata": {},
     "output_type": "execute_result"
    }
   ],
   "source": [
    "get_halo(filtered_catalog,4)"
   ]
  },
  {
   "cell_type": "code",
   "execution_count": 20,
   "metadata": {
    "collapsed": false
   },
   "outputs": [
    {
     "name": "stdout",
     "output_type": "stream",
     "text": [
      "HTTPSDFREAD\n",
      "<type 'numpy.float64'>\n",
      "1.0\n",
      "<type 'numpy.ndarray'>\n",
      "[0 0 0]\n"
     ]
    },
    {
     "data": {
      "text/plain": [
       "array([ (13.368721008300781, 3.1736860275268555, 7.173592567443848, 83.88713836669922, -115.49732208251953, -169.82952880859375, 663801167872.0, 780942573568.0, 468565557248.0, 390471286784.0, 0.0, 139.84893798828125, 85.87332153320312, 0.22493979334831238, 0.08961829543113708, 0.7047524452209473, 3, -1)], \n",
       "      dtype=[('x', '<f4'), ('y', '<f4'), ('z', '<f4'), ('vx', '<f4'), ('vy', '<f4'), ('vz', '<f4'), ('mvir', '<f4'), ('m200b', '<f4'), ('m200c', '<f4'), ('m500c', '<f4'), ('m2500c', '<f4'), ('vmax', '<f4'), ('rvmax', '<f4'), ('r200b', '<f4'), ('spin', '<f4'), ('kin_to_pot', '<f4'), ('id', '<i8'), ('pid', '<i8')])"
      ]
     },
     "execution_count": 20,
     "metadata": {},
     "output_type": "execute_result"
    }
   ],
   "source": [
    "get_halo(filtered_catalog,4)[-1][10]"
   ]
  },
  {
   "cell_type": "code",
   "execution_count": 27,
   "metadata": {
    "collapsed": false
   },
   "outputs": [
    {
     "name": "stdout",
     "output_type": "stream",
     "text": [
      "HTTPSDFREAD\n",
      "<type 'numpy.float64'>\n",
      "1.0\n",
      "<type 'numpy.ndarray'>\n",
      "[0 0 0]\n"
     ]
    },
    {
     "data": {
      "text/plain": [
       "array([ (151.07432556152344, 217.76809692382812, 208.54818725585938, 243.1653289794922, -265.89288330078125, 470.3860778808594, 468565557248.0, 663801167872.0, 0.0, 0.0, 0.0, 116.45033264160156, 136.2347412109375, 0.2130783051252365, 0.01926681026816368, 1.1191160678863525, 104183, -1)], \n",
       "      dtype=[('x', '<f4'), ('y', '<f4'), ('z', '<f4'), ('vx', '<f4'), ('vy', '<f4'), ('vz', '<f4'), ('mvir', '<f4'), ('m200b', '<f4'), ('m200c', '<f4'), ('m500c', '<f4'), ('m2500c', '<f4'), ('vmax', '<f4'), ('rvmax', '<f4'), ('r200b', '<f4'), ('spin', '<f4'), ('kin_to_pot', '<f4'), ('id', '<i8'), ('pid', '<i8')])"
      ]
     },
     "execution_count": 27,
     "metadata": {},
     "output_type": "execute_result"
    }
   ],
   "source": [
    "get_halo(filtered_catalog,136591)[-1][136591]#[0]"
   ]
  },
  {
   "cell_type": "markdown",
   "metadata": {},
   "source": [
    "don't mess with the offset, the offset searches inside the id list inside the whole \"ds\" full dataset and finds where the index for that particle is "
   ]
  },
  {
   "cell_type": "code",
   "execution_count": 28,
   "metadata": {
    "collapsed": false
   },
   "outputs": [
    {
     "name": "stdout",
     "output_type": "stream",
     "text": [
      "HTTPSDFREAD\n",
      "<type 'numpy.float64'>\n",
      "1.0\n",
      "<type 'numpy.ndarray'>\n",
      "[0 0 0]\n"
     ]
    },
    {
     "data": {
      "text/plain": [
       "(2726.94287109375, 3072.8818359375, 641.2564697265625, -68.32164764404297, 105.40631103515625, 122.46353912353516, 927564558237696.0, 1000036024451072.0, 826901060911104.0, 647010919120896.0, 135844958568448.0, 1645.4683837890625, 971.8765869140625, 2.442671775817871, 0.045493233948946, 0.7754606604576111, 3573634164, -1)"
      ]
     },
     "execution_count": 28,
     "metadata": {},
     "output_type": "execute_result"
    }
   ],
   "source": [
    "filtered_catalog.get_halo(136591)"
   ]
  },
  {
   "cell_type": "code",
   "execution_count": 29,
   "metadata": {
    "collapsed": true
   },
   "outputs": [],
   "source": [
    "def get_halo(self, n):\n",
    "        ds = self.load()\n",
    "        offset = ds['id'][n]\n",
    "        catalog = self.parent[self.halo_catalog].load(midx = -1)\n",
    "#         return catalog\n",
    "        return  catalog.sdf_container.structs[-1][offset]\n",
    "#         halo = catalog.sdf_container.structs[-1][offset][0]\n",
    "#         return halo"
   ]
  },
  {
   "cell_type": "code",
   "execution_count": 31,
   "metadata": {
    "collapsed": false
   },
   "outputs": [
    {
     "name": "stdout",
     "output_type": "stream",
     "text": [
      "HTTPSDFREAD\n",
      "<type 'numpy.float64'>\n",
      "1.0\n",
      "<type 'numpy.ndarray'>\n",
      "[0 0 0]\n"
     ]
    },
    {
     "data": {
      "text/plain": [
       "(2726.94287109375, 3072.8818359375, 641.2564697265625, -68.32164764404297, 105.40631103515625, 122.46353912353516, 927564558237696.0, 1000036024451072.0, 826901060911104.0, 647010919120896.0, 135844958568448.0, 1645.4683837890625, 971.8765869140625, 2.442671775817871, 0.045493233948946, 0.7754606604576111, 3573634164, -1)"
      ]
     },
     "execution_count": 31,
     "metadata": {},
     "output_type": "execute_result"
    }
   ],
   "source": [
    "get_halo(filtered_catalog,136591)[0]#[-1][136591]#[0]"
   ]
  },
  {
   "cell_type": "markdown",
   "metadata": {},
   "source": [
    "is there a way to get the info about which particles are clustered together in which halo? "
   ]
  },
  {
   "cell_type": "code",
   "execution_count": 32,
   "metadata": {
    "collapsed": false
   },
   "outputs": [
    {
     "data": {
      "text/plain": [
       "DarkSkyCatalog: ds14_a"
      ]
     },
     "execution_count": 32,
     "metadata": {},
     "output_type": "execute_result"
    }
   ],
   "source": [
    "filtered_catalog.parent"
   ]
  },
  {
   "cell_type": "code",
   "execution_count": 33,
   "metadata": {
    "collapsed": false
   },
   "outputs": [
    {
     "data": {
      "text/plain": [
       "'halos_a_1.0000'"
      ]
     },
     "execution_count": 33,
     "metadata": {},
     "output_type": "execute_result"
    }
   ],
   "source": [
    "filtered_catalog.halo_catalog"
   ]
  },
  {
   "cell_type": "code",
   "execution_count": 36,
   "metadata": {
    "collapsed": false
   },
   "outputs": [
    {
     "data": {
      "text/plain": [
       "DarkSkySDFHaloCatalog: halos_a_1.0000"
      ]
     },
     "execution_count": 36,
     "metadata": {},
     "output_type": "execute_result"
    }
   ],
   "source": [
    "filtered_catalog.parent['halos_a_1.0000']"
   ]
  },
  {
   "cell_type": "code",
   "execution_count": 37,
   "metadata": {
    "collapsed": false
   },
   "outputs": [
    {
     "ename": "AttributeError",
     "evalue": "'DarkSkySDFHaloCatalog' object has no attribute 'sdf_container'",
     "output_type": "error",
     "traceback": [
      "\u001b[1;31m---------------------------------------------------------------------------\u001b[0m",
      "\u001b[1;31mAttributeError\u001b[0m                            Traceback (most recent call last)",
      "\u001b[1;32m<ipython-input-37-372a524017c6>\u001b[0m in \u001b[0;36m<module>\u001b[1;34m()\u001b[0m\n\u001b[1;32m----> 1\u001b[1;33m \u001b[0mfiltered_catalog\u001b[0m\u001b[1;33m.\u001b[0m\u001b[0mparent\u001b[0m\u001b[1;33m[\u001b[0m\u001b[1;34m'halos_a_1.0000'\u001b[0m\u001b[1;33m]\u001b[0m\u001b[1;33m.\u001b[0m\u001b[0msdf_container\u001b[0m\u001b[1;33m.\u001b[0m\u001b[0mstructs\u001b[0m\u001b[1;33m\u001b[0m\u001b[0m\n\u001b[0m",
      "\u001b[1;31mAttributeError\u001b[0m: 'DarkSkySDFHaloCatalog' object has no attribute 'sdf_container'"
     ]
    }
   ],
   "source": [
    "filtered_catalog.parent['halos_a_1.0000'].sdf_container.structs"
   ]
  },
  {
   "cell_type": "code",
   "execution_count": 5,
   "metadata": {
    "collapsed": true
   },
   "outputs": [],
   "source": [
    "halo_info=np.array([1,2])\n",
    "np.savetxt(\"halo_catalog.txt\",halo_info)"
   ]
  },
  {
   "cell_type": "code",
   "execution_count": null,
   "metadata": {
    "collapsed": true
   },
   "outputs": [],
   "source": []
  }
 ],
 "metadata": {
  "kernelspec": {
   "display_name": "Python 2",
   "language": "python",
   "name": "python2"
  },
  "language_info": {
   "codemirror_mode": {
    "name": "ipython",
    "version": 2
   },
   "file_extension": ".py",
   "mimetype": "text/x-python",
   "name": "python",
   "nbconvert_exporter": "python",
   "pygments_lexer": "ipython2",
   "version": "2.7.10"
  }
 },
 "nbformat": 4,
 "nbformat_minor": 0
}
