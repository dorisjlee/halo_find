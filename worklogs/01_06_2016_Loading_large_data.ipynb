{
 "cells": [
  {
   "cell_type": "markdown",
   "metadata": {},
   "source": [
    "0.004KB per particle per x value"
   ]
  },
  {
   "cell_type": "code",
   "execution_count": 2,
   "metadata": {
    "collapsed": false
   },
   "outputs": [
    {
     "name": "stdout",
     "output_type": "stream",
     "text": [
      "16000000.0 KB\n"
     ]
    }
   ],
   "source": [
    "print 1000000000*0.004*4,\"KB\" #4 items to store [id, x, y,z] , 1 trillion particles "
   ]
  },
  {
   "cell_type": "code",
   "execution_count": 3,
   "metadata": {
    "collapsed": false
   },
   "outputs": [
    {
     "name": "stdout",
     "output_type": "stream",
     "text": [
      "16 GB\n"
     ]
    }
   ],
   "source": [
    "print 16, \"GB\""
   ]
  },
  {
   "cell_type": "markdown",
   "metadata": {},
   "source": [
    "Loading this much memory into RAM is prob a bad idea ."
   ]
  },
  {
   "cell_type": "raw",
   "metadata": {},
   "source": [
    "/home/doris/anaconda/bin/python mbk.py  28000\n",
    "28000 clusters test\n",
    "Loading 1000000000 Particles\n",
    "Traceback (most recent call last):\n",
    "  File \"mbk.py\", line 18, in <module>\n",
    "    x = data['x'][:num]\n",
    "  File \"/home/doris/anaconda/lib/python2.7/site-packages/yt/utilities/sdf.py\", line 213, in __getitem__\n",
    "    return self.http_array[sl][self.key]\n",
    "  File \"/home/doris/anaconda/lib/python2.7/site-packages/thingking/httpmmap.py\", line 69, in __getitem__\n",
    "    raw_data = self.pcu[byte_start, byte_end]\n",
    "  File \"/home/doris/anaconda/lib/python2.7/site-packages/thingking/arbitrary_page.py\", line 71, in __getitem__\n",
    "    return output.read()\n",
    "OverflowError: length too large"
   ]
  },
  {
   "cell_type": "raw",
   "metadata": {},
   "source": [
    "doris@bigdog-data:~/halo_find/larger_ds$ ~/anaconda/bin/python mbk.py 1000\n",
    "1000 clusters test\n",
    "Loading 1000000 Particles\n",
    "4000000\n",
    "Conducting MBKMeans\n",
    "/home/doris/anaconda/lib/python2.7/site-packages/sklearn/cluster/k_means_.py:1273: RuntimeWarning: init_size=300 should be larger than k=1000. Setting it to 3*k\n",
    "  init_size=init_size)\n",
    "Time:  278.09374094"
   ]
  },
  {
   "cell_type": "code",
   "execution_count": 5,
   "metadata": {
    "collapsed": false
   },
   "outputs": [
    {
     "data": {
      "text/plain": [
       "52.4288"
      ]
     },
     "execution_count": 5,
     "metadata": {},
     "output_type": "execute_result"
    }
   ],
   "source": [
    "2097152./40000"
   ]
  },
  {
   "cell_type": "code",
   "execution_count": 6,
   "metadata": {
    "collapsed": false
   },
   "outputs": [
    {
     "data": {
      "text/plain": [
       "4194.304"
      ]
     },
     "execution_count": 6,
     "metadata": {},
     "output_type": "execute_result"
    }
   ],
   "source": [
    "2097152./500"
   ]
  },
  {
   "cell_type": "raw",
   "metadata": {},
   "source": [
    "doris@bigdog-data:~/halo_find/10MMBK$ ~/anaconda/bin/python mbk.py 4000\n",
    "4000 clusters test\n",
    "Loading Particle Data\n",
    "/home/doris/anaconda/lib/python2.7/site-packages/sklearn/cluster/k_means_.py:1273: RuntimeWarning: init_size=300 should be larger than k=4000. Setting it to 3*k\n",
    "  init_size=init_size)\n",
    "Time:  1054.21722507"
   ]
  },
  {
   "cell_type": "code",
   "execution_count": 8,
   "metadata": {
    "collapsed": false
   },
   "outputs": [
    {
     "data": {
      "text/plain": [
       "20971.52"
      ]
     },
     "execution_count": 8,
     "metadata": {},
     "output_type": "execute_result"
    }
   ],
   "source": [
    "2097152./500"
   ]
  },
  {
   "cell_type": "code",
   "execution_count": null,
   "metadata": {
    "collapsed": true
   },
   "outputs": [],
   "source": []
  }
 ],
 "metadata": {
  "kernelspec": {
   "display_name": "Python 2",
   "language": "python",
   "name": "python2"
  },
  "language_info": {
   "codemirror_mode": {
    "name": "ipython",
    "version": 2
   },
   "file_extension": ".py",
   "mimetype": "text/x-python",
   "name": "python",
   "nbconvert_exporter": "python",
   "pygments_lexer": "ipython2",
   "version": "2.7.10"
  }
 },
 "nbformat": 4,
 "nbformat_minor": 0
}
