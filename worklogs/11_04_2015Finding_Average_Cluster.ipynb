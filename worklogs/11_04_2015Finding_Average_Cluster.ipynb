{
 "cells": [
  {
   "cell_type": "code",
   "execution_count": 1,
   "metadata": {
    "collapsed": false
   },
   "outputs": [
    {
     "name": "stdout",
     "output_type": "stream",
     "text": [
      "Populating the interactive namespace from numpy and matplotlib\n"
     ]
    }
   ],
   "source": [
    "%pylab inline"
   ]
  },
  {
   "cell_type": "code",
   "execution_count": 2,
   "metadata": {
    "collapsed": false
   },
   "outputs": [
    {
     "name": "stdout",
     "output_type": "stream",
     "text": [
      "/global/project/projectdirs/astro250/doris/halo/yt-dark/darksky_catalog\n"
     ]
    }
   ],
   "source": [
    "cd ../yt-dark/darksky_catalog/"
   ]
  },
  {
   "cell_type": "code",
   "execution_count": 3,
   "metadata": {
    "collapsed": false
   },
   "outputs": [
    {
     "data": {
      "text/plain": [
       "(2726.94287109375, 3072.8818359375, 641.2564697265625, -68.32164764404297, 105.40631103515625, 122.46353912353516, 927564558237696.0, 1000036024451072.0, 826901060911104.0, 647010919120896.0, 135844958568448.0, 1645.4683837890625, 971.8765869140625, 2.442671775817871, 0.045493233948946, 0.7754606604576111, 3573634164, -1)"
      ]
     },
     "execution_count": 3,
     "metadata": {},
     "output_type": "execute_result"
    }
   ],
   "source": [
    "import yt\n",
    "yt.funcs.mylog.setLevel(50)\n",
    "import yt\n",
    "import numpy as np\n",
    "from numpy import float64\n",
    "from darksky_catalog import darksky\n",
    "filtered_catalog =darksky['ds14_a']['filtered_1e15_a_1.0000']\n",
    "filtered_catalog.get_halo(136591)"
   ]
  },
  {
   "cell_type": "code",
   "execution_count": 4,
   "metadata": {
    "collapsed": true
   },
   "outputs": [],
   "source": [
    "def get_halo(self, n):\n",
    "        ds = self.load()\n",
    "        offset = ds['id'][n]\n",
    "        catalog = self.parent[self.halo_catalog].load(midx = -1)\n",
    "#         return catalog\n",
    "        return  catalog.sdf_container.structs\n",
    "#         halo = catalog.sdf_container.structs[-1][offset][0]\n",
    "#         return halo"
   ]
  },
  {
   "cell_type": "markdown",
   "metadata": {},
   "source": [
    "the halo number density information is not stored in the catalog (so we can not know exactly how many particles are in each cluster, no distribution)"
   ]
  },
  {
   "cell_type": "code",
   "execution_count": 5,
   "metadata": {
    "collapsed": true
   },
   "outputs": [],
   "source": [
    "ds = filtered_catalog.load()"
   ]
  },
  {
   "cell_type": "markdown",
   "metadata": {},
   "source": [
    "So assuming halo densities are fairly uniform "
   ]
  },
  {
   "cell_type": "code",
   "execution_count": 6,
   "metadata": {
    "collapsed": false
   },
   "outputs": [
    {
     "data": {
      "text/plain": [
       "(2097152,)"
      ]
     },
     "execution_count": 6,
     "metadata": {},
     "output_type": "execute_result"
    }
   ],
   "source": [
    "ds = yt.load(\"../../ds14_scivis_0128_e4_dt04_1.0000\")\n",
    "ad = ds.all_data()\n",
    "x = ad[(\"all\",\"particle_position_x\")]\n",
    "shape(x)"
   ]
  },
  {
   "cell_type": "code",
   "execution_count": 7,
   "metadata": {
    "collapsed": false
   },
   "outputs": [
    {
     "data": {
      "text/plain": [
       "15.353515238924965"
      ]
     },
     "execution_count": 7,
     "metadata": {},
     "output_type": "execute_result"
    }
   ],
   "source": [
    "2097152./136591."
   ]
  },
  {
   "cell_type": "code",
   "execution_count": 8,
   "metadata": {
    "collapsed": false
   },
   "outputs": [
    {
     "data": {
      "text/plain": [
       "array([ (7.34108304977417, 6.844421863555908, 3.041682720184326, 39.224151611328125, 30.469642639160156, -222.8054656982422, 546659794944.0, 585706962944.0, 351424151552.0, 0.0, 0.0, 126.12124633789062, 126.7013931274414, 0.2043713629245758, 0.07390498369932175, 0.6144919395446777, 11, -1)], \n",
       "      dtype=[('x', '<f4'), ('y', '<f4'), ('z', '<f4'), ('vx', '<f4'), ('vy', '<f4'), ('vz', '<f4'), ('mvir', '<f4'), ('m200b', '<f4'), ('m200c', '<f4'), ('m500c', '<f4'), ('m2500c', '<f4'), ('vmax', '<f4'), ('rvmax', '<f4'), ('r200b', '<f4'), ('spin', '<f4'), ('kin_to_pot', '<f4'), ('id', '<i8'), ('pid', '<i8')])"
      ]
     },
     "execution_count": 8,
     "metadata": {},
     "output_type": "execute_result"
    }
   ],
   "source": [
    "get_halo(filtered_catalog,4)[-1][4]#[10]"
   ]
  },
  {
   "cell_type": "markdown",
   "metadata": {},
   "source": [
    "We can make use of the fact that since mass of each particle is constant so knowing the mvir of the halo tells us number of particles"
   ]
  },
  {
   "cell_type": "code",
   "execution_count": 12,
   "metadata": {
    "collapsed": false
   },
   "outputs": [
    {
     "name": "stdout",
     "output_type": "stream",
     "text": [
      "5.95547e+15\n",
      "5.33259e+15\n",
      "5.24403e+15\n",
      "4.28702e+15\n",
      "5.51295e+15\n",
      "5.14149e+15\n",
      "4.46602e+15\n",
      "4.43536e+15\n",
      "4.88718e+15\n",
      "4.19761e+15\n"
     ]
    }
   ],
   "source": [
    "#Using the virial mass\n",
    "masses=[]\n",
    "for i in np.arange(10):#136591):\n",
    "    print filtered_catalog.get_halo(i)[8]\n",
    "#     print filtered_catalog.get_halo(10)[9]\n",
    "#     print filtered_catalog.get_halo(10)[10]\n",
    "    #masses.append(filtered_catalog.get_halo(10)[6])"
   ]
  },
  {
   "cell_type": "markdown",
   "metadata": {},
   "source": [
    "The virial mass is always the same so that's useless'"
   ]
  },
  {
   "cell_type": "code",
   "execution_count": 7,
   "metadata": {
    "collapsed": true
   },
   "outputs": [],
   "source": [
    "m = ad[(\"all\",\"mass\")]"
   ]
  },
  {
   "cell_type": "code",
   "execution_count": 8,
   "metadata": {
    "collapsed": false
   },
   "outputs": [
    {
     "data": {
      "text/plain": [
       "YTArray([  2.75491975e+43,   2.75491975e+43,   2.75491975e+43, ...,\n",
       "         2.75491975e+43,   2.75491975e+43,   2.75491975e+43]) g"
      ]
     },
     "execution_count": 8,
     "metadata": {},
     "output_type": "execute_result"
    }
   ],
   "source": [
    "m"
   ]
  },
  {
   "cell_type": "markdown",
   "metadata": {},
   "source": [
    "This brings up a good point, if all the mass is constant why am I putting it inside the train array in parallel_gs_dens.py"
   ]
  },
  {
   "cell_type": "markdown",
   "metadata": {},
   "source": [
    "But I need to figure out units!! "
   ]
  },
  {
   "cell_type": "code",
   "execution_count": null,
   "metadata": {
    "collapsed": true
   },
   "outputs": [],
   "source": [
    "5.2741e15/"
   ]
  },
  {
   "cell_type": "markdown",
   "metadata": {},
   "source": [
    "I think the conversion units should be stored in yt "
   ]
  },
  {
   "cell_type": "code",
   "execution_count": 19,
   "metadata": {
    "collapsed": false,
    "scrolled": false
   },
   "outputs": [],
   "source": [
    "# ds.derived_field_list"
   ]
  },
  {
   "cell_type": "code",
   "execution_count": 17,
   "metadata": {
    "collapsed": true
   },
   "outputs": [],
   "source": [
    "m= ad[('all', 'mass')]"
   ]
  },
  {
   "cell_type": "code",
   "execution_count": 20,
   "metadata": {
    "collapsed": false
   },
   "outputs": [
    {
     "data": {
      "text/plain": [
       "YTArray([  2.75491975e+43,   2.75491975e+43,   2.75491975e+43, ...,\n",
       "         2.75491975e+43,   2.75491975e+43,   2.75491975e+43]) g"
      ]
     },
     "execution_count": 20,
     "metadata": {},
     "output_type": "execute_result"
    }
   ],
   "source": [
    "m"
   ]
  },
  {
   "cell_type": "markdown",
   "metadata": {},
   "source": [
    "Need to figure out what the mass units of what Rockstar outputs.\n",
    "The particles are in grams "
   ]
  },
  {
   "cell_type": "markdown",
   "metadata": {},
   "source": [
    "The filtered haloes are large catalog file several hundred GB, so they can only be accessed by the methods that I am using in yt-dark dark catalog\n",
    "But inside the file the SDF description indiates that "
   ]
  },
  {
   "cell_type": "markdown",
   "metadata": {},
   "source": [
    "http://darksky.slac.stanford.edu/simulations/ds14_a/halos/ds14_a_halos_filter_1e15_1.0000"
   ]
  },
  {
   "cell_type": "code",
   "execution_count": null,
   "metadata": {
    "collapsed": true
   },
   "outputs": [],
   "source": []
  }
 ],
 "metadata": {
  "kernelspec": {
   "display_name": "Python 2",
   "language": "python",
   "name": "python2"
  },
  "language_info": {
   "codemirror_mode": {
    "name": "ipython",
    "version": 2
   },
   "file_extension": ".py",
   "mimetype": "text/x-python",
   "name": "python",
   "nbconvert_exporter": "python",
   "pygments_lexer": "ipython2",
   "version": "2.7.10"
  }
 },
 "nbformat": 4,
 "nbformat_minor": 0
}
