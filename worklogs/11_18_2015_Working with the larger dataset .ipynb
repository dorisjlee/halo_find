{
 "cells": [
  {
   "cell_type": "markdown",
   "metadata": {},
   "source": [
    "ds14_scivis_0128_e4_dt04_1.0000 is the 2M particle dataset"
   ]
  },
  {
   "cell_type": "code",
   "execution_count": 3,
   "metadata": {
    "collapsed": false
   },
   "outputs": [
    {
     "name": "stdout",
     "output_type": "stream",
     "text": [
      "Populating the interactive namespace from numpy and matplotlib\n"
     ]
    }
   ],
   "source": [
    "%pylab inline"
   ]
  },
  {
   "cell_type": "code",
   "execution_count": 4,
   "metadata": {
    "collapsed": false
   },
   "outputs": [],
   "source": [
    "# import yt\n",
    "# ds = yt.load(\"../ds14_scivis_0128_e4_dt04_1.0000\")\n",
    "# ad = ds.all_data()\n",
    "# x = ad[(\"all\",\"particle_position_x\")]\n",
    "# shape(x)"
   ]
  },
  {
   "cell_type": "code",
   "execution_count": 5,
   "metadata": {
    "collapsed": false
   },
   "outputs": [
    {
     "name": "stdout",
     "output_type": "stream",
     "text": [
      "# SDF 1.0\n",
      "int header_len =  25\n"
     ]
    }
   ],
   "source": [
    "import thingking\n",
    "ds14_a = thingking.HTTPArray(\"http://darksky.slac.stanford.edu/simulations/ds14_a/ds14_a_1.0000\")\n",
    "print ds14_a[:30].data"
   ]
  },
  {
   "cell_type": "code",
   "execution_count": 7,
   "metadata": {
    "collapsed": false
   },
   "outputs": [
    {
     "name": "stdout",
     "output_type": "stream",
     "text": [
      "/global/project/projectdirs/astro250/doris/halo/darksky_tour\n"
     ]
    }
   ],
   "source": [
    "cd ../darksky_tour/"
   ]
  },
  {
   "cell_type": "code",
   "execution_count": 8,
   "metadata": {
    "collapsed": false
   },
   "outputs": [
    {
     "ename": "ImportError",
     "evalue": "No module named darksky_catalog",
     "output_type": "error",
     "traceback": [
      "\u001b[1;31m---------------------------------------------------------------------------\u001b[0m",
      "\u001b[1;31mImportError\u001b[0m                               Traceback (most recent call last)",
      "\u001b[1;32m<ipython-input-8-061cf90e9da8>\u001b[0m in \u001b[0;36m<module>\u001b[1;34m()\u001b[0m\n\u001b[0;32m      2\u001b[0m \u001b[1;31m# from enhance import enhance\u001b[0m\u001b[1;33m\u001b[0m\u001b[1;33m\u001b[0m\u001b[0m\n\u001b[0;32m      3\u001b[0m \u001b[1;32mfrom\u001b[0m \u001b[0myt\u001b[0m\u001b[1;33m.\u001b[0m\u001b[0mutilities\u001b[0m\u001b[1;33m.\u001b[0m\u001b[0mlib\u001b[0m\u001b[1;33m.\u001b[0m\u001b[0mimage_utilities\u001b[0m \u001b[1;32mimport\u001b[0m \u001b[0madd_rgba_points_to_image\u001b[0m\u001b[1;33m\u001b[0m\u001b[0m\n\u001b[1;32m----> 4\u001b[1;33m \u001b[1;32mfrom\u001b[0m \u001b[0mdarksky_catalog\u001b[0m \u001b[1;32mimport\u001b[0m \u001b[0mdarksky\u001b[0m\u001b[1;33m\u001b[0m\u001b[0m\n\u001b[0m",
      "\u001b[1;31mImportError\u001b[0m: No module named darksky_catalog"
     ]
    }
   ],
   "source": [
    "import yt\n",
    "# from enhance import enhance\n",
    "from yt.utilities.lib.image_utilities import add_rgba_points_to_image\n",
    "from darksky_catalog import darksky"
   ]
  },
  {
   "cell_type": "raw",
   "metadata": {},
   "source": [
    ">>> from darksky_catalog import darksky\n",
    "Traceback (most recent call last):\n",
    "  File \"<stdin>\", line 1, in <module>\n",
    "  File \"build/bdist.linux-x86_64/egg/darksky_catalog/__init__.py\", line 1, in <module>\n",
    "  File \"build/bdist.linux-x86_64/egg/darksky_catalog/catalog.py\", line 6, in <module>\n",
    "  File \"build/bdist.linux-x86_64/egg/darksky_catalog/dataset.py\", line 10, in <module>\n",
    "ImportError: No module named sdf"
   ]
  },
  {
   "cell_type": "markdown",
   "metadata": {},
   "source": [
    "Okay reinstalling everything "
   ]
  },
  {
   "cell_type": "raw",
   "metadata": {},
   "source": [
    "Reading HDF5 location from hdf5.cfg failed.\n",
    "Please place the base directory of your\n",
    "HDF5 install in hdf5.cfg and restart.\n",
    "(ex: \"echo '/usr/local/' > hdf5.cfg\" )\n",
    "You can locate the path by looking for hdf5.h"
   ]
  },
  {
   "cell_type": "raw",
   "metadata": {},
   "source": [
    "module load cray-hdf5"
   ]
  },
  {
   "cell_type": "code",
   "execution_count": null,
   "metadata": {
    "collapsed": true
   },
   "outputs": [],
   "source": [
    "still give me same error no sdf "
   ]
  }
 ],
 "metadata": {
  "kernelspec": {
   "display_name": "Python 2",
   "language": "python",
   "name": "python2"
  },
  "language_info": {
   "codemirror_mode": {
    "name": "ipython",
    "version": 2
   },
   "file_extension": ".py",
   "mimetype": "text/x-python",
   "name": "python",
   "nbconvert_exporter": "python",
   "pygments_lexer": "ipython2",
   "version": "2.7.10"
  }
 },
 "nbformat": 4,
 "nbformat_minor": 0
}
