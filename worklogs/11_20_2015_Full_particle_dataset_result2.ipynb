{
 "cells": [
  {
   "cell_type": "code",
   "execution_count": 1,
   "metadata": {
    "collapsed": false
   },
   "outputs": [
    {
     "name": "stdout",
     "output_type": "stream",
     "text": [
      "Populating the interactive namespace from numpy and matplotlib\n"
     ]
    }
   ],
   "source": [
    "%pylab inline"
   ]
  },
  {
   "cell_type": "markdown",
   "metadata": {
    "collapsed": true
   },
   "source": [
    "# Full pcl dataset "
   ]
  },
  {
   "cell_type": "code",
   "execution_count": null,
   "metadata": {
    "collapsed": true
   },
   "outputs": [],
   "source": [
    "cd ../10MMBK/"
   ]
  },
  {
   "cell_type": "code",
   "execution_count": 18,
   "metadata": {
    "collapsed": false
   },
   "outputs": [
    {
     "name": "stdout",
     "output_type": "stream",
     "text": [
      "[10000 20000 30000 31000 32000 33000 34000 35000 36000 37000 38000 39000\n",
      " 40000 42000 43000 44000 45000 46000 47000 48000 49000 50000 55000 60000]\n"
     ]
    },
    {
     "data": {
      "image/png": "[encoded data removed]",
      "text/plain": [
       "<matplotlib.figure.Figure at 0x7f2e7f1a0310>"
      ]
     },
     "metadata": {},
     "output_type": "display_data"
    }
   ],
   "source": [
    "import glob\n",
    "k_range = []\n",
    "for i in glob.glob(\"../10MMBK/density*.txt\"): \n",
    "    k_range.append(int(i.split(\".\")[2][15:])) \n",
    "#     print i.split(\".\")[2][15:]\n",
    "k_range=sort(k_range)\n",
    "print k_range\n",
    "avrg_densities=[]\n",
    "for n in k_range:\n",
    "    avrg_densities.append(mean(np.loadtxt(\"../10MMBK/density{}.txt\".format(n))))\n",
    "plt.plot(k_range,avrg_densities)\n",
    "plt.plot(k_range,avrg_densities,'o',color = 'red')\n",
    "plt.xlabel(\"number of clusters\",fontsize=13)\n",
    "plt.ylabel(\"Average Density\",fontsize=13)\n",
    "plt.legend(loc='upper left',prop={'size':12},numpoints=1)"
   ]
  },
  {
   "cell_type": "code",
   "execution_count": 26,
   "metadata": {
    "collapsed": false
   },
   "outputs": [
    {
     "name": "stdout",
     "output_type": "stream",
     "text": [
      "ideal value of k = 41943.04\n"
     ]
    }
   ],
   "source": [
    "print \"ideal value of k =\", 2097152/50. "
   ]
  },
  {
   "cell_type": "code",
   "execution_count": 42,
   "metadata": {
    "collapsed": false
   },
   "outputs": [
    {
     "name": "stdout",
     "output_type": "stream",
     "text": [
      "[34383.160305, 30469.1988289, 17946.7460408, 18683.3599091, 24411.1758661, 29203.9517579, 19662.173856, 6357.49000001, 8624.914891, 2125.6114831, 11562.4136229, 25579.0853989, 16330.7373199, 12268.5649838, 13577.6017079, 14340.728282]\n",
      "[40000.0, 40000.0, 46000.0, 48000.0, 34000.0, 44000.0, 50000.0, 10000.0, 20000.0, 32000.0, 30000.0, 60000.0, 42000.0, 32000.0, 36000.0, 38000.0]\n"
     ]
    },
    {
     "data": {
      "text/plain": [
       "<matplotlib.text.Text at 0x7f1fe56ac410>"
      ]
     },
     "execution_count": 42,
     "metadata": {},
     "output_type": "execute_result"
    },
    {
     "data": {
      "image/png": "[encoded data removed]",
      "text/plain": [
       "<matplotlib.figure.Figure at 0x7f1fe572f1d0>"
      ]
     },
     "metadata": {},
     "output_type": "display_data"
    }
   ],
   "source": [
    "k_range_with_time=[]\n",
    "kmeans_time = []\n",
    "for i in glob.glob(\"10MMBK/*.out\"):\n",
    "    with open(i, 'r+') as f:\n",
    "        lines = f.readlines()\n",
    "        kval = 0\n",
    "        for i in range(0, len(lines)):\n",
    "#             print lines[i]\n",
    "#             print lines[i][:5]\n",
    "            if str(lines[i][15:19])==\"test\":\n",
    "                kval = float(lines[i][:5])\n",
    "            if (lines[i][:4]==\"Time\") and (kval!=0):\n",
    "                k_range_with_time.append(kval)\n",
    "                kmeans_time.append(float(lines[i][5:]))\n",
    "                kval =0\n",
    "print kmeans_time\n",
    "print k_range_with_time\n",
    "plt.title(\"Timing Results\")\n",
    "# plt.plot(sort(k_range_with_time),sort(kmeans_time))\n",
    "plt.plot(k_range_with_time,kmeans_time,'o')\n",
    "plt.xlabel(\"number of clusters\")\n",
    "plt.ylabel(\"Time [s]\")"
   ]
  },
  {
   "cell_type": "code",
   "execution_count": 21,
   "metadata": {
    "collapsed": false
   },
   "outputs": [
    {
     "data": {
      "text/plain": [
       "array([30000, 32000, 34000, 36000, 38000, 40000, 42000, 44000, 46000, 48000])"
      ]
     },
     "execution_count": 21,
     "metadata": {},
     "output_type": "execute_result"
    }
   ],
   "source": [
    "np.arange(30000,50000,2000)"
   ]
  },
  {
   "cell_type": "code",
   "execution_count": 25,
   "metadata": {
    "collapsed": false
   },
   "outputs": [
    {
     "name": "stdout",
     "output_type": "stream",
     "text": [
      "Time for 30000 clusters =  3.21178156192 hrs\n",
      "Time for 40000 clusters =  8.46361111111 hrs\n",
      "Time for 50000 clusters =  5.46171496 hrs\n"
     ]
    }
   ],
   "source": [
    "print \"Time for 30000 clusters = \",11562.4136229/60./60. ,\"hrs\"\n",
    "print \"Time for 40000 clusters = \",30469/60./60. ,\"hrs\"\n",
    "print \"Time for 50000 clusters = \",19662.173856/60./60. ,\"hrs\""
   ]
  },
  {
   "cell_type": "markdown",
   "metadata": {
    "collapsed": true
   },
   "source": [
    "Don't submit 10 hour jobs on cori because the max limit is 12 hours so 10 hours is considered long so the job never gets queued in , use hoppper for this ."
   ]
  },
  {
   "cell_type": "code",
   "execution_count": null,
   "metadata": {
    "collapsed": true
   },
   "outputs": [],
   "source": []
  }
 ],
 "metadata": {
  "kernelspec": {
   "display_name": "Python 2",
   "language": "python",
   "name": "python2"
  },
  "language_info": {
   "codemirror_mode": {
    "name": "ipython",
    "version": 2
   },
   "file_extension": ".py",
   "mimetype": "text/x-python",
   "name": "python",
   "nbconvert_exporter": "python",
   "pygments_lexer": "ipython2",
   "version": "2.7.10"
  }
 },
 "nbformat": 4,
 "nbformat_minor": 0
}
