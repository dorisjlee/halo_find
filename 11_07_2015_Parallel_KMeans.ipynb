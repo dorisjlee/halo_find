{
 "cells": [
  {
   "cell_type": "raw",
   "metadata": {},
   "source": [
    "dorislee@nid00897:~>  echo $LD_LIBRARY_PATH\n",
    "/usr/common/usg/darshan/2.3.0/lib:/usr/common/usg/mysql/5.6.21/lib:/opt/intel/composer_xe_2015.1.133/compiler/lib/intel64:/opt/intel/composer_xe_2015.1.133/mpirt/lib/intel64:/opt/intel/composer_xe_2015.1.133/mkl/lib/intel64:/usr/syscom/nsg/lib"
   ]
  },
  {
   "cell_type": "markdown",
   "metadata": {},
   "source": [
    "export LD_LIBRARY_PATH=/global/homes/d/dorislee/anaconda/lib:$LD_LIBRARY_PATH"
   ]
  },
  {
   "cell_type": "raw",
   "metadata": {},
   "source": [
    "dorislee@nid00897:~/project/halo/halo_find> aprun -n 24 /global/homes/d/dorislee/anaconda/bin/python parallel_gs_dens_test.py\n",
    "Loading Particle Data\n",
    "Loading Particle Data\n",
    "Loading Particle Data\n",
    "Loading Particle Data\n",
    "Loading Particle Data\n",
    "Loading Particle Data\n",
    "Loading Particle Data\n",
    "Loading Particle Data\n",
    "Loading Particle Data\n",
    "Loading Particle Data\n",
    "Loading Particle Data\n",
    "Loading Particle Data\n",
    "Loading Particle Data\n",
    "Loading Particle Data\n",
    "Loading Particle Data\n",
    "Loading Particle Data\n",
    "Loading Particle Data\n",
    "Loading Particle Data\n",
    "Loading Particle Data\n",
    "Loading Particle Data\n",
    "Loading Particle Data\n",
    "Loading Particle Data\n",
    "Loading Particle Data\n",
    "Loading Particle Data\n",
    "Creating train test split samples\n",
    "Creating train test split samples\n",
    "Creating train test split samples\n",
    "Creating train test split samples\n",
    "Creating train test split samples\n",
    "Creating train test split samples\n",
    "Creating train test split samples\n",
    "Creating train test split samples\n",
    "Creating train test split samples\n",
    "Creating train test split samples\n",
    "Creating train test split samples\n",
    "Creating train test split samples\n",
    "Creating train test split samples\n",
    "Creating train test split samples\n",
    "Creating train test split samples\n",
    "Creating train test split samples\n",
    "Creating train test split samples\n",
    "Creating train test split samples\n",
    "Creating train test split samples\n",
    "Creating train test split samples\n",
    "Creating train test split samples\n",
    "Creating train test split samples\n",
    "Creating train test split samples\n",
    "Creating train test split samples\n",
    "10 clusters test\n",
    "10 clusters test\n",
    "10 clusters test\n",
    "10 clusters test\n",
    "10 clusters test\n",
    "10 clusters test\n",
    "10 clusters test\n",
    "10 clusters test\n",
    "10 clusters test\n",
    "10 clusters test\n",
    "10 clusters test\n",
    "10 clusters test\n",
    "10 clusters test\n",
    "10 clusters test\n",
    "10 clusters test\n",
    "10 clusters test\n",
    "10 clusters test\n",
    "10 clusters test\n",
    "10 clusters test\n",
    "10 clusters test\n",
    "10 clusters test\n",
    "10 clusters test\n",
    "10 clusters test\n",
    "10 clusters test\n",
    "Time:  120.858808994\n",
    "Time:  123.821036816\n",
    "Time:  126.129434824\n",
    "Time:  128.739210844\n",
    "Time:  128.986189127\n",
    "Time:  129.458763123\n",
    "Time:  130.380786896\n",
    "Time:  132.452610016\n",
    "Time:  134.790576935\n",
    "Time:  135.392775059\n",
    "Time:  136.109845161\n",
    "Time:  137.241647005\n",
    "Time:  137.860447168\n",
    "Time:  138.716071844\n",
    "Time:  139.581942081\n",
    "Time:  140.791046858\n",
    "Time:  143.556442022\n",
    "Time:  144.525898933\n",
    "Time:  145.279019833\n",
    "Time:  148.089631081\n",
    "Time:  150.927639961\n",
    "Time:  151.687440157\n",
    "Time:  153.060610056\n",
    "Time:  153.342934132\n",
    "Application 17388586 resources: utime ~3318s, stime ~550s, Rss ~590408, inblocks ~37581637, outblocks ~47830675"
   ]
  },
  {
   "cell_type": "raw",
   "metadata": {},
   "source": [
    "dorislee@nid00897:~/project/halo/halo_find> /global/homes/d/dorislee/anaconda/bin/python parallel_gs_dens_test.py\n",
    "Loading Particle Data\n",
    "Creating train test split samples\n",
    "10 clusters test\n",
    "Time:  45.8506691456"
   ]
  },
  {
   "cell_type": "markdown",
   "metadata": {},
   "source": [
    "aprun -n24 is a bad idea because it spawns 24 versions of your script and run them all. which is dumb.."
   ]
  },
  {
   "cell_type": "markdown",
   "metadata": {},
   "source": [
    "multiprocessing in python which sklearn uses is single machine multicore "
   ]
  },
  {
   "cell_type": "code",
   "execution_count": null,
   "metadata": {
    "collapsed": true
   },
   "outputs": [],
   "source": [
    "np.arange(2000, 21000,1000)"
   ]
  },
  {
   "cell_type": "markdown",
   "metadata": {},
   "source": [
    "Looks like the parallel sklearn already uses the pools and multiprocessing stuff "
   ]
  },
  {
   "cell_type": "markdown",
   "metadata": {},
   "source": [
    "http://pydoc.net/Python/scikit-learn/0.15.1/sklearn.externals.joblib.parallel/"
   ]
  },
  {
   "cell_type": "markdown",
   "metadata": {},
   "source": [
    "Conducting scalling test to see what number of core gives optimal speedup "
   ]
  },
  {
   "cell_type": "raw",
   "metadata": {},
   "source": [
    "dorislee@edison11:/project/projectdirs/astro250/doris/halo/halo_find> bash scaltestsetup.sh\n",
    "1\n",
    "Submitting 1\n",
    "3980213.edique02\n",
    "24\n",
    "Submitting 24\n",
    "3980214.edique02\n",
    "48\n",
    "Submitting 48\n",
    "3980215.edique02\n",
    "72\n",
    "Submitting 72\n",
    "3980216.edique02\n",
    "96\n",
    "Submitting 96\n",
    "3980217.edique02\n",
    "120\n",
    "Submitting 120\n",
    "3980218.edique02"
   ]
  },
  {
   "cell_type": "raw",
   "metadata": {},
   "source": [
    "edique02:\n",
    "                                                                                  Req'd    Req'd       Elap\n",
    "Job ID                  Username    Queue    Jobname          SessID  NDS   TSK   Memory   Time    S   Time\n",
    "----------------------- ----------- -------- ---------------- ------ ----- ------ ------ --------- - ---------\n",
    "3980637.edique02        dorislee    reg_smal 1_test              --      1     24    --   03:00:00 Q       --\n",
    "3980638.edique02        dorislee    reg_smal 24_test             --      1     24    --   03:00:00 Q       --\n",
    "3980639.edique02        dorislee    reg_smal 48_test             --      2     48    --   03:00:00 Q       --\n",
    "3980640.edique02        dorislee    reg_smal 72_test             --      3     72    --   03:00:00 Q       --\n",
    "3980641.edique02        dorislee    reg_smal 96_test             --      4     96    --   03:00:00 Q       --\n",
    "3980642.edique02        dorislee    reg_smal 120_test            --      5    120    --   03:00:00 Q       --"
   ]
  },
  {
   "cell_type": "markdown",
   "metadata": {
    "collapsed": true
   },
   "source": [
    "This took longer than 3 hours job crashed "
   ]
  },
  {
   "cell_type": "code",
   "execution_count": null,
   "metadata": {
    "collapsed": true
   },
   "outputs": [],
   "source": []
  },
  {
   "cell_type": "code",
   "execution_count": null,
   "metadata": {
    "collapsed": true
   },
   "outputs": [],
   "source": []
  }
 ],
 "metadata": {
  "kernelspec": {
   "display_name": "Python 2",
   "language": "python",
   "name": "python2"
  },
  "language_info": {
   "codemirror_mode": {
    "name": "ipython",
    "version": 2
   },
   "file_extension": ".py",
   "mimetype": "text/x-python",
   "name": "python",
   "nbconvert_exporter": "python",
   "pygments_lexer": "ipython2",
   "version": "2.7.10"
  }
 },
 "nbformat": 4,
 "nbformat_minor": 0
}
