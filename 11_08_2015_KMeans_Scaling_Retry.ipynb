{
 "cells": [
  {
   "cell_type": "code",
   "execution_count": 2,
   "metadata": {
    "collapsed": false
   },
   "outputs": [
    {
     "name": "stdout",
     "output_type": "stream",
     "text": [
      "Populating the interactive namespace from numpy and matplotlib\n"
     ]
    }
   ],
   "source": [
    "%pylab inline"
   ]
  },
  {
   "cell_type": "markdown",
   "metadata": {},
   "source": [
    "The first scaling test that I submitted yesterday took too long one test for the minimum 2000 clusters took more than 5hours "
   ]
  },
  {
   "cell_type": "markdown",
   "metadata": {},
   "source": [
    "Trying just 10000 particles "
   ]
  },
  {
   "cell_type": "code",
   "execution_count": 5,
   "metadata": {
    "collapsed": true
   },
   "outputs": [],
   "source": [
    "N = 10000"
   ]
  },
  {
   "cell_type": "code",
   "execution_count": 13,
   "metadata": {
    "collapsed": false
   },
   "outputs": [
    {
     "data": {
      "text/plain": [
       "array([ 50, 150, 250, 350, 450, 550, 650, 750, 850, 950])"
      ]
     },
     "execution_count": 13,
     "metadata": {},
     "output_type": "execute_result"
    }
   ],
   "source": [
    "np.arange(50,1000,100)"
   ]
  },
  {
   "cell_type": "code",
   "execution_count": 12,
   "metadata": {
    "collapsed": false
   },
   "outputs": [
    {
     "data": {
      "text/plain": [
       "100"
      ]
     },
     "execution_count": 12,
     "metadata": {},
     "output_type": "execute_result"
    }
   ],
   "source": [
    "10000/100"
   ]
  },
  {
   "cell_type": "raw",
   "metadata": {},
   "source": [
    "3985388.edique02        dorislee    reg_smal 1_test              --      1     24    --   10:00:00 Q       --\n",
    "3985389.edique02        dorislee    reg_smal 24_test             --      1     24    --   10:00:00 Q       --\n",
    "3985390.edique02        dorislee    reg_smal 48_test             --      2     48    --   10:00:00 Q       --\n",
    "3985391.edique02        dorislee    reg_smal 72_test             --      3     72    --   10:00:00 Q       --\n",
    "3985392.edique02        dorislee    reg_smal 96_test             --      4     96    --   10:00:00 Q       --\n",
    "3985393.edique02        dorislee    reg_smal 120_test            --      5    120    --   10:00:00 Q       --\n",
    "3985395.edique02        dorislee    reg_smal 144_test            --      6    144    --   10:00:00 Q       --\n",
    "3985396.edique02        dorislee    reg_smal 168_test            --      7    168    --   10:00:00 Q       --"
   ]
  },
  {
   "cell_type": "markdown",
   "metadata": {},
   "source": [
    "Some very cool visualizations here http://www.naftaliharris.com/blog/visualizing-dbscan-clustering/"
   ]
  },
  {
   "cell_type": "code",
   "execution_count": null,
   "metadata": {
    "collapsed": true
   },
   "outputs": [],
   "source": []
  }
 ],
 "metadata": {
  "kernelspec": {
   "display_name": "Python 2",
   "language": "python",
   "name": "python2"
  },
  "language_info": {
   "codemirror_mode": {
    "name": "ipython",
    "version": 2
   },
   "file_extension": ".py",
   "mimetype": "text/x-python",
   "name": "python",
   "nbconvert_exporter": "python",
   "pygments_lexer": "ipython2",
   "version": "2.7.10"
  }
 },
 "nbformat": 4,
 "nbformat_minor": 0
}
