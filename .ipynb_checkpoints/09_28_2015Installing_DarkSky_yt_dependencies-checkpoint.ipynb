{
 "cells": [
  {
   "cell_type": "code",
   "execution_count": 1,
   "metadata": {
    "collapsed": false
   },
   "outputs": [
    {
     "name": "stdout",
     "output_type": "stream",
     "text": [
      "Populating the interactive namespace from numpy and matplotlib\n"
     ]
    }
   ],
   "source": [
    "%pylab inline\n",
    "import yt"
   ]
  },
  {
   "cell_type": "markdown",
   "metadata": {},
   "source": [
    "Looking at [this tutorial](http://darksky.slac.stanford.edu/data_release/)"
   ]
  },
  {
   "cell_type": "markdown",
   "metadata": {},
   "source": [
    "Using SDF cvt to read the columns of data inside the SDF header file "
   ]
  },
  {
   "cell_type": "markdown",
   "metadata": {},
   "source": [
    "./SDFcvt ../darksky/darkskysims-data_release-99a0e7445c96/ds14_g_100_2048/ds14_g_100_2048_1.0000.head Omega0_m Omega0_lambda Omega0_b h_100"
   ]
  },
  {
   "cell_type": "code",
   "execution_count": 2,
   "metadata": {
    "collapsed": false
   },
   "outputs": [
    {
     "data": {
      "text/plain": [
       "['',\n",
       " '//anaconda/lib/python27.zip',\n",
       " '//anaconda/lib/python2.7',\n",
       " '//anaconda/lib/python2.7/plat-linux2',\n",
       " '//anaconda/lib/python2.7/lib-tk',\n",
       " '//anaconda/lib/python2.7/lib-old',\n",
       " '//anaconda/lib/python2.7/lib-dynload',\n",
       " '/anaconda/lib/python2.7/site-packages/rpy2-2.5.6-py2.7-linux-x86_64.egg',\n",
       " '/anaconda/lib/python2.7/site-packages/setuptools-17.1.1-py2.7.egg',\n",
       " '/anaconda/lib/python2.7/site-packages/singledispatch-3.4.0.3-py2.7.egg',\n",
       " '//anaconda/lib/python2.7/site-packages',\n",
       " '//anaconda/lib/python2.7/site-packages/Sphinx-1.3.1-py2.7.egg',\n",
       " '//anaconda/lib/python2.7/site-packages/cryptography-0.9.1-py2.7-linux-x86_64.egg',\n",
       " '//anaconda/lib/python2.7/site-packages/IPython/extensions',\n",
       " '/global/u2/d/dorislee/.ipython',\n",
       " '/global/homes/d/dorislee/mypackages']"
      ]
     },
     "execution_count": 2,
     "metadata": {},
     "output_type": "execute_result"
    }
   ],
   "source": [
    "import sys\n",
    "sys.path"
   ]
  },
  {
   "cell_type": "code",
   "execution_count": 3,
   "metadata": {
    "collapsed": false
   },
   "outputs": [
    {
     "data": {
      "text/plain": [
       "<module 'posixpath' from '//anaconda/lib/python2.7/posixpath.pyc'>"
      ]
     },
     "execution_count": 3,
     "metadata": {},
     "output_type": "execute_result"
    }
   ],
   "source": [
    "import os\n",
    "os.path"
   ]
  },
  {
   "cell_type": "raw",
   "metadata": {},
   "source": [
    "module load python\n",
    "pip --cert $HOME/.pip/cabundle install thingking"
   ]
  },
  {
   "cell_type": "markdown",
   "metadata": {},
   "source": [
    "pip very slow not too sure why ... "
   ]
  },
  {
   "cell_type": "code",
   "execution_count": 4,
   "metadata": {
    "collapsed": false
   },
   "outputs": [
    {
     "ename": "ImportError",
     "evalue": "No module named thingking",
     "output_type": "error",
     "traceback": [
      "\u001b[1;31m---------------------------------------------------------------------------\u001b[0m",
      "\u001b[1;31mImportError\u001b[0m                               Traceback (most recent call last)",
      "\u001b[1;32m<ipython-input-4-51c659d98418>\u001b[0m in \u001b[0;36m<module>\u001b[1;34m()\u001b[0m\n\u001b[1;32m----> 1\u001b[1;33m \u001b[1;32mimport\u001b[0m \u001b[0mthingking\u001b[0m\u001b[1;33m\u001b[0m\u001b[0m\n\u001b[0m",
      "\u001b[1;31mImportError\u001b[0m: No module named thingking"
     ]
    }
   ],
   "source": [
    "import thingking"
   ]
  },
  {
   "cell_type": "raw",
   "metadata": {
    "collapsed": true
   },
   "source": [
    "module load mercurial/3.2.4\n",
    "hg clone http://bitbucket.org/darkskysims/yt-dark\n",
    "cd yt-dark\n",
    "python setup.py install"
   ]
  },
  {
   "cell_type": "raw",
   "metadata": {
    "collapsed": true
   },
   "source": [
    "hg clone http://bitbucket.org/darkskysims/darksky_tour\n",
    "cd darksky_tour "
   ]
  },
  {
   "cell_type": "raw",
   "metadata": {},
   "source": [
    "/global/homes/d/dorislee/anaconda/bin/python setup.py"
   ]
  },
  {
   "cell_type": "code",
   "execution_count": 5,
   "metadata": {
    "collapsed": true
   },
   "outputs": [],
   "source": [
    "import numpy"
   ]
  },
  {
   "cell_type": "code",
   "execution_count": 8,
   "metadata": {
    "collapsed": false
   },
   "outputs": [
    {
     "name": "stdout",
     "output_type": "stream",
     "text": [
      "2.7.10 |Anaconda 2.2.0 (64-bit)| (default, May 28 2015, 17:02:03) \n",
      "[GCC 4.4.7 20120313 (Red Hat 4.4.7-1)]\n"
     ]
    }
   ],
   "source": [
    "import sys; print(sys.version)"
   ]
  },
  {
   "cell_type": "markdown",
   "metadata": {},
   "source": [
    "The reason why I had trouble with numpy installation is that the anaconda installation conflicts with the default ``module load python\" if I remove module load python and just execute the python executable ``/global/homes/d/dorislee/anaconda/bin/python\" then I could import numpy with no errors"
   ]
  },
  {
   "cell_type": "raw",
   "metadata": {},
   "source": [
    ">> import numpy\n",
    "Traceback (most recent call last):\n",
    "  File \"<stdin>\", line 1, in <module>\n",
    "  File \"/usr/common/usg/python/numpy/1.9.2/lib/python/numpy/__init__.py\", line 170, in <module>\n",
    "    from . import add_newdocs\n",
    "  File \"/usr/common/usg/python/numpy/1.9.2/lib/python/numpy/add_newdocs.py\", line 13, in <module>\n",
    "    from numpy.lib import add_newdoc\n",
    "  File \"/usr/common/usg/python/numpy/1.9.2/lib/python/numpy/lib/__init__.py\", line 8, in <module>\n",
    "    from .type_check import *\n",
    "  File \"/usr/common/usg/python/numpy/1.9.2/lib/python/numpy/lib/type_check.py\", line 11, in <module>\n",
    "    import numpy.core.numeric as _nx\n",
    "  File \"/usr/common/usg/python/numpy/1.9.2/lib/python/numpy/core/__init__.py\", line 6, in <module>\n",
    "    from . import multiarray\n",
    "ImportError: /usr/common/usg/python/numpy/1.9.2/lib/python/numpy/core/multiarray.so: undefined symbol: PyUnicodeUCS2_FromUnicode"
   ]
  },
  {
   "cell_type": "markdown",
   "metadata": {},
   "source": [
    "/global/homes/d/dorislee/anaconda/bin/python  setup.py install"
   ]
  },
  {
   "cell_type": "raw",
   "metadata": {},
   "source": [
    "global/homes/d/dorislee/anaconda/lib/python2.7/site-packages/setuptools-18.3.2-py2.7.egg/setuptools/dist.py:285: UserWarning: Normalizing '2.7dev' to '2.7.dev0'\n",
    "Reading PNG location from png.cfg failed.\n",
    "Please place the base directory of your\n",
    "PNG install in png.cfg and restart.\n",
    "(ex: \"echo '/usr/local/' > png.cfg\" )\n",
    "You can locate the path by looking for png.h\n",
    "dorislee@edison11:/project/projectdirs/astro250/doris/halo/yt-dark> echo '/usr/local/' > png.cfg"
   ]
  },
  {
   "cell_type": "markdown",
   "metadata": {},
   "source": [
    "echo '/usr/local/' > hdf5.cfg"
   ]
  },
  {
   "cell_type": "raw",
   "metadata": {},
   "source": [
    "gcc: yt/utilities/hdf5_light_reader.c\n",
    "yt/utilities/hdf5_light_reader.c:20:18: fatal error: hdf5.h: No such file or directory\n",
    " #include \"hdf5.h\"\n",
    "                  ^\n",
    "compilation terminated.\n",
    "yt/utilities/hdf5_light_reader.c:20:18: fatal error: hdf5.h: No such file or directory\n",
    " #include \"hdf5.h\"\n",
    "                  ^\n",
    "compilation terminated.\n",
    "error: Command \"gcc -pthread -fno-strict-aliasing -g -O2 -DNDEBUG -g -fwrapv -O3 -Wall -Wstrict-prototypes -fPIC -DH5_USE_16_API=True -I/usr/local/include -I/global/homes/d/dorislee/anaconda/lib/python2.7/site-packages/numpy/core/include -I/global/homes/d/dorislee/anaconda/include/python2.7 -c yt/utilities/hdf5_light_reader.c -o build/temp.linux-x86_64-2.7/yt/utilities/hdf5_light_reader.o\" failed with exit status 1b"
   ]
  },
  {
   "cell_type": "raw",
   "metadata": {},
   "source": [
    "module load cray-hdf5"
   ]
  },
  {
   "cell_type": "raw",
   "metadata": {},
   "source": [
    "Installed /global/u2/d/dorislee/anaconda/lib/python2.7/site-packages/yt-2.7.dev0-py2.7-linux-x86_64.egg\n",
    "Processing dependencies for yt==2.7.dev0\n",
    "Finished processing dependencies for yt==2.7.dev0"
   ]
  },
  {
   "cell_type": "markdown",
   "metadata": {},
   "source": [
    "Downloaded thingking from source : "
   ]
  },
  {
   "cell_type": "raw",
   "metadata": {},
   "source": [
    "hg clone https://dorislee0309@bitbucket.org/zeropy/thingking\n",
    "/global/homes/d/dorislee/anaconda/bin/python  setup.py install"
   ]
  },
  {
   "cell_type": "markdown",
   "metadata": {},
   "source": [
    "Additional package required "
   ]
  },
  {
   "cell_type": "raw",
   "metadata": {},
   "source": [
    "git clone git@github.com:MiCHiLU/python-functools32.git\n",
    "/global/homes/d/dorislee/anaconda/bin/python  setup.py install"
   ]
  },
  {
   "cell_type": "markdown",
   "metadata": {},
   "source": [
    "Then finally ``import thinking\" works on the command line version "
   ]
  },
  {
   "cell_type": "code",
   "execution_count": null,
   "metadata": {
    "collapsed": true
   },
   "outputs": [],
   "source": []
  }
 ],
 "metadata": {
  "kernelspec": {
   "display_name": "Python 2",
   "language": "python",
   "name": "python2"
  },
  "language_info": {
   "codemirror_mode": {
    "name": "ipython",
    "version": 2
   },
   "file_extension": ".py",
   "mimetype": "text/x-python",
   "name": "python",
   "nbconvert_exporter": "python",
   "pygments_lexer": "ipython2",
   "version": "2.7.10"
  }
 },
 "nbformat": 4,
 "nbformat_minor": 0
}
