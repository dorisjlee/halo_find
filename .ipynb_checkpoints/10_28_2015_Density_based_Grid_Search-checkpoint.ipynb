{
 "cells": [
  {
   "cell_type": "code",
   "execution_count": 1,
   "metadata": {
    "collapsed": false
   },
   "outputs": [
    {
     "name": "stdout",
     "output_type": "stream",
     "text": [
      "Populating the interactive namespace from numpy and matplotlib\n"
     ]
    }
   ],
   "source": [
    "%pylab inline"
   ]
  },
  {
   "cell_type": "code",
   "execution_count": 6,
   "metadata": {
    "collapsed": false,
    "scrolled": false
   },
   "outputs": [
    {
     "name": "stdout",
     "output_type": "stream",
     "text": [
      "Loading Particle Data\n",
      "\n",
      "Creating train test split samples\n",
      "\n",
      "training set size : \n",
      "(399, 5)\n",
      "testing  set size : \n",
      "(100, 5)\n"
     ]
    }
   ],
   "source": []
  },
  {
   "cell_type": "code",
   "execution_count": 3,
   "metadata": {
    "collapsed": false
   },
   "outputs": [],
   "source": [
    "def compute_rcm(n_cluster,centroids):\n",
    "    #since all the particles have the same mass, the center of mass is  just the arithmetic average weighted by the number of particles in each cluster \n",
    "    numerator = 0\n",
    "    n_tot = 0\n",
    "    for i in np.arange(n_cluster):\n",
    "        N = len(np.where(labels==i)[0]) #number of particles in each cluster\n",
    "#         print \"n_clusters:\", i \n",
    "#         print \"nuumber of particles in each cluster \", N\n",
    "#         print \"cluster center\" , centroids[i]    \n",
    "        numerator += centroids[i]*N \n",
    "#         print \"numerator: \" , numerator\n",
    "        n_tot+=N\n",
    "    rcm = numerator/n_tot\n",
    "    return rcm"
   ]
  },
  {
   "cell_type": "code",
   "execution_count": 4,
   "metadata": {
    "collapsed": true
   },
   "outputs": [],
   "source": [
    "def compute_avrg_rad(n_cluster,centroids):\n",
    "    numerator = 0\n",
    "    n_tot = 0\n",
    "    for i in np.arange(n_cluster):\n",
    "        numerator += np.linalg.norm(centroids[i]-compute_rcm(n_cluster,centroids))\n",
    "    return numerator/n_cluster"
   ]
  },
  {
   "cell_type": "markdown",
   "metadata": {},
   "source": [
    "So it looks like average radius doesn't encircle all the datapoint but that's okay because we are jsut computing a average density "
   ]
  },
  {
   "cell_type": "code",
   "execution_count": 10,
   "metadata": {
    "collapsed": false
   },
   "outputs": [
    {
     "data": {
      "image/png": "[encoded data removed]",
      "text/plain": [
       "<matplotlib.figure.Figure at 0x7fd88957df90>"
      ]
     },
     "metadata": {},
     "output_type": "display_data"
    }
   ],
   "source": [
    "def verify_cm_calculation(n_cluster,centroids):\n",
    "    fig  = plt.figure()\n",
    "    plt.title(\"xy projection\",fontsize=15)\n",
    "    plt.plot(centers[:,0], centers[:,1],'o')\n",
    "    rcm = compute_rcm(n_cluster,centroids)\n",
    "    plt.plot(rcm[0],rcm[1],\"x\", color = \"red\", markersize=13)\n",
    "    rad = compute_avrg_rad(n_cluster,centroids)\n",
    "    circle1 = plt.Circle((rcm[0],rcm[1]),rad,color='g',fill=False)\n",
    "    fig.gca().add_artist(circle1)\n",
    "    plt.xlabel(\"X\",fontsize=13)\n",
    "    plt.ylabel(\"Y\",fontsize=13)\n",
    "    axes().set_aspect('equal', 'datalim')\n",
    "verify_cm_calculation(8,centers)"
   ]
  },
  {
   "cell_type": "code",
   "execution_count": 13,
   "metadata": {
    "collapsed": false
   },
   "outputs": [],
   "source": [
    "rad = compute_avrg_rad(8,centers)\n",
    "volume = (4./3.*pi*rad**3)\n",
    "mass = 2.75491975e43 * len(labels)\n",
    "density = mass / volume\n",
    "print density"
   ]
  }
 ],
 "metadata": {
  "kernelspec": {
   "display_name": "Python 2",
   "language": "python",
   "name": "python2"
  },
  "language_info": {
   "codemirror_mode": {
    "name": "ipython",
    "version": 2
   },
   "file_extension": ".py",
   "mimetype": "text/x-python",
   "name": "python",
   "nbconvert_exporter": "python",
   "pygments_lexer": "ipython2",
   "version": "2.7.10"
  }
 },
 "nbformat": 4,
 "nbformat_minor": 0
}
