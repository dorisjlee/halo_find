{
 "cells": [
  {
   "cell_type": "code",
   "execution_count": 40,
   "metadata": {
    "collapsed": false
   },
   "outputs": [
    {
     "name": "stdout",
     "output_type": "stream",
     "text": [
      "Populating the interactive namespace from numpy and matplotlib\n"
     ]
    },
    {
     "name": "stderr",
     "output_type": "stream",
     "text": [
      "WARNING: pylab import has clobbered these variables: ['clf', 'test']\n",
      "`%matplotlib` prevents importing * from pylab and numpy\n"
     ]
    }
   ],
   "source": [
    "%pylab inline"
   ]
  },
  {
   "cell_type": "code",
   "execution_count": 3,
   "metadata": {
    "collapsed": false
   },
   "outputs": [
    {
     "name": "stdout",
     "output_type": "stream",
     "text": [
      "centers10.txt  centers21.txt  centers32.txt  centers43.txt  centers54.txt\r\n",
      "centers11.txt  centers22.txt  centers33.txt  centers44.txt  centers55.txt\r\n",
      "centers12.txt  centers23.txt  centers34.txt  centers45.txt  centers56.txt\r\n",
      "centers13.txt  centers24.txt  centers35.txt  centers46.txt  centers5.txt\r\n",
      "centers14.txt  centers25.txt  centers36.txt  centers47.txt  centers6.txt\r\n",
      "centers15.txt  centers26.txt  centers37.txt  centers48.txt  centers7.txt\r\n",
      "centers16.txt  centers27.txt  centers38.txt  centers49.txt  centers8.txt\r\n",
      "centers17.txt  centers28.txt  centers39.txt  centers4.txt   centers9.txt\r\n",
      "centers18.txt  centers29.txt  centers3.txt   centers50.txt\r\n",
      "centers19.txt  centers2.txt   centers40.txt  centers51.txt\r\n",
      "centers1.txt   centers30.txt  centers41.txt  centers52.txt\r\n",
      "centers20.txt  centers31.txt  centers42.txt  centers53.txt\r\n"
     ]
    }
   ],
   "source": [
    "ls centers*.txt"
   ]
  },
  {
   "cell_type": "code",
   "execution_count": 4,
   "metadata": {
    "collapsed": true
   },
   "outputs": [],
   "source": [
    "def compute_rcm(n_cluster,centroids,labels):\n",
    "    #since all the particles have the same mass, the center of mass is  just the arithmetic average weighted by the number of particles in each cluster \n",
    "    numerator = 0\n",
    "    n_tot = 0\n",
    "    for i in np.arange(n_cluster):\n",
    "        N = len(np.where(labels==i)[0]) #number of particles in each cluster\n",
    "#         print \"n_clusters:\", i \n",
    "#         print \"nuumber of particles in each cluster \", N\n",
    "#         print \"cluster center\" , centroids[i]    \n",
    "        numerator += centroids[i]*N \n",
    "#         print \"numerator: \" , numerator\n",
    "        n_tot+=N\n",
    "    rcm = numerator/n_tot\n",
    "    return rcm\n",
    "def compute_avrg_rad(n_cluster,centroids,labels):\n",
    "    numerator = 0\n",
    "    n_tot = 0\n",
    "    for i in np.arange(n_cluster):\n",
    "        numerator += np.linalg.norm(centroids[i]-compute_rcm(n_cluster,centroids,labels))\n",
    "    return numerator/n_cluster"
   ]
  },
  {
   "cell_type": "code",
   "execution_count": 5,
   "metadata": {
    "collapsed": false
   },
   "outputs": [],
   "source": [
    "def verify_cm_calculation(n_cluster,centroids,labels):\n",
    "    fig  = plt.figure()\n",
    "    plt.title(\"xy projection for n_cluster = {}\".format(n_cluster),fontsize=15)\n",
    "    plt.plot(centers[:,0], centers[:,1],'o')\n",
    "    rcm = compute_rcm(n_cluster,centroids,labels)\n",
    "    plt.plot(rcm[0],rcm[1],\"x\", color = \"red\", markersize=13)\n",
    "    rad = compute_avrg_rad(n_cluster,centroids,labels)\n",
    "    circle1 = plt.Circle((rcm[0],rcm[1]),rad,color='g',fill=False)\n",
    "    fig.gca().add_artist(circle1)\n",
    "    plt.xlabel(\"X\",fontsize=13)\n",
    "    plt.ylabel(\"Y\",fontsize=13)\n",
    "    axes().set_aspect('equal', 'datalim')"
   ]
  },
  {
   "cell_type": "markdown",
   "metadata": {},
   "source": [
    "The confusion here is that we want density for each clutster, not density of number of clusters . After that  we can average per cluster densities, but we don't want the total density which is what this code is computing right now"
   ]
  },
  {
   "cell_type": "markdown",
   "metadata": {},
   "source": [
    "In the k=30 run, there was 30 resulting clusters, each has x ,y z loc (this should just be the CM!)"
   ]
  },
  {
   "cell_type": "code",
   "execution_count": 11,
   "metadata": {
    "collapsed": false
   },
   "outputs": [
    {
     "data": {
      "text/plain": [
       "array([  0.,   1.,   2.,   3.,   4.,   5.,   6.,   7.,   8.,   9.,  10.,\n",
       "        11.,  12.,  13.,  14.,  15.,  16.,  17.,  18.,  19.,  20.,  21.,\n",
       "        22.,  23.,  24.,  25.,  26.,  27.,  28.,  29.])"
      ]
     },
     "execution_count": 11,
     "metadata": {},
     "output_type": "execute_result"
    }
   ],
   "source": [
    "np.unique(labels)"
   ]
  },
  {
   "cell_type": "code",
   "execution_count": 14,
   "metadata": {
    "collapsed": false
   },
   "outputs": [
    {
     "data": {
      "text/plain": [
       "24346"
      ]
     },
     "execution_count": 14,
     "metadata": {},
     "output_type": "execute_result"
    }
   ],
   "source": [
    "len(np.where(labels==6)[0])"
   ]
  },
  {
   "cell_type": "code",
   "execution_count": 20,
   "metadata": {
    "collapsed": false
   },
   "outputs": [
    {
     "data": {
      "text/plain": [
       "(1572863,)"
      ]
     },
     "execution_count": 20,
     "metadata": {},
     "output_type": "execute_result"
    }
   ],
   "source": [
    "shape(labels)"
   ]
  },
  {
   "cell_type": "markdown",
   "metadata": {},
   "source": [
    "This is different from the total number of particles which means that there is no one to one correspondence betwee the index of the particles and the index in the labels array"
   ]
  },
  {
   "cell_type": "markdown",
   "metadata": {},
   "source": [
    "So unfortunately we would have to rerun this and remember to actually write down the x,y,z, mass and label this time "
   ]
  },
  {
   "cell_type": "code",
   "execution_count": 19,
   "metadata": {
    "collapsed": false
   },
   "outputs": [
    {
     "data": {
      "text/plain": [
       "array([111599, 111600, 122772, ..., 408525, 408526, 408527])"
      ]
     },
     "execution_count": 19,
     "metadata": {},
     "output_type": "execute_result"
    }
   ],
   "source": [
    "np.where(labels==6)[0]"
   ]
  },
  {
   "cell_type": "code",
   "execution_count": 18,
   "metadata": {
    "collapsed": false
   },
   "outputs": [
    {
     "name": "stderr",
     "output_type": "stream",
     "text": [
      "yt : [INFO     ] 2015-11-02 20:27:59,371 Calculating time to be 4.344e+17 seconds\n",
      "yt : [INFO     ] 2015-11-02 20:27:59,415 Parameters: current_time              = 4.3437787319e+17\n",
      "yt : [INFO     ] 2015-11-02 20:27:59,416 Parameters: domain_dimensions         = [2 2 2]\n",
      "yt : [INFO     ] 2015-11-02 20:27:59,417 Parameters: domain_left_edge          = [-45417.41686962 -45417.41686962 -45417.41686962]\n",
      "yt : [INFO     ] 2015-11-02 20:27:59,418 Parameters: domain_right_edge         = [ 45417.41686962  45417.41686962  45417.41686962]\n",
      "yt : [INFO     ] 2015-11-02 20:27:59,419 Parameters: cosmological_simulation   = 1\n",
      "yt : [INFO     ] 2015-11-02 20:27:59,419 Parameters: current_redshift          = 2.48886713461e-08\n",
      "yt : [INFO     ] 2015-11-02 20:27:59,419 Parameters: omega_lambda              = 0.704962\n",
      "yt : [INFO     ] 2015-11-02 20:27:59,420 Parameters: omega_matter              = 0.295038\n",
      "yt : [INFO     ] 2015-11-02 20:27:59,420 Parameters: hubble_constant           = 0.688062\n",
      "yt : [INFO     ] 2015-11-02 20:27:59,426 Allocating for 2.097e+06 particles\n",
      "yt : [INFO     ] 2015-11-02 20:27:59,794 Identified 1.732e+05 octs\n",
      "yt : [INFO     ] 2015-11-02 20:27:59,921 Loading field plugins.\n",
      "yt : [INFO     ] 2015-11-02 20:27:59,921 Loaded angular_momentum (8 new fields)\n",
      "yt : [INFO     ] 2015-11-02 20:27:59,922 Loaded astro (15 new fields)\n",
      "yt : [INFO     ] 2015-11-02 20:27:59,922 Loaded cosmology (22 new fields)\n",
      "yt : [INFO     ] 2015-11-02 20:27:59,923 Loaded fluid (64 new fields)\n",
      "yt : [INFO     ] 2015-11-02 20:27:59,924 Loaded fluid_vector (96 new fields)\n",
      "yt : [INFO     ] 2015-11-02 20:27:59,925 Loaded geometric (112 new fields)\n",
      "yt : [INFO     ] 2015-11-02 20:27:59,926 Loaded local (112 new fields)\n",
      "yt : [INFO     ] 2015-11-02 20:27:59,926 Loaded magnetic_field (120 new fields)\n",
      "yt : [INFO     ] 2015-11-02 20:27:59,926 Loaded my_plugins (120 new fields)\n",
      "yt : [INFO     ] 2015-11-02 20:27:59,927 Loaded species (122 new fields)\n"
     ]
    }
   ],
   "source": [
    "import yt\n",
    "ds = yt.load(\"../ds14_scivis_0128_e4_dt04_1.0000\")\n",
    "ad = ds.all_data()\n",
    "x = ad[(\"all\",\"particle_position_x\")]\n",
    "y = ad[(\"all\",\"particle_position_y\")]\n",
    "z = ad[(\"all\",\"particle_position_z\")]\n",
    "m = ad[(\"all\",\"mass\")]\n",
    "idx = ad[(\"all\",\"particle_index\")]"
   ]
  },
  {
   "cell_type": "raw",
   "metadata": {},
   "source": [
    "95 clusters test\n",
    "(399, 3)\n",
    "(95, 3)\n",
    "(399,)\n",
    "96 clusters test\n",
    "(399, 3)\n",
    "(96, 3)\n",
    "(399,)\n",
    "97 clusters test\n",
    "(399, 3)\n",
    "(97, 3)\n",
    "(399,)\n",
    "98 clusters test\n",
    "(399, 3)\n",
    "(98, 3)\n",
    "(399,)"
   ]
  },
  {
   "cell_type": "markdown",
   "metadata": {},
   "source": [
    "Okay so the training set is always still the same, so we could jsut reference by dumping train test sample reslt into a file "
   ]
  },
  {
   "cell_type": "code",
   "execution_count": 17,
   "metadata": {
    "collapsed": false
   },
   "outputs": [
    {
     "name": "stdout",
     "output_type": "stream",
     "text": [
      "0\n"
     ]
    },
    {
     "name": "stderr",
     "output_type": "stream",
     "text": [
      "/anaconda/lib/python2.7/site-packages/IPython/kernel/__main__.py:20: RuntimeWarning: divide by zero encountered in long_scalars\n"
     ]
    },
    {
     "ename": "ZeroDivisionError",
     "evalue": "float division by zero",
     "output_type": "error",
     "traceback": [
      "\u001b[1;31m---------------------------------------------------------------------------\u001b[0m",
      "\u001b[1;31mZeroDivisionError\u001b[0m                         Traceback (most recent call last)",
      "\u001b[1;32m<ipython-input-17-bc26464aa567>\u001b[0m in \u001b[0;36m<module>\u001b[1;34m()\u001b[0m\n\u001b[0;32m      8\u001b[0m         \u001b[0mdensity\u001b[0m \u001b[1;33m=\u001b[0m\u001b[1;36m0\u001b[0m \u001b[1;31m#undefined density for point mass\u001b[0m\u001b[1;33m\u001b[0m\u001b[0m\n\u001b[0;32m      9\u001b[0m     \u001b[1;32melse\u001b[0m\u001b[1;33m:\u001b[0m\u001b[1;33m\u001b[0m\u001b[0m\n\u001b[1;32m---> 10\u001b[1;33m         \u001b[0mdensity\u001b[0m \u001b[1;33m=\u001b[0m \u001b[0mmass\u001b[0m \u001b[1;33m/\u001b[0m \u001b[0mvolume\u001b[0m\u001b[1;33m\u001b[0m\u001b[0m\n\u001b[0m",
      "\u001b[1;31mZeroDivisionError\u001b[0m: float division by zero"
     ]
    }
   ],
   "source": [
    "for k in np.arange(30):\n",
    "    rad = compute_avrg_rad(k,centers,labels)\n",
    "    print rad\n",
    "    volume = 4./3.*np.pi*rad**3\n",
    "    N=len(np.where(labels==k)[0])\n",
    "    mass = 2.75491975e43 * N\n",
    "    if k ==1:\n",
    "        density =0 #undefined density for point mass\n",
    "    else:\n",
    "        density = mass / volume"
   ]
  },
  {
   "cell_type": "code",
   "execution_count": 7,
   "metadata": {
    "collapsed": false
   },
   "outputs": [
    {
     "data": {
      "image/png": "[encoded data removed]",
      "text/plain": [
       "<matplotlib.figure.Figure at 0x7f5ae40bb8d0>"
      ]
     },
     "metadata": {},
     "output_type": "display_data"
    }
   ],
   "source": [
    "centers = np.loadtxt(\"centers30.txt\")\n",
    "labels = np.loadtxt(\"labels30.txt\")\n",
    "verify_cm_calculation(30,centers,labels)"
   ]
  },
  {
   "cell_type": "markdown",
   "metadata": {},
   "source": [
    "The compute_avrg_rad function is wrong"
   ]
  },
  {
   "cell_type": "code",
   "execution_count": 27,
   "metadata": {
    "collapsed": false
   },
   "outputs": [
    {
     "data": {
      "text/plain": [
       "(0, 5)"
      ]
     },
     "execution_count": 27,
     "metadata": {},
     "output_type": "execute_result"
    },
    {
     "data": {
      "image/png": "[encoded data removed]",
      "text/plain": [
       "<matplotlib.figure.Figure at 0x7ff3352b1810>"
      ]
     },
     "metadata": {},
     "output_type": "display_data"
    }
   ],
   "source": [
    "# densities = np.loadtxt(\"densities.txt\")\n",
    "plt.plot(np.array(densities))\n",
    "# plt.plot(np.arange(1,30),np.array(densities))\n",
    "plt.xlabel(\"n_clusters\",fontsize=13)\n",
    "plt.ylabel(\"average density\",fontsize=13)\n",
    "plt.xlim(0,5)"
   ]
  },
  {
   "cell_type": "code",
   "execution_count": 26,
   "metadata": {
    "collapsed": false
   },
   "outputs": [
    {
     "data": {
      "text/plain": [
       "1"
      ]
     },
     "execution_count": 26,
     "metadata": {},
     "output_type": "execute_result"
    }
   ],
   "source": [
    "densities.index(max(densities))"
   ]
  },
  {
   "cell_type": "code",
   "execution_count": 50,
   "metadata": {
    "collapsed": false
   },
   "outputs": [
    {
     "name": "stdout",
     "output_type": "stream",
     "text": [
      "Loading Particle Data \n",
      "Creating train test split samples \n"
     ]
    }
   ],
   "source": [
    "import numpy as np\n",
    "import yt\n",
    "import sklearn\n",
    "yt.funcs.mylog.setLevel(50)\n",
    "import matplotlib.pyplot as plt\n",
    "from sklearn.datasets import load_iris\n",
    "from sklearn.cross_validation import cross_val_score\n",
    "from sklearn.cluster import KMeans\n",
    "from sklearn.grid_search import GridSearchCV\n",
    "DEBUG= True\n",
    "def debug(s,n=\"\"):\n",
    "    if DEBUG:\n",
    "        print s , n\n",
    "debug(\"Loading Particle Data\")\n",
    "ds = yt.load(\"../ds14_scivis_0128_e4_dt04_1.0000\")\n",
    "ad = ds.all_data()\n",
    "x = ad[(\"all\",\"particle_position_x\")]\n",
    "y = ad[(\"all\",\"particle_position_y\")]\n",
    "z = ad[(\"all\",\"particle_position_z\")]\n",
    "debug(\"Creating train test split samples\")\n",
    "m = ad[(\"all\",\"mass\")]\n",
    "idx = ad[(\"all\",\"particle_index\")]\n",
    "train = []\n",
    "test = []\n",
    "N = 500#2097152#500\n",
    "N_split = 100#524288#100\n",
    "for n in np.arange(N):\n",
    "    if n >N_split:\n",
    "        train.append([idx[n],m[n].in_cgs(),x[n].in_cgs(),y[n].in_cgs(),z[n].in_cgs()])\n",
    "#         train.append([x[n].in_cgs(),y[n].in_cgs(),z[n].in_cgs()])\n",
    "    elif n<N_split:\n",
    "        test.append([idx[n],m[n].in_cgs(),x[n].in_cgs(),y[n].in_cgs(),z[n].in_cgs()])\n",
    "#         test.append([x[n].in_cgs(),y[n].in_cgs(),z[n].in_cgs()])\n",
    "train = np.array(train)\n",
    "test = np.array(test)\n",
    "# debug(\"training set size : \", np.shape(train))\n",
    "# debug(\"testing  set size : \", np.shape(test))\n",
    "np.savetxt(\"test.txt\",test)\n",
    "np.savetxt(\"train.txt\",train)\n",
    "# Explicit Grid Search\n",
    "k_range = range(1, 100)\n",
    "# k_scores = []\n",
    "# densf = open('densities.txt', 'a')\n"
   ]
  },
  {
   "cell_type": "code",
   "execution_count": 73,
   "metadata": {
    "collapsed": false,
    "scrolled": false
   },
   "outputs": [
    {
     "name": "stdout",
     "output_type": "stream",
     "text": [
      "[]\n",
      "[2.8421460867591001e-30, 7.4821936738424401e-30]\n",
      "[3.7590905238543268e-30, 2.8421460867591001e-30, 1.2371295672086468e-29]\n",
      "[1.7962113594559184e-30, 1.2371295672086468e-29, 7.9843112461914022e-30, 3.7590905238543268e-30]\n",
      "[1.6090975396233625e-30, 7.9843112461914022e-30, 1.7235541385322022e-29, 7.2754601704152547e-30, 1.7962113594559184e-30]\n",
      "[1.7235541385322022e-29, 1.6108696793940295e-29, 7.2754601704152547e-30, 2.076952580580045e-30, 3.4147540614384778e-30, 1.6090975396233625e-30]\n",
      "[3.4147540614384778e-30, 1.7123675630468573e-29, 1.6108696793940295e-29, 1.6726022401838741e-30, 1.2099703005903483e-29, 6.0297002646441474e-30, 2.076952580580045e-30]\n",
      "[1.9625780853434658e-29, 1.6108696793940295e-29, 3.2819117695368135e-30, 6.6683922571115726e-30, 5.7669690122004923e-31, 2.1142535713349739e-30, 1.221600608655916e-29, 3.8373521630057646e-30]\n",
      "[1.6108696793940295e-29, 4.5596309894205872e-30, 2.1142535713349739e-30, 3.2819117695368135e-30, 1.1078679163364581e-29, 6.1612040976882055e-29, 6.7552521272368742e-30, 5.7669690122004923e-31, 3.8373521630057646e-30]\n",
      "[1.2709376079624311e-29, 9.2469252068750291e-30, 5.4477722200344837e-29, 6.7552521272368742e-30, 3.4147540614384778e-30, 2.076952580580045e-30, 5.7669690122004923e-31, 4.5596309894205872e-30, 3.8373521630057646e-30, 4.5159427112009169e-29]\n",
      "[1.6108696793940295e-29, 5.8570995222944562e-29, 3.2819117695368135e-30, 4.4088963920911893e-30, 3.3194814303693793e-29, 2.1142535713349739e-30, 6.9624291234318047e-30, 5.7669690122004923e-31, 4.3280988363012878e-30, 3.2379615604963473e-30, 1.2100638349803398e-29]\n",
      "[1.5817288014481427e-30, 8.674751229989392e-29, 3.2819117695368135e-30, 2.3187361619030447e-29, 4.1271413871952891e-30, 1.4379657112148155e-29, 6.2024879653326189e-29, 2.2068459135204766e-30, 5.7669690122004923e-31, 3.4472268146562546e-30, 4.2290001877580101e-30, 4.3977013182146223e-30]\n",
      "[9.2469252068750291e-30, 1.115794898026506e-28, 6.4896495120105738e-30, 3.6776051045112437e-30, 3.3180605924477448e-30, 4.3977013182146223e-30, 4.1384536468691482e-30, 3.4522420498991577e-30, 5.7669690122004923e-31, 3.3900496584542402e-29, 3.5370454641878846e-29, 1.762043091109651e-29, 2.0169768703252258e-30]\n",
      "[4.1384536468691482e-30, 1.2371418416291473e-28, 1.7717266184753628e-29, 4.6686252406087674e-30, 3.3900496584542402e-29, 5.7669690122004923e-31, 3.6776051045112437e-30, 1.4415798447991174e-29, 4.0167566370657315e-30, 3.4522420498991577e-30, 2.0169768703252258e-30, 1.1425192673848665e-29, 6.0392026079498325e-30, 1.544295144818703e-29]\n",
      "[4.1384536468691482e-30, 4.2290001877580101e-30, 3.1014493069687467e-30, 1.544295144818703e-29, 3.3900496584542402e-29, 6.1586659381732253e-29, 2.0246012961620895e-30, 5.7669690122004923e-31, 4.6686252406087674e-30, 1.2371418416291473e-28, 6.7159685891016986e-30, 5.2311095592068567e-30, 1.2570761190055532e-29, 3.4472268146562546e-30, 1.1674930188043698e-29]\n",
      "[1.544295144818703e-29, 4.5159427112009169e-29, 4.1384536468691482e-30, 8.3422566348323023e-29, 7.192494061900343e-30, 2.2240634552022474e-30, 1.9969001462618537e-30, 4.6686252406087674e-30, 9.2469252068750291e-30, 6.0392026079498325e-30, 1.3407193498673639e-28, 1.4415798447991174e-29, 4.571088093926612e-30, 1.8868022790174852e-30, 7.1564093798214097e-31, 2.4813743629925076e-30]\n",
      "[1.2319181243062977e-30, 9.2469252068750291e-30, 1.3407193498673639e-28, 8.4446993768764189e-30, 1.4415798447991174e-29, 5.1297641524968059e-30, 4.0167566370657315e-30, 8.845807582640591e-30, 3.9043145537929583e-30, 1.544295144818703e-29, 6.0392026079498325e-30, 6.2024879653326189e-29, 4.5159427112009169e-29, 2.0547122016412083e-30, 1.1067744408317867e-30, 2.0510005722597269e-30, 4.6686252406087674e-30]\n",
      "[1.544295144818703e-29, 5.082861437118186e-29, 8.3422566348323023e-29, 8.845807582640591e-30, 2.2528304394707247e-30, 6.0686528837778044e-30, 5.7487566365292822e-31, 4.6686252406087674e-30, 1.655308901683338e-29, 3.5658576715391876e-30, 3.7291807228343166e-30, 7.5567948875521222e-30, 5.1419847413305182e-30, 5.5179475806112604e-30, 1.6360086795668644e-28, 1.4415798447991174e-29, 3.9667077075607312e-30, 7.1564093798214097e-31]\n",
      "[7.7987077466745233e-29, 1.9734336223089795e-29, 1.7594686573625807e-29, 2.7266774280696337e-29, 2.2339830346181643e-30, 1.4415798447991174e-29, 6.8478337064145907e-30, 6.0392026079498325e-30, 1.2319181243062977e-30, 4.0092796127155527e-30, 1.3797835984235638e-28, 6.3008197641959655e-30, 1.622793636568611e-30, 5.3297775955800171e-30, 2.7049975946870126e-30, 7.1564093798214097e-31, 1.8989579741671962e-30, 8.4446993768764189e-30, 5.2662720099884336e-29]\n",
      "[1.4415798447991174e-29, 1.2570761190055532e-29, 1.4234008951158851e-28, 3.9667077075607312e-30, 2.4525794758073424e-30, 8.4446993768764189e-30, 6.2050530036269034e-30, 7.7987077466745233e-29, 4.6686252406087674e-30, 7.1564093798214097e-31, 2.0037091549024037e-30, 4.5159427112009169e-29, 2.2240634552022474e-30, 5.1913180462301156e-30, 4.895059916310579e-30, 2.7266774280696337e-29, 1.7594686573625807e-29, 7.5567948875521222e-30, 1.1780717905068653e-29, 1.2834338077407077e-29]\n",
      "[6.2024879653326189e-29, 2.4372902829379491e-30, 1.7014396049902953e-29, 8.4446993768764189e-30, 3.1462123257347964e-29, 1.7302786492828805e-30, 1.2528604313677489e-30, 4.8095297300659562e-30, 6.0392026079498325e-30, 1.4415798447991174e-29, 1.3407193498673639e-28, 4.6697096652048062e-30, 8.2065515959236162e-30, 5.4143102293369231e-29, 6.2050530036269034e-30, 5.5179475806112604e-30, 4.6686252406087674e-30, 2.7266774280696337e-29, 2.0246012961620895e-30, 5.867542486014018e-30, 1.1067744408317867e-30]\n",
      "[1.1156811995783315e-29, 3.9667077075607312e-30, 7.3182649119716026e-29, 8.4446993768764189e-30, 1.784816232183109e-28, 2.919785383857243e-30, 2.4525794758073424e-30, 2.882090118906415e-29, 2.2240634552022474e-30, 2.949965570727503e-29, 8.7603989604487823e-30, 4.1655390853476928e-30, 4.4728473461474305e-30, 2.0037091549024037e-30, 2.8348148935714887e-30, 2.7266774280696337e-29, 6.6360726197175963e-30, 5.3438208602944662e-29, 7.3601115036561352e-30, 3.5658576715391876e-30, 1.3212495307313004e-29, 2.5005377121225488e-30]\n",
      "[6.7534524538660222e-29, 2.7900149265547237e-30, 9.4425908593411449e-30, 7.7346957595069722e-30, 2.469616292604002e-30, 1.4415798447991174e-29, 6.0308436081311732e-30, 1.2570761190055532e-29, 2.7266774280696337e-29, 5.2311095592068567e-30, 1.6694391363267699e-28, 7.5567948875521222e-30, 5.3297775955800171e-30, 2.366993643179734e-30, 1.1067744408317867e-30, 6.2050530036269034e-30, 6.4480579637249354e-30, 8.4446993768764189e-30, 5.2164880831613325e-29, 4.9293823875120234e-29, 4.895059916310579e-30, 2.2240634552022474e-30, 1.0932302849916786e-29]\n",
      "[2.8348148935714887e-30, 1.2771334122649048e-29, 1.4227814709597522e-28, 8.4446993768764189e-30, 1.7618011524503161e-29, 1.23663454385938e-30, 4.7237166496408983e-29, 5.0561917770048946e-30, 6.8355235406133798e-30, 7.9149130120368798e-30, 2.4905314181470242e-30, 7.8904531843798374e-29, 2.2519796667262892e-29, 9.4317430909081027e-29, 8.3513692611468566e-30, 2.469616292604002e-30, 2.2240634552022474e-30, 2.1910258781601205e-30, 1.2834338077407077e-29, 1.369869088836039e-30, 6.9077538083270503e-30, 1.4023049830700621e-30, 2.3845211396920229e-29, 5.547832639661222e-30]\n",
      "[9.9423266252776482e-30, 3.4273848411470952e-29, 5.1913180462301156e-30, 8.4446993768764189e-30, 2.3844111028609438e-29, 2.3910596242553464e-30, 2.2240634552022474e-30, 8.3422566348323023e-29, 2.4525794758073424e-30, 2.3416380790115273e-28, 6.3008197641959655e-30, 1.2834338077407077e-29, 1.0554617677168982e-29, 4.6686252406087674e-30, 6.2050530036269034e-30, 7.1564093798214097e-31, 4.4647422871691689e-29, 1.6864426553210894e-29, 1.8989579741671962e-30, 2.7266774280696337e-29, 1.7618011524503161e-29, 3.7614712629820852e-30, 2.2614832012371459e-29, 1.5518207143033275e-30, 3.241298419337607e-29]\n",
      "[2.7900149265547237e-30, 1.4953160042757676e-28, 2.254428799335017e-29, 2.9177042509633633e-29, 2.2240634552022474e-30, 8.4446993768764189e-30, 7.1199265519093469e-30, 1.7618011524503161e-29, 4.1824269346171892e-31, 2.7266774280696337e-29, 9.4644102136727862e-29, 8.7921687376855871e-30, 1.0168193175198251e-29, 4.6686252406087674e-30, 1.86152371096038e-30, 6.2050530036269034e-30, 4.5988214160739442e-30, 6.1135666838670455e-29, 2.8348148935714887e-30, 7.3601115036561352e-30, 2.0042773079100027e-30, 2.4372902829379491e-30, 2.4525794758073424e-30, 4.9293823875120234e-29, 1.3244826047972708e-29, 1.0402924170884405e-30]\n",
      "[8.7023138096474116e-29, 3.5658576715391876e-30, 1.5905460894712943e-30, 2.9636087876495102e-29, 5.0543211536962114e-30, 5.0704081064579618e-30, 1.1260656022949859e-28, 5.2311095592068567e-30, 1.4938762458880785e-29, 4.3029288275618041e-30, 2.2240634552022474e-30, 2.0792088428823849e-30, 1.1365920953710142e-30, 1.5518207143033275e-30, 1.7181198161133447e-28, 9.4317430909081027e-29, 4.7513374563073516e-30, 6.0476076580700256e-29, 2.469616292604002e-30, 1.8875291421444578e-29, 1.8791185374452903e-29, 2.5201710504061614e-29, 2.4338382627940931e-30, 1.2834338077407077e-29, 1.0168193175198251e-29, 8.505576170570245e-30, 2.26350796237505e-31]\n",
      "[6.3175325307321593e-30, 8.66637727904886e-30, 2.922395068001671e-29, 1.2685831669194135e-30, 4.7209684141762071e-30, 1.1260656022949859e-28, 1.8665260968808676e-29, 2.2240634552022474e-30, 4.9550728847711301e-30, 3.2912674351426593e-30, 7.1365177238405489e-30, 8.4446993768764189e-30, 1.7779689613495309e-29, 2.4059978528802257e-29, 8.7921687376855871e-30, 1.1365920953710142e-30, 1.5241957997751738e-29, 3.3062093685484333e-30, 1.3764835925041816e-28, 4.7513374563073516e-30, 1.5518207143033275e-30, 2.0547122016412083e-30, 1.2834338077407077e-29, 6.1581903369015675e-30, 1.1882367781984524e-28, 9.8818995686258299e-30, 2.0792088428823849e-30, 2.9792141836102777e-28]\n",
      "[1.7618011524503161e-29, 2.3910596242553464e-30, 2.5492948430839049e-28, 2.254428799335017e-29, 1.7722156859091749e-29, 8.4446993768764189e-30, 2.2240634552022474e-30, 6.8355235406133798e-30, 9.3504873123610163e-31, 1.5518207143033275e-30, 5.65011614202757e-29, 1.1260656022949859e-28, 1.236894816923439e-30, 4.1655390853476928e-30, 2.6662385872634291e-29, 2.8314879471443252e-30, 9.4317430909081027e-29, 5.1873019472187109e-30, 1.0925116212708076e-29, 1.5024283434167022e-30, 2.8348148935714887e-30, 9.4039412751904991e-30, 3.241298419337607e-29, 2.0792088428823849e-30, 1.7589630250694377e-29, 1.5241957997751738e-29, 7.7346957595069722e-30, 2.3588129357231153e-30, 9.8818995686258299e-30]\n",
      "[2.8348148935714887e-30, 2.7900149265547237e-30, 1.5871542767104565e-29, 2.254428799335017e-29, 9.4317430909081027e-29, 1.0296776711756442e-29, 4.8783743574498514e-29, 4.895059916310579e-30, 4.9293823875120234e-29, 7.3408358382423563e-30, 9.7180657713156739e-31, 5.4664221999211923e-30, 7.8904531843798374e-29, 3.7614712629820852e-30, 2.2240634552022474e-30, 8.4446993768764189e-30, 1.2009089852834333e-30, 6.4219881258872745e-30, 7.3601115036561352e-30, 2.3588129357231153e-30, 1.2249316631200268e-29, 1.0282004573220573e-29, 2.5350199861231987e-28, 1.5518207143033275e-30, 5.8427189124554337e-30, 1.8563943055324472e-30, 1.8875291421444578e-29, 9.7904471461309402e-30, 2.5027390321834256e-29, 5.1415251252900394e-30]\n",
      "[1.7259658434959841e-29, 4.4647422871691689e-29, 1.3403486953528557e-29, 1.5905460894712943e-30, 7.5567948875521222e-30, 1.1478275799568964e-29, 5.8091473060788219e-30, 8.3435247261728935e-30, 2.1910258781601205e-30, 5.867542486014018e-30, 9.0798438775700276e-30, 1.6168589291375736e-30, 5.2311095592068567e-30, 8.6749132985695234e-29, 9.8818995686258299e-30, 8.4446993768764189e-30, 3.2954689609656451e-29, 2.8348148935714887e-30, 3.5212750685886764e-30, 6.8355235406133798e-30, 1.2834338077407077e-29, 3.0879065846843561e-29, 1.1354930818157232e-29, 9.4317430909081027e-29, 1.2249316631200268e-29, 2.038895292642136e-30, 5.9968675248190185e-29, 2.2168869314029435e-28, 5.6519668281235659e-30, 4.8329236161215609e-30, 6.4219881258872745e-30]\n",
      "[2.9171235716012824e-29, 2.0547122016412083e-30, 1.7779689613495309e-29, 7.680474092075849e-31, 5.9356045696482053e-30, 9.8818995686258299e-30, 2.90456182542217e-29, 1.0521354114720733e-29, 9.4317430909081027e-29, 6.8390960049846965e-30, 8.4446993768764189e-30, 4.5087091476959721e-30, 2.8208015454434976e-28, 1.8665260968808676e-29, 2.2240634552022474e-30, 8.66637727904886e-30, 4.1655390853476928e-30, 2.4059978528802257e-29, 2.8348148935714887e-30, inf, 1.7618011524503161e-29, 5.4982482646804219e-30, 2.3223931553304737e-30, 1.2834338077407077e-29, 6.8355235406133798e-30, 1.1882367781984524e-28, 4.9550728847711301e-30, 2.0792088428823849e-30, 7.1877357358844747e-29, 1.4893205539288034e-29, 6.1581903369015675e-30, 1.5905460894712943e-30]\n",
      "[6.8355235406133798e-30, 1.368862214248249e-28, 1.6638510253324454e-28, 8.4446993768764189e-30, 6.2421818705676898e-30, 8.3435247261728935e-30, 2.469616292604002e-30, 2.3247120283559724e-29, 2.9177042509633633e-29, 1.1260656022949859e-28, 2.8348148935714887e-30, 5.182779499263225e-30, 2.2240634552022474e-30, 9.4317430909081027e-29, 1.4647193902803817e-29, 1.7618011524503161e-29, 2.4217445113300443e-29, 1.0925116212708076e-29, 1.2834338077407077e-29, 1.325407979779524e-29, 5.8091473060788219e-30, 3.461979949635844e-29, 1.4971681775777847e-29, 1.5905460894712943e-30, 9.3504873123610163e-31, 4.9550728847711301e-30, 3.4812361772196903e-30, 6.9866498989568921e-30, 1.0402924170884405e-30, 2.0792088428823849e-30, 8.0796550859565276e-30, 1.141718185142583e-30, 1.5088851243753621e-29]\n",
      "[4.9293823875120234e-29, 1.0314521873044435e-29, 9.4317430909081027e-29, 9.4644102136727862e-29, 3.0791522382548106e-30, 2.038895292642136e-30, 6.6515930827986556e-30, 1.1102900906199904e-29, 1.6408532818393371e-30, 1.573433122232449e-28, 9.7904471461309402e-30, 2.254428799335017e-29, 1.2307112990488939e-29, 4.0184870998648118e-29, 4.895059916310579e-30, 1.5905460894712943e-30, 1.2834338077407077e-29, 1.4938762458880785e-29, 4.0300023210190981e-27, 2.05932133994983e-30, 6.0662775816666525e-27, 9.8964780418039321e-30, 2.1910258781601205e-30, 9.2634555432085491e-30, 7.3426557833691782e-30, inf, 2.8526655824723408e-30, 6.8355235406133798e-30, 1.368862214248249e-28, 3.8863646354961017e-30, inf, 5.867542486014018e-30, 1.0402924170884405e-30, 5.6999407889204998e-30]\n",
      "[5.1873019472187109e-30, 2.4885808693398316e-29, 2.2255268313851731e-28, 4.8440311450566748e-30, 2.0129181596782719e-30, 4.8967793969927388e-30, 6.2844449176315936e-30, 5.867542486014018e-30, 1.325407979779524e-29, 5.2311095592068567e-30, 1.3244826047972708e-29, 3.3124765462695857e-30, 3.1115501332141651e-29, 2.6788457509125507e-30, 9.4317430909081027e-29, 2.9636087876495102e-29, 8.6236098447006138e-29, 1.0168193175198251e-29, 6.8037546443615844e-30, 5.4982482646804219e-30, 1.2834338077407077e-29, 6.8355235406133798e-30, 1.6438433916684757e-28, 1.1365920953710142e-30, 1.2307112990488939e-29, 6.851401193409505e-29, 1.0402924170884405e-30, 9.8061661227137547e-31, 1.4596367479848117e-29, 6.5367959525818776e-30, 2.038895292642136e-30, 6.9866498989568921e-30, 3.0755518792101337e-29, 2.0792088428823849e-30, 2.5201710504061614e-29]\n",
      "[2.9073718757096887e-30, 2.6585132583912049e-30, 2.5201710504061614e-29, 4.5926794672298569e-29, 1.5905460894712943e-30, 1.9682856222012716e-29, 2.2240634552022474e-30, 2.1815648152656356e-28, 9.4317430909081027e-29, 4.2881879576086723e-29, 4.6296452109839879e-29, 6.3175325307321593e-30, 6.7114783283375003e-30, 8.7921687376855871e-30, 6.1581903369015675e-30, 1.1438286932328077e-30, 7.680474092075849e-31, 6.4921043355099199e-30, 1.2834338077407077e-29, 1.4938762458880785e-29, 4.7513374563073516e-30, 1.2307112990488939e-29, 2.8348148935714887e-30, 1.2364941181621519e-28, 9.8818995686258299e-30, 9.178919175391865e-29, 2.6284817731845977e-29, 1.0521354114720733e-29, 2.0792088428823849e-30, 5.2406170260070791e-30, 5.4982482646804219e-30, 2.5042076758602972e-30, 1.4426301794103709e-29, 2.205636558789113e-29, 1.325407979779524e-29, 1.7702176113425514e-31]\n",
      "[8.1719223735338033e-30, 1.9682856222012716e-29, 7.4210428363478257e-29, 8.4446993768764189e-30, 4.3503693732741239e-30, 3.0777567323333508e-30, 1.3754925313744642e-28, 3.4070023287090438e-30, 1.0282004573220573e-29, 5.3756870384606345e-29, 2.2240634552022474e-30, 7.2998725003393152e-30, 3.5435991591340374e-29, 1.5241957997751738e-29, 9.4317430909081027e-29, 1.4830087125370763e-28, 4.5087091476959721e-30, 1.5905460894712943e-30, 4.7146681060831882e-29, 3.0580501300278355e-29, 1.0261527812958594e-29, 2.8348148935714887e-30, 2.5201710504061614e-29, 2.917933088552128e-30, 5.3041470009098743e-31, 2.1519170240732525e-29, 8.7023138096474116e-29, 5.1873019472187109e-30, 6.9866498989568921e-30, 7.5157680902141051e-30, 2.1263566957335381e-30, 1.4647193902803817e-29, 1.3688931719894192e-29, 3.154070176253121e-29, 2.4111824484598567e-30, inf, 2.0792088428823849e-30]\n",
      "[5.7590974281872058e-30, 1.9135593816678493e-29, 2.4635421468157423e-29, 9.4317430909081027e-29, 3.0617220831604519e-30, 6.0662775816666525e-27, 1.4045218661815925e-29, 2.8348148935714887e-30, 1.5905460894712943e-30, 1.2307112990488939e-29, 1.1744267204075116e-28, 8.088617797701403e-30, 2.9727904800379193e-29, 5.0786754701874872e-30, 6.382508978384236e-30, 5.9085185911061813e-30, 2.6335369521775861e-29, 2.5201710504061614e-29, 2.6627554960446125e-28, 9.5150519398084743e-29, 2.205636558789113e-29, 9.7180657713156739e-31, 2.0792088428823849e-30, 1.7779689613495309e-29, 1.0402924170884405e-30, 1.4647193902803817e-29, 1.5088851243753621e-29, 1.1755585734726321e-30, 2.8266475237578344e-30, 1.3244826047972708e-29, 1.2834338077407077e-29, 2.3757991899195111e-29, 4.8329236161215609e-30, 4.4312926805827528e-30, 2.1526908154574119e-28, 3.4156154506521295e-29, 6.9866498989568921e-30, 8.3435247261728935e-30]\n",
      "[1.0219046765123971e-28, 2.4885808693398316e-29, 2.1526908154574119e-28, 2.7891141129279336e-29, 9.3734028285263184e-30, 4.6697096652048062e-30, 4.9227701160357005e-30, 3.4943515389251868e-30, 5.9725567489392693e-30, 5.6401530591620089e-29, 1.5518207143033275e-30, 9.4317430909081027e-29, 5.2819000172406532e-30, 6.1581903369015675e-30, 2.3844111028609438e-29, 3.3051531975755484e-30, 8.1170630766938934e-29, 3.5435991591340374e-29, 2.8348148935714887e-30, 1.7618011524503161e-29, 1.4954727830780701e-29, inf, 1.8875291421444578e-29, 8.088617797701403e-30, 7.5157680902141051e-30, 1.5356018393117804e-29, 6.4219881258872745e-30, 2.7770401750265879e-30, 5.4982482646804219e-30, 2.0792088428823849e-30, 1.2834338077407077e-29, 2.4720948868487202e-28, 6.9866498989568921e-30, inf, 2.0129181596782719e-30, 8.2128604062214014e-31, 6.0662775816666525e-27, 2.7704143881145583e-30, 2.6335369521775861e-29]\n",
      "[9.4644102136727862e-29, 6.9866498989568921e-30, 5.30112006043961e-29, 1.6836371308018929e-29, 2.1095689703275558e-28, 8.7378960592285477e-30, 9.4317430909081027e-29, 2.8348148935714887e-30, 1.8875291421444578e-29, 1.6408532818393371e-30, 2.6335369521775861e-29, 9.8818995686258299e-30, 1.0093619176754867e-29, 1.0705064950222686e-29, 2.4885808693398316e-29, 3.2223637041056797e-28, 1.325407979779524e-29, 8.4446993768764189e-30, 6.7518990351306844e-30, 1.0852565796787144e-29, 4.514604547130138e-27, 6.8355235406133798e-30, 3.6643063042305256e-29, 5.8091473060788219e-30, 2.9073718757096887e-30, 1.2834338077407077e-29, 3.4070023287090438e-30, 1.5905460894712943e-30, 3.0777567323333508e-30, 1.7259658434959841e-29, 2.1910258781601205e-30, 2.8266475237578344e-30, 2.0792088428823849e-30, 6.0576518721688972e-29, 9.6116845565968043e-30, 4.8558940948566531e-29, inf, inf, 9.1699714328138343e-30, 7.5046700313586326e-30]\n",
      "[3.0791522382548106e-30, 1.325407979779524e-29, 2.8208015454434976e-28, 2.4153874394972298e-30, 4.7513374563073516e-30, 3.2838897262299791e-29, 6.1135666838670455e-29, inf, 9.4317430909081027e-29, 2.2553960797313035e-29, 1.4314653127876866e-29, inf, 2.2240634552022474e-30, 1.23663454385938e-30, 1.4672716227167055e-29, 1.7335163528183621e-29, 8.3435247261728935e-30, 1.2834338077407077e-29, 1.5518207143033275e-30, 5.0998728429399025e-30, 2.5201710504061614e-29, 3.8269270168612778e-29, 2.8348148935714887e-30, 2.9177042509633633e-29, 2.4111824484598567e-30, 1.5905460894712943e-30, 1.4335992221056242e-30, 6.1581903369015675e-30, 4.9550728847711301e-30, 2.3277089512350216e-27, 2.1519170240732525e-29, 2.0792088428823849e-30, 1.9233927884527507e-29, 1.4361206151977976e-28, 1.8875291421444578e-29, 4.5091592033110729e-30, 1.2539683091226488e-29, 2.2281662091366852e-29, 1.0521354114720733e-29, 7.9739824456582091e-30, 1.708115286965906e-28]\n",
      "[2.072178974741519e-30, 2.0792088428823849e-30, 6.1679561865245478e-30, 4.7513374563073516e-30, 4.5344565140779348e-29, 1.8875291421444578e-29, 9.4317430909081027e-29, 9.2324461102498502e-29, 1.4222760565954834e-28, 1.7490573465438964e-28, 5.867542486014018e-30, 1.6758586539442031e-29, 2.3844111028609438e-29, inf, 5.0531376524559878e-29, 2.5201710504061614e-29, 8.4446993768764189e-30, 2.7700426567512831e-30, 8.3435247261728935e-30, 2.4111824484598567e-30, 6.3175325307321593e-30, 9.1429964331289522e-30, 2.8348148935714887e-30, 6.0662775816666525e-27, 2.038895292642136e-30, 1.5518207143033275e-30, 9.1699714328138343e-30, 1.2834338077407077e-29, 2.5563477280064344e-28, 1.801472822654294e-29, 1.325407979779524e-29, 7.0858270757477409e-30, 7.8098200500711396e-30, 8.9309991170360239e-30, 1.0106534401248319e-30, 1.5905460894712943e-30, inf, 1.8522461664582773e-29, 6.9866498989568921e-30, 2.3757991899195111e-29, 2.9165664824071102e-29, 1.5879064401094636e-29]\n",
      "[1.5573037428862656e-29, 4.3080314173894684e-29, 4.5344565140779348e-29, inf, 9.4317430909081027e-29, 5.2406170260070791e-30, 8.7378960592285477e-30, 6.4219881258872745e-30, 2.8266475237578344e-30, 1.8875291421444578e-29, 2.0159475495402884e-29, 5.9085185911061813e-30, 1.3078859963232109e-28, 4.0300023210190981e-27, 2.4111824484598567e-30, 2.6093075720602945e-28, 1.8563943055324472e-30, 5.8427189124554337e-30, 3.0791522382548106e-30, 1.5518207143033275e-30, 7.392051587364292e-30, 1.2834338077407077e-29, 1.325407979779524e-29, 9.2391238901011413e-29, 5.8091473060788219e-30, 6.7114783283375003e-30, 2.4885808693398316e-29, 1.4352836549227463e-29, 2.0792088428823849e-30, 1.2249316631200268e-29, 2.3844111028609438e-29, 2.6335369521775861e-29, 9.8818995686258299e-30, 4.514604547130138e-27, 1.0282004573220573e-29, 2.6585132583912049e-30, 2.072178974741519e-30, 2.1526908154574119e-28, 1.3202459091629973e-28, inf, 1.4426301794103709e-29, 5.6999407889204998e-30, inf]\n",
      "[5.8091473060788219e-30, 2.6585132583912049e-30, 2.922691428482336e-29, 4.9424096746912913e-29, 1.0313157930455633e-29, 1.748896631588686e-29, 1.1260656022949859e-28, 1.2249316631200268e-29, 2.2240634552022474e-30, 2.2667902911778743e-30, 3.7019325484407942e-29, 1.2166904764738046e-29, 2.4885808693398316e-29, 1.7618011524503161e-29, inf, 6.1581903369015675e-30, 5.9085185911061813e-30, 2.250832665521272e-28, 2.2663534918431639e-29, 2.5693700350493154e-28, 1.5905460894712943e-30, 2.8348148935714887e-30, 1.0295972387437578e-29, 6.0662775816666525e-27, 1.3489872528326745e-29, 2.7500432642632291e-29, 1.2834338077407077e-29, 1.5162134699551244e-28, 2.0792088428823849e-30, 4.4254820418537648e-30, 2.3757991899195111e-29, 1.9079380727907272e-29, 2.3155004634403319e-30, 6.7114783283375003e-30, 8.7825306917412592e-31, 7.0858270757477409e-30, inf, 1.1438286932328077e-30, 3.9867042123229752e-29, 1.0010247160094033e-29, 1.648618574393216e-29, 2.4924720056242233e-30, 2.4111824484598567e-30, 2.0721254616261249e-29]\n",
      "[2.038895292642136e-30, 1.23663454385938e-30, 4.8969442794601632e-29, 1.1102900906199904e-29, 9.4317430909081027e-29, 2.3277089512350216e-27, 8.1671869561094925e-29, 9.1552848451259995e-30, 6.5367959525818776e-30, 1.8875291421444578e-29, 1.0219046765123971e-28, 3.623693946332212e-29, 7.680474092075849e-31, 1.7335163528183621e-29, 1.2539683091226488e-29, 5.867542486014018e-30, 1.2834338077407077e-29, 2.8348148935714887e-30, 1.4489652634139244e-28, 4.8440311450566748e-30, 1.325407979779524e-29, 4.4823128175525826e-29, 8.088617797701403e-30, 2.4111824484598567e-30, 5.8427189124554337e-30, 2.072178974741519e-30, 9.6048388465590618e-30, 5.4982482646804219e-30, 2.0792088428823849e-30, inf, 2.5948134405567901e-29, 4.6071399447926016e-29, 1.8563943055324472e-30, 3.0411687483574958e-28, 2.1173038391583064e-29, 1.4335992221056242e-30, 5.2819000172406532e-30, 9.8818995686258299e-30, 3.0777567323333508e-30, 6.9866498989568921e-30, inf, 1.1920268402482168e-29, 7.159699475476842e-30, 1.7903699070823599e-29, 2.2281662091366852e-29]\n",
      "[1.1102900906199904e-29, 2.2279029831004243e-28, 1.5356018393117804e-29, 1.3870755901476033e-29, 1.4361206151977976e-28, 2.4938362690904682e-29, 8.088617797701403e-30, 7.4250279986001797e-29, 6.5367959525818776e-30, 6.3779407443214501e-30, 2.2240634552022474e-30, 1.2834338077407077e-29, 6.3175325307321593e-30, 4.8814819113604256e-29, 9.4317430909081027e-29, 4.6071399447926016e-29, 1.5905460894712943e-30, 2.8348148935714887e-30, 2.5948134405567901e-29, 9.1699714328138343e-30, 1.0571731210746695e-29, inf, 1.2249316631200268e-29, 8.1671869561094925e-29, 2.5201710504061614e-29, 1.1233217951597287e-30, 3.0791522382548106e-30, 1.0460326338020158e-28, 1.4489652634139244e-28, 1.0261527812958594e-29, 6.0662775816666525e-27, inf, inf, 6.1581903369015675e-30, 4.9106679700694687e-29, 5.2819000172406532e-30, inf, 3.0777567323333508e-30, 1.325407979779524e-29, 4.7513374563073516e-30, 2.0792088428823849e-30, 2.1526908154574119e-28, 2.0547122016412083e-30, 2.6435007523117021e-30, 9.2324461102498502e-29, 1.4557576450214518e-29]\n",
      "[2.038895292642136e-30, 5.013003553642614e-29, 1.4314653127876866e-29, 3.4922254783586933e-29, 1.5905460894712943e-30, 1.5221004405326793e-28, 2.8775126185414997e-28, 2.5948134405567901e-29, 1.1652556929192596e-30, 6.7655994503004081e-30, 9.4317430909081027e-29, 8.088617797701403e-30, 2.8348148935714887e-30, 3.7019325484407942e-29, 5.9085185911061813e-30, 3.121143942157793e-30, 2.5201710504061614e-29, 5.110482914181346e-30, 1.2834338077407077e-29, 6.4921043355099199e-30, 1.1720634338094505e-29, 1.7601851527703178e-29, 5.867542486014018e-30, 2.1526908154574119e-28, 1.1438286932328077e-30, 6.9866498989568921e-30, 5.981219211082114e-29, inf, 4.7513374563073516e-30, 1.325407979779524e-29, 2.0792088428823849e-30, 1.0705064950222686e-29, 9.6116845565968043e-30, inf, 1.6408532818393371e-30, 4.9989847536312823e-30, 6.0662775816666525e-27, 3.8087448293406348e-30, 1.4489652634139244e-28, 1.5309886852264882e-29, 2.072178974741519e-30, 8.8168509373118976e-29, 4.1727492653317978e-29, 1.1364828702222252e-29, 1.49342399875463e-29, 2.7704143881145583e-30, 3.3198365978254234e-29]\n",
      "[2.5948134405567901e-29, 1.0215822049095512e-28, 2.9792141836102777e-28, 2.3277089512350216e-27, 9.3734028285263184e-30, 9.6116845565968043e-30, 2.6335369521775861e-29, 3.3198365978254234e-29, inf, 5.7727774880951692e-30, 7.3093944745148014e-29, 2.1526908154574119e-28, 9.0723497879601693e-30, 1.0282004573220573e-29, 5.2406170260070791e-30, 2.8348148935714887e-30, 5.4982482646804219e-30, 1.3966423408818529e-29, 1.4222760565954834e-28, 6.9866498989568921e-30, 1.2834338077407077e-29, 2.5201710504061614e-29, 1.0895018432480714e-30, 1.1102900906199904e-29, 4.514604547130138e-27, 3.2883558241429517e-28, 2.4924720056242233e-30, 2.0510913587298352e-29, 3.4153728096756978e-29, 1.5356018393117804e-29, 2.0792088428823849e-30, 2.2867986935177148e-30, 1.4647193902803817e-29, 1.1438286932328077e-30, 1.325407979779524e-29, 8.2128604062214014e-31, 2.6498788937930379e-28, 6.7114783283375003e-30, 2.8266475237578344e-30, 7.3102649646886445e-29, 7.6532036628363167e-30, 1.0705064950222686e-29, 3.8087448293406348e-30, 4.8440311450566748e-30, inf, 1.6951746447438954e-29, 3.6142011487999299e-29, 1.0533094316940379e-30]\n",
      "[4.8967793969927388e-30, 2.0147302115560993e-29, 2.3613369008557131e-29, 9.722641216412147e-30, 1.8563943055324472e-30, 4.514604547130138e-27, 9.4317430909081027e-29, 6.0662775816666525e-27, 1.1334116287278859e-29, 4.8814819113604256e-29, 1.2249316631200268e-29, 2.6335369521775861e-29, 1.2834338077407077e-29, 5.8427189124554337e-30, 2.5560610818524578e-29, 3.0777567323333508e-30, 2.9349733051446676e-28, 2.5948134405567901e-29, 1.4057822884792696e-29, 2.8348148935714887e-30, 3.0791522382548106e-30, 7.3426557833691782e-30, 8.4446993768764189e-30, 4.7513374563073516e-30, 8.2690012311214029e-30, 1.1346980780378264e-29, 2.4830090388183107e-28, 4.9106679700694687e-29, 2.0792088428823849e-30, 8.1671869561094925e-29, 6.7655994503004081e-30, inf, 2.4773879585979824e-29, 6.9866498989568921e-30, 1.7903699070823599e-29, 1.6758586539442031e-29, 2.8266475237578344e-30, inf, 2.072178974741519e-30, 6.1650057428420505e-29, 1.7962037370863963e-28, 1.1616066215602363e-29, 2.7704143881145583e-30, 2.4111824484598567e-30, inf, 1.6951746447438954e-29, 6.5367959525818776e-30, 6.3348295414118858e-30, 6.3779407443214501e-30]\n",
      "[9.4317430909081027e-29, 2.7809912945821664e-28, 9.178919175391865e-29, 1.0852565796787144e-29, 7.0858270757477409e-30, 6.5367959525818776e-30, 1.270521191702732e-28, 4.9106679700694687e-29, 2.2240634552022474e-30, 6.8312496659426133e-30, 1.4938762458880785e-29, 4.6296452109839879e-29, 6.0662775816666525e-27, 7.3102649646886445e-29, 3.623693946332212e-29, 1.0247419785530365e-30, 8.2128604062214014e-31, 6.1581903369015675e-30, 4.0835764435346418e-30, 3.0777567323333508e-30, 5.6999407889204998e-30, 5.6388643110104087e-30, 6.7682872009941725e-30, 7.9739824456582091e-30, 1.325407979779524e-29, 1.4557576450214518e-29, 1.9682856222012716e-29, 1.2834338077407077e-29, 6.9866498989568921e-30, 3.3379983717626778e-29, 2.7693409255035592e-29, 4.0300023210190981e-27, 2.7704143881145583e-30, 2.0792088428823849e-30, 1.6877092111782356e-29, 2.4111824484598567e-30, 3.1880002153085129e-29, 5.4033376914903768e-30, inf, inf, 1.4314653127876866e-29, 2.072178974741519e-30, 1.524610137072901e-29, 2.3757991899195111e-29, 6.3779407443214501e-30, 1.4426301794103709e-29, inf, 1.5905460894712943e-30, 4.7470671790956808e-29, 6.1426882781685889e-29]\n",
      "[2.9739257917284203e-29, 4.4791846679382068e-29, 5.981219211082114e-29, 1.6438433916684757e-28, 1.5905460894712943e-30, 9.4317430909081027e-29, 1.0695572670303465e-29, 1.49342399875463e-29, 2.4111824484598567e-30, 5.9725567489392693e-30, 7.3408358382423563e-30, 8.5522994422572301e-29, 1.6080807763899938e-29, 1.3908443547587403e-29, 2.2281662091366852e-29, 2.4885808693398316e-29, 5.6999407889204998e-30, 5.4982482646804219e-30, 1.0282004573220573e-29, 3.3697698021851194e-28, 4.9550728847711301e-30, 6.9866498989568921e-30, 1.7618011524503161e-29, 1.7280689374670298e-29, 8.3435247261728935e-30, 8.815596285364188e-30, inf, 2.3277089512350216e-27, 8.8459725910087751e-30, 8.8168509373118976e-29, 4.7146681060831882e-29, 2.0792088428823849e-30, 1.6836371308018929e-29, 6.1581903369015675e-30, 3.7019325484407942e-29, 1.6192903553993186e-29, 1.325407979779524e-29, 3.0777567323333508e-30, 3.0755518792101337e-29, 2.917933088552128e-30, 3.4922254783586933e-29, inf, 1.306227904448082e-29, inf, 4.8512743650241698e-30, 8.9195938870219442e-30, 2.6335369521775861e-29, inf, 2.7704143881145583e-30, 4.0300023210190981e-27, 7.680474092075849e-31]\n",
      "[inf, 6.0576518721688972e-29, 7.3102649646886445e-29, 5.9085185911061813e-30, 1.23663454385938e-30, 2.3277089512350216e-27, 2.8208015454434976e-28, 3.3198365978254234e-29, inf, 7.9739824456582091e-30, 5.8427189124554337e-30, 2.6335369521775861e-29, 3.0791522382548106e-30, 3.1880002153085129e-29, 3.6796655087583927e-30, 4.8558940948566531e-29, 9.4317430909081027e-29, 3.3160855075053508e-29, 1.2834338077407077e-29, 2.8348148935714887e-30, 2.5201710504061614e-29, 3.2223637041056797e-28, 9.8818995686258299e-30, 9.6048388465590618e-30, 4.514604547130138e-27, 7.6532036628363167e-30, 6.9866498989568921e-30, 1.1438286932328077e-30, 1.7962037370863963e-28, 1.524610137072901e-29, 6.5367959525818776e-30, 6.0662775816666525e-27, 1.6836371308018929e-29, 1.4729358731518478e-29, inf, 7.1050007037522898e-29, 2.1526908154574119e-28, 4.1569620762982341e-30, 2.6347134765674394e-29, 1.4361206151977976e-28, 2.0510913587298352e-29, 1.8563943055324472e-30, 1.9652009769396115e-29, 3.8087448293406348e-30, 2.4111824484598567e-30, 1.325407979779524e-29, 1.3743184383461011e-29, 2.4924720056242233e-30, 2.4885808693398316e-29, 2.2281662091366852e-29, inf, 2.8266475237578344e-30]\n",
      "[1.8875291421444578e-29, 6.5367959525818776e-30, 2.4580284666487474e-29, 3.0755518792101337e-29, 6.1426882781685889e-29, 9.2004721135419036e-30, 1.7618011524503161e-29, 4.6071399447926016e-29, 1.7962037370863963e-28, 6.1581903369015675e-30, 8.5407427357520465e-29, 2.6335369521775861e-29, 2.4111824484598567e-30, 1.0282004573220573e-29, 6.6630261168309728e-28, 3.0777567323333508e-30, 1.8563943055324472e-30, 1.368862214248249e-28, 2.8348148935714887e-30, 5.8091473060788219e-30, 4.2692960082468252e-30, 9.4317430909081027e-29, 5.8427189124554337e-30, 3.7019325484407942e-29, 6.7114783283375003e-30, 2.4924720056242233e-30, 1.325407979779524e-29, 2.0792088428823849e-30, 1.2834338077407077e-29, inf, 6.9866498989568921e-30, inf, inf, 5.1213878907515575e-27, 9.3211826020092349e-30, 1.1102900906199904e-29, 3.3291053183176296e-30, 1.6403191467532833e-29, inf, 4.9989847536312823e-30, 1.4361206151977976e-28, 6.5112264626968024e-29, 5.9725567489392693e-30, 5.1972982127986787e-30, 1.2166904764738046e-29, 5.981219211082114e-29, 1.3276872867200405e-29, inf, 1.5208737510666322e-29, 1.7280689374670298e-29, 2.4885808693398316e-29, 9.9399918409781972e-29, inf]\n",
      "[8.1705834266645582e-30, 6.642690501575966e-28, 1.4938762458880785e-29, 1.0852565796787144e-29, 7.0858270757477409e-30, 2.5948134405567901e-29, 7.9739824456582091e-30, 1.0720539780971286e-29, inf, 1.5221004405326793e-28, 1.2323944152524606e-29, 5.867542486014018e-30, 1.325407979779524e-29, 5.4589162970409843e-29, inf, 2.4111824484598567e-30, 2.3757991899195111e-29, 1.0295972387437578e-29, 3.9191837337238912e-29, 2.8348148935714887e-30, 6.7553118102156559e-29, 1.5518207143033275e-30, 2.9792141836102777e-28, 9.9794648466548763e-30, 2.038895292642136e-30, 1.8875291421444578e-29, 2.3155004634403319e-30, 1.2834338077407077e-29, 6.1426882781685889e-29, 1.4647193902803817e-29, 1.7618011524503161e-29, 6.9866498989568921e-30, 4.1425596447717813e-29, 2.4509340396872314e-30, 8.1671869561094925e-29, 1.5905460894712943e-30, 2.0792088428823849e-30, 1.524610137072901e-29, 8.8199115468061253e-29, 9.725341080554065e-30, 1.4314653127876866e-29, 3.2223637041056797e-28, inf, 6.0662775816666525e-27, 2.7704143881145583e-30, 1.9652009769396115e-29, inf, 6.5367959525818776e-30, 1.6229265032561467e-29, 2.072178974741519e-30, 2.1062844301377183e-29, inf, 9.4537289570980902e-29, 1.7506050172804491e-29]\n",
      "[7.9739824456582091e-30, 6.9866498989568921e-30, 1.4352836549227463e-29, 1.4314653127876866e-29, 2.5948134405567901e-29, 3.0360536994489313e-28, 2.5201710504061614e-29, 4.514604547130138e-27, 1.4938762458880785e-29, 2.4111824484598567e-30, 1.4647193902803817e-29, 1.5221004405326793e-28, 2.6335369521775861e-29, 1.7601851527703178e-29, 4.3585537252412834e-30, 6.0662775816666525e-27, 2.0129181596782719e-30, 3.8087448293406348e-30, 4.8814819113604256e-29, 9.4317430909081027e-29, 4.0300023210190981e-27, 8.7792620472993183e-29, 2.0792088428823849e-30, 1.2834338077407077e-29, 1.325407979779524e-29, 4.8440311450566748e-30, 1.0295972387437578e-29, 1.4489652634139244e-28, 3.3198365978254234e-29, 1.4361206151977976e-28, 1.524610137072901e-29, 1.7506050172804491e-29, 5.013003553642614e-29, 8.7825306917412592e-31, 1.6663232289515277e-29, 1.1774559755813057e-29, 6.5367959525818776e-30, 2.8266475237578344e-30, inf, 1.2323944152524606e-29, 2.3757991899195111e-29, 1.0402924170884405e-30, 3.3437068501062982e-30, 3.0580501300278355e-29, 3.4922254783586933e-29, 1.7362692140997689e-28, 1.9233927884527507e-29, 2.6410199760382325e-29, inf, 2.7704143881145583e-30, 5.6999407889204998e-30, 3.8603117874502576e-30, 2.5560610818524578e-29, inf, 3.0791522382548106e-30]\n",
      "[8.1671869561094925e-29, 3.2223637041056797e-28, 9.4317430909081027e-29, inf, 1.7962037370863963e-28, 2.8266475237578344e-30, 6.7518990351306844e-30, 8.162875972045656e-30, 1.325407979779524e-29, 1.0295972387437578e-29, 1.4938762458880785e-29, 4.9106679700694687e-29, 7.9739824456582091e-30, 1.8040550024295945e-29, 4.0300023210190981e-27, 1.6836371308018929e-29, 1.5309886852264882e-29, 4.4823128175525826e-29, 5.8846402852900596e-30, 9.7645294740302155e-28, 6.5367959525818776e-30, 1.2834338077407077e-29, 2.6335369521775861e-29, 1.4647193902803817e-29, 8.8459725910087751e-30, inf, 2.1677671362814951e-29, 1.3632536604938022e-29, 2.6410199760382325e-29, 8.2128604062214014e-31, 1.524610137072901e-29, 4.8558940948566531e-29, 1.3202459091629973e-28, 1.2166904764738046e-29, 1.6951746447438954e-29, 2.0129181596782719e-30, 2.4885808693398316e-29, inf, 6.9866498989568921e-30, 2.4924720056242233e-30, 2.0792088428823849e-30, 3.1880002153085129e-29, 9.5606943324227028e-30, 4.514604547130138e-27, 6.0576518721688972e-29, 3.0777567323333508e-30, 2.3277089512350216e-27, 5.6999407889204998e-30, 2.4111824484598567e-30, inf, 2.7704143881145583e-30, 5.1213878907515575e-27, 3.8603117874502576e-30, 3.7738613885585483e-30, 6.3779407443214501e-30, 3.9667411673474184e-29]\n",
      "[4.9106679700694687e-29, 2.4328636855144355e-29, 8.6141201195259347e-29, 1.5356018393117804e-29, 2.1677671362814951e-29, 6.0662775816666525e-27, 2.038895292642136e-30, 7.9739824456582091e-30, 8.3435247261728935e-30, 9.0621285885613839e-29, 2.5560610818524578e-29, 5.6999407889204998e-30, 1.9686221923089038e-28, 1.2834338077407077e-29, 5.4033376914903768e-30, 6.6878497622616125e-29, 9.4317430909081027e-29, 3.1880002153085129e-29, 2.0792088428823849e-30, 1.3632536604938022e-29, 5.867542486014018e-30, 2.3757991899195111e-29, inf, 5.8798097576491763e-29, 2.4111824484598567e-30, 9.6116845565968043e-30, 2.94535146834231e-28, 8.8168509373118976e-29, 2.2867986935177148e-30, 7.0858270757477409e-30, 1.524610137072901e-29, 1.4057822884792696e-29, 1.9652009769396115e-29, 8.0481434599290461e-30, 6.3208291637950101e-30, 9.1699714328138343e-30, 2.4380769882131192e-28, 2.5948134405567901e-29, 2.7704143881145583e-30, 6.9866498989568921e-30, 1.2323944152524606e-29, 1.4647193902803817e-29, 3.0777567323333508e-30, 2.072178974741519e-30, 6.6871325838092775e-29, inf, 2.3277089512350216e-27, inf, inf, inf, 2.0813233940351178e-29, 6.3779407443214501e-30, 4.0300023210190981e-27, 8.2128604062214014e-31, 2.1526908154574119e-28, 5.981219211082114e-29, 1.4314653127876866e-29]\n",
      "[5.1213878907515575e-27, 6.9616047897868552e-29, 2.5560610818524578e-29, 2.1526908154574119e-28, 5.2819000172406532e-30, 8.9558166912442715e-29, 2.038895292642136e-30, 1.8875291421444578e-29, 1.4553116701859764e-28, 5.981219211082114e-29, 2.3757991899195111e-29, 9.4317430909081027e-29, 1.2249316631200268e-29, 7.9379619787637313e-29, 4.0300023210190981e-27, 4.5626068590931852e-29, 9.6116845565968043e-30, 2.5201710504061614e-29, 1.5905460894712943e-30, 1.0571731210746695e-29, 6.9866498989568921e-30, 1.4647193902803817e-29, 9.1699714328138343e-30, 5.867542486014018e-30, 1.0247419785530365e-30, 1.2834338077407077e-29, 1.5309886852264882e-29, 1.6877092111782356e-29, inf, 8.4432465838158723e-29, 5.7001319940223624e-30, 2.0721254616261249e-29, 8.088617797701403e-30, 4.8440311450566748e-30, 2.4885808693398316e-29, 7.6783838654636848e-29, 1.0124180093674719e-27, 5.6999407889204998e-30, inf, inf, 3.7738613885585483e-30, 1.0705064950222686e-29, 3.2223637041056797e-28, 1.0846052974291173e-28, 2.0147302115560993e-29, 1.5356018393117804e-29, 8.2128604062214014e-31, 2.4111824484598567e-30, 3.6979532888563727e-28, 6.0662775816666525e-27, inf, inf, 1.6836371308018929e-29, 3.6796655087583927e-30, 1.2323944152524606e-29, 2.7704143881145583e-30, 4.9028516363274444e-30, 1.4517652525633018e-29]\n",
      "[2.4111824484598567e-30, 1.9722193831593858e-29, 7.0550516831952326e-29, 9.7645294740302155e-28, inf, 5.9725567489392693e-30, 8.088617797701403e-30, 1.6211464021052507e-28, 1.4352836549227463e-29, 1.0107054800678681e-29, 3.2223637041056797e-28, 3.5541754805434197e-30, 4.9106679700694687e-29, 3.0791522382548106e-30, 2.1526908154574119e-28, 5.6999407889204998e-30, 1.0282004573220573e-29, 6.5367959525818776e-30, 5.8427189124554337e-30, 1.2834338077407077e-29, 4.2555378121302775e-29, 6.832362476774061e-30, 4.442967026774971e-29, 2.9792141836102777e-28, 1.4361206151977976e-28, 2.0792088428823849e-30, 1.5282324689663422e-29, 3.7019325484407942e-29, 1.9233927884527507e-29, 3.1880002153085129e-29, 1.107386975801638e-29, inf, 6.9866498989568921e-30, inf, 2.2281662091366852e-29, 1.325407979779524e-29, inf, 2.1504820548575651e-29, 9.5606943324227028e-30, 1.9652009769396115e-29, 6.1581903369015675e-30, 2.6335369521775861e-29, 1.5356018393117804e-29, 1.8563943055324472e-30, 8.8985361820180701e-30, 3.8087448293406348e-30, inf, 3.9191837337238912e-29, 1.6256788341766337e-28, 2.7704143881145583e-30, 2.3277089512350216e-27, 2.5948134405567901e-29, 1.722516146019952e-29, 3.9550539158849102e-29, 4.0300023210190981e-27, inf, inf, 2.5560610818524578e-29, 8.531945213646425e-30]\n",
      "[4.9106679700694687e-29, 3.6383277886076644e-29, 2.4381534307763336e-29, 2.1526908154574119e-28, 6.1581903369015675e-30, 1.4553116701859764e-28, 5.9859452386530276e-29, 2.3155004634403319e-30, 8.3435247261728935e-30, 3.0117243928795401e-28, 4.1727492653317978e-29, 2.6335369521775861e-29, 4.8558940948566531e-29, 9.4317430909081027e-29, 4.0300023210190981e-27, 7.9332834830396546e-30, 1.0247603857438203e-29, 1.2834338077407077e-29, 8.1671869561094925e-29, 1.5356018393117804e-29, 2.7467493622066656e-29, 1.1652556929192596e-30, 1.3338001401091921e-29, 3.8603117874502576e-30, inf, 1.6836371308018929e-29, 1.4647193902803817e-29, 1.325407979779524e-29, 1.6758586539442031e-29, 3.2125635395236015e-28, inf, 6.9866498989568921e-30, 8.8459725910087751e-30, 1.2166904764738046e-29, 3.2223637041056797e-28, 2.0792088428823849e-30, 9.7607062957141212e-30, 5.9725567489392693e-30, 1.568263137816523e-29, inf, 2.4924720056242233e-30, 2.4111824484598567e-30, 1.6141917613161552e-29, 6.3779407443214501e-30, 6.2153433038122144e-29, inf, 2.0129181596782719e-30, 9.6116845565968043e-30, 5.6999407889204998e-30, 2.3277089512350216e-27, 3.1880002153085129e-29, 1.9729721505476632e-29, 2.7704143881145583e-30, 1.4314653127876866e-29, 5.942314274306562e-30, 7.0858270757477409e-30, 2.1401180529014613e-29, 6.0662775816666525e-27, 3.0777567323333508e-30, 1.1346980780378264e-29]\n",
      "[2.9835298068792407e-29, 7.6431065657287914e-29, 1.0533094316940379e-30, 1.9722193831593858e-29, 1.4553116701859764e-28, 1.1652556929192596e-30, 1.2166904764738046e-29, 3.0791522382548106e-30, 2.6410199760382325e-29, 1.1346980780378264e-29, 2.038895292642136e-30, 3.2223637041056797e-28, 1.7280689374670298e-29, 5.6999407889204998e-30, 2.2281662091366852e-29, 2.5201710504061614e-29, 1.325407979779524e-29, inf, 2.9792141836102777e-28, 5.3703722552399146e-29, 1.0295972387437578e-29, 5.867542486014018e-30, 1.0215822049095512e-28, 2.0792088428823849e-30, 3.6979532888563727e-28, 3.1880002153085129e-29, 1.3244826047972708e-29, 8.9195938870219442e-30, 6.9866498989568921e-30, 4.442967026774971e-29, 1.2542617082423021e-30, 4.1727492653317978e-29, 4.7513374563073516e-30, 2.0510913587298352e-29, inf, 8.8168509373118976e-29, 6.5187521127808358e-28, 4.7146681060831882e-29, 3.0755518792101337e-29, 7.137266473972443e-29, 6.5367959525818776e-30, 6.2585159758129627e-30, 8.1705834266645582e-30, 2.4111824484598567e-30, 4.0300023210190981e-27, 1.4361206151977976e-28, 6.9616047897868552e-29, 2.4885808693398316e-29, 2.2867986935177148e-30, 6.0662775816666525e-27, inf, 6.1426882781685889e-29, inf, 6.3779407443214501e-30, 2.3277089512350216e-27, 1.6758586539442031e-29, 8.6863779997361731e-30, 7.6783838654636848e-29, 2.4924720056242233e-30, 2.7704143881145583e-30, 5.981219211082114e-29]\n",
      "[9.4317430909081027e-29, 1.0846052974291173e-28, 3.2223637041056797e-28, 1.6211464021052507e-28, 1.306227904448082e-29, 4.8440311450566748e-30, 8.9080282536402539e-29, 8.8733106039232833e-29, 6.0662775816666525e-27, 4.0300023210190981e-27, 1.3114209509623686e-29, 3.0580501300278355e-29, 6.3779407443214501e-30, 2.6335369521775861e-29, 7.3408358382423563e-30, 1.4938762458880785e-29, 3.0791522382548106e-30, 1.4361206151977976e-28, 8.66815425742969e-30, 1.9722193831593858e-29, 1.2834338077407077e-29, 1.4314653127876866e-29, 9.6116845565968043e-30, 6.0576518721688972e-29, 2.2281662091366852e-29, 1.4057822884792696e-29, 2.5804671433121315e-29, 1.9233927884527507e-29, 2.4111824484598567e-30, 5.9725567489392693e-30, inf, 4.9106679700694687e-29, 1.3908443547587403e-29, 3.5180418935492563e-27, inf, 4.9871064273183319e-30, 1.264542368018278e-29, 9.1699714328138343e-30, 7.7365716086878648e-28, inf, 2.4885808693398316e-29, inf, inf, inf, 6.8850010006086607e-29, inf, 6.9866498989568921e-30, 9.6048388465590618e-30, 5.6999407889204998e-30, 7.1050007037522898e-29, 1.5905460894712943e-30, 3.6796655087583927e-30, 3.623693946332212e-29, 8.8985361820180701e-30, 3.655558987606964e-30, 1.9728340652400264e-29, 5.981219211082114e-29, 8.4432465838158723e-29, inf, 6.1581903369015675e-30, 1.5282324689663422e-29, 1.4628325814533513e-29]\n",
      "[1.7640232660280402e-28, 2.5004503059656726e-29, 6.9866498989568921e-30, 1.5597803408259993e-29, 1.0157593230735598e-28, 9.4317430909081027e-29, 5.7001319940223624e-30, 2.3757991899195111e-29, inf, 1.0053869280888458e-29, 9.0695577356213935e-30, 1.4361206151977976e-28, 2.0753482735846124e-29, 2.6335369521775861e-29, 1.0705064950222686e-29, 2.3277089512350216e-27, 2.4885808693398316e-29, 1.5356018393117804e-29, 4.0300023210190981e-27, 2.0792088428823849e-30, 2.5201710504061614e-29, 3.2223637041056797e-28, 7.9739824456582091e-30, 3.7019325484407942e-29, 5.9725567489392693e-30, 7.0459911695289354e-29, 2.0129181596782719e-30, 1.2249316631200268e-29, 7.0348245140669347e-30, 1.2834338077407077e-29, inf, 2.0721254616261249e-29, 6.5710540494636144e-30, 4.509688089632736e-29, 1.6331238323258178e-29, inf, 8.8459725910087751e-30, 6.1581903369015675e-30, 1.6408532818393371e-30, inf, 5.981219211082114e-29, 7.0433672418656028e-30, 4.6371562814663014e-28, 6.3515036983064551e-29, 4.1693995210774902e-30, 2.2281662091366852e-29, 5.4589162970409843e-29, 9.6116845565968043e-30, 2.1526908154574119e-28, 3.8603117874502576e-30, 3.1880002153085129e-29, 6.9616047897868552e-29, 9.1699714328138343e-30, 5.6999407889204998e-30, inf, 2.7704143881145583e-30, inf, 4.9028516363274444e-30, 6.0662775816666525e-27, 7.0290849889205678e-30, inf, inf, 4.0614406328593928e-28]\n",
      "[2.3277089512350216e-27, 2.4885808693398316e-29, 6.812608567033292e-29, 2.250832665521272e-28, 3.0791522382548106e-30, 5.981219211082114e-29, 1.6836371308018929e-29, 7.9739824456582091e-30, 1.0157593230735598e-28, 6.3779407443214501e-30, 2.1504820548575651e-29, 2.1526908154574119e-28, 2.4111824484598567e-30, 1.325407979779524e-29, 5.867542486014018e-30, 3.2223637041056797e-28, 6.9866498989568921e-30, 2.3757991899195111e-29, 4.7146681060831882e-29, 1.8724521889732403e-29, 1.5905460894712943e-30, 1.4647193902803817e-29, 1.3908443547587403e-29, 8.3435247261728935e-30, 3.6979532888563727e-28, 4.0300023210190981e-27, 3.9195963622312601e-28, 4.514604547130138e-27, 4.8006795518166792e-30, 4.9106679700694687e-29, inf, inf, 2.5560610818524578e-29, 8.8168509373118976e-29, 3.6796655087583927e-30, 1.7506050172804491e-29, 6.6027681082681033e-30, inf, 1.2323944152524606e-29, 1.524610137072901e-29, 7.6783838654636848e-29, 4.8558940948566531e-29, 7.6661599030779029e-30, 1.4361206151977976e-28, 1.4769010270007258e-29, 2.4924720056242233e-30, 4.0614406328593928e-28, inf, 1.8729152600056489e-26, 6.0662775816666525e-27, 5.6999407889204998e-30, 2.7704143881145583e-30, inf, 2.917933088552128e-30, 1.7903699070823599e-29, 6.4006673657638969e-29, 4.7319148163886658e-30, 1.9652009769396115e-29, 5.1213878907515575e-27, 3.1880002153085129e-29, 3.2279061698677209e-29, inf, 6.0576518721688972e-29, 3.0777567323333508e-30]\n",
      "[2.5804671433121315e-29, 9.6116845565968043e-30, 6.8459500912047044e-30, 3.0755518792101337e-29, 7.0348245140669347e-30, 6.1581903369015675e-30, 1.4769010270007258e-29, 1.2249316631200268e-29, 2.4328636855144355e-29, 2.3277089512350216e-27, 3.1880002153085129e-29, 5.6999407889204998e-30, 6.3779407443214501e-30, 1.2323944152524606e-29, 1.4553116701859764e-28, 5.981219211082114e-29, 9.4317430909081027e-29, 6.9866498989568921e-30, 2.6335369521775861e-29, 2.4111824484598567e-30, 1.2539683091226488e-29, 3.2223637041056797e-28, 1.9722193831593858e-29, 1.4361206151977976e-28, 2.0721254616261249e-29, 1.3114209509623686e-29, inf, 1.5246452035165391e-30, 1.2834338077407077e-29, 1.4647193902803817e-29, 1.2166904764738046e-29, 9.0695577356213935e-30, 7.9739824456582091e-30, 1.7280689374670298e-29, inf, 8.4432465838158723e-29, 4.9106679700694687e-29, 2.2867986935177148e-30, 1.1443728974289673e-28, 3.7019325484407942e-29, 1.9421163447770176e-29, inf, 5.4302711351986648e-28, 2.5201710504061614e-29, 4.8440311450566748e-30, 3.0791522382548106e-30, inf, 2.5560610818524578e-29, 2.4885808693398316e-29, 1.3554440913635859e-27, 1.0846052974291173e-28, 1.7232338451551989e-26, 1.3164798554447134e-29, 6.9616047897868552e-29, 2.4924720056242233e-30, 1.23663454385938e-30, inf, 5.9725567489392693e-30, 1.7312145384839118e-28, 4.9028516363274444e-30, 1.4628325814533513e-29, 7.6783838654636848e-29, 4.0300023210190981e-27, 5.7001319940223624e-30, inf]\n",
      "[2.4924720056242233e-30, 1.56548368143306e-29, 3.4922254783586933e-29, 2.8400468517962372e-29, 9.4317430909081027e-29, 6.1426882781685889e-29, 4.5937177358869771e-30, 2.8266475237578344e-30, 3.1396282399053686e-29, 5.2580271355548843e-30, 1.5356018393117804e-29, 3.0777567323333508e-30, 6.0529693352527499e-28, 5.6999407889204998e-30, 1.8711515041569679e-29, 1.8875291421444578e-29, 2.3970118442383277e-28, 1.0295972387437578e-29, 1.0157593230735598e-28, 1.23663454385938e-30, 1.1129520268691074e-29, 6.6871325838092775e-29, 9.7848426592176361e-30, 5.981219211082114e-29, 5.6698979637033583e-29, 1.2834338077407077e-29, 8.8168509373118976e-29, 2.0129181596782719e-30, inf, 2.0721254616261249e-29, 4.0614406328593928e-28, 6.0662775816666525e-27, 2.6335369521775861e-29, 1.0852565796787144e-29, 6.9866498989568921e-30, inf, 7.1050007037522898e-29, 8.8459725910087751e-30, 2.1526908154574119e-28, 1.1720634338094505e-29, 2.0792088428823849e-30, inf, 7.1324400960921305e-29, 4.0300023210190981e-27, 1.5309886852264882e-29, 4.514604547130138e-27, 1.0880002881459347e-29, 7.6783838654636848e-29, 1.2166904764738046e-29, 1.0247603857438203e-29, 3.5240687130783895e-29, inf, 1.6223223062353976e-28, 2.2281662091366852e-29, 5.1213878907515575e-27, 7.6759422634690388e-29, 6.5367959525818776e-30, 7.0348245140669347e-30, inf, inf, inf, 1.4769010270007258e-29, 3.1880002153085129e-29, 3.8852062868695042e-29, 1.7506050172804491e-29, 3.8603117874502576e-30]\n",
      "[3.3151041562482478e-29, 4.9468616477757276e-30, 1.5356018393117804e-29, 1.0157593230735598e-28, 3.7019325484407942e-29, 8.4432465838158723e-29, 8.3435247261728935e-30, 4.8237078177009526e-29, 3.0777567323333508e-30, 1.1129520268691074e-29, 6.1581903369015675e-30, 2.3757991899195111e-29, 4.0300023210190981e-27, 1.9652009769396115e-29, 2.6335369521775861e-29, 2.2281662091366852e-29, 3.0791522382548106e-30, 1.5854448692702244e-29, 9.4317430909081027e-29, 4.7146681060831882e-29, 3.5773977822528256e-28, 3.2223637041056797e-28, 3.1444064248826612e-29, 4.9106679700694687e-29, 6.9866498989568921e-30, 2.0129181596782719e-30, 1.0846052974291173e-28, inf, inf, 2.4924720056242233e-30, inf, 1.9722193831593858e-29, 2.7704143881145583e-30, 2.1504820548575651e-29, 3.6796655087583927e-30, 1.0880002881459347e-29, 2.4111824484598567e-30, 5.9725567489392693e-30, 6.2585159758129627e-30, 1.1354930818157232e-29, 2.8400468517962372e-29, 3.1880002153085129e-29, 1.2606671543418267e-27, 6.0576518721688972e-29, 9.6048388465590618e-30, 5.6999407889204998e-30, 4.442967026774971e-29, 2.3277089512350216e-27, 6.1679561865245478e-30, inf, 6.1426882781685889e-29, 1.4361206151977976e-28, 6.0662775816666525e-27, 1.2166904764738046e-29, 6.3779407443214501e-30, 2.1526908154574119e-28, 1.0410492034732531e-29, 7.6783838654636848e-29, inf, 4.0614406328593928e-28, inf, inf, 1.4769010270007258e-29, 5.981219211082114e-29, inf, 3.8603117874502576e-30, 5.7533863659448482e-29]\n",
      "[7.6783838654636848e-29, 6.9616047897868552e-29, 5.981219211082114e-29, 1.2296263856212269e-26, inf, 6.5367959525818776e-30, 2.6335369521775861e-29, 6.5095354058019407e-28, 2.3757991899195111e-29, 1.2323944152524606e-29, 1.0247603857438203e-29, 3.0777567323333508e-30, 1.8729152600056489e-26, 1.6836371308018929e-29, 1.4361206151977976e-28, 1.0295972387437578e-29, 2.8348148935714887e-30, 2.6410199760382325e-29, 1.2834338077407077e-29, 2.4232468284342736e-29, 1.4769010270007258e-29, 3.6796655087583927e-30, 2.5201710504061614e-29, 2.0721254616261249e-29, inf, 7.9739824456582091e-30, 1.2199252101245592e-29, 5.9725567489392693e-30, 8.8168509373118976e-29, 2.4885808693398316e-29, 1.0157593230735598e-28, 4.0614406328593928e-28, 1.2451578372551878e-28, 1.4647193902803817e-29, 6.9866498989568921e-30, inf, 3.2223637041056797e-28, inf, inf, 2.3277089512350216e-27, 2.4111824484598567e-30, 1.8875291421444578e-29, 3.6979532888563727e-28, 2.4924720056242233e-30, inf, 1.2166904764738046e-29, 1.4335992221056242e-30, 2.0129181596782719e-30, 2.7704143881145583e-30, 1.7183326990726353e-29, 6.0662775816666525e-27, 5.9727521937071814e-30, inf, 3.0791522382548106e-30, 2.8400468517962372e-29, 2.1526908154574119e-28, 4.8440311450566748e-30, 3.1880002153085129e-29, 2.0147302115560993e-29, 5.1213878907515575e-27, 3.2455180305474298e-28, 3.889191764304317e-28, 2.2553960797313035e-29, 2.5560610818524578e-29, 7.9379619787637313e-29, 3.8603117874502576e-30, inf, 4.514604547130138e-27]\n",
      "[4.8335974094797665e-28, 2.6786936341535511e-29, 3.8603117874502576e-30, 1.9722193831593858e-29, 2.3757991899195111e-29, 1.3244826047972708e-29, 8.6141896955599671e-30, 5.9725567489392693e-30, 2.250832665521272e-28, 3.1880002153085129e-29, 1.4647193902803817e-29, 3.6979532888563727e-28, 1.1834077052845392e-29, 1.164878506061312e-28, 1.5356018393117804e-29, 6.1581903369015675e-30, 3.5561137628284126e-28, 3.0777567323333508e-30, 2.0721254616261249e-29, 1.0295972387437578e-29, 1.524610137072901e-29, 1.7579531693406212e-29, 1.2323944152524606e-29, 5.7684174039994914e-30, 6.9866498989568921e-30, 4.8006795518166792e-30, 7.0459911695289354e-29, 4.0300023210190981e-27, inf, 8.6334020999671077e-29, 4.0614406328593928e-28, 1.2834338077407077e-29, 6.5367959525818776e-30, inf, 7.9739824456582091e-30, 1.0157593230735598e-28, 5.1213878907515575e-27, 3.0791522382548106e-30, 2.6410199760382325e-29, 2.5560610818524578e-29, 2.6335369521775861e-29, 1.0215822049095512e-28, 7.5593861379374516e-29, 2.4111824484598567e-30, 6.0662775816666525e-27, 5.6999407889204998e-30, 4.442967026774971e-29, inf, inf, inf, 2.3277089512350216e-27, 2.0129181596782719e-30, 2.1526908154574119e-28, inf, 1.14919934231847e-28, 1.4361206151977976e-28, 6.3779407443214501e-30, inf, 2.1572545308327713e-29, 2.0147302115560993e-29, inf, 2.883542143312342e-29, 2.7704143881145583e-30, 2.983292870495958e-29, 3.2192127158192448e-29, 1.7232338451551989e-26, 2.0463242146468783e-30, 1.9652009769396115e-29, 7.0348245140669347e-30]\n",
      "[7.606227080140725e-30, 9.1810505608395195e-29, 3.2455180305474298e-28, 2.2867986935177148e-30, 2.870862332656053e-30, 2.6410199760382325e-29, 1.0157593230735598e-28, 2.4885808693398316e-29, 9.4317430909081027e-29, 1.1346980780378264e-29, 6.3779407443214501e-30, 2.8266475237578344e-30, 2.3757991899195111e-29, 5.6999407889204998e-30, 3.0755518792101337e-29, 5.9499791698591287e-30, 6.5367959525818776e-30, 9.6048388465590618e-30, 4.514604547130138e-27, 6.0576518721688972e-29, 5.981219211082114e-29, 3.5180418935492563e-27, 1.2834338077407077e-29, 2.6335369521775861e-29, 6.5187521127808358e-28, 4.9106679700694687e-29, 5.7001319940223624e-30, inf, 8.8168509373118976e-29, 3.2223637041056797e-28, 1.6758586539442031e-29, 2.0721254616261249e-29, inf, 2.8400468517962372e-29, 1.9652009769396115e-29, 6.9866498989568921e-30, inf, 6.0639659125550804e-30, 2.2281662091366852e-29, 1.2581043943661784e-29, 6.1426882781685889e-29, inf, 3.559700285961961e-29, 1.0295972387437578e-29, 3.1880002153085129e-29, 1.4361206151977976e-28, 5.5273116503054068e-29, 6.0662775816666525e-27, 1.6256788341766337e-28, 9.2441618598669772e-30, 2.4111824484598567e-30, 1.0247603857438203e-29, 3.6979532888563727e-28, inf, 7.6783838654636848e-29, 3.6796655087583927e-30, 2.3277089512350216e-27, 9.007055837567408e-30, 5.6651317388178642e-29, 7.0348245140669347e-30, 1.0410492034732531e-29, 2.7704143881145583e-30, 2.1516392013882304e-29, 4.9028516363274444e-30, inf, 4.0614406328593928e-28, inf, 4.0300023210190981e-27, inf, 1.7280689374670298e-29]\n",
      "[inf, 2.4885808693398316e-29, 1.1612562891285563e-28, 1.5356018393117804e-29, 3.7014859579339434e-29, 2.1504820548575651e-29, 6.2491300332307629e-29, inf, 2.5560610818524578e-29, 3.2192127158192448e-29, 4.9106679700694687e-29, 2.6335369521775861e-29, 6.0662775816666525e-27, 1.6758586539442031e-29, 2.1726371125382713e-28, 6.1581903369015675e-30, 4.0300023210190981e-27, 7.3240176466478267e-29, 1.3346503877931581e-28, 9.4317430909081027e-29, 1.4361206151977976e-28, 1.2834338077407077e-29, inf, 3.8492410228667132e-28, 2.6410199760382325e-29, 1.6663232289515277e-29, 1.0705064950222686e-29, 2.0721254616261249e-29, 3.0777567323333508e-30, 3.0596106203169489e-29, 2.1526908154574119e-28, 1.722516146019952e-29, 6.9866498989568921e-30, 1.2323944152524606e-29, inf, 4.5091242546731574e-30, 9.1429964331289522e-30, 2.4111824484598567e-30, 3.6979532888563727e-28, 2.7704143881145583e-30, 2.0129181596782719e-30, 2.0463242146468783e-30, 2.3757991899195111e-29, inf, 3.1880002153085129e-29, 9.6116845565968043e-30, 2.2458396682209031e-29, 5.6999407889204998e-30, 5.3471049724029351e-29, 2.6058509271161403e-29, 1.7624071270334552e-29, 2.3277089512350216e-27, 3.757798127471989e-29, 3.6796655087583927e-30, 5.1213878907515575e-27, 1.9652009769396115e-29, inf, 1.9722193831593858e-29, 6.3779407443214501e-30, 3.1396282399053686e-29, 5.9725567489392693e-30, 8.1236449264889936e-28, 3.0791522382548106e-30, 7.0348245140669347e-30, 3.8603117874502576e-30, 4.8974322986129948e-29, inf, inf, 1.2090174817305673e-29, 1.0155336735377806e-28, 3.554869333814437e-28]\n",
      "[8.8168509373118976e-29, 1.4040638472742597e-29, 4.0614406328593928e-28, 1.0295972387437578e-29, 1.7624071270334552e-29, 8.8459725910087751e-30, 9.4317430909081027e-29, 2.8123454604881072e-29, 1.1492249257260094e-27, 1.280128130756666e-29, 5.9725567489392693e-30, 6.0662775816666525e-27, 3.7019325484407942e-29, 2.3155004634403319e-30, 1.8729152600056489e-26, 5.6999407889204998e-30, 6.5367959525818776e-30, 2.8424763120237449e-29, 1.1346980780378264e-29, 2.7061847157368459e-29, 2.2281662091366852e-29, 2.4232468284342736e-29, 6.832362476774061e-30, 6.1581903369015675e-30, 1.368862214248249e-28, 6.3779407443214501e-30, 1.2834338077407077e-29, 5.2580271355548843e-30, 2.4924720056242233e-30, 3.0777567323333508e-30, 2.2867986935177148e-30, inf, 1.3077602315256894e-28, 1.5246452035165391e-30, inf, inf, 1.0247603857438203e-29, 2.1526908154574119e-28, 1.2166904764738046e-29, 7.1050007037522898e-29, inf, 6.9866498989568921e-30, 5.1213878907515575e-27, 2.1504820548575651e-29, 2.6335369521775861e-29, 1.7232338451551989e-26, 1.5671678092556062e-28, 1.4361206151977976e-28, 2.7704143881145583e-30, 2.3277089512350216e-27, 1.6525856256296467e-29, 1.6621935605899669e-29, 3.1880002153085129e-29, 2.0721254616261249e-29, 5.981219211082114e-29, inf, 2.8400468517962372e-29, 3.889191764304317e-28, 1.6758586539442031e-29, 1.0157593230735598e-28, 6.1426882781685889e-29, 1.4769010270007258e-29, 1.3959496015716982e-28, inf, 7.6783838654636848e-29, 4.0300023210190981e-27, 1.7312145384839118e-28, 2.0889964039330757e-29, 8.9195938870219442e-30, inf, 2.4479576985750275e-28, inf]\n",
      "[2.5804671433121315e-29, 1.4628325814533513e-29, inf, 2.8400468517962372e-29, 9.4317430909081027e-29, 4.7319148163886658e-30, 7.5593861379374516e-29, 6.3779407443214501e-30, 5.981219211082114e-29, 8.8459725910087751e-30, 5.542499040547812e-30, 9.2280361667758702e-29, 1.7280689374670298e-29, 2.3757991899195111e-29, 2.4924720056242233e-30, 5.6999407889204998e-30, 1.0247603857438203e-29, 1.0157593230735598e-28, 2.0721254616261249e-29, 5.867542486014018e-30, 1.2834338077407077e-29, 3.8603117874502576e-30, 1.8711515041569679e-29, 3.6979532888563727e-28, 8.9195938870219442e-30, 5.0880684849347218e-28, 3.6796655087583927e-30, inf, 1.0846052974291173e-28, 8.1533503344311256e-29, inf, 1.3656039865947206e-29, inf, 4.9106679700694687e-29, 1.4361206151977976e-28, 1.9564796285494747e-28, inf, 2.0129181596782719e-30, 2.4111824484598567e-30, 3.0755518792101337e-29, 9.6116845565968043e-30, 1.9722193831593858e-29, 7.6783838654636848e-29, 2.6129294631768697e-29, 3.2223637041056797e-28, 6.9866498989568921e-30, 5.7001319940223624e-30, 5.1213878907515575e-27, 1.3114209509623686e-29, 2.3277089512350216e-27, 2.6410199760382325e-29, 6.1426882781685889e-29, 2.2281662091366852e-29, inf, 3.1880002153085129e-29, 4.0614406328593928e-28, inf, 4.514604547130138e-27, 2.0147302115560993e-29, 4.0300023210190981e-27, 6.0662775816666525e-27, inf, 1.5584915952185896e-29, 3.1444064248826612e-29, inf, inf, 1.1920268402482168e-29, 1.4352836549227463e-29, 1.6758586539442031e-29, 4.9028516363274444e-30, 2.1401180529014613e-29, 4.1598192726165932e-28, 9.007055837567408e-30]\n",
      "[3.559700285961961e-29, 6.5367959525818776e-30, 7.6783838654636848e-29, 2.0721254616261249e-29, 2.250832665521272e-28, 7.5619689344403144e-29, 1.6525856256296467e-29, 8.8168509373118976e-29, 2.6335369521775861e-29, 4.9106679700694687e-29, 2.3277089512350216e-27, 3.6383277886076644e-29, 1.8606045543642142e-28, 4.0528492601449315e-30, 2.4111824484598567e-30, 1.0295972387437578e-29, 1.0247603857438203e-29, 1.5356018393117804e-29, 1.2323944152524606e-29, inf, 5.6651317388178642e-29, 4.0300023210190981e-27, inf, 2.5201710504061614e-29, 7.1050007037522898e-29, 1.1129520268691074e-29, 5.981219211082114e-29, 1.2834338077407077e-29, 1.7023421944760744e-28, inf, 7.2731112883355145e-29, inf, 3.6979532888563727e-28, 1.4647193902803817e-29, 3.7309733731016767e-28, 1.9773112543068223e-29, 1.350118972005513e-27, inf, 1.0880002881459347e-29, 1.2166904764738046e-29, inf, 1.5309886852264882e-29, 5.1213878907515575e-27, 3.0777567323333508e-30, 6.9866498989568921e-30, 5.6999407889204998e-30, 2.5560610818524578e-29, 2.2570827754114039e-29, 1.4769010270007258e-29, 3.1880002153085129e-29, inf, 6.3492441495995817e-28, 5.8144424722310707e-29, 2.8311563578126831e-28, 6.0662775816666525e-27, 2.7704143881145583e-30, 2.2867986935177148e-30, 6.3779407443214501e-30, 2.4924720056242233e-30, 4.514604547130138e-27, inf, 2.1401180529014613e-29, 1.23663454385938e-30, 3.6796655087583927e-30, 2.1526908154574119e-28, inf, 2.6410199760382325e-29, 1.2090174817305673e-29, 1.2199252101245592e-29, 1.9652009769396115e-29, 7.606227080140725e-30, inf, 5.9725567489392693e-30, 7.9679047822886309e-29]\n",
      "[2.2867986935177148e-30, 1.7312145384839118e-28, 5.1014192993185845e-28, inf, 4.9106679700694687e-29, 1.0157593230735598e-28, 5.7737569971938775e-30, 1.7280689374670298e-29, 7.1050007037522898e-29, inf, 2.6335369521775861e-29, 3.1396282399053686e-29, 1.7506050172804491e-29, 1.0880002881459347e-29, 2.0993924340027148e-28, 5.981219211082114e-29, 9.4317430909081027e-29, 5.9725567489392693e-30, 5.7684174039994914e-30, 1.4628325814533513e-29, 1.2834338077407077e-29, 1.2323944152524606e-29, 2.6410199760382325e-29, 5.6999407889204998e-30, 4.0614406328593928e-28, 9.6116845565968043e-30, 2.0721254616261249e-29, 2.4924720056242233e-30, inf, 1.4361206151977976e-28, 1.3244826047972708e-29, 8.1705834266645582e-30, inf, 8.8168509373118976e-29, 2.5119152526764097e-29, 1.722516146019952e-29, 1.1129520268691074e-29, 1.4352836549227463e-29, inf, 3.0777567323333508e-30, 2.4111824484598567e-30, 1.4647193902803817e-29, 6.9866498989568921e-30, 1.9233927884527507e-29, 3.0755518792101337e-29, inf, 1.7232338451551989e-26, 5.4589162970409843e-29, 6.2585159758129627e-30, 1.3959496015716982e-28, 6.0662775816666525e-27, inf, 2.3277089512350216e-27, 3.469760589725251e-29, inf, 3.2125635395236015e-28, 4.0300023210190981e-27, 1.9652009769396115e-29, 1.0549797506428504e-27, 2.5560610818524578e-29, 2.1699562743279702e-29, 6.2153433038122144e-29, 2.1572545308327713e-29, 6.3779407443214501e-30, 4.514604547130138e-27, 1.3841901621540856e-27, 3.8852062868695042e-29, 6.2491300332307629e-29, 3.1880002153085129e-29, 1.658736283817754e-29, 1.3114209509623686e-29, 1.23663454385938e-30, inf, inf, inf]\n",
      "[2.5560610818524578e-29, 2.86614440859601e-29, 1.0099529838306424e-28, 1.7280689374670298e-29, 4.7402547732703493e-30, 2.3757991899195111e-29, 2.5201710504061614e-29, 4.9017956554213667e-29, 1.3114209509623686e-29, 5.9725567489392693e-30, 1.2296263856212269e-26, 2.2553960797313035e-29, 1.2834338077407077e-29, 3.2223637041056797e-28, 3.6979532888563727e-28, 1.4361206151977976e-28, 5.6999407889204998e-30, 1.6229265032561467e-29, 8.8168509373118976e-29, 2.2281662091366852e-29, 3.6796655087583927e-30, 6.3779407443214501e-30, 2.6410199760382325e-29, 4.9106679700694687e-29, 3.655558987606964e-30, 9.6116845565968043e-30, 5.7007762125092232e-29, 1.7312145384839118e-28, 2.1980571087474175e-29, inf, 1.325407979779524e-29, 4.442967026774971e-29, 7.9739824456582091e-30, 6.9616047897868552e-29, 2.4885808693398316e-29, 2.2867986935177148e-30, 3.0755518792101337e-29, inf, 2.3155004634403319e-30, 6.9866498989568921e-30, inf, 6.0662775816666525e-27, inf, 1.1822131023605701e-28, inf, 3.1880002153085129e-29, 2.6335369521775861e-29, 1.0247603857438203e-29, 4.0300023210190981e-27, 2.3277089512350216e-27, inf, 2.4111824484598567e-30, 1.6459683479002006e-28, inf, 1.287266968070662e-27, inf, 1.6041131189634673e-28, 1.5098191812080771e-29, inf, 2.7704143881145583e-30, 1.9722193831593858e-29, 3.4679085370946764e-29, 1.3959496015716982e-28, inf, inf, 5.1213878907515575e-27, 1.4628325814533513e-29, 4.514604547130138e-27, 5.981219211082114e-29, inf, 9.9794648466548763e-30, 8.30022044106528e-29, inf, 1.2800215549523476e-29, 3.1444064248826612e-29, 1.9652009769396115e-29]\n",
      "[1.7312145384839118e-28, 2.5948134405567901e-29, inf, 2.8400468517962372e-29, inf, 2.2281662091366852e-29, 1.7624071270334552e-29, 5.7001319940223624e-30, 2.6335369521775861e-29, 6.1426882781685889e-29, inf, 3.1444064248826612e-29, 1.524610137072901e-29, 7.0459911695289354e-29, 6.0340244637655407e-29, 4.9106679700694687e-29, 5.6999407889204998e-30, 5.2580271355548843e-30, 4.0614406328593928e-28, 4.1976714985002869e-28, inf, 2.2216501160903996e-29, 2.0147302115560993e-29, 1.6525856256296467e-29, 2.3757991899195111e-29, 5.981219211082114e-29, 1.2834338077407077e-29, inf, 2.250832665521272e-28, 6.5367959525818776e-30, 1.9652009769396115e-29, 2.0129181596782719e-30, 1.722516146019952e-29, 2.5827683418993125e-30, 1.2388011937071275e-29, 3.7019325484407942e-29, 1.9686221923089038e-28, 5.1213878907515575e-27, 1.4361206151977976e-28, inf, 7.9739824456582091e-30, 3.1381639270913591e-28, 6.9866498989568921e-30, 5.6651317388178642e-29, inf, 6.2783058467347985e-30, 3.623693946332212e-29, 2.1526908154574119e-28, 3.469760589725251e-29, 2.3277089512350216e-27, inf, 1.7232338451551989e-26, 1.3114209509623686e-29, 3.559700285961961e-29, 5.9725567489392693e-30, 7.9379619787637313e-29, inf, inf, 3.2125635395236015e-28, 3.1880002153085129e-29, 6.3779407443214501e-30, 2.7500432642632291e-29, 9.007055837567408e-30, 2.7704143881145583e-30, 4.3738533331476044e-29, 6.0662775816666525e-27, 2.0721254616261249e-29, inf, 3.4679085370946764e-29, 4.514604547130138e-27, inf, 1.0157593230735598e-28, 3.8603117874502576e-30, 8.2452453654676189e-30, 7.606227080140725e-30, 4.9028516363274444e-30, 4.0300023210190981e-27]\n",
      "[4.0300023210190981e-27, 2.86614440859601e-29, 9.0464250656727575e-29, 2.1526908154574119e-28, 4.9106679700694687e-29, 9.9794648466548763e-30, 9.056458589958782e-29, 7.1050007037522898e-29, 7.6783838654636848e-29, 5.9725567489392693e-30, 1.7831587332306302e-29, 4.7146681060831882e-29, 5.7684174039994914e-30, 2.250832665521272e-28, 9.6116845565968043e-30, 1.6229265032561467e-29, 1.0247603857438203e-29, 3.2455180305474298e-28, 3.6979532888563727e-28, 3.1444064248826612e-29, 4.442967026774971e-29, 2.1401180529014613e-29, 6.1581903369015675e-30, 3.0777567323333508e-30, 2.0129181596782719e-30, 2.0889964039330757e-29, 2.2281662091366852e-29, 1.325407979779524e-29, 1.3114209509623686e-29, 4.0614406328593928e-28, 3.6383277886076644e-29, 1.5246452035165391e-30, 2.4924720056242233e-30, 4.1693995210774902e-30, inf, 1.1346980780378264e-29, 5.6999407889204998e-30, 1.115626031143351e-27, 8.3147546032951529e-26, 2.0510913587298352e-29, 3.2223637041056797e-28, 1.9652009769396115e-29, 1.9722193831593858e-29, 2.3277089512350216e-27, 2.4111824484598567e-30, inf, 6.9866498989568921e-30, 3.1880002153085129e-29, 1.4361206151977976e-28, inf, 6.1426882781685889e-29, 1.7232338451551989e-26, 1.0157593230735598e-28, 2.6410199760382325e-29, 7.9379619787637313e-29, 2.7704143881145583e-30, 2.6335369521775861e-29, 1.0846052974291173e-28, inf, 1.8724521889732403e-29, 7.5593861379374516e-29, 1.4628325814533513e-29, inf, 6.3779407443214501e-30, 1.6758586539442031e-29, 3.8603117874502576e-30, 1.4769010270007258e-29, 6.0662775816666525e-27, inf, 1.7688491648943696e-28, inf, 1.6850913432853136e-29, inf, 7.9756776721606732e-30, 2.1572545308327713e-29, 1.8729152600056489e-26, inf, inf]\n",
      "[5.6999407889204998e-30, 2.3970118442383277e-28, 4.442967026774971e-29, 1.2296263856212269e-26, 2.3581076243617755e-28, inf, 2.5216792160452969e-28, inf, 1.306227904448082e-29, 4.2978094250824426e-28, 2.6410199760382325e-29, 1.325407979779524e-29, 1.6836371308018929e-29, 1.2388011937071275e-29, 1.8729152600056489e-26, inf, 2.5201710504061614e-29, inf, 2.3757991899195111e-29, 8.8168509373118976e-29, 2.6335369521775861e-29, 3.1880002153085129e-29, 2.1665512005816015e-29, 1.4628325814533513e-29, 1.5246452035165391e-30, 2.2867986935177148e-30, 3.0777567323333508e-30, 3.4679085370946764e-29, 4.8558940948566531e-29, 1.3959496015716982e-28, 3.6979532888563727e-28, 6.9866498989568921e-30, 1.2968579731715674e-27, 1.0599723560302684e-29, 9.6116845565968043e-30, inf, 4.7146681060831882e-29, 1.4769010270007258e-29, 4.8440311450566748e-30, inf, 8.9056253046894816e-29, 8.2807086256203742e-29, 1.9722193831593858e-29, 1.598844328583037e-28, 3.268284595079078e-29, 4.0300023210190981e-27, inf, 1.7232338451551989e-26, 2.2281662091366852e-29, inf, 4.514604547130138e-27, 6.0662775816666525e-27, 5.0880684849347218e-28, 9.2004721135419036e-30, 5.981219211082114e-29, 6.3779407443214501e-30, 2.3155004634403319e-30, inf, 3.2455180305474298e-28, 2.3277089512350216e-27, 6.1426882781685889e-29, 5.9725567489392693e-30, 5.1213878907515575e-27, 1.4361206151977976e-28, inf, 1.651817457859643e-29, 5.2580271355548843e-30, 2.1360570584413869e-29, 6.2783058467347985e-30, 8.9558166912442715e-29, inf, 7.6783838654636848e-29, 7.1324400960921305e-29, 2.7704143881145583e-30, 1.3908443547587403e-29, 1.3114209509623686e-29, 1.6758586539442031e-29, 5.2893437940773692e-30, 2.9161886811301789e-29]\n",
      "[inf, 6.9866498989568921e-30, 1.164878506061312e-28, 1.4352836549227463e-29, 6.2153433038122144e-29, 5.2574157454846139e-28, 2.250832665521272e-28, inf, 5.9725567489392693e-30, 1.0247603857438203e-29, 7.1050007037522898e-29, 1.3959496015716982e-28, 6.2503498277035477e-29, 6.6878497622616125e-29, 8.115383649120016e-29, 1.7280689374670298e-29, 2.5201710504061614e-29, 2.6592152226144492e-27, 7.0348245140669347e-30, 3.0777567323333508e-30, 9.9794648466548763e-30, 2.2867986935177148e-30, 4.9106679700694687e-29, 2.5948134405567901e-29, 1.9722193831593858e-29, 4.7146681060831882e-29, 1.015174091721237e-29, 1.0295972387437578e-29, 1.7232338451551989e-26, 1.2090174817305673e-29, 1.7265878051937423e-29, 1.4647193902803817e-29, 1.4361206151977976e-28, 1.325407979779524e-29, 2.7704143881145583e-30, 1.9652009769396115e-29, 3.2223637041056797e-28, 1.0157593230735598e-28, inf, inf, 6.1581903369015675e-30, inf, 3.0755518792101337e-29, 6.0662775816666525e-27, 2.6335369521775861e-29, 4.442967026774971e-29, inf, inf, inf, 6.5367959525818776e-30, 5.981219211082114e-29, 2.3277089512350216e-27, 4.0614406328593928e-28, 1.2323944152524606e-29, inf, 6.1426882781685889e-29, 2.3155004634403319e-30, 3.1880002153085129e-29, 6.3779407443214501e-30, 3.8026402055294651e-28, 4.8974322986129948e-29, 6.6871325838092775e-29, 8.2893031191353041e-29, 5.1213878907515575e-27, inf, 3.2455180305474298e-28, inf, 1.6229265032561467e-29, inf, 5.2580271355548843e-30, inf, 9.2263181664703468e-29, 1.4432430477208812e-28, 4.0300023210190981e-27, 1.107386975801638e-29, 2.1665512005816015e-29, inf, inf, 8.30022044106528e-29, inf]\n",
      "[2.2281662091366852e-29, 3.2223637041056797e-28, 6.9505514803699358e-28, 2.1526908154574119e-28, 1.7624071270334552e-29, 5.981219211082114e-29, inf, 2.2922048945736743e-28, 6.1581903369015675e-30, inf, 2.9835298068792407e-29, 1.2296263856212269e-26, 2.6335369521775861e-29, 1.0295972387437578e-29, 1.1226204286982242e-29, 3.623693946332212e-29, 7.1050007037522898e-29, 2.1980571087474175e-29, 1.2834338077407077e-29, 4.7402547732703493e-30, 6.9866498989568921e-30, 4.0300023210190981e-27, 2.1073403398076297e-28, 3.655558987606964e-30, 6.5367959525818776e-30, 7.6726566558678776e-29, 1.325407979779524e-29, inf, 1.0247603857438203e-29, 1.7232338451551989e-26, 1.9722193831593858e-29, inf, 4.442967026774971e-29, 7.5593861379374516e-29, 2.4924720056242233e-30, 3.6979532888563727e-28, 5.9725567489392693e-30, 1.2090174817305673e-29, 1.8606045543642142e-28, 5.2580271355548843e-30, 1.8729152600056489e-26, inf, 1.0846052974291173e-28, 5.1213878907515575e-27, 1.6758586539442031e-29, 1.4361206151977976e-28, 3.1880002153085129e-29, 8.1705834266645582e-30, inf, 2.5560610818524578e-29, 3.6383277886076644e-29, 2.3277089512350216e-27, 1.3908443547587403e-29, 1.5208737510666322e-29, 6.0662775816666525e-27, 3.469760589725251e-29, 5.4302711351986648e-28, 7.6661599030779029e-30, inf, 1.0157593230735598e-28, 2.7704143881145583e-30, 1.5246452035165391e-30, 8.4432465838158723e-29, 1.6229265032561467e-29, 1.9652009769396115e-29, inf, 2.3155004634403319e-30, 5.6999407889204998e-30, 8.30022044106528e-29, 2.1401180529014613e-29, 6.3779407443214501e-30, 2.2553960797313035e-29, 3.4679085370946764e-29, 1.3959496015716982e-28, 1.3279204586770704e-28, 2.2867986935177148e-30, inf, 1.1445441907047289e-28, 8.9056253046894816e-29, inf, inf]\n",
      "[1.1471381209298873e-28, 6.9866498989568921e-30, 1.1445441907047289e-28, 7.5123427045545854e-29, 9.4317430909081027e-29, 1.7624071270334552e-29, 4.0614406328593928e-28, 6.3779407443214501e-30, 6.1581903369015675e-30, 1.1443728974289673e-28, 1.1346980780378264e-29, 6.0662775816666525e-27, 1.8729152600056489e-26, 5.6999407889204998e-30, 1.0846052974291173e-28, 5.9725567489392693e-30, 9.6048388465590618e-30, 3.469760589725251e-29, inf, 1.0247603857438203e-29, 1.2834338077407077e-29, 4.8440311450566748e-30, 6.1426882781685889e-29, 9.6456295617748679e-29, 3.9602574093754616e-29, 3.2223637041056797e-28, 7.6726566558678776e-29, 1.6229265032561467e-29, 2.6347134765674394e-29, 6.1577597532370642e-29, 2.3757991899195111e-29, 1.3841901621540856e-27, 2.0129181596782719e-30, 2.1526908154574119e-28, 2.4885808693398316e-29, 5.7001319940223624e-30, inf, 3.1880002153085129e-29, inf, 2.0510913587298352e-29, 5.7737569971938775e-30, inf, 2.3277089512350216e-27, 1.4352836549227463e-29, inf, inf, 1.7506050172804491e-29, 3.2125635395236015e-28, 5.2580271355548843e-30, inf, inf, 2.6335369521775861e-29, 6.5367959525818776e-30, inf, 1.4361206151977976e-28, 1.6758586539442031e-29, 1.0157593230735598e-28, 1.722516146019952e-29, 1.6952688276428259e-29, inf, 2.3664356213730502e-29, 1.5697181464606744e-28, 1.7232338451551989e-26, 3.2455180305474298e-28, 5.981219211082114e-29, 4.9028516363274444e-30, 2.0889964039330757e-29, 3.623693946332212e-29, 3.8603117874502576e-30, 1.3908443547587403e-29, 1.3959496015716982e-28, inf, 2.1073403398076297e-28, 9.9978146749063225e-29, 7.0183686426801223e-30, 4.0300023210190981e-27, 3.6979532888563727e-28, inf, inf, 6.0340244637655407e-29, 2.4924720056242233e-30, inf]\n",
      "[4.0300023210190981e-27, 4.3631033189149187e-28, 5.581399951965185e-29, 2.9792141836102777e-28, 3.4679085370946764e-29, 1.4361206151977976e-28, 2.0147302115560993e-29, 1.3114209509623686e-29, 3.1880002153085129e-29, 6.3779407443214501e-30, inf, 1.1445441907047289e-28, 1.5582057508899561e-29, 3.0755518792101337e-29, 1.598844328583037e-28, 5.981219211082114e-29, 2.6335369521775861e-29, 2.1572545308327713e-29, inf, 1.015174091721237e-29, 3.1444064248826612e-29, 4.442967026774971e-29, 4.7146681060831882e-29, 1.9652009769396115e-29, 1.0720539780971286e-29, 5.7968295680967002e-27, 3.2223637041056797e-28, 8.30022044106528e-29, 4.2978094250824426e-28, 2.2867986935177148e-30, inf, inf, inf, 1.0846052974291173e-28, 5.1213878907515575e-27, 6.9866498989568921e-30, 2.0721254616261249e-29, 3.0777567323333508e-30, 3.6979532888563727e-28, 2.870862332656053e-30, 5.6999407889204998e-30, 6.1426882781685889e-29, 9.6116845565968043e-30, 2.2281662091366852e-29, inf, 4.8974322986129948e-29, 6.0662775816666525e-27, inf, 1.7280689374670298e-29, 9.007055837567408e-30, 1.5037604539207463e-29, 7.6783838654636848e-29, 1.7232338451551989e-26, 2.3277089512350216e-27, inf, 1.6459683479002006e-28, 2.0991370579029456e-29, 7.5593861379374516e-29, inf, 2.7704143881145583e-30, 1.1471381209298873e-28, 3.5247573523373048e-29, inf, 1.4769010270007258e-29, inf, 1.4628325814533513e-29, 5.9725567489392693e-30, 5.2580271355548843e-30, 1.23663454385938e-30, 1.3908443547587403e-29, 1.9722193831593858e-29, 4.514604547130138e-27, inf, inf, 5.7684174039994914e-30, inf, 4.9106679700694687e-29, 9.2263181664703468e-29, 2.1980571087474175e-29, 7.6674050682649159e-30, inf, 2.1699562743279702e-29, 1.287266968070662e-27]\n",
      "[2.4924720056242233e-30, 4.7146681060831882e-29, 5.8364009646103909e-30, 2.9792141836102777e-28, 4.442967026774971e-29, 6.5367959525818776e-30, 3.2223637041056797e-28, 1.0924188089002507e-27, 2.8266475237578344e-30, 3.4679085370946764e-29, 6.3779407443214501e-30, 5.981219211082114e-29, 1.4361206151977976e-28, 1.0019712990549066e-29, 4.2978094250824426e-28, inf, 1.8729152600056489e-26, inf, 4.0300023210190981e-27, 2.6410199760382325e-29, 1.9722193831593858e-29, 2.7700426567512831e-30, 7.9739824456582091e-30, 7.1050007037522898e-29, 1.6525856256296467e-29, 8.6334020999671077e-29, 2.86614440859601e-29, 8.2893031191353041e-29, 4.9028516363274444e-30, 2.6335369521775861e-29, 1.9652009769396115e-29, 2.2281662091366852e-29, 1.651817457859643e-29, 2.5201710504061614e-29, 4.5250296476653645e-30, inf, inf, 2.5948134405567901e-29, 6.9866498989568921e-30, 2.1526908154574119e-28, 1.4557576450214518e-29, inf, 3.1880002153085129e-29, 4.514604547130138e-27, 3.6796655087583927e-30, inf, 1.6256788341766337e-28, 6.1426882781685889e-29, 6.0662775816666525e-27, inf, 1.9122828222904476e-29, 5.2580271355548843e-30, 3.828721572037925e-29, 8.9030199613832699e-29, 5.6999407889204998e-30, 8.8168509373118976e-29, 3.8603117874502576e-30, 2.7704143881145583e-30, 2.2553960797313035e-29, 1.0549797506428504e-27, 7.2766747723079895e-30, 8.30022044106528e-29, 9.7607062957141212e-30, 5.1213878907515575e-27, 1.6459683479002006e-28, inf, 7.0348245140669347e-30, inf, 1.164878506061312e-28, inf, 1.2173089252266178e-28, 2.1980571087474175e-29, inf, 1.3959496015716982e-28, 5.7001319940223624e-30, 7.5593861379374516e-29, 2.0889964039330757e-29, inf, 3.2455180305474298e-28, inf, 4.7470671790956808e-29, 2.3277089512350216e-27, inf, inf]\n",
      "[2.3757991899195111e-29, 9.7645294740302155e-28, 3.6383277886076644e-29, 2.0129181596782719e-30, 2.1980571087474175e-29, 1.8729152600056489e-26, 3.6979532888563727e-28, 9.007055837567408e-30, 2.6335369521775861e-29, 7.6783838654636848e-29, 2.1665512005816015e-29, 1.4517652525633018e-29, 1.0305790910728228e-29, 8.1533503344311256e-29, 1.9722193831593858e-29, 1.0295972387437578e-29, 1.2199252101245592e-29, 3.7911320754663863e-29, 9.4317430909081027e-29, 5.6706256142419495e-30, 1.0155336735377806e-28, 5.7001319940223624e-30, 5.6999407889204998e-30, 4.7146681060831882e-29, 2.1526908154574119e-28, 2.0721254616261249e-29, 3.1880002153085129e-29, 1.7232338451551989e-26, 4.9106679700694687e-29, 6.9866498989568921e-30, 3.2223637041056797e-28, 1.4361206151977976e-28, 2.1248315606614154e-28, 1.0599723560302684e-29, 6.1581903369015675e-30, 5.609766516045767e-30, inf, 1.6210569071443926e-28, 2.2281662091366852e-29, 2.0510913587298352e-29, inf, 7.5593861379374516e-29, inf, 1.3048341373463122e-28, inf, 1.4352836549227463e-29, 1.0157593230735598e-28, 2.0889964039330757e-29, 5.2580271355548843e-30, 1.2731251713846554e-29, 5.9725567489392693e-30, 6.0662775816666525e-27, 3.8603117874502576e-30, 6.3779407443214501e-30, 2.3277089512350216e-27, 2.1401180529014613e-29, 7.0348245140669347e-30, 2.5372772478334268e-29, 2.0147302115560993e-29, 1.3338001401091921e-29, 8.4432465838158723e-29, 1.1445441907047289e-28, 1.9652009769396115e-29, 1.6758586539442031e-29, 4.9028516363274444e-30, 4.0300023210190981e-27, inf, inf, 4.839827023881085e-29, inf, inf, 5.0880684849347218e-28, 6.1426882781685889e-29, inf, inf, 6.9507103110529532e-28, 2.1073403398076297e-28, 1.2317926524054446e-29, inf, 1.3268016574823222e-29, inf, inf, 5.981219211082114e-29, 2.870862332656053e-30, 1.651817457859643e-29]\n",
      "[2.6410199760382325e-29, 1.9728340652400264e-29, 5.1213878907515575e-27, 4.2692960082468252e-30, 2.1526908154574119e-28, 3.2455180305474298e-28, inf, 4.0614406328593928e-28, inf, 3.8087448293406348e-30, 7.3093944745148014e-29, 4.3268868627933407e-27, 2.9792141836102777e-28, 6.5916757640406257e-28, 1.1346980780378264e-29, 2.4111824484598567e-30, 5.6706256142419495e-30, 2.6335369521775861e-29, 1.1834077052845392e-29, 1.7312145384839118e-28, inf, 4.0300023210190981e-27, 1.3114209509623686e-29, 7.1050007037522898e-29, 1.9652009769396115e-29, 3.5180418935492563e-27, 8.115383649120016e-29, 1.4352836549227463e-29, 3.5773977822528256e-28, inf, inf, 6.9866498989568921e-30, 2.0721254616261249e-29, 9.6116845565968043e-30, inf, 1.0247603857438203e-29, 5.981219211082114e-29, 3.5541754805434197e-30, 4.7146681060831882e-29, 4.3738533331476044e-29, 1.6525856256296467e-29, 3.1880002153085129e-29, 5.7684174039994914e-30, inf, 1.4361206151977976e-28, 2.3277089512350216e-27, 2.6592152226144492e-27, 2.2281662091366852e-29, 7.0348245140669347e-30, 1.658736283817754e-29, inf, 5.3471049724029351e-29, 6.1426882781685889e-29, 5.2543288839848147e-29, 2.1980571087474175e-29, 2.2867986935177148e-30, 4.514604547130138e-27, 1.7232338451551989e-26, 1.1205335374322196e-29, 5.0880684849347218e-28, 3.7911320754663863e-29, 3.3291053183176296e-30, 4.442967026774971e-29, 6.0662775816666525e-27, 2.883542143312342e-29, 2.7704143881145583e-30, 1.8729601411154022e-27, inf, 3.6979532888563727e-28, 2.4924720056242233e-30, 3.6565663646997898e-29, 1.2986057057038568e-29, 1.0157593230735598e-28, 3.2125635395236015e-28, 3.889191764304317e-28, inf, 2.2216501160903996e-29, 1.6758586539442031e-29, inf, inf, 7.3240176466478267e-29, 1.4432430477208812e-28, 1.4628325814533513e-29, inf, 5.9725567489392693e-30, inf]\n",
      "[5.4874195945261949e-28, 3.2223637041056797e-28, 1.2296263856212269e-26, 1.7913108048416441e-28, 5.867542486014018e-30, 1.3114209509623686e-29, 6.93881764293351e-29, 1.3908443547587403e-29, 2.5216792160452969e-28, 2.0147302115560993e-29, 9.6116845565968043e-30, 1.0817575900299858e-28, 2.0889964039330757e-29, 5.6999407889204998e-30, 4.514604547130138e-27, 2.6410199760382325e-29, 1.0846052974291173e-28, 1.0599723560302684e-29, 7.1050007037522898e-29, 1.7026526526444549e-29, 4.7146681060831882e-29, 2.1980571087474175e-29, 2.5804671433121315e-29, 2.7061847157368459e-29, 1.7624071270334552e-29, 3.1880002153085129e-29, 3.6979532888563727e-28, inf, 2.0721254616261249e-29, inf, 2.3277089512350216e-27, 1.7232338451551989e-26, 5.0880684849347218e-28, 4.9028516363274444e-30, 6.9616047897868552e-29, 2.0129181596782719e-30, 6.4157286269874052e-30, 1.3959496015716982e-28, 7.6979868287878209e-29, 2.61313692850106e-29, 2.1626909070501997e-28, 2.2281662091366852e-29, 6.9866498989568921e-30, 3.623693946332212e-29, 5.2580271355548843e-30, 6.3779407443214501e-30, inf, 1.4361206151977976e-28, 4.7319148163886658e-30, 5.1213878907515575e-27, 6.0662775816666525e-27, inf, 1.9722193831593858e-29, inf, 1.6229265032561467e-29, inf, inf, 2.1360570584413869e-29, 1.5037604539207463e-29, 2.8400468517962372e-29, 6.2783058467347985e-30, inf, 4.0300023210190981e-27, 3.8603117874502576e-30, 3.2125635395236015e-28, 2.1526908154574119e-28, 3.1444064248826612e-29, inf, 7.9113526540679472e-29, 5.981219211082114e-29, 5.7737569971938775e-30, 3.4679085370946764e-29, 8.30022044106528e-29, 4.8440311450566748e-30, 3.991011942344902e-28, inf, 5.7001319940223624e-30, 1.4628325814533513e-29, 1.8729152600056489e-26, inf, inf, inf, 1.6758586539442031e-29, inf, inf, 2.1548615300751894e-29, inf]\n",
      "[4.8440311450566748e-30, 1.0019712990549066e-29, 2.9813549079854486e-28, 1.2296263856212269e-26, 1.3114209509623686e-29, 1.7624071270334552e-29, 4.0300023210190981e-27, 1.0155336735377806e-28, 3.2223637041056797e-28, 2.2553960797313035e-29, 6.1426882781685889e-29, 3.8492410228667132e-28, 5.867542486014018e-30, 8.6327101411213684e-29, 7.0348245140669347e-30, 3.0580501300278355e-29, inf, 6.0662775816666525e-27, 1.8729152600056489e-26, 4.514604547130138e-27, 1.651817457859643e-29, 3.861206094187825e-27, 2.2281662091366852e-29, 6.0298532163596837e-29, 1.0374989803380903e-28, 4.7146681060831882e-29, 1.6229265032561467e-29, inf, 2.3757991899195111e-29, 6.9866498989568921e-30, 1.3959496015716982e-28, inf, 2.2867986935177148e-30, 2.7061847157368459e-29, 3.469760589725251e-29, 3.623693946332212e-29, 5.6999407889204998e-30, 1.0549797506428504e-27, 2.1526908154574119e-28, 1.1612562891285563e-28, 4.0008982576190213e-29, 1.6758586539442031e-29, 9.6116845565968043e-30, 1.7232338451551989e-26, 5.1213878907515575e-27, 1.722516146019952e-29, inf, 3.559700285961961e-29, 2.4111824484598567e-30, 2.7704143881145583e-30, inf, 1.4361206151977976e-28, 3.1880002153085129e-29, 3.4679085370946764e-29, 4.9028516363274444e-30, 3.7014859579339434e-29, 1.3346503877931581e-28, inf, 7.0471589195217816e-29, 1.3908443547587403e-29, 3.7628292040382096e-28, 4.7319148163886658e-30, 3.889191764304317e-28, 2.6410199760382325e-29, inf, inf, 1.2388011937071275e-29, 1.4628325814533513e-29, inf, 1.3771349711775147e-28, inf, 5.6651317388178642e-29, 1.1226204286982242e-29, 5.7001319940223624e-30, inf, 9.056458589958782e-29, 8.9056253046894816e-29, 1.231809767162388e-29, 1.4352836549227463e-29, 5.7737569971938775e-30, 6.1550706501088551e-30, 2.0889964039330757e-29, 8.9030199613832699e-29, inf, 3.2455180305474298e-28, 1.2090174817305673e-29, inf, inf]\n",
      "[7.1050007037522898e-29, 1.0889113509363071e-28, inf, 1.651817457859643e-29, 2.5948134405567901e-29, 2.9792141836102777e-28, 1.3959496015716982e-28, 2.3277089512350216e-27, 4.8974322986129948e-29, 4.9028516363274444e-30, 5.9725567489392693e-30, 1.0295972387437578e-29, 1.0466753654761066e-28, 3.889191764304317e-28, 2.1526908154574119e-28, inf, 3.2125635395236015e-28, 1.8729601411154022e-27, 1.1445441907047289e-28, 1.5224370185373414e-29, 5.6999407889204998e-30, 4.7146681060831882e-29, 6.5367959525818776e-30, 1.3908443547587403e-29, 7.0183686426801223e-30, 7.9224359935832411e-29, 2.0889964039330757e-29, 6.857323462079338e-30, 1.2208023499400284e-28, 3.4679085370946764e-29, 7.9739824456582091e-30, 4.8440311450566748e-30, 4.7470671790956808e-29, inf, 2.0129181596782719e-30, 6.9866498989568921e-30, 6.1581903369015675e-30, 5.7066224746816131e-29, inf, 6.1426882781685889e-29, 1.2090174817305673e-29, 5.5273116503054068e-29, inf, inf, inf, 6.0662775816666525e-27, 3.559700285961961e-29, 1.6229265032561467e-29, 3.7309733731016767e-28, 5.981219211082114e-29, 1.9728340652400264e-29, 6.0628977597848794e-28, 2.6335369521775861e-29, inf, 5.1213878907515575e-27, 3.1880002153085129e-29, 2.2553960797313035e-29, 1.4361206151977976e-28, 5.7001319940223624e-30, 1.7232338451551989e-26, 7.0348245140669347e-30, inf, 4.0300023210190981e-27, inf, 6.3779407443214501e-30, 1.8729152600056489e-26, 5.7737569971938775e-30, 5.0434734015344306e-29, 5.6651317388178642e-29, 3.8603117874502576e-30, 2.2281662091366852e-29, inf, 3.9602574093754616e-29, 3.6979532888563727e-28, 3.5247573523373048e-29, 5.0981182466162295e-28, 1.0374989803380903e-28, 2.0991370579029456e-29, inf, 1.7312145384839118e-28, inf, inf, inf, 2.2855026203162354e-30, 1.4314653127876866e-29, inf, 1.7624071270334552e-29, 1.2503373333451972e-29, inf]\n",
      "[5.867542486014018e-30, 4.442967026774971e-29, 2.3453886904172631e-29, 2.6633833645552179e-29, 2.9792141836102777e-28, 8.3435247261728935e-30, 1.0247603857438203e-29, 2.2281662091366852e-29, 9.2813681260735766e-28, 2.5201710504061614e-29, 1.0157593230735598e-28, 7.1050007037522898e-29, 1.6229265032561467e-29, 8.6327101411213684e-29, 2.0889964039330757e-29, 7.6531826147031503e-28, 2.1751545693802346e-29, 4.7470671790956808e-29, 5.4302711351986648e-28, 1.3959496015716982e-28, 4.0300023210190981e-27, 4.7146681060831882e-29, 1.0846052974291173e-28, 6.1426882781685889e-29, inf, 7.8621831930206041e-29, 6.9866498989568921e-30, inf, 1.6758586539442031e-29, 1.9652009769396115e-29, 1.7232338451551989e-26, 4.7319148163886658e-30, inf, inf, 3.6979532888563727e-28, 6.0662775816666525e-27, 2.0721254616261249e-29, 7.1324400960921305e-29, 5.1213878907515575e-27, 1.0750175188795122e-28, 2.1548615300751894e-29, inf, 4.9106679700694687e-29, 2.1526908154574119e-28, inf, 5.7001319940223624e-30, 5.2580271355548843e-30, inf, 2.3277089512350216e-27, 2.7704143881145583e-30, 9.9794648466548763e-30, 1.4361206151977976e-28, 7.0348245140669347e-30, 3.6383277886076644e-29, 4.514604547130138e-27, 2.1980571087474175e-29, 1.9722193831593858e-29, 8.9056253046894816e-29, 6.6871325838092775e-29, 1.1346980780378264e-29, 5.6999407889204998e-30, 3.2125635395236015e-28, inf, inf, 3.8603117874502576e-30, inf, 9.6116845565968043e-30, 4.3631033189149187e-28, 6.9505514803699358e-28, 3.2455180305474298e-28, 3.4679085370946764e-29, 5.7737569971938775e-30, inf, 4.0614406328593928e-28, inf, 4.9028516363274444e-30, inf, 3.1880002153085129e-29, inf, 1.9122828222904476e-29, inf, inf, 5.981219211082114e-29, 8.2893031191353041e-29, inf, 4.7708862780346077e-29, inf, inf, 1.8729152600056489e-26, 1.2090174817305673e-29]\n",
      "[1.9722193831593858e-29, 2.9183845859287589e-29, 4.0614406328593928e-28, inf, 1.6758586539442031e-29, 1.2296263856212269e-26, 1.4352836549227463e-29, 5.2580271355548843e-30, 5.867542486014018e-30, 6.7617593323792136e-28, 1.7624071270334552e-29, inf, 9.6048388465590618e-30, 2.0889964039330757e-29, 9.6116845565968043e-30, 1.3114209509623686e-29, 4.9332414771567054e-30, 5.0222180947597743e-29, 5.6999407889204998e-30, 3.7309733731016767e-28, 4.7319148163886658e-30, 7.6726566558678776e-29, 3.6979532888563727e-28, 7.1050007037522898e-29, 4.9028516363274444e-30, 2.1526908154574119e-28, 2.0721254616261249e-29, 1.0155336735377806e-28, 2.2142368044355144e-29, 1.1612562891285563e-28, 1.6525856256296467e-29, inf, 3.5230516613995846e-28, 1.9652009769396115e-29, 4.8006795518166792e-30, 7.0755882920576116e-29, inf, 2.8204642217538916e-30, inf, inf, 2.7674161358568066e-29, 6.0662775816666525e-27, 1.4628325814533513e-29, 6.9866498989568921e-30, 1.4361206151977976e-28, 5.1213878907515575e-27, 2.2281662091366852e-29, 6.1968853433253112e-29, 5.5273116503054068e-29, 1.0157593230735598e-28, 3.469760589725251e-29, 1.7232338451551989e-26, inf, 4.442967026774971e-29, 4.0300023210190981e-27, 5.7737569971938775e-30, 1.0085416605322117e-29, 6.3779407443214501e-30, 3.2455180305474298e-28, 2.1073403398076297e-28, 7.6783838654636848e-29, 3.8701865147589236e-30, 6.1426882781685889e-29, 9.9978146749063225e-29, 2.4924720056242233e-30, 2.8400468517962372e-29, 2.3277089512350216e-27, inf, inf, 4.1110376737599228e-28, 1.8729152600056489e-26, 6.8605901902665731e-29, 1.0693174427957236e-29, 3.1880002153085129e-29, 4.514604547130138e-27, 3.8894577404017236e-27, 2.7704143881145583e-30, inf, 7.6757367762862578e-30, 5.7001319940223624e-30, 1.8606045543642142e-28, inf, 1.4040638472742597e-29, 1.1445441907047289e-28, 1.3959496015716982e-28, inf, inf, inf, inf, inf, inf]\n",
      "[inf, 1.4628325814533513e-29, inf, 2.9871588026127766e-29, 1.9728340652400264e-29, 2.5560610818524578e-29, 4.2978094250824426e-28, 4.1932490146388539e-29, 1.8729152600056489e-26, 4.0300023210190981e-27, 2.3155004634403319e-30, 5.981219211082114e-29, 2.4885808693398316e-29, 6.0662775816666525e-27, 1.2296263856212269e-26, 5.867542486014018e-30, 2.1504820548575651e-29, 3.5247573523373048e-29, 6.8909171491247321e-29, 4.514604547130138e-27, 1.1761779592111235e-28, inf, inf, 4.7146681060831882e-29, 1.015174091721237e-29, 2.2281662091366852e-29, 4.9028516363274444e-30, 3.6979532888563727e-28, 5.2580271355548843e-30, 8.30022044106528e-29, 3.7309733731016767e-28, 1.7232338451551989e-26, 2.1526908154574119e-28, 1.7624071270334552e-29, 5.6388643110104087e-30, 3.2279061698677209e-29, 1.2090174817305673e-29, 8.2893031191353041e-29, 2.0721254616261249e-29, 1.598844328583037e-28, 1.9652009769396115e-29, inf, 7.0726939880476148e-29, 2.3757991899195111e-29, 1.1665561702183781e-29, inf, inf, inf, inf, 3.1880002153085129e-29, 6.9866498989568921e-30, 2.6592152226144492e-27, 1.6229265032561467e-29, 1.7506050172804491e-29, 2.6633833645552179e-29, 1.3114209509623686e-29, 5.1213878907515575e-27, 2.1980571087474175e-29, 4.7319148163886658e-30, 2.3277089512350216e-27, 1.4361206151977976e-28, 8.9056253046894816e-29, 1.651817457859643e-29, 9.2263181664703468e-29, 4.7470671790956808e-29, 8.6327101411213684e-29, 1.3959496015716982e-28, inf, inf, 9.6116845565968043e-30, 3.8603117874502576e-30, 1.0846052974291173e-28, 2.1073403398076297e-28, inf, 1.8191904595525637e-27, inf, inf, 2.0889964039330757e-29, inf, 2.1665512005816015e-29, 1.6459683479002006e-28, 2.1548615300751894e-29, 2.1360570584413869e-29, 3.2125635395236015e-28, inf, 7.3240176466478267e-29, 3.4679085370946764e-29, 3.5386739466557322e-28, 7.0348245140669347e-30, inf, inf, 2.8669600161812365e-29]\n",
      "[5.6380162188730425e-30, 1.3771349711775147e-28, 5.5444153576434919e-29, 1.2296263856212269e-26, 6.3789130061796299e-29, 1.4628325814533513e-29, 2.6335369521775861e-29, 5.7001319940223624e-30, 1.4361206151977976e-28, 7.9739824456582091e-30, 4.2978094250824426e-28, 7.1050007037522898e-29, 2.3277089512350216e-27, 2.7061847157368459e-29, 3.2223637041056797e-28, 3.889191764304317e-28, 1.8729152600056489e-26, 2.1980571087474175e-29, 3.7911320754663863e-29, 3.469760589725251e-29, 4.7146681060831882e-29, 8.115383649120016e-29, 4.0300023210190981e-27, inf, 8.7323987591606551e-30, 1.1445441907047289e-28, 6.9866498989568921e-30, inf, 8.30022044106528e-29, 1.8729601411154022e-27, 2.1526908154574119e-28, 1.7579531693406212e-29, inf, inf, 1.7232338451551989e-26, 1.5854448692702244e-29, 6.0298532163596837e-29, 1.5872201995595451e-29, 3.2455180305474298e-28, 1.5697181464606744e-28, 9.6116845565968043e-30, 2.2867986935177148e-30, inf, 2.6970743349704826e-29, 2.5560610818524578e-29, 1.4432430477208812e-28, 2.2553960797313035e-29, 3.1880002153085129e-29, 6.0662775816666525e-27, 6.3779407443214501e-30, inf, 5.6999407889204998e-30, inf, 3.6979532888563727e-28, 9.007055837567408e-30, 1.7265878051937423e-29, inf, 1.7312145384839118e-28, 2.0721254616261249e-29, inf, 7.0348245140669347e-30, 5.2580271355548843e-30, 4.552792110706249e-30, inf, 1.5246452035165391e-30, 5.9600390272938825e-29, 4.8440311450566748e-30, inf, 8.6334020999671077e-29, 5.9725567489392693e-30, 5.4589162970409843e-29, 1.164878506061312e-28, 1.598844328583037e-28, 4.514604547130138e-27, 7.0471589195217816e-29, 2.1073403398076297e-28, inf, inf, 2.0889964039330757e-29, inf, 6.2783058467347985e-30, inf, 5.4302711351986648e-28, 5.278108884565351e-29, 1.2317926524054446e-29, inf, 6.1577597532370642e-29, 5.1213878907515575e-27, 3.4679085370946764e-29, inf, 4.9028516363274444e-30, 1.4040638472742597e-29, inf]\n",
      "[2.7704143881145583e-30, 6.9866498989568921e-30, 3.2125635395236015e-28, 3.7309733731016767e-28, 1.3959496015716982e-28, 1.2296263856212269e-26, 2.3277089512350216e-27, 3.469760589725251e-29, 1.0817575900299858e-28, 5.2580271355548843e-30, 1.8606045543642142e-28, 7.3591743089388175e-29, 9.4056518502790118e-30, 2.6335369521775861e-29, 2.1526908154574119e-28, 3.861206094187825e-27, 1.7831587332306302e-29, 4.0300023210190981e-27, 2.0688811164270123e-29, 4.2978094250824426e-28, inf, 4.442967026774971e-29, 3.8894577404017236e-27, 5.7001319940223624e-30, inf, 1.3908443547587403e-29, 8.4792258737246062e-28, inf, 5.0222180947597743e-29, 2.0721254616261249e-29, 7.0755882920576116e-29, 8.8168509373118976e-29, 6.1426882781685889e-29, inf, 2.7061847157368459e-29, 6.0662775816666525e-27, 4.8440311450566748e-30, 1.7232338451551989e-26, inf, 8.9056253046894816e-29, 2.2281662091366852e-29, 3.8603117874502576e-30, inf, 1.0705064950222686e-29, 4.9871968560302879e-29, 6.6871325838092775e-29, 7.1050007037522898e-29, inf, 1.4361206151977976e-28, 5.1213878907515575e-27, inf, 9.6116845565968043e-30, 7.6674050682649159e-30, 1.8729152600056489e-26, inf, 6.3779407443214501e-30, 1.2090174817305673e-29, 9.2813681260735766e-28, 2.4924720056242233e-30, 7.0348245140669347e-30, 3.5247573523373048e-29, 2.6592152226144492e-27, 5.9725567489392693e-30, 4.514604547130138e-27, 3.2455180305474298e-28, inf, inf, 3.1880002153085129e-29, 7.9756776721606732e-30, 1.9722193831593858e-29, 5.4302711351986648e-28, 2.8565907288416048e-29, inf, 9.056458589958782e-29, 1.7624071270334552e-29, inf, 9.2263181664703468e-29, 2.0889964039330757e-29, 9.9978146749063225e-29, 9.707018667154733e-28, 3.6979532888563727e-28, inf, 1.722516146019952e-29, 4.9028516363274444e-30, 5.7737569971938775e-30, 1.598844328583037e-28, inf, 2.7894046905560767e-29, inf, 1.4352836549227463e-29, 9.2374420378308564e-30, inf, inf, 8.2893031191353041e-29]\n",
      "[inf, 1.8606045543642142e-28, 8.9537199585126561e-29, 3.6979532888563727e-28, 5.2580271355548843e-30, 1.350118972005513e-27, 4.7319148163886658e-30, 1.4361206151977976e-28, 8.6334020999671077e-29, 6.2585159758129627e-30, 1.4628325814533513e-29, 1.5854448692702244e-29, 2.1526908154574119e-28, 2.0721254616261249e-29, 2.2281662091366852e-29, 1.6459683479002006e-28, 3.2279061698677209e-29, 5.6388643110104087e-30, 1.0155336735377806e-28, 4.0300023210190981e-27, inf, 6.1685145679868097e-30, 1.9652009769396115e-29, 8.9056253046894816e-29, inf, 1.2296263856212269e-26, 6.0662775816666525e-27, 6.9866498989568921e-30, 1.1346980780378264e-29, 3.2223637041056797e-28, 5.5273116503054068e-29, 4.7146681060831882e-29, 2.5948134405567901e-29, 2.3757991899195111e-29, 2.5560610818524578e-29, 2.61313692850106e-29, 2.0889964039330757e-29, inf, 4.2541661493156833e-30, 9.9978146749063225e-29, inf, 4.514604547130138e-27, inf, inf, 6.4475429631204878e-29, 2.6592152226144492e-27, 5.1213878907515575e-27, 3.1444064248826612e-29, 6.1577597532370642e-29, 5.981219211082114e-29, inf, 9.007055837567408e-30, 5.7256678998563171e-28, 1.0157593230735598e-28, inf, 3.8603117874502576e-30, 2.3277089512350216e-27, 9.6116845565968043e-30, 3.1880002153085129e-29, inf, inf, 4.7470671790956808e-29, 1.1612562891285563e-28, 7.8533066132960735e-28, 2.6410199760382325e-29, 1.9728340652400264e-29, 1.7232338451551989e-26, 8.7323987591606551e-30, inf, 2.6970743349704826e-29, 1.8729152600056489e-26, 1.6758586539442031e-29, 3.2125635395236015e-28, inf, 3.889191764304317e-28, 1.7579531693406212e-29, 3.2455180305474298e-28, inf, inf, inf, 1.7442711545934858e-29, 6.3492441495995817e-28, 2.1548615300751894e-29, inf, inf, inf, 4.9028516363274444e-30, inf, 6.3779407443214501e-30, 1.6242834009961627e-24, 8.30022044106528e-29, inf, inf, inf, 3.4679085370946764e-29]\n",
      "[1.9374872055687713e-28, 1.6459683479002006e-28, 2.3742673060278359e-28, 1.3114209509623686e-29, 3.6979532888563727e-28, 2.0889964039330757e-29, 5.9725567489392693e-30, 1.0157593230735598e-28, 1.2199252101245592e-29, 8.6327101411213684e-29, 2.5119152526764097e-29, 5.7968295680967002e-27, 1.2296263856212269e-26, 1.9652009769396115e-29, 2.6592152226144492e-27, 5.1014192993185845e-28, 1.4361206151977976e-28, 4.9106679700694687e-29, 8.115383649120016e-29, 1.0053869280888458e-29, 3.1880002153085129e-29, 2.2281662091366852e-29, inf, 1.6758586539442031e-29, 2.0721254616261249e-29, inf, 3.8894577404017236e-27, 2.5560610818524578e-29, 4.6988800122375524e-29, 2.6970743349704826e-29, inf, inf, inf, 5.2580271355548843e-30, 6.9866498989568921e-30, 1.4352836549227463e-29, 1.7232338451551989e-26, 2.3155004634403319e-30, inf, 1.2800215549523476e-29, 7.5593861379374516e-29, 1.3338001401091921e-29, 4.0614406328593928e-28, 1.1346980780378264e-29, 2.3277089512350216e-27, 7.6783838654636848e-29, inf, inf, 3.8603117874502576e-30, inf, 7.7661376057976981e-29, 2.6335369521775861e-29, 6.0662775816666525e-27, inf, 3.7911320754663863e-29, 2.0147302115560993e-29, 5.7001319940223624e-30, 1.3959496015716982e-28, 1.4432430477208812e-28, 1.8729152600056489e-26, inf, 6.6871325838092775e-29, 4.514604547130138e-27, inf, 3.889191764304317e-28, 1.0247603857438203e-29, 3.1444064248826612e-29, 2.1526908154574119e-28, inf, 3.2455180305474298e-28, inf, 5.981219211082114e-29, 1.4769010270007258e-29, 9.2813681260735766e-28, 4.9028516363274444e-30, inf, 4.9332414771567054e-30, inf, 5.4589162970409843e-29, inf, inf, 1.0262856692878683e-27, 4.0300023210190981e-27, 3.6383277886076644e-29, 8.30022044106528e-29, 5.1213878907515575e-27, inf, inf, 6.0340244637655407e-29, inf, inf, 2.1751545693802346e-29, 3.5180418935492563e-27, inf, 7.5223563232605096e-30, 6.4475429631204878e-29]\n",
      "[2.0721254616261249e-29, 2.1548615300751894e-29, inf, inf, inf, 3.1444064248826612e-29, 8.3105876690488435e-28, 1.8729152600056489e-26, 4.0300023210190981e-27, 5.4589162970409843e-29, 3.861206094187825e-27, 4.8974322986129948e-29, 2.8266475237578344e-30, inf, 1.0085416605322117e-29, 6.0361679865690724e-29, 7.1050007037522898e-29, 1.2296263856212269e-26, 4.7146681060831882e-29, 3.889191764304317e-28, 8.115383649120016e-29, 2.6335369521775861e-29, 6.3779407443214501e-30, inf, 2.2867986935177148e-30, 6.6365904113112643e-29, 5.7684174039994914e-30, 1.0295972387437578e-29, inf, 6.4157286269874052e-30, 1.9652009769396115e-29, 4.9106679700694687e-29, 1.4361206151977976e-28, 1.2323944152524606e-29, 9.2813681260735766e-28, 2.1526908154574119e-28, 3.268284595079078e-29, 3.1880002153085129e-29, 3.2455180305474298e-28, 1.9728340652400264e-29, inf, 2.6970743349704826e-29, 1.7232338451551989e-26, 1.2199252101245592e-29, 4.514604547130138e-27, 2.3277089512350216e-27, 1.0157593230735598e-28, 6.9866498989568921e-30, 2.6592152226144492e-27, inf, inf, inf, 5.0880684849347218e-28, 6.0628977597848794e-28, 4.17969362413786e-28, 6.0662775816666525e-27, 1.3959496015716982e-28, 5.7001319940223624e-30, 1.4647193902803817e-29, 1.6758586539442031e-29, 1.4432430477208812e-28, 6.6871325838092775e-29, inf, 1.6525856256296467e-29, inf, 1.3554440913635859e-27, inf, 2.0889964039330757e-29, inf, inf, 3.0486744983494521e-29, 6.1426882781685889e-29, 4.9028516363274444e-30, 9.1482740950015322e-29, 3.7911320754663863e-29, inf, 1.6459683479002006e-28, 5.2580271355548843e-30, inf, 5.1213878907515575e-27, 1.2090174817305673e-29, 9.056458589958782e-29, inf, 3.5180418935492563e-27, 7.5223563232605096e-30, 2.9161886811301789e-29, 3.6979532888563727e-28, inf, inf, 3.8651231600675883e-28, 6.2783058467347985e-30, inf, 5.7737569971938775e-30, 1.7312145384839118e-28, inf, 8.30022044106528e-29, 5.0222180947597743e-29]\n",
      "[2.1526908154574119e-28, 1.115626031143351e-27, 6.9616047897868552e-29, 3.7911320754663863e-29, 1.1445441907047289e-28, 5.2580271355548843e-30, 5.9725567489392693e-30, 2.0619247132548976e-28, 9.4056518502790118e-30, 5.7001319940223624e-30, 6.5367959525818776e-30, 1.325407979779524e-29, 6.1426882781685889e-29, 1.2296263856212269e-26, 1.4432430477208812e-28, 6.0662775816666525e-27, 1.4361206151977976e-28, 2.2281662091366852e-29, 2.2570827754114039e-29, 4.0300023210190981e-27, 1.3241063815199471e-29, 4.7146681060831882e-29, 2.8204642217538916e-30, 1.3959496015716982e-28, 2.1548615300751894e-29, inf, 3.2223637041056797e-28, 2.0993924340027148e-28, inf, 1.6687777997026547e-29, 4.9106679700694687e-29, 1.7232338451551989e-26, 6.2783058467347985e-30, 5.1213878907515575e-27, inf, 1.9652009769396115e-29, inf, 6.9866498989568921e-30, inf, 1.6459683479002006e-28, inf, 7.1050007037522898e-29, 1.1834077052845392e-29, 4.442967026774971e-29, 2.86614440859601e-29, 1.8729152600056489e-26, 6.0340244637655407e-29, 5.0981182466162295e-28, inf, 2.1980571087474175e-29, 2.6335369521775861e-29, 2.8400468517962372e-29, 3.5180418935492563e-27, 3.0580501300278355e-29, 2.6592152226144492e-27, 4.514604547130138e-27, 9.2263181664703468e-29, inf, 6.1968853433253112e-29, inf, 6.3779407443214501e-30, inf, inf, inf, 3.2125635395236015e-28, 5.0880684849347218e-28, 6.1577597532370642e-29, 1.0549797506428504e-27, 4.3268868627933407e-27, 3.889191764304317e-28, 3.5247573523373048e-29, inf, inf, 5.7684174039994914e-30, 2.6633833645552179e-29, 3.1880002153085129e-29, inf, 2.4359170260497977e-28, 5.9223036596727279e-29, 2.0889964039330757e-29, inf, 5.981219211082114e-29, 8.30022044106528e-29, 5.7737569971938775e-30, 2.1073403398076297e-28, 4.9028516363274444e-30, inf, inf, 8.115383649120016e-29, inf, inf, 3.4679085370946764e-29, inf, 1.7312145384839118e-28, 1.1035639109548252e-28, inf, inf, inf]\n",
      "[inf, 2.2262697684396726e-27, 9.9496887408975056e-29, inf, 2.0889964039330757e-29, inf, 1.4361206151977976e-28, 7.9739824456582091e-30, 2.6335369521775861e-29, 5.7001319940223624e-30, 1.0374989803380903e-28, 7.1050007037522898e-29, 4.0614406328593928e-28, 9.6732808601126789e-30, 1.6229265032561467e-29, inf, 1.2296263856212269e-26, 3.6979532888563727e-28, 3.268284595079078e-29, 2.0721254616261249e-29, 3.2223637041056797e-28, 1.7232338451551989e-26, 4.0300023210190981e-27, 1.4432430477208812e-28, 5.0880684849347218e-28, 2.2553960797313035e-29, 6.9866498989568921e-30, 2.1980571087474175e-29, 1.3268016574823222e-29, 4.7146681060831882e-29, 1.9722193831593858e-29, 7.5593861379374516e-29, 2.2281662091366852e-29, inf, 2.61313692850106e-29, inf, 5.5273116503054068e-29, 2.8204642217538916e-30, inf, inf, 4.9028516363274444e-30, inf, 2.6592152226144492e-27, 3.5224499556972195e-29, 6.0662775816666525e-27, 3.1444064248826612e-29, 6.1577597532370642e-29, 3.1880002153085129e-29, 2.9834821959035638e-28, 2.3277089512350216e-27, 5.9725567489392693e-30, 1.0157593230735598e-28, inf, 2.1526908154574119e-28, 1.8729152600056489e-26, 1.0247603857438203e-29, 5.1213878907515575e-27, 1.3959496015716982e-28, 1.9652009769396115e-29, 5.981219211082114e-29, inf, inf, 1.3908443547587403e-29, inf, 6.1426882781685889e-29, 1.4447144960301696e-29, 4.514604547130138e-27, inf, 6.6871325838092775e-29, 3.2455180305474298e-28, 8.9056253046894816e-29, inf, 9.2813681260735766e-28, 6.2783058467347985e-30, 5.2580271355548843e-30, 6.3779407443214501e-30, 2.9823928877797381e-29, 1.0305790910728228e-29, inf, 8.115383649120016e-29, 3.1530697714753893e-29, inf, inf, 5.7737569971938775e-30, 3.2125635395236015e-28, 3.4679085370946764e-29, inf, 6.0340244637655407e-29, 1.7509499421245201e-28, 2.4303297679760431e-29, 1.7624071270334552e-29, 1.5224370185373414e-29, 8.30022044106528e-29, inf, inf, inf, 2.1548615300751894e-29, inf, 2.5409616769011845e-28]\n"
     ]
    },
    {
     "name": "stderr",
     "output_type": "stream",
     "text": [
      "/anaconda/lib/python2.7/site-packages/IPython/kernel/__main__.py:29: RuntimeWarning: divide by zero encountered in double_scalars\n"
     ]
    }
   ],
   "source": [
    "avrg = open('avrg_dens.txt', 'a')\n",
    "for k in k_range:\n",
    "#     debug(\"{} clusters test\".format(k))\n",
    "    clf = KMeans(n_clusters=k)\n",
    "#     debug(np.shape(train[:,2:]))\n",
    "    clf.fit(train[:,2:])#ignoring idx and mass\n",
    "    centers=clf.cluster_centers_\n",
    "    labels = clf.labels_\n",
    "    #Density calculation for each cluster\n",
    "    densities =[]\n",
    "    if k ==1:\n",
    "        density =0 #undefined density for point mass (single cluster)\n",
    "    else:\n",
    "        for i in np.arange(k):\n",
    "            numerator = 0\n",
    "            n_tot = 0\n",
    "            N=len(np.where(labels==i)[0])\n",
    "    #             if np.linalg.norm(train[pcl_idx][2:]-centers[i])!=0:\n",
    "            for pcl_idx in np.where(labels==i)[0]:\n",
    "    #                 if i ==27: print \"dist: \",np.linalg.norm(train[pcl_idx][2:]-centers[i])\n",
    "                numerator += np.linalg.norm(train[pcl_idx][2:]-centers[i])\n",
    "    #             if numerator ==0 : print i , numerator\n",
    "    #             if i ==27: print \"numerator: \" , numerator\n",
    "            rad =numerator/N\n",
    "            volume = (4./3.*np.pi*rad**3)\n",
    "    #             if rad ==0 : print i , rad\n",
    "    #             print volume\n",
    "            mass = 2.75491975e43 * N\n",
    "            density = mass / volume\n",
    "            densities.append(density)\n",
    "    print densities\n",
    "    avrg.write(str(mean(densities))+\"\\n\")\n",
    "    np.savetxt(\"density{}.txt\".format(k),densities)\n",
    "    np.savetxt(\"centers{}.txt\".format(k),centers)\n",
    "    np.savetxt(\"labels{}.txt\".format(k),labels)\n",
    "avrg.close()"
   ]
  },
  {
   "cell_type": "raw",
   "metadata": {},
   "source": [
    "dist:  3.03896628808e+24\n",
    "dist:  2.50707897896e+24\n",
    "numerator:  9.320818795e+24\n",
    "dist:  0.0\n",
    "numerator:  0.0\n",
    "dist:  3.69289944251e+24\n",
    "dist:  1.04552986173e+24\n",
    "dist:  2.18617083729e+24\n",
    "dist:  2.45724935617e+24\n",
    "numerator:  9.38184949771e+24\n",
    "dist:  1.46930049465e+24\n",
    "dist:  2.53482112658e+24\n",
    "dist:  1.92995122638e+24\n",
    "dist:  1.32453130998e+24\n",
    "dist:  3.07229673176e+23\n",
    "dist:  2.17332153846e+24\n",
    "dist:  1.32309335201e+24\n",
    "dist:  1.58392052364e+24\n",
    "dist:  7.26432078105e+23\n",
    "dist:  1.65332191163e+24\n",
    "dist:  1.11281080411e+24\n",
    "dist:  1.28655045058e+24\n",
    "dist:  1.42869699773e+24\n",
    "numerator:  1.8853981487e+25\n",
    "dist:  2.16025200907e+24"
   ]
  },
  {
   "cell_type": "markdown",
   "metadata": {},
   "source": [
    "Look like there are just some zero particle clusters that have zero, these are bad we should just throw them away and not count their densitiies because they are just an artifact"
   ]
  },
  {
   "cell_type": "code",
   "execution_count": 3,
   "metadata": {
    "collapsed": false
   },
   "outputs": [
    {
     "data": {
      "image/png": "[encoded data removed]",
      "text/plain": [
       "<matplotlib.figure.Figure at 0x7f8686191fd0>"
      ]
     },
     "metadata": {},
     "output_type": "display_data"
    }
   ],
   "source": [
    "def verify_rad_calc(n_cluster,rcm,rad):\n",
    "    fig  = plt.figure()\n",
    "    plt.title(\"xy projection for n_cluster = {}\".format(n_cluster),fontsize=15)\n",
    "#     plt.plot(centers[:,0], centers[:,1],'o')\n",
    "    plt.plot(rcm[0],rcm[1],\"x\", color = \"red\", markersize=13)\n",
    "    circle1 = plt.Circle((rcm[0],rcm[1]),rad,color='g',fill=False)\n",
    "    fig.gca().add_artist(circle1)\n",
    "    plt.xlabel(\"X\",fontsize=13)\n",
    "    plt.ylabel(\"Y\",fontsize=13)\n",
    "    axes().set_aspect('equal', 'datalim')\n",
    "    plt.show()\n",
    "verify_rad_calc(1,[1,1],0.01)"
   ]
  },
  {
   "cell_type": "code",
   "execution_count": 5,
   "metadata": {
    "collapsed": false
   },
   "outputs": [],
   "source": [
    "# np.linalg.norm(train[pcl_idx][2:]-centers[i])a"
   ]
  },
  {
   "cell_type": "code",
   "execution_count": 47,
   "metadata": {
    "collapsed": false
   },
   "outputs": [
    {
     "data": {
      "text/plain": [
       "array([  3.06600000e+03,   2.75491975e+43,  -1.13265316e+26])"
      ]
     },
     "execution_count": 47,
     "metadata": {},
     "output_type": "execute_result"
    }
   ],
   "source": [
    "train[pcl_idx][:3]"
   ]
  },
  {
   "cell_type": "code",
   "execution_count": 40,
   "metadata": {
    "collapsed": false
   },
   "outputs": [
    {
     "data": {
      "text/plain": [
       "array([ -1.29986298e+26,  -1.10538461e+26,  -1.37329221e+26])"
      ]
     },
     "execution_count": 40,
     "metadata": {},
     "output_type": "execute_result"
    }
   ],
   "source": [
    "centers[1]"
   ]
  },
  {
   "cell_type": "code",
   "execution_count": 52,
   "metadata": {
    "collapsed": false
   },
   "outputs": [
    {
     "data": {
      "text/plain": [
       "array([ -1.19231835e+26,  -1.39234029e+26,  -1.37641928e+26])"
      ]
     },
     "execution_count": 52,
     "metadata": {},
     "output_type": "execute_result"
    }
   ],
   "source": [
    "train[1][2:] #x y z position for particle 1 "
   ]
  },
  {
   "cell_type": "code",
   "execution_count": 68,
   "metadata": {
    "collapsed": false
   },
   "outputs": [],
   "source": [
    "# dens = np.loadtxt(\"densities.txt\")\n",
    "avrage= np.loadtxt(\"avrg_dens.txt\")"
   ]
  },
  {
   "cell_type": "code",
   "execution_count": 69,
   "metadata": {
    "collapsed": false
   },
   "outputs": [
    {
     "data": {
      "text/plain": [
       "(1441,)"
      ]
     },
     "execution_count": 69,
     "metadata": {},
     "output_type": "execute_result"
    }
   ],
   "source": [
    "shape(avrage)"
   ]
  },
  {
   "cell_type": "code",
   "execution_count": 70,
   "metadata": {
    "collapsed": false
   },
   "outputs": [
    {
     "data": {
      "text/plain": [
       "array([             nan,   5.16216988e-30,   6.32417743e-30, ...,\n",
       "                    inf,              inf,              inf])"
      ]
     },
     "execution_count": 70,
     "metadata": {},
     "output_type": "execute_result"
    }
   ],
   "source": [
    "avrage"
   ]
  },
  {
   "cell_type": "code",
   "execution_count": 72,
   "metadata": {
    "collapsed": false
   },
   "outputs": [
    {
     "data": {
      "text/plain": [
       "[<matplotlib.lines.Line2D at 0x7f2e719cd9d0>]"
      ]
     },
     "execution_count": 72,
     "metadata": {},
     "output_type": "execute_result"
    },
    {
     "data": {
      "image/png": "[encoded data removed]",
      "text/plain": [
       "<matplotlib.figure.Figure at 0x7f2e718f9c90>"
      ]
     },
     "metadata": {},
     "output_type": "display_data"
    }
   ],
   "source": [
    "plt.plot(avrage)"
   ]
  },
  {
   "cell_type": "code",
   "execution_count": null,
   "metadata": {
    "collapsed": true
   },
   "outputs": [],
   "source": []
  }
 ],
 "metadata": {
  "kernelspec": {
   "display_name": "Python 2",
   "language": "python",
   "name": "python2"
  },
  "language_info": {
   "codemirror_mode": {
    "name": "ipython",
    "version": 2
   },
   "file_extension": ".py",
   "mimetype": "text/x-python",
   "name": "python",
   "nbconvert_exporter": "python",
   "pygments_lexer": "ipython2",
   "version": "2.7.10"
  }
 },
 "nbformat": 4,
 "nbformat_minor": 0
}
