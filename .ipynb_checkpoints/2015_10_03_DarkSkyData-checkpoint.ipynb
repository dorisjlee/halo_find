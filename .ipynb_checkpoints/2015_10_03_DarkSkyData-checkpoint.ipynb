{
 "cells": [
  {
   "cell_type": "code",
   "execution_count": 1,
   "metadata": {
    "collapsed": false
   },
   "outputs": [
    {
     "name": "stdout",
     "output_type": "stream",
     "text": [
      "Populating the interactive namespace from numpy and matplotlib\n"
     ]
    }
   ],
   "source": [
    "%pylab inline"
   ]
  },
  {
   "cell_type": "code",
   "execution_count": 2,
   "metadata": {
    "collapsed": true
   },
   "outputs": [],
   "source": [
    "import yt"
   ]
  },
  {
   "cell_type": "code",
   "execution_count": 3,
   "metadata": {
    "collapsed": false
   },
   "outputs": [
    {
     "name": "stdout",
     "output_type": "stream",
     "text": [
      "/global/project/projectdirs/astro250/doris/halo/yt-dark\n"
     ]
    }
   ],
   "source": [
    "cd /project/projectdirs/astro250/doris/halo/yt-dark/"
   ]
  },
  {
   "cell_type": "code",
   "execution_count": 4,
   "metadata": {
    "collapsed": false
   },
   "outputs": [
    {
     "name": "stdout",
     "output_type": "stream",
     "text": [
      "/global/project/projectdirs/astro250/doris/halo/yt-dark/darksky_catalog\n"
     ]
    }
   ],
   "source": [
    "cd darksky_catalog/"
   ]
  },
  {
   "cell_type": "code",
   "execution_count": 6,
   "metadata": {
    "collapsed": false
   },
   "outputs": [
    {
     "ename": "ImportError",
     "evalue": "No module named thingking",
     "output_type": "error",
     "traceback": [
      "\u001b[1;31m---------------------------------------------------------------------------\u001b[0m",
      "\u001b[1;31mImportError\u001b[0m                               Traceback (most recent call last)",
      "\u001b[1;32m<ipython-input-6-082613500b86>\u001b[0m in \u001b[0;36m<module>\u001b[1;34m()\u001b[0m\n\u001b[0;32m      3\u001b[0m \u001b[1;31m# from enhance import enhance\u001b[0m\u001b[1;33m\u001b[0m\u001b[1;33m\u001b[0m\u001b[0m\n\u001b[0;32m      4\u001b[0m \u001b[1;32mfrom\u001b[0m \u001b[0myt\u001b[0m\u001b[1;33m.\u001b[0m\u001b[0mutilities\u001b[0m\u001b[1;33m.\u001b[0m\u001b[0mlib\u001b[0m\u001b[1;33m.\u001b[0m\u001b[0mimage_utilities\u001b[0m \u001b[1;32mimport\u001b[0m \u001b[0madd_rgba_points_to_image\u001b[0m\u001b[1;33m\u001b[0m\u001b[0m\n\u001b[1;32m----> 5\u001b[1;33m \u001b[1;32mfrom\u001b[0m \u001b[0mdarksky_catalog\u001b[0m \u001b[1;32mimport\u001b[0m \u001b[0mdarksky\u001b[0m\u001b[1;33m\u001b[0m\u001b[0m\n\u001b[0m\u001b[0;32m      6\u001b[0m \u001b[1;33m\u001b[0m\u001b[0m\n\u001b[0;32m      7\u001b[0m \u001b[1;31m# Define a bounding box of 100 Mpc on a side.\u001b[0m\u001b[1;33m\u001b[0m\u001b[1;33m\u001b[0m\u001b[0m\n",
      "\u001b[1;32m/global/project/projectdirs/astro250/doris/halo/yt-dark/darksky_catalog/darksky_catalog/__init__.py\u001b[0m in \u001b[0;36m<module>\u001b[1;34m()\u001b[0m\n\u001b[1;32m----> 1\u001b[1;33m \u001b[1;32mfrom\u001b[0m \u001b[1;33m.\u001b[0m\u001b[0mcatalog\u001b[0m \u001b[1;32mimport\u001b[0m \u001b[0mDarkSkyCatalog\u001b[0m\u001b[1;33m,\u001b[0m \u001b[0mdarksky\u001b[0m\u001b[1;33m\u001b[0m\u001b[0m\n\u001b[0m\u001b[0;32m      2\u001b[0m \u001b[1;32mfrom\u001b[0m \u001b[1;33m.\u001b[0m\u001b[0mdataset\u001b[0m \u001b[1;32mimport\u001b[0m \u001b[0mDarkSkyDataset\u001b[0m\u001b[1;33m\u001b[0m\u001b[0m\n",
      "\u001b[1;32m/global/project/projectdirs/astro250/doris/halo/yt-dark/darksky_catalog/darksky_catalog/catalog.py\u001b[0m in \u001b[0;36m<module>\u001b[1;34m()\u001b[0m\n\u001b[0;32m      3\u001b[0m \u001b[1;31m# within it.\u001b[0m\u001b[1;33m\u001b[0m\u001b[1;33m\u001b[0m\u001b[0m\n\u001b[0;32m      4\u001b[0m \u001b[1;32mimport\u001b[0m \u001b[0mjson\u001b[0m\u001b[1;33m\u001b[0m\u001b[0m\n\u001b[1;32m----> 5\u001b[1;33m \u001b[1;32mimport\u001b[0m \u001b[0mthingking\u001b[0m\u001b[1;33m\u001b[0m\u001b[0m\n\u001b[0m\u001b[0;32m      6\u001b[0m \u001b[1;32mfrom\u001b[0m \u001b[1;33m.\u001b[0m\u001b[0mdataset\u001b[0m \u001b[1;32mimport\u001b[0m \u001b[0mDarkSkyDataset\u001b[0m\u001b[1;33m\u001b[0m\u001b[0m\n\u001b[0;32m      7\u001b[0m \u001b[1;33m\u001b[0m\u001b[0m\n",
      "\u001b[1;31mImportError\u001b[0m: No module named thingking"
     ]
    }
   ],
   "source": [
    "import yt\n",
    "import numpy as np\n",
    "# from enhance import enhance\n",
    "from yt.utilities.lib.image_utilities import add_rgba_points_to_image\n",
    "from darksky_catalog import darksky\n",
    "\n",
    "# Define a bounding box of 100 Mpc on a side.\n",
    "center = np.array([-2505805.31114929,  -3517306.7572399, -1639170.70554688])\n",
    "width = 50.0e3 # 5 Mpc\n",
    "bbox = np.array([center-width/2, center+width/2])\n",
    "\n",
    "ds = darksky['ds14_a'].load(midx=10, bounding_box=bbox)\n",
    "\n",
    "ad = ds.all_data()\n",
    "Npix = 1024\n",
    "image = np.zeros([Npix, Npix, 4], dtype='float64')\n",
    "\n",
    "cbx = yt.visualization.color_maps.mcm.RdBu\n",
    "col_field = ad['particle_velocity_z']\n",
    "\n",
    "# Calculate image coordinates ix and iy based on what your view width is\n",
    "ix = (ad['particle_position_x'] - ds.domain_left_edge[0])/ds.domain_width[0]\n",
    "iy = (ad['particle_position_y'] - ds.domain_left_edge[1])/ds.domain_width[1]\n",
    "\n",
    "# Normalize the color field so that it doesn't get maxed out\n",
    "col_field = (col_field - col_field.min()) / (col_field.mean() + 4*col_field.std() - col_field.min())\n",
    "add_rgba_points_to_image(image, ix.astype('float64'), iy.astype('float64'), cbx(col_field))\n",
    "  \n",
    "# # Write out a color-enhanced image\n",
    "# yt.write_bitmap(enhance(image), 'enhanced.png')\n",
    "# print 'Splatted %i particles' % ad['particle_position_x'].size"
   ]
  },
  {
   "cell_type": "code",
   "execution_count": 12,
   "metadata": {
    "collapsed": false
   },
   "outputs": [
    {
     "name": "stdout",
     "output_type": "stream",
     "text": [
      "\u001b[0m\u001b[01;34mbuild\u001b[0m/       \u001b[01;34mdarksky_catalog\u001b[0m/     hdf5.cfg     \u001b[01;34mscripts\u001b[0m/   \u001b[01;34myt.egg-info\u001b[0m/\r\n",
      "CITATION     \u001b[01;34mdarksky_tour\u001b[0m/        MANIFEST.in  setup.cfg\r\n",
      "clean.sh     \u001b[01;34mdist\u001b[0m/                nose.cfg     setup.py\r\n",
      "COPYING.txt  distribute_setup.py  png.cfg      \u001b[01;34mtests\u001b[0m/\r\n",
      "CREDITS      \u001b[01;34mdoc\u001b[0m/                 README       \u001b[01;34myt\u001b[0m/\r\n",
      "\u001b[m"
     ]
    }
   ],
   "source": [
    "ls"
   ]
  },
  {
   "cell_type": "code",
   "execution_count": null,
   "metadata": {
    "collapsed": true
   },
   "outputs": [],
   "source": []
  }
 ],
 "metadata": {
  "kernelspec": {
   "display_name": "Python 2",
   "language": "python",
   "name": "python2"
  },
  "language_info": {
   "codemirror_mode": {
    "name": "ipython",
    "version": 2
   },
   "file_extension": ".py",
   "mimetype": "text/x-python",
   "name": "python",
   "nbconvert_exporter": "python",
   "pygments_lexer": "ipython2",
   "version": "2.7.10"
  }
 },
 "nbformat": 4,
 "nbformat_minor": 0
}
