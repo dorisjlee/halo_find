{
 "cells": [
  {
   "cell_type": "code",
   "execution_count": 1,
   "metadata": {
    "collapsed": false
   },
   "outputs": [
    {
     "name": "stdout",
     "output_type": "stream",
     "text": [
      "Populating the interactive namespace from numpy and matplotlib\n"
     ]
    }
   ],
   "source": [
    "%pylab inline"
   ]
  },
  {
   "cell_type": "code",
   "execution_count": 2,
   "metadata": {
    "collapsed": false
   },
   "outputs": [
    {
     "name": "stdout",
     "output_type": "stream",
     "text": [
      "[  100  1100  2100  3100  4100  5100  6100  7100  8100  9100 10100 11100\n",
      " 12100 13100 15000 16000 17000 18000 19000 20000 21000 22000 23000 24000\n",
      " 25000 26000 30000 35000 40000]\n"
     ]
    }
   ],
   "source": [
    "import glob\n",
    "k_range = []\n",
    "for i in glob.glob(\"minibatch_kmeans2/data_output/density*.txt\"): \n",
    "    k_range.append(int(i.split(\".\")[0][37:])) \n",
    "k_range=sort(k_range)\n",
    "print k_range"
   ]
  },
  {
   "cell_type": "code",
   "execution_count": 4,
   "metadata": {
    "collapsed": false
   },
   "outputs": [
    {
     "data": {
      "image/png": "[encoded data removed]",
      "text/plain": [
       "<matplotlib.figure.Figure at 0x7f705a254fd0>"
      ]
     },
     "metadata": {},
     "output_type": "display_data"
    }
   ],
   "source": [
    "import os\n",
    "import glob\n",
    "avrg_densities=[]\n",
    "# k_range1=np.arange(100,14100,1000)\n",
    "# k_range2=np.arange(15000,19000,1000)\n",
    "# k_range = np.concatenate([k_range1,k_range2],axis=0)\n",
    "for n in k_range:\n",
    "    avrg_densities.append(mean(np.loadtxt(\"minibatch_kmeans2/data_output/density{}.txt\".format(n))))\n",
    "plt.plot(k_range,avrg_densities)\n",
    "plt.plot(k_range,avrg_densities,'o',color = 'red')\n",
    "plt.xlabel(\"number of clusters\",fontsize=13)\n",
    "plt.ylabel(\"Average Density\",fontsize=13)\n",
    "plt.legend(loc='upper left',prop={'size':12},numpoints=1)"
   ]
  },
  {
   "cell_type": "markdown",
   "metadata": {},
   "source": [
    "Need to do timing interpolation to figure out how long exactly the 2M sample would take on average "
   ]
  },
  {
   "cell_type": "code",
   "execution_count": 5,
   "metadata": {
    "collapsed": false
   },
   "outputs": [
    {
     "data": {
      "text/plain": [
       "u'/global/project/projectdirs/astro250/doris/halo/halo_find'"
      ]
     },
     "execution_count": 5,
     "metadata": {},
     "output_type": "execute_result"
    }
   ],
   "source": [
    "pwd"
   ]
  },
  {
   "cell_type": "code",
   "execution_count": 17,
   "metadata": {
    "collapsed": false,
    "scrolled": false
   },
   "outputs": [
    {
     "name": "stdout",
     "output_type": "stream",
     "text": [
      "[367.104830027, 434.081164837, 258.846617937, 362.911755085, 499.696087837, 661.776847124, 859.067950964, 1090.79213095, 1409.54032397]\n",
      "[1100.0, 2100.0, 3100.0, 4100.0, 5100.0, 6100.0, 7100.0, 8100.0, 9100.0]\n"
     ]
    }
   ],
   "source": [
    "k_range_with_time=[]\n",
    "kmeans_time = []\n",
    "for i in glob.glob(\"minibatch_kmeans2/pbs_output/*.out\"):\n",
    "    with open(i, 'r+') as f:\n",
    "        lines = f.readlines()\n",
    "        kval = 0\n",
    "        for i in range(0, len(lines)):\n",
    "#             print lines[i]\n",
    "#             if lines[i][14:]==\"test\": #cluster number \n",
    "            if str(lines[i][14:18])==\"test\":\n",
    "#                 k_range_with_time.append(float(lines[i][:5]))\n",
    "#                 print lines[i]\n",
    "                kval = float(lines[i][:5])\n",
    "            if (lines[i][:4]==\"Time\") and (kval!=0):\n",
    "#                 print lines[i]\n",
    "                k_range_with_time.append(kval)\n",
    "                kmeans_time.append(float(lines[i][5:]))\n",
    "                kval =0\n",
    "print kmeans_time\n",
    "print k_range_with_time"
   ]
  },
  {
   "cell_type": "code",
   "execution_count": 18,
   "metadata": {
    "collapsed": false
   },
   "outputs": [
    {
     "data": {
      "text/plain": [
       "[<matplotlib.lines.Line2D at 0x7f7059df4bd0>]"
      ]
     },
     "execution_count": 18,
     "metadata": {},
     "output_type": "execute_result"
    },
    {
     "data": {
      "image/png": "[encoded data removed]",
      "text/plain": [
       "<matplotlib.figure.Figure at 0x7f7074a23110>"
      ]
     },
     "metadata": {},
     "output_type": "display_data"
    }
   ],
   "source": [
    "plt.plot(k_range_with_time,kmeans_time)"
   ]
  },
  {
   "cell_type": "markdown",
   "metadata": {},
   "source": [
    "Its kind of impossibel to predict how long it would take except trying it because this data is just for 1M specifically also k is different. Also the krange in scaltest is wrong now because you assumed 10M which is absurd"
   ]
  },
  {
   "cell_type": "code",
   "execution_count": 22,
   "metadata": {
    "collapsed": false
   },
   "outputs": [
    {
     "name": "stderr",
     "output_type": "stream",
     "text": [
      "yt : [INFO     ] 2015-11-16 21:36:13,743 Calculating time to be 4.344e+17 seconds\n",
      "yt : [INFO     ] 2015-11-16 21:36:13,764 Parameters: current_time              = 4.3437787319e+17\n",
      "yt : [INFO     ] 2015-11-16 21:36:13,764 Parameters: domain_dimensions         = [2 2 2]\n",
      "yt : [INFO     ] 2015-11-16 21:36:13,765 Parameters: domain_left_edge          = [-45417.41686962 -45417.41686962 -45417.41686962]\n",
      "yt : [INFO     ] 2015-11-16 21:36:13,766 Parameters: domain_right_edge         = [ 45417.41686962  45417.41686962  45417.41686962]\n",
      "yt : [INFO     ] 2015-11-16 21:36:13,767 Parameters: cosmological_simulation   = 1\n",
      "yt : [INFO     ] 2015-11-16 21:36:13,768 Parameters: current_redshift          = 2.48886713461e-08\n",
      "yt : [INFO     ] 2015-11-16 21:36:13,768 Parameters: omega_lambda              = 0.704962\n",
      "yt : [INFO     ] 2015-11-16 21:36:13,768 Parameters: omega_matter              = 0.295038\n",
      "yt : [INFO     ] 2015-11-16 21:36:13,769 Parameters: hubble_constant           = 0.688062\n",
      "yt : [INFO     ] 2015-11-16 21:36:13,774 Allocating for 2.097e+06 particles\n",
      "yt : [INFO     ] 2015-11-16 21:36:14,085 Identified 1.732e+05 octs\n",
      "yt : [INFO     ] 2015-11-16 21:36:14,202 Loading field plugins.\n",
      "yt : [INFO     ] 2015-11-16 21:36:14,203 Loaded angular_momentum (8 new fields)\n",
      "yt : [INFO     ] 2015-11-16 21:36:14,203 Loaded astro (15 new fields)\n",
      "yt : [INFO     ] 2015-11-16 21:36:14,204 Loaded cosmology (22 new fields)\n",
      "yt : [INFO     ] 2015-11-16 21:36:14,204 Loaded fluid (64 new fields)\n",
      "yt : [INFO     ] 2015-11-16 21:36:14,205 Loaded fluid_vector (96 new fields)\n",
      "yt : [INFO     ] 2015-11-16 21:36:14,206 Loaded geometric (112 new fields)\n",
      "yt : [INFO     ] 2015-11-16 21:36:14,206 Loaded local (112 new fields)\n",
      "yt : [INFO     ] 2015-11-16 21:36:14,207 Loaded magnetic_field (120 new fields)\n",
      "yt : [INFO     ] 2015-11-16 21:36:14,207 Loaded my_plugins (120 new fields)\n",
      "yt : [INFO     ] 2015-11-16 21:36:14,208 Loaded species (122 new fields)\n"
     ]
    },
    {
     "data": {
      "text/plain": [
       "(2097152,)"
      ]
     },
     "execution_count": 22,
     "metadata": {},
     "output_type": "execute_result"
    }
   ],
   "source": [
    "import yt\n",
    "ds = yt.load(\"../ds14_scivis_0128_e4_dt04_1.0000\")\n",
    "ad = ds.all_data()\n",
    "x = ad[(\"all\",\"particle_position_x\")]\n",
    "shape(x)"
   ]
  },
  {
   "cell_type": "markdown",
   "metadata": {},
   "source": [
    "for the 2M dataset "
   ]
  },
  {
   "cell_type": "code",
   "execution_count": 24,
   "metadata": {
    "collapsed": false
   },
   "outputs": [
    {
     "name": "stdout",
     "output_type": "stream",
     "text": [
      "ideal value of k = 41943.04\n"
     ]
    }
   ],
   "source": [
    "print \"ideal value of k =\", 2097152/50. "
   ]
  },
  {
   "cell_type": "code",
   "execution_count": 28,
   "metadata": {
    "collapsed": false
   },
   "outputs": [
    {
     "data": {
      "text/plain": [
       "array([10000, 20000, 30000, 40000, 50000, 60000])"
      ]
     },
     "execution_count": 28,
     "metadata": {},
     "output_type": "execute_result"
    }
   ],
   "source": [
    "np.arange(10000,70000,10000)"
   ]
  },
  {
   "cell_type": "markdown",
   "metadata": {},
   "source": [
    "# Working with the larger dataset "
   ]
  },
  {
   "cell_type": "markdown",
   "metadata": {},
   "source": [
    "http://darksky.slac.stanford.edu/data_release/"
   ]
  },
  {
   "cell_type": "code",
   "execution_count": 29,
   "metadata": {
    "collapsed": true
   },
   "outputs": [],
   "source": [
    "import thingking\n",
    "ds14_a = thingking.HTTPArray(\"http://darksky.slac.stanford.edu/simulations/ds14_a/ds14_a_1.0000\")"
   ]
  },
  {
   "cell_type": "code",
   "execution_count": 32,
   "metadata": {
    "collapsed": false
   },
   "outputs": [
    {
     "data": {
      "text/plain": [
       "34359739943392"
      ]
     },
     "execution_count": 32,
     "metadata": {},
     "output_type": "execute_result"
    }
   ],
   "source": [
    "ds14_a.shape #That's a lot of particles! "
   ]
  },
  {
   "cell_type": "code",
   "execution_count": 34,
   "metadata": {
    "collapsed": false
   },
   "outputs": [
    {
     "name": "stdout",
     "output_type": "stream",
     "text": [
      "# SDF 1.0\n",
      "int header_len =  25\n"
     ]
    }
   ],
   "source": [
    "print ds14_a[:30].data"
   ]
  },
  {
   "cell_type": "code",
   "execution_count": null,
   "metadata": {
    "collapsed": true
   },
   "outputs": [],
   "source": [
    "cd ../../darksky/yt-dark/"
   ]
  },
  {
   "cell_type": "code",
   "execution_count": 44,
   "metadata": {
    "collapsed": false
   },
   "outputs": [
    {
     "name": "stdout",
     "output_type": "stream",
     "text": [
      "/global/project/projectdirs/astro250/doris/halo/darksky\n"
     ]
    }
   ],
   "source": [
    "cd darksky/"
   ]
  },
  {
   "cell_type": "code",
   "execution_count": 47,
   "metadata": {
    "collapsed": false
   },
   "outputs": [
    {
     "name": "stdout",
     "output_type": "stream",
     "text": [
      "/global/project/projectdirs/astro250/doris/halo/darksky/yt-dark\n"
     ]
    }
   ],
   "source": [
    "cd yt-dark/"
   ]
  },
  {
   "cell_type": "code",
   "execution_count": 49,
   "metadata": {
    "collapsed": false
   },
   "outputs": [
    {
     "name": "stdout",
     "output_type": "stream",
     "text": [
      "CITATION     CREDITS              MANIFEST.in  \u001b[0m\u001b[01;34mscripts\u001b[0m/   \u001b[01;34mtests\u001b[0m/\r\n",
      "clean.sh     distribute_setup.py  nose.cfg     setup.cfg  \u001b[01;34myt\u001b[0m/\r\n",
      "COPYING.txt  \u001b[01;34mdoc\u001b[0m/                 README       setup.py\r\n",
      "\u001b[m"
     ]
    }
   ],
   "source": [
    "ls"
   ]
  },
  {
   "cell_type": "code",
   "execution_count": 48,
   "metadata": {
    "collapsed": false
   },
   "outputs": [
    {
     "ename": "ImportError",
     "evalue": "No module named darksky_catalog",
     "output_type": "error",
     "traceback": [
      "\u001b[1;31m---------------------------------------------------------------------------\u001b[0m",
      "\u001b[1;31mImportError\u001b[0m                               Traceback (most recent call last)",
      "\u001b[1;32m<ipython-input-48-3917f2eeb0a1>\u001b[0m in \u001b[0;36m<module>\u001b[1;34m()\u001b[0m\n\u001b[0;32m      3\u001b[0m \u001b[1;31m# from enhance import enhance\u001b[0m\u001b[1;33m\u001b[0m\u001b[1;33m\u001b[0m\u001b[0m\n\u001b[0;32m      4\u001b[0m \u001b[1;32mfrom\u001b[0m \u001b[0myt\u001b[0m\u001b[1;33m.\u001b[0m\u001b[0mutilities\u001b[0m\u001b[1;33m.\u001b[0m\u001b[0mlib\u001b[0m\u001b[1;33m.\u001b[0m\u001b[0mimage_utilities\u001b[0m \u001b[1;32mimport\u001b[0m \u001b[0madd_rgba_points_to_image\u001b[0m\u001b[1;33m\u001b[0m\u001b[0m\n\u001b[1;32m----> 5\u001b[1;33m \u001b[1;32mfrom\u001b[0m \u001b[0mdarksky_catalog\u001b[0m \u001b[1;32mimport\u001b[0m \u001b[0mdarksky\u001b[0m\u001b[1;33m\u001b[0m\u001b[0m\n\u001b[0m",
      "\u001b[1;31mImportError\u001b[0m: No module named darksky_catalog"
     ]
    }
   ],
   "source": [
    "import yt\n",
    "import numpy as np\n",
    "# from enhance import enhance\n",
    "from yt.utilities.lib.image_utilities import add_rgba_points_to_image\n",
    "from darksky_catalog import darksky"
   ]
  },
  {
   "cell_type": "code",
   "execution_count": null,
   "metadata": {
    "collapsed": true
   },
   "outputs": [],
   "source": [
    "Full pcl dataset "
   ]
  },
  {
   "cell_type": "code",
   "execution_count": null,
   "metadata": {
    "collapsed": true
   },
   "outputs": [],
   "source": [
    "import glob\n",
    "k_range = []\n",
    "for i in glob.glob(\"10density*.txt\"): \n",
    "    k_range.append(int(i.split(\".\")[0][37:])) \n",
    "k_range=sort(k_range)\n",
    "print k_range\n",
    "avrg_densities=[]\n",
    "for n in k_range:\n",
    "    avrg_densities.append(mean(np.loadtxt(\"minibatch_kmeans2/data_output/density{}.txt\".format(n))))\n",
    "plt.plot(k_range,avrg_densities)\n",
    "plt.plot(k_range,avrg_densities,'o',color = 'red')\n",
    "plt.xlabel(\"number of clusters\",fontsize=13)\n",
    "plt.ylabel(\"Average Density\",fontsize=13)\n",
    "plt.legend(loc='upper left',prop={'size':12},numpoints=1)"
   ]
  }
 ],
 "metadata": {
  "kernelspec": {
   "display_name": "Python 2",
   "language": "python",
   "name": "python2"
  },
  "language_info": {
   "codemirror_mode": {
    "name": "ipython",
    "version": 2
   },
   "file_extension": ".py",
   "mimetype": "text/x-python",
   "name": "python",
   "nbconvert_exporter": "python",
   "pygments_lexer": "ipython2",
   "version": "2.7.10"
  }
 },
 "nbformat": 4,
 "nbformat_minor": 0
}
