{
 "cells": [
  {
   "cell_type": "code",
   "execution_count": 1,
   "metadata": {
    "collapsed": false
   },
   "outputs": [
    {
     "name": "stdout",
     "output_type": "stream",
     "text": [
      "Populating the interactive namespace from numpy and matplotlib\n"
     ]
    }
   ],
   "source": [
    "%pylab inline"
   ]
  },
  {
   "cell_type": "code",
   "execution_count": 3,
   "metadata": {
    "collapsed": false
   },
   "outputs": [],
   "source": [
    "# ad[(\"all\",\"mass\")] == ad[(\"all\",\"particle_mass\")]"
   ]
  },
  {
   "cell_type": "code",
   "execution_count": 4,
   "metadata": {
    "collapsed": false
   },
   "outputs": [
    {
     "name": "stdout",
     "output_type": "stream",
     "text": [
      "Loading Particle Data\n",
      "\n",
      "Creating train test split samples\n",
      "\n"
     ]
    }
   ],
   "source": [
    "import numpy as np\n",
    "import yt\n",
    "import sklearn\n",
    "yt.funcs.mylog.setLevel(50)\n",
    "import matplotlib.pyplot as plt\n",
    "from sklearn.datasets import load_iris\n",
    "from sklearn.cross_validation import cross_val_score\n",
    "from sklearn.cluster import KMeans\n",
    "from sklearn.grid_search import GridSearchCV\n",
    "DEBUG= True\n",
    "def debug(s,n=\"\"):\n",
    "    if DEBUG:\n",
    "\tprint s\n",
    "\tprint n\n",
    "debug(\"Loading Particle Data\")\n",
    "ds = yt.load(\"../ds14_scivis_0128_e4_dt04_1.0000\")\n",
    "ad = ds.all_data()\n",
    "x = ad[(\"all\",\"particle_position_x\")]\n",
    "y = ad[(\"all\",\"particle_position_y\")]\n",
    "z = ad[(\"all\",\"particle_position_z\")]\n",
    "debug(\"Creating train test split samples\")\n",
    "m = ad[(\"all\",\"mass\")]\n",
    "idx = ad[(\"all\",\"particle_index\")]"
   ]
  },
  {
   "cell_type": "markdown",
   "metadata": {},
   "source": [
    "What is \"deposit\"?"
   ]
  },
  {
   "cell_type": "code",
   "execution_count": 5,
   "metadata": {
    "collapsed": false
   },
   "outputs": [
    {
     "name": "stdout",
     "output_type": "stream",
     "text": [
      "training set size : \n",
      "(15, 5)\n",
      "testing  set size : \n",
      "(4, 5)\n"
     ]
    }
   ],
   "source": [
    "train = []\n",
    "test = []\n",
    "N = 20#50\n",
    "N_split = 4#10\n",
    "for n in np.arange(N):\n",
    "    if n >N_split:\n",
    "        train.append([idx[n],m[n].in_cgs(),x[n].in_cgs(),y[n].in_cgs(),z[n].in_cgs()])\n",
    "    elif n<N_split:\n",
    "        test.append([idx[n],m[n].in_cgs(),x[n].in_cgs(),y[n].in_cgs(),z[n].in_cgs()])\n",
    "train = np.array(train)\n",
    "test = np.array(test)\n",
    "debug(\"training set size : \", np.shape(train))\n",
    "debug(\"testing  set size : \", np.shape(test))\n",
    "\n",
    "# debug(\"Conducting KMeans on the training set\")\n",
    "# num_clusters=3\n",
    "# clf = KMeans(n_clusters=num_clusters)\n",
    "# clf.fit(train[2:])\n",
    "# centers=clf.cluster_centers_\n",
    "# labels=clf.predict(train[2:])\n",
    "\n",
    "# debug(\"Hyperparameter tuning\")\n",
    "# k_range = range(1, len(train)/2)\n",
    "# param_grid = dict(n_clusters=k_range)\n",
    "# grid = GridSearchCV(clf, param_grid, cv=10, scoring='accuracy')\n",
    "# debug(grid)\n",
    "# debug(\"Conducting hyperparameter grid search\")\n",
    "# grid.fit(train, labels)\n",
    "# debug(\"Writing out grid scores and plotting\")\n",
    "# info =[]\n",
    "# scores=[]\n",
    "# for i in grid.grid_scores_:\n",
    "#     info.append([i[0][\"n_clusters\"], i[1], i[2].std()])\n",
    "#     #so i[2] is the list of results from cross validating 10 times (K folds, K=10)\n",
    "#     scores.append(i[2])\n",
    "# np.savetxt(\"info.txt\",info,header=\"n_clusters         mean_score      std_score\")\n",
    "# np.savetxt(\"scores.txt\",scores)"
   ]
  },
  {
   "cell_type": "code",
   "execution_count": 19,
   "metadata": {
    "collapsed": false
   },
   "outputs": [
    {
     "data": {
      "text/plain": [
       "'accuracy'"
      ]
     },
     "execution_count": 19,
     "metadata": {},
     "output_type": "execute_result"
    }
   ],
   "source": [
    "grid.scoring"
   ]
  },
  {
   "cell_type": "raw",
   "metadata": {},
   "source": [
    "scoring : string, callable or None, optional, default: None\n",
    "A string (see model evaluation documentation) or a scorer callable object / function with signature scorer(estimator, X, y)."
   ]
  },
  {
   "cell_type": "code",
   "execution_count": null,
   "metadata": {
    "collapsed": true
   },
   "outputs": [],
   "source": [
    "def density(): "
   ]
  },
  {
   "cell_type": "code",
   "execution_count": 17,
   "metadata": {
    "collapsed": false
   },
   "outputs": [
    {
     "data": {
      "text/plain": [
       "{'cv': 10,\n",
       " 'error_score': 'raise',\n",
       " 'estimator': KMeans(copy_x=True, init='k-means++', max_iter=300, n_clusters=3, n_init=10,\n",
       "     n_jobs=1, precompute_distances='auto', random_state=None, tol=0.0001,\n",
       "     verbose=0),\n",
       " 'estimator__copy_x': True,\n",
       " 'estimator__init': 'k-means++',\n",
       " 'estimator__max_iter': 300,\n",
       " 'estimator__n_clusters': 3,\n",
       " 'estimator__n_init': 10,\n",
       " 'estimator__n_jobs': 1,\n",
       " 'estimator__precompute_distances': 'auto',\n",
       " 'estimator__random_state': None,\n",
       " 'estimator__tol': 0.0001,\n",
       " 'estimator__verbose': 0,\n",
       " 'fit_params': {},\n",
       " 'iid': True,\n",
       " 'loss_func': None,\n",
       " 'n_jobs': 1,\n",
       " 'param_grid': {'n_clusters': [1, 2, 3, 4, 5, 6]},\n",
       " 'pre_dispatch': '2*n_jobs',\n",
       " 'refit': True,\n",
       " 'score_func': None,\n",
       " 'scoring': 'accuracy',\n",
       " 'verbose': 0}"
      ]
     },
     "execution_count": 17,
     "metadata": {},
     "output_type": "execute_result"
    }
   ],
   "source": [
    "grid.get_params"
   ]
  },
  {
   "cell_type": "code",
   "execution_count": 7,
   "metadata": {
    "collapsed": false
   },
   "outputs": [
    {
     "name": "stdout",
     "output_type": "stream",
     "text": [
      "[[  6.46000923e+05   2.75491975e+43  -1.30594310e+26  -1.36274958e+26\n",
      "   -1.35179897e+26]]\n",
      "[0 0]\n",
      "[[  1.19883400e+06   2.75491975e+43  -1.37467750e+26  -1.33439350e+26\n",
      "   -1.32724153e+26]\n",
      " [  5.45485818e+05   2.75491975e+43  -1.29344593e+26  -1.36790523e+26\n",
      "   -1.35626395e+26]]\n",
      "[0 0]\n",
      "[[  7.99614000e+05   2.75491975e+43  -1.30758010e+26  -1.36974299e+26\n",
      "   -1.33850277e+26]\n",
      " [  2.40532000e+05   2.75491975e+43  -1.27648493e+26  -1.36569992e+26\n",
      "   -1.37757737e+26]\n",
      " [  1.19883400e+06   2.75491975e+43  -1.37467750e+26  -1.33439350e+26\n",
      "   -1.32724153e+26]]\n",
      "[0 0]\n",
      "[[  5.99849500e+05   2.75491975e+43  -1.30228099e+26  -1.36051743e+26\n",
      "   -1.39375199e+26]\n",
      " [  7.99614000e+05   2.75491975e+43  -1.30758010e+26  -1.36974299e+26\n",
      "   -1.33850277e+26]\n",
      " [  1.19883400e+06   2.75491975e+43  -1.37467750e+26  -1.33439350e+26\n",
      "   -1.32724153e+26]\n",
      " [  9.87000000e+02   2.75491975e+43  -1.25928756e+26  -1.36915492e+26\n",
      "   -1.36679430e+26]]\n",
      "[0 0]\n",
      "[[  7.99652000e+05   2.75491975e+43  -1.30056631e+26  -1.37363668e+26\n",
      "   -1.33851310e+26]\n",
      " [  1.19883200e+06   2.75491975e+43  -1.39630334e+26  -1.35218225e+26\n",
      "   -1.31409811e+26]\n",
      " [  5.99849500e+05   2.75491975e+43  -1.30228099e+26  -1.36051743e+26\n",
      "   -1.39375199e+26]\n",
      " [  9.97000000e+02   2.75491975e+43  -1.24979133e+26  -1.37323790e+26\n",
      "   -1.37403089e+26]\n",
      " [  5.99787500e+05   2.75491975e+43  -1.33670721e+26  -1.32711576e+26\n",
      "   -1.34632205e+26]]\n",
      "[0 0]\n",
      "[[  9.87000000e+02   2.75491975e+43  -1.25928756e+26  -1.36915492e+26\n",
      "   -1.36679430e+26]\n",
      " [  5.99787500e+05   2.75491975e+43  -1.33670721e+26  -1.32711576e+26\n",
      "   -1.34632205e+26]\n",
      " [  9.59389000e+05   2.75491975e+43  -1.30502357e+26  -1.37616623e+26\n",
      "   -1.33575149e+26]\n",
      " [  1.19898900e+06   2.75491975e+43  -1.30063624e+26  -1.38909334e+26\n",
      "   -1.39384902e+26]\n",
      " [  1.19883200e+06   2.75491975e+43  -1.39630334e+26  -1.35218225e+26\n",
      "   -1.31409811e+26]\n",
      " [  7.10000000e+02   2.75491975e+43  -1.30392574e+26  -1.33194153e+26\n",
      "   -1.39365496e+26]]\n",
      "[0 0]\n",
      "[[  9.67000000e+02   2.75491975e+43  -1.27828003e+26  -1.36098896e+26\n",
      "   -1.35232110e+26]\n",
      " [  5.99787500e+05   2.75491975e+43  -1.33670721e+26  -1.32711576e+26\n",
      "   -1.34632205e+26]\n",
      " [  9.59389000e+05   2.75491975e+43  -1.30502357e+26  -1.37616623e+26\n",
      "   -1.33575149e+26]\n",
      " [  1.19883200e+06   2.75491975e+43  -1.39630334e+26  -1.35218225e+26\n",
      "   -1.31409811e+26]\n",
      " [  7.10000000e+02   2.75491975e+43  -1.30392574e+26  -1.33194153e+26\n",
      "   -1.39365496e+26]\n",
      " [  9.97000000e+02   2.75491975e+43  -1.24979133e+26  -1.37323790e+26\n",
      "   -1.37403089e+26]\n",
      " [  1.19898900e+06   2.75491975e+43  -1.30063624e+26  -1.38909334e+26\n",
      "   -1.39384902e+26]]\n",
      "[0 0]\n",
      "[[  9.59389000e+05   2.75491975e+43  -1.30502357e+26  -1.37616623e+26\n",
      "   -1.33575149e+26]\n",
      " [  1.19883200e+06   2.75491975e+43  -1.39630334e+26  -1.35218225e+26\n",
      "   -1.31409811e+26]\n",
      " [  9.97000000e+02   2.75491975e+43  -1.24979133e+26  -1.37323790e+26\n",
      "   -1.37403089e+26]\n",
      " [  7.39000000e+02   2.75491975e+43  -1.32036276e+26  -1.33762677e+26\n",
      "   -1.35225915e+26]\n",
      " [  1.19898900e+06   2.75491975e+43  -1.30063624e+26  -1.38909334e+26\n",
      "   -1.39384902e+26]\n",
      " [  9.67000000e+02   2.75491975e+43  -1.27828003e+26  -1.36098896e+26\n",
      "   -1.35232110e+26]\n",
      " [  7.10000000e+02   2.75491975e+43  -1.30392574e+26  -1.33194153e+26\n",
      "   -1.39365496e+26]\n",
      " [  1.19883600e+06   2.75491975e+43  -1.35305166e+26  -1.31660474e+26\n",
      "   -1.34038495e+26]]\n",
      "[0 0]\n",
      "[[  1.19905500e+06   2.75491975e+43  -1.30251947e+26  -1.37010240e+26\n",
      "   -1.33154268e+26]\n",
      " [  7.39000000e+02   2.75491975e+43  -1.32036276e+26  -1.33762677e+26\n",
      "   -1.35225915e+26]\n",
      " [  9.97000000e+02   2.75491975e+43  -1.24979133e+26  -1.37323790e+26\n",
      "   -1.37403089e+26]\n",
      " [  1.19883200e+06   2.75491975e+43  -1.39630334e+26  -1.35218225e+26\n",
      "   -1.31409811e+26]\n",
      " [  1.19898900e+06   2.75491975e+43  -1.30063624e+26  -1.38909334e+26\n",
      "   -1.39384902e+26]\n",
      " [  7.10000000e+02   2.75491975e+43  -1.30392574e+26  -1.33194153e+26\n",
      "   -1.39365496e+26]\n",
      " [  1.19883600e+06   2.75491975e+43  -1.35305166e+26  -1.31660474e+26\n",
      "   -1.34038495e+26]\n",
      " [  9.67000000e+02   2.75491975e+43  -1.27828003e+26  -1.36098896e+26\n",
      "   -1.35232110e+26]\n",
      " [  5.99890000e+05   2.75491975e+43  -1.30877972e+26  -1.38526198e+26\n",
      "   -1.34206472e+26]]\n",
      "[0 0]\n"
     ]
    }
   ],
   "source": [
    "# Explicit version of Grid Search \n",
    "k_range = range(1, 10)\n",
    "# k_scores = []\n",
    "densities =[]\n",
    "for k in k_range:\n",
    "    clf = KMeans(n_clusters=k)\n",
    "    clf.fit(train[2:])\n",
    "    centers=clf.cluster_centers_\n",
    "    labels=clf.predict(test[2:]) #ignoring idx and mass \n",
    "    print centers\n",
    "    print labels\n",
    "#     scores = cross_val_score(knn, train, labels, cv=10, scoring='accuracy')\n",
    "    \n",
    "#     k_scores.append(scores.mean())\n",
    "# print k_scores"
   ]
  },
  {
   "cell_type": "code",
   "execution_count": 15,
   "metadata": {
    "collapsed": false
   },
   "outputs": [
    {
     "data": {
      "text/plain": [
       "[array([ 0.5,  0.5,  0. ,  0. ,  0.5,  1. ,  0. ,  1. ,  1. ,  1. ]),\n",
       " array([ 0.5,  0.5,  0. ,  0. ,  0.5,  0. ,  1. ,  1. ,  0. ,  0. ]),\n",
       " array([ 0.5,  0.5,  0.5,  0. ,  0.5,  0. ,  0. ,  1. ,  0. ,  1. ]),\n",
       " array([ 0. ,  0. ,  0.5,  0. ,  0.5,  0. ,  0. ,  0. ,  0. ,  0. ]),\n",
       " array([ 1. ,  0.5,  0. ,  0. ,  0. ,  1. ,  0. ,  0. ,  0. ,  0. ]),\n",
       " array([ 0.5,  0. ,  0. ,  0. ,  0.5,  0. ,  1. ,  1. ,  0. ,  1. ])]"
      ]
     },
     "execution_count": 15,
     "metadata": {},
     "output_type": "execute_result"
    }
   ],
   "source": [
    "scores"
   ]
  },
  {
   "cell_type": "code",
   "execution_count": 16,
   "metadata": {
    "collapsed": false
   },
   "outputs": [
    {
     "data": {
      "text/plain": [
       "make_scorer(accuracy_score)"
      ]
     },
     "execution_count": 16,
     "metadata": {},
     "output_type": "execute_result"
    }
   ],
   "source": [
    "grid."
   ]
  },
  {
   "cell_type": "code",
   "execution_count": null,
   "metadata": {
    "collapsed": true
   },
   "outputs": [],
   "source": []
  }
 ],
 "metadata": {
  "kernelspec": {
   "display_name": "Python 2",
   "language": "python",
   "name": "python2"
  },
  "language_info": {
   "codemirror_mode": {
    "name": "ipython",
    "version": 2
   },
   "file_extension": ".py",
   "mimetype": "text/x-python",
   "name": "python",
   "nbconvert_exporter": "python",
   "pygments_lexer": "ipython2",
   "version": "2.7.10"
  }
 },
 "nbformat": 4,
 "nbformat_minor": 0
}
