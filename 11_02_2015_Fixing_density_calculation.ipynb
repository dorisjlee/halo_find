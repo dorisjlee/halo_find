{
 "cells": [
  {
   "cell_type": "code",
   "execution_count": 1,
   "metadata": {
    "collapsed": false
   },
   "outputs": [
    {
     "name": "stdout",
     "output_type": "stream",
     "text": [
      "Populating the interactive namespace from numpy and matplotlib\n"
     ]
    }
   ],
   "source": [
    "%pylab inline"
   ]
  },
  {
   "cell_type": "code",
   "execution_count": 3,
   "metadata": {
    "collapsed": false
   },
   "outputs": [
    {
     "name": "stdout",
     "output_type": "stream",
     "text": [
      "centers10.txt  centers21.txt  centers32.txt  centers43.txt  centers54.txt\r\n",
      "centers11.txt  centers22.txt  centers33.txt  centers44.txt  centers55.txt\r\n",
      "centers12.txt  centers23.txt  centers34.txt  centers45.txt  centers56.txt\r\n",
      "centers13.txt  centers24.txt  centers35.txt  centers46.txt  centers5.txt\r\n",
      "centers14.txt  centers25.txt  centers36.txt  centers47.txt  centers6.txt\r\n",
      "centers15.txt  centers26.txt  centers37.txt  centers48.txt  centers7.txt\r\n",
      "centers16.txt  centers27.txt  centers38.txt  centers49.txt  centers8.txt\r\n",
      "centers17.txt  centers28.txt  centers39.txt  centers4.txt   centers9.txt\r\n",
      "centers18.txt  centers29.txt  centers3.txt   centers50.txt\r\n",
      "centers19.txt  centers2.txt   centers40.txt  centers51.txt\r\n",
      "centers1.txt   centers30.txt  centers41.txt  centers52.txt\r\n",
      "centers20.txt  centers31.txt  centers42.txt  centers53.txt\r\n"
     ]
    }
   ],
   "source": [
    "ls centers*.txt"
   ]
  },
  {
   "cell_type": "code",
   "execution_count": 4,
   "metadata": {
    "collapsed": true
   },
   "outputs": [],
   "source": [
    "def compute_rcm(n_cluster,centroids,labels):\n",
    "    #since all the particles have the same mass, the center of mass is  just the arithmetic average weighted by the number of particles in each cluster \n",
    "    numerator = 0\n",
    "    n_tot = 0\n",
    "    for i in np.arange(n_cluster):\n",
    "        N = len(np.where(labels==i)[0]) #number of particles in each cluster\n",
    "#         print \"n_clusters:\", i \n",
    "#         print \"nuumber of particles in each cluster \", N\n",
    "#         print \"cluster center\" , centroids[i]    \n",
    "        numerator += centroids[i]*N \n",
    "#         print \"numerator: \" , numerator\n",
    "        n_tot+=N\n",
    "    rcm = numerator/n_tot\n",
    "    return rcm\n",
    "def compute_avrg_rad(n_cluster,centroids,labels):\n",
    "    numerator = 0\n",
    "    n_tot = 0\n",
    "    for i in np.arange(n_cluster):\n",
    "        numerator += np.linalg.norm(centroids[i]-compute_rcm(n_cluster,centroids,labels))\n",
    "    return numerator/n_cluster"
   ]
  },
  {
   "cell_type": "code",
   "execution_count": 5,
   "metadata": {
    "collapsed": false
   },
   "outputs": [],
   "source": [
    "def verify_cm_calculation(n_cluster,centroids,labels):\n",
    "    fig  = plt.figure()\n",
    "    plt.title(\"xy projection for n_cluster = {}\".format(n_cluster),fontsize=15)\n",
    "    plt.plot(centers[:,0], centers[:,1],'o')\n",
    "    rcm = compute_rcm(n_cluster,centroids,labels)\n",
    "    plt.plot(rcm[0],rcm[1],\"x\", color = \"red\", markersize=13)\n",
    "    rad = compute_avrg_rad(n_cluster,centroids,labels)\n",
    "    circle1 = plt.Circle((rcm[0],rcm[1]),rad,color='g',fill=False)\n",
    "    fig.gca().add_artist(circle1)\n",
    "    plt.xlabel(\"X\",fontsize=13)\n",
    "    plt.ylabel(\"Y\",fontsize=13)\n",
    "    axes().set_aspect('equal', 'datalim')"
   ]
  },
  {
   "cell_type": "markdown",
   "metadata": {},
   "source": [
    "The confusion here is that we want density for each clutster, not density of number of clusters . After that  we can average per cluster densities, but we don't want the total density which is what this code is computing right now"
   ]
  },
  {
   "cell_type": "markdown",
   "metadata": {},
   "source": [
    "In the k=30 run, there was 30 resulting clusters, each has x ,y z loc (this should just be the CM!)"
   ]
  },
  {
   "cell_type": "code",
   "execution_count": 11,
   "metadata": {
    "collapsed": false
   },
   "outputs": [
    {
     "data": {
      "text/plain": [
       "array([  0.,   1.,   2.,   3.,   4.,   5.,   6.,   7.,   8.,   9.,  10.,\n",
       "        11.,  12.,  13.,  14.,  15.,  16.,  17.,  18.,  19.,  20.,  21.,\n",
       "        22.,  23.,  24.,  25.,  26.,  27.,  28.,  29.])"
      ]
     },
     "execution_count": 11,
     "metadata": {},
     "output_type": "execute_result"
    }
   ],
   "source": [
    "np.unique(labels)"
   ]
  },
  {
   "cell_type": "code",
   "execution_count": 14,
   "metadata": {
    "collapsed": false
   },
   "outputs": [
    {
     "data": {
      "text/plain": [
       "24346"
      ]
     },
     "execution_count": 14,
     "metadata": {},
     "output_type": "execute_result"
    }
   ],
   "source": [
    "len(np.where(labels==6)[0])"
   ]
  },
  {
   "cell_type": "code",
   "execution_count": 20,
   "metadata": {
    "collapsed": false
   },
   "outputs": [
    {
     "data": {
      "text/plain": [
       "(1572863,)"
      ]
     },
     "execution_count": 20,
     "metadata": {},
     "output_type": "execute_result"
    }
   ],
   "source": [
    "shape(labels)"
   ]
  },
  {
   "cell_type": "markdown",
   "metadata": {},
   "source": [
    "This is different from the total number of particles which means that there is no one to one correspondence betwee the index of the particles and the index in the labels array"
   ]
  },
  {
   "cell_type": "markdown",
   "metadata": {},
   "source": [
    "So unfortunately we would have to rerun this and remember to actually write down the x,y,z, mass and label this time "
   ]
  },
  {
   "cell_type": "code",
   "execution_count": 19,
   "metadata": {
    "collapsed": false
   },
   "outputs": [
    {
     "data": {
      "text/plain": [
       "array([111599, 111600, 122772, ..., 408525, 408526, 408527])"
      ]
     },
     "execution_count": 19,
     "metadata": {},
     "output_type": "execute_result"
    }
   ],
   "source": [
    "np.where(labels==6)[0]"
   ]
  },
  {
   "cell_type": "code",
   "execution_count": 18,
   "metadata": {
    "collapsed": false
   },
   "outputs": [
    {
     "name": "stderr",
     "output_type": "stream",
     "text": [
      "yt : [INFO     ] 2015-11-02 20:27:59,371 Calculating time to be 4.344e+17 seconds\n",
      "yt : [INFO     ] 2015-11-02 20:27:59,415 Parameters: current_time              = 4.3437787319e+17\n",
      "yt : [INFO     ] 2015-11-02 20:27:59,416 Parameters: domain_dimensions         = [2 2 2]\n",
      "yt : [INFO     ] 2015-11-02 20:27:59,417 Parameters: domain_left_edge          = [-45417.41686962 -45417.41686962 -45417.41686962]\n",
      "yt : [INFO     ] 2015-11-02 20:27:59,418 Parameters: domain_right_edge         = [ 45417.41686962  45417.41686962  45417.41686962]\n",
      "yt : [INFO     ] 2015-11-02 20:27:59,419 Parameters: cosmological_simulation   = 1\n",
      "yt : [INFO     ] 2015-11-02 20:27:59,419 Parameters: current_redshift          = 2.48886713461e-08\n",
      "yt : [INFO     ] 2015-11-02 20:27:59,419 Parameters: omega_lambda              = 0.704962\n",
      "yt : [INFO     ] 2015-11-02 20:27:59,420 Parameters: omega_matter              = 0.295038\n",
      "yt : [INFO     ] 2015-11-02 20:27:59,420 Parameters: hubble_constant           = 0.688062\n",
      "yt : [INFO     ] 2015-11-02 20:27:59,426 Allocating for 2.097e+06 particles\n",
      "yt : [INFO     ] 2015-11-02 20:27:59,794 Identified 1.732e+05 octs\n",
      "yt : [INFO     ] 2015-11-02 20:27:59,921 Loading field plugins.\n",
      "yt : [INFO     ] 2015-11-02 20:27:59,921 Loaded angular_momentum (8 new fields)\n",
      "yt : [INFO     ] 2015-11-02 20:27:59,922 Loaded astro (15 new fields)\n",
      "yt : [INFO     ] 2015-11-02 20:27:59,922 Loaded cosmology (22 new fields)\n",
      "yt : [INFO     ] 2015-11-02 20:27:59,923 Loaded fluid (64 new fields)\n",
      "yt : [INFO     ] 2015-11-02 20:27:59,924 Loaded fluid_vector (96 new fields)\n",
      "yt : [INFO     ] 2015-11-02 20:27:59,925 Loaded geometric (112 new fields)\n",
      "yt : [INFO     ] 2015-11-02 20:27:59,926 Loaded local (112 new fields)\n",
      "yt : [INFO     ] 2015-11-02 20:27:59,926 Loaded magnetic_field (120 new fields)\n",
      "yt : [INFO     ] 2015-11-02 20:27:59,926 Loaded my_plugins (120 new fields)\n",
      "yt : [INFO     ] 2015-11-02 20:27:59,927 Loaded species (122 new fields)\n"
     ]
    }
   ],
   "source": [
    "import yt\n",
    "ds = yt.load(\"../ds14_scivis_0128_e4_dt04_1.0000\")\n",
    "ad = ds.all_data()\n",
    "x = ad[(\"all\",\"particle_position_x\")]\n",
    "y = ad[(\"all\",\"particle_position_y\")]\n",
    "z = ad[(\"all\",\"particle_position_z\")]\n",
    "m = ad[(\"all\",\"mass\")]\n",
    "idx = ad[(\"all\",\"particle_index\")]"
   ]
  },
  {
   "cell_type": "raw",
   "metadata": {},
   "source": [
    "95 clusters test\n",
    "(399, 3)\n",
    "(95, 3)\n",
    "(399,)\n",
    "96 clusters test\n",
    "(399, 3)\n",
    "(96, 3)\n",
    "(399,)\n",
    "97 clusters test\n",
    "(399, 3)\n",
    "(97, 3)\n",
    "(399,)\n",
    "98 clusters test\n",
    "(399, 3)\n",
    "(98, 3)\n",
    "(399,)"
   ]
  },
  {
   "cell_type": "markdown",
   "metadata": {},
   "source": [
    "Okay so the training set is always still the same, so we could jsut reference by dumping train test sample reslt into a file "
   ]
  },
  {
   "cell_type": "code",
   "execution_count": 17,
   "metadata": {
    "collapsed": false
   },
   "outputs": [
    {
     "name": "stdout",
     "output_type": "stream",
     "text": [
      "0\n"
     ]
    },
    {
     "name": "stderr",
     "output_type": "stream",
     "text": [
      "/anaconda/lib/python2.7/site-packages/IPython/kernel/__main__.py:20: RuntimeWarning: divide by zero encountered in long_scalars\n"
     ]
    },
    {
     "ename": "ZeroDivisionError",
     "evalue": "float division by zero",
     "output_type": "error",
     "traceback": [
      "\u001b[1;31m---------------------------------------------------------------------------\u001b[0m",
      "\u001b[1;31mZeroDivisionError\u001b[0m                         Traceback (most recent call last)",
      "\u001b[1;32m<ipython-input-17-bc26464aa567>\u001b[0m in \u001b[0;36m<module>\u001b[1;34m()\u001b[0m\n\u001b[0;32m      8\u001b[0m         \u001b[0mdensity\u001b[0m \u001b[1;33m=\u001b[0m\u001b[1;36m0\u001b[0m \u001b[1;31m#undefined density for point mass\u001b[0m\u001b[1;33m\u001b[0m\u001b[0m\n\u001b[0;32m      9\u001b[0m     \u001b[1;32melse\u001b[0m\u001b[1;33m:\u001b[0m\u001b[1;33m\u001b[0m\u001b[0m\n\u001b[1;32m---> 10\u001b[1;33m         \u001b[0mdensity\u001b[0m \u001b[1;33m=\u001b[0m \u001b[0mmass\u001b[0m \u001b[1;33m/\u001b[0m \u001b[0mvolume\u001b[0m\u001b[1;33m\u001b[0m\u001b[0m\n\u001b[0m",
      "\u001b[1;31mZeroDivisionError\u001b[0m: float division by zero"
     ]
    }
   ],
   "source": [
    "for k in np.arange(30):\n",
    "    rad = compute_avrg_rad(k,centers,labels)\n",
    "    print rad\n",
    "    volume = 4./3.*np.pi*rad**3\n",
    "    N=len(np.where(labels==k)[0])\n",
    "    mass = 2.75491975e43 * N\n",
    "    if k ==1:\n",
    "        density =0 #undefined density for point mass\n",
    "    else:\n",
    "        density = mass / volume"
   ]
  },
  {
   "cell_type": "code",
   "execution_count": 7,
   "metadata": {
    "collapsed": false
   },
   "outputs": [
    {
     "data": {
      "image/png": "[encoded data removed]",
      "text/plain": [
       "<matplotlib.figure.Figure at 0x7f5ae40bb8d0>"
      ]
     },
     "metadata": {},
     "output_type": "display_data"
    }
   ],
   "source": [
    "centers = np.loadtxt(\"centers30.txt\")\n",
    "labels = np.loadtxt(\"labels30.txt\")\n",
    "verify_cm_calculation(30,centers,labels)"
   ]
  },
  {
   "cell_type": "markdown",
   "metadata": {},
   "source": [
    "The compute_avrg_rad function is wrong"
   ]
  },
  {
   "cell_type": "code",
   "execution_count": 27,
   "metadata": {
    "collapsed": false
   },
   "outputs": [
    {
     "data": {
      "text/plain": [
       "(0, 5)"
      ]
     },
     "execution_count": 27,
     "metadata": {},
     "output_type": "execute_result"
    },
    {
     "data": {
      "image/png": "[encoded data removed]",
      "text/plain": [
       "<matplotlib.figure.Figure at 0x7ff3352b1810>"
      ]
     },
     "metadata": {},
     "output_type": "display_data"
    }
   ],
   "source": [
    "# densities = np.loadtxt(\"densities.txt\")\n",
    "plt.plot(np.array(densities))\n",
    "# plt.plot(np.arange(1,30),np.array(densities))\n",
    "plt.xlabel(\"n_clusters\",fontsize=13)\n",
    "plt.ylabel(\"average density\",fontsize=13)\n",
    "plt.xlim(0,5)"
   ]
  },
  {
   "cell_type": "code",
   "execution_count": 26,
   "metadata": {
    "collapsed": false
   },
   "outputs": [
    {
     "data": {
      "text/plain": [
       "1"
      ]
     },
     "execution_count": 26,
     "metadata": {},
     "output_type": "execute_result"
    }
   ],
   "source": [
    "densities.index(max(densities))"
   ]
  },
  {
   "cell_type": "code",
   "execution_count": 25,
   "metadata": {
    "collapsed": false,
    "scrolled": false
   },
   "outputs": [
    {
     "name": "stdout",
     "output_type": "stream",
     "text": [
      "Loading Particle Data \n",
      "Creating train test split samples \n"
     ]
    },
    {
     "name": "stderr",
     "output_type": "stream",
     "text": [
      "/anaconda/lib/python2.7/site-packages/IPython/kernel/__main__.py:66: RuntimeWarning: divide by zero encountered in double_scalars\n"
     ]
    }
   ],
   "source": [
    "import numpy as np\n",
    "import yt\n",
    "import sklearn\n",
    "yt.funcs.mylog.setLevel(50)\n",
    "import matplotlib.pyplot as plt\n",
    "from sklearn.datasets import load_iris\n",
    "from sklearn.cross_validation import cross_val_score\n",
    "from sklearn.cluster import KMeans\n",
    "from sklearn.grid_search import GridSearchCV\n",
    "DEBUG= True\n",
    "def debug(s,n=\"\"):\n",
    "    if DEBUG:\n",
    "        print s , n\n",
    "debug(\"Loading Particle Data\")\n",
    "ds = yt.load(\"../ds14_scivis_0128_e4_dt04_1.0000\")\n",
    "ad = ds.all_data()\n",
    "x = ad[(\"all\",\"particle_position_x\")]\n",
    "y = ad[(\"all\",\"particle_position_y\")]\n",
    "z = ad[(\"all\",\"particle_position_z\")]\n",
    "debug(\"Creating train test split samples\")\n",
    "m = ad[(\"all\",\"mass\")]\n",
    "idx = ad[(\"all\",\"particle_index\")]\n",
    "train = []\n",
    "test = []\n",
    "N = 500#2097152#500\n",
    "N_split = 100#524288#100\n",
    "for n in np.arange(N):\n",
    "    if n >N_split:\n",
    "        train.append([idx[n],m[n].in_cgs(),x[n].in_cgs(),y[n].in_cgs(),z[n].in_cgs()])\n",
    "#         train.append([x[n].in_cgs(),y[n].in_cgs(),z[n].in_cgs()])\n",
    "    elif n<N_split:\n",
    "        test.append([idx[n],m[n].in_cgs(),x[n].in_cgs(),y[n].in_cgs(),z[n].in_cgs()])\n",
    "#         test.append([x[n].in_cgs(),y[n].in_cgs(),z[n].in_cgs()])\n",
    "train = np.array(train)\n",
    "test = np.array(test)\n",
    "# debug(\"training set size : \", np.shape(train))\n",
    "# debug(\"testing  set size : \", np.shape(test))\n",
    "np.savetxt(\"test.txt\",test)\n",
    "np.savetxt(\"train.txt\",train)\n",
    "# Explicit Grid Search\n",
    "k_range = range(1, 100)\n",
    "# k_scores = []\n",
    "# densf = open('densities.txt', 'a')\n",
    "avrg = open('avrg_dens.txt', 'a')\n",
    "for k in k_range:\n",
    "#     debug(\"{} clusters test\".format(k))\n",
    "    clf = KMeans(n_clusters=k)\n",
    "#     debug(np.shape(train[:,2:]))\n",
    "    clf.fit(train[:,2:])#ignoring idx and mass\n",
    "    centers=clf.cluster_centers_\n",
    "    labels = clf.labels_\n",
    "    #Density calculation for each cluster\n",
    "    densities =[]\n",
    "    for i in np.arange(k):\n",
    "        if k ==1:\n",
    "            density =0 #undefined density for point mass\n",
    "        else:\n",
    "            numerator = 0\n",
    "            n_tot = 0\n",
    "            N=len(np.where(labels==i)[0])\n",
    "            for pcl_idx in np.where(labels==i)[0]:\n",
    "                numerator += np.linalg.norm(train[pcl_idx][2:]-centers[i])\n",
    "            rad =numerator/N\n",
    "            volume = (4./3.*np.pi*rad**3)\n",
    "            mass = 2.75491975e43 * N\n",
    "            density = mass / volume\n",
    "            dummy=0\n",
    "            densities.append(density)\n",
    "    avrg.write(str(mean(densities))+\"\\n\")\n",
    "    np.savetxt(\"density{}.txt\".format(k),densities)\n",
    "    np.savetxt(\"centers{}.txt\".format(k),centers)\n",
    "    np.savetxt(\"labels{}.txt\".format(k),labels)\n",
    "avrg.close()\n"
   ]
  },
  {
   "cell_type": "code",
   "execution_count": 3,
   "metadata": {
    "collapsed": false
   },
   "outputs": [
    {
     "data": {
      "image/png": "[encoded data removed]",
      "text/plain": [
       "<matplotlib.figure.Figure at 0x7f8686191fd0>"
      ]
     },
     "metadata": {},
     "output_type": "display_data"
    }
   ],
   "source": [
    "def verify_rad_calc(n_cluster,rcm,rad):\n",
    "    fig  = plt.figure()\n",
    "    plt.title(\"xy projection for n_cluster = {}\".format(n_cluster),fontsize=15)\n",
    "#     plt.plot(centers[:,0], centers[:,1],'o')\n",
    "    plt.plot(rcm[0],rcm[1],\"x\", color = \"red\", markersize=13)\n",
    "    circle1 = plt.Circle((rcm[0],rcm[1]),rad,color='g',fill=False)\n",
    "    fig.gca().add_artist(circle1)\n",
    "    plt.xlabel(\"X\",fontsize=13)\n",
    "    plt.ylabel(\"Y\",fontsize=13)\n",
    "    axes().set_aspect('equal', 'datalim')\n",
    "    plt.show()\n",
    "verify_rad_calc(1,[1,1],0.01)"
   ]
  },
  {
   "cell_type": "code",
   "execution_count": 5,
   "metadata": {
    "collapsed": false
   },
   "outputs": [],
   "source": [
    "# np.linalg.norm(train[pcl_idx][2:]-centers[i])a"
   ]
  },
  {
   "cell_type": "code",
   "execution_count": 47,
   "metadata": {
    "collapsed": false
   },
   "outputs": [
    {
     "data": {
      "text/plain": [
       "array([  3.06600000e+03,   2.75491975e+43,  -1.13265316e+26])"
      ]
     },
     "execution_count": 47,
     "metadata": {},
     "output_type": "execute_result"
    }
   ],
   "source": [
    "train[pcl_idx][:3]"
   ]
  },
  {
   "cell_type": "code",
   "execution_count": 40,
   "metadata": {
    "collapsed": false
   },
   "outputs": [
    {
     "data": {
      "text/plain": [
       "array([ -1.29986298e+26,  -1.10538461e+26,  -1.37329221e+26])"
      ]
     },
     "execution_count": 40,
     "metadata": {},
     "output_type": "execute_result"
    }
   ],
   "source": [
    "centers[1]"
   ]
  },
  {
   "cell_type": "code",
   "execution_count": 52,
   "metadata": {
    "collapsed": false
   },
   "outputs": [
    {
     "data": {
      "text/plain": [
       "array([ -1.19231835e+26,  -1.39234029e+26,  -1.37641928e+26])"
      ]
     },
     "execution_count": 52,
     "metadata": {},
     "output_type": "execute_result"
    }
   ],
   "source": [
    "train[1][2:] #x y z position for particle 1 "
   ]
  },
  {
   "cell_type": "code",
   "execution_count": 21,
   "metadata": {
    "collapsed": false
   },
   "outputs": [],
   "source": [
    "# dens = np.loadtxt(\"densities.txt\")\n",
    "avrage= np.loadtxt(\"avrg_dens.txt\")"
   ]
  },
  {
   "cell_type": "code",
   "execution_count": 22,
   "metadata": {
    "collapsed": false
   },
   "outputs": [
    {
     "data": {
      "text/plain": [
       "(4950,)"
      ]
     },
     "execution_count": 22,
     "metadata": {},
     "output_type": "execute_result"
    }
   ],
   "source": [
    "shape(avrage)"
   ]
  },
  {
   "cell_type": "code",
   "execution_count": 24,
   "metadata": {
    "collapsed": false
   },
   "outputs": [
    {
     "data": {
      "text/plain": [
       "[<matplotlib.lines.Line2D at 0x7f2e6c506210>]"
      ]
     },
     "execution_count": 24,
     "metadata": {},
     "output_type": "execute_result"
    },
    {
     "data": {
      "image/png": "[encoded data removed]",
      "text/plain": [
       "<matplotlib.figure.Figure at 0x7f2e72579510>"
      ]
     },
     "metadata": {},
     "output_type": "display_data"
    }
   ],
   "source": [
    "plt.plot(avrage)"
   ]
  },
  {
   "cell_type": "code",
   "execution_count": null,
   "metadata": {
    "collapsed": true
   },
   "outputs": [],
   "source": []
  }
 ],
 "metadata": {
  "kernelspec": {
   "display_name": "Python 2",
   "language": "python",
   "name": "python2"
  },
  "language_info": {
   "codemirror_mode": {
    "name": "ipython",
    "version": 2
   },
   "file_extension": ".py",
   "mimetype": "text/x-python",
   "name": "python",
   "nbconvert_exporter": "python",
   "pygments_lexer": "ipython2",
   "version": "2.7.10"
  }
 },
 "nbformat": 4,
 "nbformat_minor": 0
}
